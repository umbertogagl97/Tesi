{
  "nbformat": 4,
  "nbformat_minor": 0,
  "metadata": {
    "colab": {
      "name": "scanner.ipynb",
      "provenance": [],
      "authorship_tag": "ABX9TyPrKDGYLHO361Lj60DkyDWu",
      "include_colab_link": true
    },
    "kernelspec": {
      "name": "python3",
      "display_name": "Python 3"
    },
    "language_info": {
      "name": "python"
    },
    "widgets": {
      "application/vnd.jupyter.widget-state+json": {
        "8cc23abb1f4b44acb53e5a4e0cc06bbb": {
          "model_module": "@jupyter-widgets/controls",
          "model_name": "HBoxModel",
          "model_module_version": "1.5.0",
          "state": {
            "_view_name": "HBoxView",
            "_dom_classes": [],
            "_model_name": "HBoxModel",
            "_view_module": "@jupyter-widgets/controls",
            "_model_module_version": "1.5.0",
            "_view_count": null,
            "_view_module_version": "1.5.0",
            "box_style": "",
            "layout": "IPY_MODEL_615ad5201d444b718c4c5f2acf117e2e",
            "_model_module": "@jupyter-widgets/controls",
            "children": [
              "IPY_MODEL_634b7e4118224ac9b4aa077471cd21f1",
              "IPY_MODEL_7ffd09fe988e400a95db3365d00bf92a",
              "IPY_MODEL_d862f17261194a90a9468913d62c6a8d"
            ]
          }
        },
        "615ad5201d444b718c4c5f2acf117e2e": {
          "model_module": "@jupyter-widgets/base",
          "model_name": "LayoutModel",
          "model_module_version": "1.2.0",
          "state": {
            "_view_name": "LayoutView",
            "grid_template_rows": null,
            "right": null,
            "justify_content": null,
            "_view_module": "@jupyter-widgets/base",
            "overflow": null,
            "_model_module_version": "1.2.0",
            "_view_count": null,
            "flex_flow": null,
            "width": null,
            "min_width": null,
            "border": null,
            "align_items": null,
            "bottom": null,
            "_model_module": "@jupyter-widgets/base",
            "top": null,
            "grid_column": null,
            "overflow_y": null,
            "overflow_x": null,
            "grid_auto_flow": null,
            "grid_area": null,
            "grid_template_columns": null,
            "flex": null,
            "_model_name": "LayoutModel",
            "justify_items": null,
            "grid_row": null,
            "max_height": null,
            "align_content": null,
            "visibility": null,
            "align_self": null,
            "height": null,
            "min_height": null,
            "padding": null,
            "grid_auto_rows": null,
            "grid_gap": null,
            "max_width": null,
            "order": null,
            "_view_module_version": "1.2.0",
            "grid_template_areas": null,
            "object_position": null,
            "object_fit": null,
            "grid_auto_columns": null,
            "margin": null,
            "display": null,
            "left": null
          }
        },
        "634b7e4118224ac9b4aa077471cd21f1": {
          "model_module": "@jupyter-widgets/controls",
          "model_name": "HTMLModel",
          "model_module_version": "1.5.0",
          "state": {
            "_view_name": "HTMLView",
            "style": "IPY_MODEL_9e63e392a2ee4e5f94f0259f0201ebbc",
            "_dom_classes": [],
            "description": "",
            "_model_name": "HTMLModel",
            "placeholder": "​",
            "_view_module": "@jupyter-widgets/controls",
            "_model_module_version": "1.5.0",
            "value": "100%",
            "_view_count": null,
            "_view_module_version": "1.5.0",
            "description_tooltip": null,
            "_model_module": "@jupyter-widgets/controls",
            "layout": "IPY_MODEL_b791d6b1f35d471dba53c495826c0034"
          }
        },
        "7ffd09fe988e400a95db3365d00bf92a": {
          "model_module": "@jupyter-widgets/controls",
          "model_name": "FloatProgressModel",
          "model_module_version": "1.5.0",
          "state": {
            "_view_name": "ProgressView",
            "style": "IPY_MODEL_db36069ac14744b687024438b689cbd9",
            "_dom_classes": [],
            "description": "",
            "_model_name": "FloatProgressModel",
            "bar_style": "success",
            "max": 574673361,
            "_view_module": "@jupyter-widgets/controls",
            "_model_module_version": "1.5.0",
            "value": 574673361,
            "_view_count": null,
            "_view_module_version": "1.5.0",
            "orientation": "horizontal",
            "min": 0,
            "description_tooltip": null,
            "_model_module": "@jupyter-widgets/controls",
            "layout": "IPY_MODEL_0186c3be6a7f4bf89dc2bbb862a07e3f"
          }
        },
        "d862f17261194a90a9468913d62c6a8d": {
          "model_module": "@jupyter-widgets/controls",
          "model_name": "HTMLModel",
          "model_module_version": "1.5.0",
          "state": {
            "_view_name": "HTMLView",
            "style": "IPY_MODEL_40429d99239d4083ac891f8d21a8ed41",
            "_dom_classes": [],
            "description": "",
            "_model_name": "HTMLModel",
            "placeholder": "​",
            "_view_module": "@jupyter-widgets/controls",
            "_model_module_version": "1.5.0",
            "value": " 548M/548M [00:04&lt;00:00, 132MB/s]",
            "_view_count": null,
            "_view_module_version": "1.5.0",
            "description_tooltip": null,
            "_model_module": "@jupyter-widgets/controls",
            "layout": "IPY_MODEL_f6ef59c5668f4475a910328187b2fe12"
          }
        },
        "9e63e392a2ee4e5f94f0259f0201ebbc": {
          "model_module": "@jupyter-widgets/controls",
          "model_name": "DescriptionStyleModel",
          "model_module_version": "1.5.0",
          "state": {
            "_view_name": "StyleView",
            "_model_name": "DescriptionStyleModel",
            "description_width": "",
            "_view_module": "@jupyter-widgets/base",
            "_model_module_version": "1.5.0",
            "_view_count": null,
            "_view_module_version": "1.2.0",
            "_model_module": "@jupyter-widgets/controls"
          }
        },
        "b791d6b1f35d471dba53c495826c0034": {
          "model_module": "@jupyter-widgets/base",
          "model_name": "LayoutModel",
          "model_module_version": "1.2.0",
          "state": {
            "_view_name": "LayoutView",
            "grid_template_rows": null,
            "right": null,
            "justify_content": null,
            "_view_module": "@jupyter-widgets/base",
            "overflow": null,
            "_model_module_version": "1.2.0",
            "_view_count": null,
            "flex_flow": null,
            "width": null,
            "min_width": null,
            "border": null,
            "align_items": null,
            "bottom": null,
            "_model_module": "@jupyter-widgets/base",
            "top": null,
            "grid_column": null,
            "overflow_y": null,
            "overflow_x": null,
            "grid_auto_flow": null,
            "grid_area": null,
            "grid_template_columns": null,
            "flex": null,
            "_model_name": "LayoutModel",
            "justify_items": null,
            "grid_row": null,
            "max_height": null,
            "align_content": null,
            "visibility": null,
            "align_self": null,
            "height": null,
            "min_height": null,
            "padding": null,
            "grid_auto_rows": null,
            "grid_gap": null,
            "max_width": null,
            "order": null,
            "_view_module_version": "1.2.0",
            "grid_template_areas": null,
            "object_position": null,
            "object_fit": null,
            "grid_auto_columns": null,
            "margin": null,
            "display": null,
            "left": null
          }
        },
        "db36069ac14744b687024438b689cbd9": {
          "model_module": "@jupyter-widgets/controls",
          "model_name": "ProgressStyleModel",
          "model_module_version": "1.5.0",
          "state": {
            "_view_name": "StyleView",
            "_model_name": "ProgressStyleModel",
            "description_width": "",
            "_view_module": "@jupyter-widgets/base",
            "_model_module_version": "1.5.0",
            "_view_count": null,
            "_view_module_version": "1.2.0",
            "bar_color": null,
            "_model_module": "@jupyter-widgets/controls"
          }
        },
        "0186c3be6a7f4bf89dc2bbb862a07e3f": {
          "model_module": "@jupyter-widgets/base",
          "model_name": "LayoutModel",
          "model_module_version": "1.2.0",
          "state": {
            "_view_name": "LayoutView",
            "grid_template_rows": null,
            "right": null,
            "justify_content": null,
            "_view_module": "@jupyter-widgets/base",
            "overflow": null,
            "_model_module_version": "1.2.0",
            "_view_count": null,
            "flex_flow": null,
            "width": null,
            "min_width": null,
            "border": null,
            "align_items": null,
            "bottom": null,
            "_model_module": "@jupyter-widgets/base",
            "top": null,
            "grid_column": null,
            "overflow_y": null,
            "overflow_x": null,
            "grid_auto_flow": null,
            "grid_area": null,
            "grid_template_columns": null,
            "flex": null,
            "_model_name": "LayoutModel",
            "justify_items": null,
            "grid_row": null,
            "max_height": null,
            "align_content": null,
            "visibility": null,
            "align_self": null,
            "height": null,
            "min_height": null,
            "padding": null,
            "grid_auto_rows": null,
            "grid_gap": null,
            "max_width": null,
            "order": null,
            "_view_module_version": "1.2.0",
            "grid_template_areas": null,
            "object_position": null,
            "object_fit": null,
            "grid_auto_columns": null,
            "margin": null,
            "display": null,
            "left": null
          }
        },
        "40429d99239d4083ac891f8d21a8ed41": {
          "model_module": "@jupyter-widgets/controls",
          "model_name": "DescriptionStyleModel",
          "model_module_version": "1.5.0",
          "state": {
            "_view_name": "StyleView",
            "_model_name": "DescriptionStyleModel",
            "description_width": "",
            "_view_module": "@jupyter-widgets/base",
            "_model_module_version": "1.5.0",
            "_view_count": null,
            "_view_module_version": "1.2.0",
            "_model_module": "@jupyter-widgets/controls"
          }
        },
        "f6ef59c5668f4475a910328187b2fe12": {
          "model_module": "@jupyter-widgets/base",
          "model_name": "LayoutModel",
          "model_module_version": "1.2.0",
          "state": {
            "_view_name": "LayoutView",
            "grid_template_rows": null,
            "right": null,
            "justify_content": null,
            "_view_module": "@jupyter-widgets/base",
            "overflow": null,
            "_model_module_version": "1.2.0",
            "_view_count": null,
            "flex_flow": null,
            "width": null,
            "min_width": null,
            "border": null,
            "align_items": null,
            "bottom": null,
            "_model_module": "@jupyter-widgets/base",
            "top": null,
            "grid_column": null,
            "overflow_y": null,
            "overflow_x": null,
            "grid_auto_flow": null,
            "grid_area": null,
            "grid_template_columns": null,
            "flex": null,
            "_model_name": "LayoutModel",
            "justify_items": null,
            "grid_row": null,
            "max_height": null,
            "align_content": null,
            "visibility": null,
            "align_self": null,
            "height": null,
            "min_height": null,
            "padding": null,
            "grid_auto_rows": null,
            "grid_gap": null,
            "max_width": null,
            "order": null,
            "_view_module_version": "1.2.0",
            "grid_template_areas": null,
            "object_position": null,
            "object_fit": null,
            "grid_auto_columns": null,
            "margin": null,
            "display": null,
            "left": null
          }
        }
      }
    }
  },
  "cells": [
    {
      "cell_type": "markdown",
      "metadata": {
        "id": "view-in-github",
        "colab_type": "text"
      },
      "source": [
        "<a href=\"https://colab.research.google.com/github/umbertogagl97/Tesi/blob/main/scanner.ipynb\" target=\"_parent\"><img src=\"https://colab.research.google.com/assets/colab-badge.svg\" alt=\"Open In Colab\"/></a>"
      ]
    },
    {
      "cell_type": "markdown",
      "source": [
        "#**Init**"
      ],
      "metadata": {
        "id": "G-UXOaDUIAsY"
      }
    },
    {
      "cell_type": "markdown",
      "metadata": {
        "id": "OHENSlCXxzcr"
      },
      "source": [
        "##Import ART"
      ]
    },
    {
      "cell_type": "code",
      "metadata": {
        "id": "hIKN5Oqa-i6u",
        "colab": {
          "base_uri": "https://localhost:8080/"
        },
        "outputId": "d9a4e08f-d9a5-4bad-db97-e39ce6532735"
      },
      "source": [
        "#importa ART\n",
        "!pip install adversarial-robustness-toolbox"
      ],
      "execution_count": 2,
      "outputs": [
        {
          "output_type": "stream",
          "name": "stdout",
          "text": [
            "Collecting adversarial-robustness-toolbox\n",
            "  Downloading adversarial_robustness_toolbox-1.9.0-py3-none-any.whl (1.2 MB)\n",
            "\u001b[?25l\r\u001b[K     |▎                               | 10 kB 18.8 MB/s eta 0:00:01\r\u001b[K     |▋                               | 20 kB 21.2 MB/s eta 0:00:01\r\u001b[K     |▉                               | 30 kB 24.8 MB/s eta 0:00:01\r\u001b[K     |█▏                              | 40 kB 27.8 MB/s eta 0:00:01\r\u001b[K     |█▍                              | 51 kB 30.2 MB/s eta 0:00:01\r\u001b[K     |█▊                              | 61 kB 32.6 MB/s eta 0:00:01\r\u001b[K     |██                              | 71 kB 34.1 MB/s eta 0:00:01\r\u001b[K     |██▎                             | 81 kB 36.3 MB/s eta 0:00:01\r\u001b[K     |██▌                             | 92 kB 23.8 MB/s eta 0:00:01\r\u001b[K     |██▉                             | 102 kB 24.5 MB/s eta 0:00:01\r\u001b[K     |███▏                            | 112 kB 24.5 MB/s eta 0:00:01\r\u001b[K     |███▍                            | 122 kB 24.5 MB/s eta 0:00:01\r\u001b[K     |███▊                            | 133 kB 24.5 MB/s eta 0:00:01\r\u001b[K     |████                            | 143 kB 24.5 MB/s eta 0:00:01\r\u001b[K     |████▎                           | 153 kB 24.5 MB/s eta 0:00:01\r\u001b[K     |████▌                           | 163 kB 24.5 MB/s eta 0:00:01\r\u001b[K     |████▉                           | 174 kB 24.5 MB/s eta 0:00:01\r\u001b[K     |█████                           | 184 kB 24.5 MB/s eta 0:00:01\r\u001b[K     |█████▍                          | 194 kB 24.5 MB/s eta 0:00:01\r\u001b[K     |█████▊                          | 204 kB 24.5 MB/s eta 0:00:01\r\u001b[K     |██████                          | 215 kB 24.5 MB/s eta 0:00:01\r\u001b[K     |██████▎                         | 225 kB 24.5 MB/s eta 0:00:01\r\u001b[K     |██████▌                         | 235 kB 24.5 MB/s eta 0:00:01\r\u001b[K     |██████▉                         | 245 kB 24.5 MB/s eta 0:00:01\r\u001b[K     |███████                         | 256 kB 24.5 MB/s eta 0:00:01\r\u001b[K     |███████▍                        | 266 kB 24.5 MB/s eta 0:00:01\r\u001b[K     |███████▋                        | 276 kB 24.5 MB/s eta 0:00:01\r\u001b[K     |████████                        | 286 kB 24.5 MB/s eta 0:00:01\r\u001b[K     |████████▏                       | 296 kB 24.5 MB/s eta 0:00:01\r\u001b[K     |████████▌                       | 307 kB 24.5 MB/s eta 0:00:01\r\u001b[K     |████████▉                       | 317 kB 24.5 MB/s eta 0:00:01\r\u001b[K     |█████████                       | 327 kB 24.5 MB/s eta 0:00:01\r\u001b[K     |█████████▍                      | 337 kB 24.5 MB/s eta 0:00:01\r\u001b[K     |█████████▋                      | 348 kB 24.5 MB/s eta 0:00:01\r\u001b[K     |██████████                      | 358 kB 24.5 MB/s eta 0:00:01\r\u001b[K     |██████████▏                     | 368 kB 24.5 MB/s eta 0:00:01\r\u001b[K     |██████████▌                     | 378 kB 24.5 MB/s eta 0:00:01\r\u001b[K     |██████████▊                     | 389 kB 24.5 MB/s eta 0:00:01\r\u001b[K     |███████████                     | 399 kB 24.5 MB/s eta 0:00:01\r\u001b[K     |███████████▍                    | 409 kB 24.5 MB/s eta 0:00:01\r\u001b[K     |███████████▋                    | 419 kB 24.5 MB/s eta 0:00:01\r\u001b[K     |████████████                    | 430 kB 24.5 MB/s eta 0:00:01\r\u001b[K     |████████████▏                   | 440 kB 24.5 MB/s eta 0:00:01\r\u001b[K     |████████████▌                   | 450 kB 24.5 MB/s eta 0:00:01\r\u001b[K     |████████████▊                   | 460 kB 24.5 MB/s eta 0:00:01\r\u001b[K     |█████████████                   | 471 kB 24.5 MB/s eta 0:00:01\r\u001b[K     |█████████████▎                  | 481 kB 24.5 MB/s eta 0:00:01\r\u001b[K     |█████████████▋                  | 491 kB 24.5 MB/s eta 0:00:01\r\u001b[K     |█████████████▉                  | 501 kB 24.5 MB/s eta 0:00:01\r\u001b[K     |██████████████▏                 | 512 kB 24.5 MB/s eta 0:00:01\r\u001b[K     |██████████████▌                 | 522 kB 24.5 MB/s eta 0:00:01\r\u001b[K     |██████████████▊                 | 532 kB 24.5 MB/s eta 0:00:01\r\u001b[K     |███████████████                 | 542 kB 24.5 MB/s eta 0:00:01\r\u001b[K     |███████████████▎                | 552 kB 24.5 MB/s eta 0:00:01\r\u001b[K     |███████████████▋                | 563 kB 24.5 MB/s eta 0:00:01\r\u001b[K     |███████████████▉                | 573 kB 24.5 MB/s eta 0:00:01\r\u001b[K     |████████████████▏               | 583 kB 24.5 MB/s eta 0:00:01\r\u001b[K     |████████████████▍               | 593 kB 24.5 MB/s eta 0:00:01\r\u001b[K     |████████████████▊               | 604 kB 24.5 MB/s eta 0:00:01\r\u001b[K     |█████████████████               | 614 kB 24.5 MB/s eta 0:00:01\r\u001b[K     |█████████████████▎              | 624 kB 24.5 MB/s eta 0:00:01\r\u001b[K     |█████████████████▋              | 634 kB 24.5 MB/s eta 0:00:01\r\u001b[K     |█████████████████▉              | 645 kB 24.5 MB/s eta 0:00:01\r\u001b[K     |██████████████████▏             | 655 kB 24.5 MB/s eta 0:00:01\r\u001b[K     |██████████████████▍             | 665 kB 24.5 MB/s eta 0:00:01\r\u001b[K     |██████████████████▊             | 675 kB 24.5 MB/s eta 0:00:01\r\u001b[K     |███████████████████             | 686 kB 24.5 MB/s eta 0:00:01\r\u001b[K     |███████████████████▎            | 696 kB 24.5 MB/s eta 0:00:01\r\u001b[K     |███████████████████▋            | 706 kB 24.5 MB/s eta 0:00:01\r\u001b[K     |███████████████████▉            | 716 kB 24.5 MB/s eta 0:00:01\r\u001b[K     |████████████████████▏           | 727 kB 24.5 MB/s eta 0:00:01\r\u001b[K     |████████████████████▍           | 737 kB 24.5 MB/s eta 0:00:01\r\u001b[K     |████████████████████▊           | 747 kB 24.5 MB/s eta 0:00:01\r\u001b[K     |█████████████████████           | 757 kB 24.5 MB/s eta 0:00:01\r\u001b[K     |█████████████████████▎          | 768 kB 24.5 MB/s eta 0:00:01\r\u001b[K     |█████████████████████▌          | 778 kB 24.5 MB/s eta 0:00:01\r\u001b[K     |█████████████████████▉          | 788 kB 24.5 MB/s eta 0:00:01\r\u001b[K     |██████████████████████          | 798 kB 24.5 MB/s eta 0:00:01\r\u001b[K     |██████████████████████▍         | 808 kB 24.5 MB/s eta 0:00:01\r\u001b[K     |██████████████████████▊         | 819 kB 24.5 MB/s eta 0:00:01\r\u001b[K     |███████████████████████         | 829 kB 24.5 MB/s eta 0:00:01\r\u001b[K     |███████████████████████▎        | 839 kB 24.5 MB/s eta 0:00:01\r\u001b[K     |███████████████████████▌        | 849 kB 24.5 MB/s eta 0:00:01\r\u001b[K     |███████████████████████▉        | 860 kB 24.5 MB/s eta 0:00:01\r\u001b[K     |████████████████████████        | 870 kB 24.5 MB/s eta 0:00:01\r\u001b[K     |████████████████████████▍       | 880 kB 24.5 MB/s eta 0:00:01\r\u001b[K     |████████████████████████▋       | 890 kB 24.5 MB/s eta 0:00:01\r\u001b[K     |█████████████████████████       | 901 kB 24.5 MB/s eta 0:00:01\r\u001b[K     |█████████████████████████▎      | 911 kB 24.5 MB/s eta 0:00:01\r\u001b[K     |█████████████████████████▌      | 921 kB 24.5 MB/s eta 0:00:01\r\u001b[K     |█████████████████████████▉      | 931 kB 24.5 MB/s eta 0:00:01\r\u001b[K     |██████████████████████████      | 942 kB 24.5 MB/s eta 0:00:01\r\u001b[K     |██████████████████████████▍     | 952 kB 24.5 MB/s eta 0:00:01\r\u001b[K     |██████████████████████████▋     | 962 kB 24.5 MB/s eta 0:00:01\r\u001b[K     |███████████████████████████     | 972 kB 24.5 MB/s eta 0:00:01\r\u001b[K     |███████████████████████████▏    | 983 kB 24.5 MB/s eta 0:00:01\r\u001b[K     |███████████████████████████▌    | 993 kB 24.5 MB/s eta 0:00:01\r\u001b[K     |███████████████████████████▊    | 1.0 MB 24.5 MB/s eta 0:00:01\r\u001b[K     |████████████████████████████    | 1.0 MB 24.5 MB/s eta 0:00:01\r\u001b[K     |████████████████████████████▍   | 1.0 MB 24.5 MB/s eta 0:00:01\r\u001b[K     |████████████████████████████▋   | 1.0 MB 24.5 MB/s eta 0:00:01\r\u001b[K     |█████████████████████████████   | 1.0 MB 24.5 MB/s eta 0:00:01\r\u001b[K     |█████████████████████████████▏  | 1.1 MB 24.5 MB/s eta 0:00:01\r\u001b[K     |█████████████████████████████▌  | 1.1 MB 24.5 MB/s eta 0:00:01\r\u001b[K     |█████████████████████████████▊  | 1.1 MB 24.5 MB/s eta 0:00:01\r\u001b[K     |██████████████████████████████  | 1.1 MB 24.5 MB/s eta 0:00:01\r\u001b[K     |██████████████████████████████▎ | 1.1 MB 24.5 MB/s eta 0:00:01\r\u001b[K     |██████████████████████████████▋ | 1.1 MB 24.5 MB/s eta 0:00:01\r\u001b[K     |███████████████████████████████ | 1.1 MB 24.5 MB/s eta 0:00:01\r\u001b[K     |███████████████████████████████▏| 1.1 MB 24.5 MB/s eta 0:00:01\r\u001b[K     |███████████████████████████████▌| 1.1 MB 24.5 MB/s eta 0:00:01\r\u001b[K     |███████████████████████████████▊| 1.1 MB 24.5 MB/s eta 0:00:01\r\u001b[K     |████████████████████████████████| 1.2 MB 24.5 MB/s \n",
            "\u001b[?25hRequirement already satisfied: six in /usr/local/lib/python3.7/dist-packages (from adversarial-robustness-toolbox) (1.15.0)\n",
            "Requirement already satisfied: setuptools in /usr/local/lib/python3.7/dist-packages (from adversarial-robustness-toolbox) (57.4.0)\n",
            "Requirement already satisfied: scipy>=1.4.1 in /usr/local/lib/python3.7/dist-packages (from adversarial-robustness-toolbox) (1.4.1)\n",
            "Requirement already satisfied: scikit-learn<1.1.0,>=0.22.2 in /usr/local/lib/python3.7/dist-packages (from adversarial-robustness-toolbox) (1.0.1)\n",
            "Requirement already satisfied: numpy>=1.18.0 in /usr/local/lib/python3.7/dist-packages (from adversarial-robustness-toolbox) (1.19.5)\n",
            "Requirement already satisfied: tqdm in /usr/local/lib/python3.7/dist-packages (from adversarial-robustness-toolbox) (4.62.3)\n",
            "Collecting numba>=0.53.1\n",
            "  Downloading numba-0.54.1-cp37-cp37m-manylinux2014_x86_64.manylinux_2_17_x86_64.whl (3.3 MB)\n",
            "\u001b[K     |████████████████████████████████| 3.3 MB 43.9 MB/s \n",
            "\u001b[?25hCollecting llvmlite<0.38,>=0.37.0rc1\n",
            "  Downloading llvmlite-0.37.0-cp37-cp37m-manylinux2014_x86_64.whl (26.3 MB)\n",
            "\u001b[K     |████████████████████████████████| 26.3 MB 1.6 MB/s \n",
            "\u001b[?25hRequirement already satisfied: threadpoolctl>=2.0.0 in /usr/local/lib/python3.7/dist-packages (from scikit-learn<1.1.0,>=0.22.2->adversarial-robustness-toolbox) (3.0.0)\n",
            "Requirement already satisfied: joblib>=0.11 in /usr/local/lib/python3.7/dist-packages (from scikit-learn<1.1.0,>=0.22.2->adversarial-robustness-toolbox) (1.1.0)\n",
            "Installing collected packages: llvmlite, numba, adversarial-robustness-toolbox\n",
            "  Attempting uninstall: llvmlite\n",
            "    Found existing installation: llvmlite 0.34.0\n",
            "    Uninstalling llvmlite-0.34.0:\n",
            "      Successfully uninstalled llvmlite-0.34.0\n",
            "  Attempting uninstall: numba\n",
            "    Found existing installation: numba 0.51.2\n",
            "    Uninstalling numba-0.51.2:\n",
            "      Successfully uninstalled numba-0.51.2\n",
            "Successfully installed adversarial-robustness-toolbox-1.9.0 llvmlite-0.37.0 numba-0.54.1\n"
          ]
        }
      ]
    },
    {
      "cell_type": "markdown",
      "metadata": {
        "id": "nGmEBN4oxqUO"
      },
      "source": [
        "## Import librerie"
      ]
    },
    {
      "cell_type": "code",
      "metadata": {
        "id": "01RXI-DDIb3C"
      },
      "source": [
        "import torch\n",
        "import torch.nn as nn\n",
        "import torch.optim as optim\n",
        "import numpy as np\n",
        "import torchvision\n",
        "from torchvision import datasets, models, transforms\n",
        "\n",
        "from torchvision.transforms.functional import InterpolationMode\n",
        "\n",
        "import cv2\n",
        "from google.colab.patches import cv2_imshow\n",
        "import os"
      ],
      "execution_count": 14,
      "outputs": []
    },
    {
      "cell_type": "markdown",
      "metadata": {
        "id": "pIqUXUmoA541"
      },
      "source": [
        "##Check device\n"
      ]
    },
    {
      "cell_type": "code",
      "metadata": {
        "id": "P2pe5Zh2A4Ui",
        "colab": {
          "base_uri": "https://localhost:8080/"
        },
        "outputId": "ada2749e-8549-4467-d874-71672bb7006a"
      },
      "source": [
        "print(torch.__version__)\n",
        "if torch.cuda.is_available():\n",
        "  print(torch.cuda.get_device_name(0))\n",
        "device = torch.device(\"cuda:0\" if torch.cuda.is_available() else \"cpu\")\n",
        "print('device:',device)"
      ],
      "execution_count": 4,
      "outputs": [
        {
          "output_type": "stream",
          "name": "stdout",
          "text": [
            "1.10.0+cu111\n",
            "device: cpu\n"
          ]
        }
      ]
    },
    {
      "cell_type": "markdown",
      "metadata": {
        "id": "pV0cZLAzphdp"
      },
      "source": [
        "##Transforms"
      ]
    },
    {
      "cell_type": "code",
      "metadata": {
        "id": "xOiUbDZ5pixj"
      },
      "source": [
        "data_transform_test= transforms.Compose([transforms.Resize([224,224],interpolation=InterpolationMode.NEAREST),\n",
        "          transforms.Normalize([0.485, 0.456, 0.406], [0.229, 0.224, 0.225])\n",
        "          ])\n",
        "transf_load= transforms.Compose([transforms.ToTensor()])\n",
        "transf_init=transforms.Resize(size=(500,500),interpolation=InterpolationMode.NEAREST)"
      ],
      "execution_count": 5,
      "outputs": []
    },
    {
      "cell_type": "markdown",
      "source": [
        "##path"
      ],
      "metadata": {
        "id": "KPIO2b2nIjaK"
      }
    },
    {
      "cell_type": "code",
      "source": [
        "path_model=\"/content/GreenBit\""
      ],
      "metadata": {
        "id": "EgLy1cBhIkjC"
      },
      "execution_count": 6,
      "outputs": []
    },
    {
      "cell_type": "markdown",
      "metadata": {
        "id": "9XepXK-ny3XN"
      },
      "source": [
        "# **Creazione modello**\n"
      ]
    },
    {
      "cell_type": "markdown",
      "metadata": {
        "id": "PBSyijWDqY4-"
      },
      "source": [
        "##Load model pre-trained"
      ]
    },
    {
      "cell_type": "code",
      "metadata": {
        "id": "GymaBXhaPMvL",
        "outputId": "1e3979ab-523a-47c6-e575-c39d02482aeb",
        "colab": {
          "base_uri": "https://localhost:8080/",
          "referenced_widgets": [
            "8cc23abb1f4b44acb53e5a4e0cc06bbb",
            "615ad5201d444b718c4c5f2acf117e2e",
            "634b7e4118224ac9b4aa077471cd21f1",
            "7ffd09fe988e400a95db3365d00bf92a",
            "d862f17261194a90a9468913d62c6a8d",
            "9e63e392a2ee4e5f94f0259f0201ebbc",
            "b791d6b1f35d471dba53c495826c0034",
            "db36069ac14744b687024438b689cbd9",
            "0186c3be6a7f4bf89dc2bbb862a07e3f",
            "40429d99239d4083ac891f8d21a8ed41",
            "f6ef59c5668f4475a910328187b2fe12"
          ],
          "height": 66
        }
      },
      "source": [
        "model = models.vgg19(pretrained=True,progress=True)"
      ],
      "execution_count": 7,
      "outputs": [
        {
          "output_type": "stream",
          "name": "stderr",
          "text": [
            "Downloading: \"https://download.pytorch.org/models/vgg19-dcbb9e9d.pth\" to /root/.cache/torch/hub/checkpoints/vgg19-dcbb9e9d.pth\n"
          ]
        },
        {
          "output_type": "display_data",
          "data": {
            "application/vnd.jupyter.widget-view+json": {
              "model_id": "8cc23abb1f4b44acb53e5a4e0cc06bbb",
              "version_minor": 0,
              "version_major": 2
            },
            "text/plain": [
              "  0%|          | 0.00/548M [00:00<?, ?B/s]"
            ]
          },
          "metadata": {}
        }
      ]
    },
    {
      "cell_type": "markdown",
      "metadata": {
        "id": "O_c2L3v0r2xG"
      },
      "source": [
        "##Aggiunta classificatore"
      ]
    },
    {
      "cell_type": "code",
      "metadata": {
        "id": "d1qeI3_3qKJJ"
      },
      "source": [
        "model.classifier[6]=nn.Linear(4096,2)"
      ],
      "execution_count": 8,
      "outputs": []
    },
    {
      "cell_type": "markdown",
      "metadata": {
        "id": "HOHqOuTVAMaz"
      },
      "source": [
        "##Load pesi"
      ]
    },
    {
      "cell_type": "code",
      "metadata": {
        "id": "CEXv4tQ3AOi0"
      },
      "source": [
        "if device.type=='cpu': model.load_state_dict(torch.load(path_model,map_location=torch.device('cpu')))\n",
        "else: model.load_state_dict(torch.load(path_model))"
      ],
      "execution_count": 9,
      "outputs": []
    },
    {
      "cell_type": "markdown",
      "metadata": {
        "id": "OzZkC7HimlHT"
      },
      "source": [
        "##Creazione classificatore ART Pytorch\n",
        "\n"
      ]
    },
    {
      "cell_type": "code",
      "metadata": {
        "id": "AZL7c94zmlHU"
      },
      "source": [
        "from art.estimators.classification import PyTorchClassifier\n",
        "\n",
        "classifier = PyTorchClassifier(\n",
        "    model=model,\n",
        "    clip_values=(0,1),\n",
        "    loss=nn.CrossEntropyLoss(),\n",
        "    optimizer=optim.Adam(model.classifier.parameters(),lr=1e-5),\n",
        "    input_shape=(3, 224, 224),\n",
        "    nb_classes=2\n",
        ")"
      ],
      "execution_count": 10,
      "outputs": []
    },
    {
      "cell_type": "markdown",
      "source": [
        "#**Test function**"
      ],
      "metadata": {
        "id": "gMdxQdlWIxkJ"
      }
    },
    {
      "cell_type": "code",
      "source": [
        "def test_average(classifier,input,transf_init):\n",
        "  '''\n",
        "  classifier: classifier wrapper ART\n",
        "  input: tensor 1x3xnxm \n",
        "  return: pred: classe predetta, probabilities, values\n",
        "  '''\n",
        "\n",
        "  def calc_size(n):\n",
        "    '''\n",
        "    n: int \n",
        "    return: 80% of n\n",
        "    '''\n",
        "    return tuple(int(np.ceil(i * (80/100))) for i in n)\n",
        "\n",
        "  preds=[]\n",
        "  prob=nn.Softmax(dim=0)\n",
        "  \n",
        "  n=input.shape\n",
        "  n_mod=calc_size(n[2:4])\n",
        "  crop_transform=transforms.TenCrop((n_mod[0],n_mod[1]))\n",
        "  crops=crop_transform(input)\n",
        "  live=0\n",
        "  spoof=0\n",
        "  for crop in crops:\n",
        "    crop=data_transform_test(crop) #resize 224\n",
        "    outputs = classifier.predict(crop)\n",
        "    live+=outputs[0][0]\n",
        "    spoof+=outputs[0][1]\n",
        "  live=live/10\n",
        "  spoof=spoof/10\n",
        "  values=[live,spoof]\n",
        "  predicted=np.argmax(values)\n",
        "  probabilities=prob(torch.Tensor(values)).numpy()\n",
        "\n",
        "  return predicted,probabilities,values"
      ],
      "metadata": {
        "id": "IOUZsjBcI02-"
      },
      "execution_count": 12,
      "outputs": []
    },
    {
      "cell_type": "markdown",
      "source": [
        "#**Execute**"
      ],
      "metadata": {
        "id": "VI90OJJlI_5W"
      }
    },
    {
      "cell_type": "markdown",
      "source": [
        "##images from drive"
      ],
      "metadata": {
        "id": "2LcQEMGeKObn"
      }
    },
    {
      "cell_type": "markdown",
      "metadata": {
        "id": "dherpFOH0Uau"
      },
      "source": [
        "###link google drive"
      ]
    },
    {
      "cell_type": "code",
      "metadata": {
        "id": "vyvTOQw-aHRP",
        "colab": {
          "base_uri": "https://localhost:8080/"
        },
        "outputId": "8e4ef6da-4f46-4673-ac57-bfd74db83e2a"
      },
      "source": [
        "#collegamento google drive\n",
        "from google.colab import drive\n",
        "drive.mount('/content/gdrive')"
      ],
      "execution_count": 1,
      "outputs": [
        {
          "output_type": "stream",
          "name": "stdout",
          "text": [
            "Mounted at /content/gdrive\n"
          ]
        }
      ]
    },
    {
      "cell_type": "code",
      "source": [
        "#path cartella con immagini da testare\n",
        "path_images=\"/content/gdrive/MyDrive/prova\""
      ],
      "metadata": {
        "id": "2_uxgMfjKaUc"
      },
      "execution_count": 23,
      "outputs": []
    },
    {
      "cell_type": "code",
      "source": [
        "directory = os.listdir(path_images)\n",
        "for input in directory:\n",
        "  img=cv2.imread(path_images+'/'+input)\n",
        "  img=(img-np.min(img))/(np.max(img)-np.min(img))\n",
        "  img_t=torch.Tensor(img.transpose(2,0,1)).unsqueeze_(0)\n",
        "  print(test_average(classifier,img_t,transf_init))"
      ],
      "metadata": {
        "colab": {
          "base_uri": "https://localhost:8080/"
        },
        "id": "XUQgm5n5JJ5-",
        "outputId": "f645ed76-ebdf-4992-d6fe-ae706e898016"
      },
      "execution_count": 24,
      "outputs": [
        {
          "output_type": "stream",
          "name": "stdout",
          "text": [
            "(0, array([0.7222574 , 0.27774262], dtype=float32), [0.691153833270073, -0.2645328387618065])\n",
            "(0, array([0.74      , 0.26000005], dtype=float32), [0.8643777787685394, -0.18159057646989823])\n"
          ]
        }
      ]
    },
    {
      "cell_type": "markdown",
      "source": [
        "##single image"
      ],
      "metadata": {
        "id": "q-K8qhzmKSys"
      }
    },
    {
      "cell_type": "code",
      "source": [
        "path_image=\"img.png\" #path singola immagine caricata su colab\n",
        "img=cv2.imread(path_image)\n",
        "cv2_imshow(img)\n",
        "img=(img-np.min(img))/(np.max(img)-np.min(img))\n",
        "img_t=torch.Tensor(img.transpose(2,0,1)).unsqueeze_(0)\n",
        "print(test_average(classifier,img_t,transf_init))\n",
        "#primo valore: 0 Live, 1 Spoof\n",
        "#secondo valore: probabilità per le due classi\n",
        "#terzo valore: uscita del modello"
      ],
      "metadata": {
        "colab": {
          "base_uri": "https://localhost:8080/",
          "height": 534
        },
        "id": "xt3SRhmZKUT4",
        "outputId": "acf13745-6090-439b-f049-796775e80404"
      },
      "execution_count": 20,
      "outputs": [
        {
          "output_type": "display_data",
          "data": {
            "image/png": "[encoded data removed]",
            "text/plain": [
              "<PIL.Image.Image image mode=RGB size=500x500 at 0x7FF4B6E8F050>"
            ]
          },
          "metadata": {}
        },
        {
          "output_type": "stream",
          "name": "stdout",
          "text": [
            "(0, array([0.7222574 , 0.27774262], dtype=float32), [0.691153833270073, -0.2645328387618065])\n"
          ]
        }
      ]
    }
  ]
}