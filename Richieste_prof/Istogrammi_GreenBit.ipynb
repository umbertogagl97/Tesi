{
  "nbformat": 4,
  "nbformat_minor": 0,
  "metadata": {
    "colab": {
      "name": "Istogrammi_GreenBit.ipynb",
      "provenance": [],
      "authorship_tag": "ABX9TyPiIV6B9YSsd0ueG5ke95L/",
      "include_colab_link": true
    },
    "kernelspec": {
      "name": "python3",
      "display_name": "Python 3"
    },
    "language_info": {
      "name": "python"
    }
  },
  "cells": [
    {
      "cell_type": "markdown",
      "metadata": {
        "id": "view-in-github",
        "colab_type": "text"
      },
      "source": [
        "<a href=\"https://colab.research.google.com/github/umbertogagl97/Tesi/blob/main/Richieste_prof/Istogrammi_GreenBit.ipynb\" target=\"_parent\"><img src=\"https://colab.research.google.com/assets/colab-badge.svg\" alt=\"Open In Colab\"/></a>"
      ]
    },
    {
      "cell_type": "markdown",
      "metadata": {
        "id": "nGmEBN4oxqUO"
      },
      "source": [
        "# Import librerie"
      ]
    },
    {
      "cell_type": "code",
      "metadata": {
        "id": "01RXI-DDIb3C"
      },
      "source": [
        "#Librerie\n",
        "import numpy as np\n",
        "\n",
        "import pandas as pd\n",
        "import matplotlib.pyplot as plt"
      ],
      "execution_count": 1,
      "outputs": []
    },
    {
      "cell_type": "markdown",
      "metadata": {
        "id": "dherpFOH0Uau"
      },
      "source": [
        "#Collegamento google drive"
      ]
    },
    {
      "cell_type": "code",
      "metadata": {
        "id": "vyvTOQw-aHRP",
        "colab": {
          "base_uri": "https://localhost:8080/"
        },
        "outputId": "f3cd9d12-ed17-4c0b-f817-51b005c92374"
      },
      "source": [
        "#collegamento google drive\n",
        "from google.colab import drive\n",
        "drive.mount('/content/gdrive')"
      ],
      "execution_count": 2,
      "outputs": [
        {
          "output_type": "stream",
          "name": "stdout",
          "text": [
            "Mounted at /content/gdrive\n"
          ]
        }
      ]
    },
    {
      "cell_type": "markdown",
      "metadata": {
        "id": "J-8oR6CwsFqT"
      },
      "source": [
        "#Def var"
      ]
    },
    {
      "cell_type": "code",
      "metadata": {
        "id": "4ihfUjdrsG4c"
      },
      "source": [
        "materiali=['_Ecoflex','Gelatine','Latex','Liquid Ecoflex','RTV','WoodGlue']"
      ],
      "execution_count": 62,
      "outputs": []
    },
    {
      "cell_type": "markdown",
      "metadata": {
        "id": "VMzqYvDwkuHm"
      },
      "source": [
        "#Path drive"
      ]
    },
    {
      "cell_type": "code",
      "metadata": {
        "id": "-zZZGF_flliD"
      },
      "source": [
        "attack_name='DeepFool'\n",
        "pd_name=F'preds_adv_{attack_name}.xlsx'\n",
        "pathPreds=F'/content/gdrive/MyDrive/GreenBit_attacks/{pd_name}'\n",
        "\n",
        "pathPredsOrig=F'/content/gdrive/MyDrive/Dataset_impronte/test/Preds_value/GreenBit_con_normalize.xlsx'"
      ],
      "execution_count": 215,
      "outputs": []
    },
    {
      "cell_type": "markdown",
      "metadata": {
        "id": "nYl52WFVnwpU"
      },
      "source": [
        "#Fun"
      ]
    },
    {
      "cell_type": "markdown",
      "metadata": {
        "id": "UvBSSgZrlUTk"
      },
      "source": [
        "##Accuracy per una singola classe"
      ]
    },
    {
      "cell_type": "code",
      "metadata": {
        "id": "XuAfnB41jel5"
      },
      "source": [
        "def accuracy_class(class_str,pd_class):\n",
        "  '''\n",
        "  class_str: string class\n",
        "  pd_class: dataframe\n",
        "  '''\n",
        "  n=np.sum(pd_class['real']==class_str)\n",
        "  print(\"# img\"+class_str+\": \"+str(n))\n",
        "\n",
        "  p=pd_class.loc[pd_class['real']==class_str]\n",
        "  p=p.loc[p['predicted']==p['real']]\n",
        "  n_class=p.count(0)[0]\n",
        "  print(\"Numero di predizioni \"+class_str+\" giuste: \"+str(n_class))\n",
        "  print(\"Accuracy : \"+str(round(n_class/n*100,2)))"
      ],
      "execution_count": 190,
      "outputs": []
    },
    {
      "cell_type": "markdown",
      "metadata": {
        "id": "_i-sFN0QlWQM"
      },
      "source": [
        "##Accuracy per singolo materiale"
      ]
    },
    {
      "cell_type": "code",
      "metadata": {
        "id": "7eObWFJjTPyX"
      },
      "source": [
        "def acc_mat(Test_tot,material):  \n",
        "  df=Test_tot[Test_tot.index.str.contains(material)]\n",
        "  n=df.count(0)[0]\n",
        "  #print(f\"numero di immagini spoof-spoof: {n}\")\n",
        "  # n numero di immagini spoof spoof\n",
        "  m=df[df['predicted']=='Live'].count(0)[0]\n",
        "  #print(f\"numero di immagini perturbate con successo: {m}\")\n",
        "  acc=round((m/n)*100,2)\n",
        "  #print(f\"Accuracy attacco: {acc}%\")\n",
        "  return n,m,acc"
      ],
      "execution_count": 198,
      "outputs": []
    },
    {
      "cell_type": "markdown",
      "metadata": {
        "id": "9lNOBye6kq3a"
      },
      "source": [
        "#Caricamento dataframe"
      ]
    },
    {
      "cell_type": "code",
      "metadata": {
        "id": "EgHYCrIukqKZ"
      },
      "source": [
        "Test_orig=pd.read_excel(pathPredsOrig)\n",
        "Test_orig=Test_orig[1000:] #solo le spoof\n",
        "Test_orig.index=np.arange(1500)\n",
        "\n",
        "Test_p=pd.read_excel(pathPreds)\n",
        "\n",
        "#display(Test_orig)\n",
        "#display(Test_p)"
      ],
      "execution_count": 216,
      "outputs": []
    },
    {
      "cell_type": "markdown",
      "metadata": {
        "id": "uT_4a6ikUD3W"
      },
      "source": [
        "#Creazione datframe totale"
      ]
    },
    {
      "cell_type": "code",
      "metadata": {
        "id": "lu0L_sLdIAZe",
        "outputId": "fc845262-b452-4d38-ad85-83c3c5302f44",
        "colab": {
          "base_uri": "https://localhost:8080/",
          "height": 0
        }
      },
      "source": [
        "#unisco le due tabelle\n",
        "Test_tot=Test_orig.join(Test_p,lsuffix='_original',rsuffix='_adv')\n",
        "#rimuovo le colonne inutili e rinomino un'altra\n",
        "Test_tot=Test_tot.drop(columns=['value_pred_live', 'value_pred_spoof','real_adv'])\n",
        "Test_tot=Test_tot.rename(columns={\"real_original\": \"real\", \"predicted_adv\": \"predicted\"})\n",
        "#pongo il nome come indice\n",
        "Test_tot=Test_tot.set_index('name')\n",
        "#prendo solo le immagini che sono state perturbate\n",
        "Test_tot=Test_tot.loc[Test_tot['real']==Test_tot['predicted_original']]\n",
        "display(Test_tot)"
      ],
      "execution_count": 217,
      "outputs": [
        {
          "output_type": "display_data",
          "data": {
            "text/html": [
              "<div>\n",
              "<style scoped>\n",
              "    .dataframe tbody tr th:only-of-type {\n",
              "        vertical-align: middle;\n",
              "    }\n",
              "\n",
              "    .dataframe tbody tr th {\n",
              "        vertical-align: top;\n",
              "    }\n",
              "\n",
              "    .dataframe thead th {\n",
              "        text-align: right;\n",
              "    }\n",
              "</style>\n",
              "<table border=\"1\" class=\"dataframe\">\n",
              "  <thead>\n",
              "    <tr style=\"text-align: right;\">\n",
              "      <th></th>\n",
              "      <th>predicted_original</th>\n",
              "      <th>real</th>\n",
              "      <th>predicted</th>\n",
              "      <th>prob_live</th>\n",
              "      <th>prob_spoof</th>\n",
              "    </tr>\n",
              "    <tr>\n",
              "      <th>name</th>\n",
              "      <th></th>\n",
              "      <th></th>\n",
              "      <th></th>\n",
              "      <th></th>\n",
              "      <th></th>\n",
              "    </tr>\n",
              "  </thead>\n",
              "  <tbody>\n",
              "    <tr>\n",
              "      <th>GreenBit_Ecoflex 00-50_004_0_0.png</th>\n",
              "      <td>Spoof</td>\n",
              "      <td>Spoof</td>\n",
              "      <td>Live</td>\n",
              "      <td>73.3103</td>\n",
              "      <td>26.6897</td>\n",
              "    </tr>\n",
              "    <tr>\n",
              "      <th>GreenBit_Ecoflex 00-50_004_0_4.png</th>\n",
              "      <td>Spoof</td>\n",
              "      <td>Spoof</td>\n",
              "      <td>Live</td>\n",
              "      <td>75.8441</td>\n",
              "      <td>24.1559</td>\n",
              "    </tr>\n",
              "    <tr>\n",
              "      <th>GreenBit_Ecoflex 00-50_004_0_5.png</th>\n",
              "      <td>Spoof</td>\n",
              "      <td>Spoof</td>\n",
              "      <td>Live</td>\n",
              "      <td>64.3591</td>\n",
              "      <td>35.6410</td>\n",
              "    </tr>\n",
              "    <tr>\n",
              "      <th>GreenBit_Ecoflex 00-50_004_0_9.png</th>\n",
              "      <td>Spoof</td>\n",
              "      <td>Spoof</td>\n",
              "      <td>Live</td>\n",
              "      <td>74.8566</td>\n",
              "      <td>25.1434</td>\n",
              "    </tr>\n",
              "    <tr>\n",
              "      <th>GreenBit_Ecoflex 00-50_004_1_0.png</th>\n",
              "      <td>Spoof</td>\n",
              "      <td>Spoof</td>\n",
              "      <td>Live</td>\n",
              "      <td>57.4858</td>\n",
              "      <td>42.5142</td>\n",
              "    </tr>\n",
              "    <tr>\n",
              "      <th>...</th>\n",
              "      <td>...</td>\n",
              "      <td>...</td>\n",
              "      <td>...</td>\n",
              "      <td>...</td>\n",
              "      <td>...</td>\n",
              "    </tr>\n",
              "    <tr>\n",
              "      <th>GreenBit_WoodGlue_020_8_4.png</th>\n",
              "      <td>Spoof</td>\n",
              "      <td>Spoof</td>\n",
              "      <td>Live</td>\n",
              "      <td>87.8404</td>\n",
              "      <td>12.1596</td>\n",
              "    </tr>\n",
              "    <tr>\n",
              "      <th>GreenBit_WoodGlue_020_8_9.png</th>\n",
              "      <td>Spoof</td>\n",
              "      <td>Spoof</td>\n",
              "      <td>Live</td>\n",
              "      <td>90.0029</td>\n",
              "      <td>9.9971</td>\n",
              "    </tr>\n",
              "    <tr>\n",
              "      <th>GreenBit_WoodGlue_020_9_0.png</th>\n",
              "      <td>Spoof</td>\n",
              "      <td>Spoof</td>\n",
              "      <td>Live</td>\n",
              "      <td>73.6403</td>\n",
              "      <td>26.3597</td>\n",
              "    </tr>\n",
              "    <tr>\n",
              "      <th>GreenBit_WoodGlue_020_9_4.png</th>\n",
              "      <td>Spoof</td>\n",
              "      <td>Spoof</td>\n",
              "      <td>Live</td>\n",
              "      <td>81.6652</td>\n",
              "      <td>18.3348</td>\n",
              "    </tr>\n",
              "    <tr>\n",
              "      <th>GreenBit_WoodGlue_020_9_9.png</th>\n",
              "      <td>Spoof</td>\n",
              "      <td>Spoof</td>\n",
              "      <td>Live</td>\n",
              "      <td>85.8892</td>\n",
              "      <td>14.1108</td>\n",
              "    </tr>\n",
              "  </tbody>\n",
              "</table>\n",
              "<p>1470 rows × 5 columns</p>\n",
              "</div>"
            ],
            "text/plain": [
              "                                   predicted_original  ... prob_spoof\n",
              "name                                                   ...           \n",
              "GreenBit_Ecoflex 00-50_004_0_0.png              Spoof  ...    26.6897\n",
              "GreenBit_Ecoflex 00-50_004_0_4.png              Spoof  ...    24.1559\n",
              "GreenBit_Ecoflex 00-50_004_0_5.png              Spoof  ...    35.6410\n",
              "GreenBit_Ecoflex 00-50_004_0_9.png              Spoof  ...    25.1434\n",
              "GreenBit_Ecoflex 00-50_004_1_0.png              Spoof  ...    42.5142\n",
              "...                                               ...  ...        ...\n",
              "GreenBit_WoodGlue_020_8_4.png                   Spoof  ...    12.1596\n",
              "GreenBit_WoodGlue_020_8_9.png                   Spoof  ...     9.9971\n",
              "GreenBit_WoodGlue_020_9_0.png                   Spoof  ...    26.3597\n",
              "GreenBit_WoodGlue_020_9_4.png                   Spoof  ...    18.3348\n",
              "GreenBit_WoodGlue_020_9_9.png                   Spoof  ...    14.1108\n",
              "\n",
              "[1470 rows x 5 columns]"
            ]
          },
          "metadata": {}
        }
      ]
    },
    {
      "cell_type": "markdown",
      "metadata": {
        "id": "8yB-JGXZlgvy"
      },
      "source": [
        "#Calcolo accuracy "
      ]
    },
    {
      "cell_type": "markdown",
      "metadata": {
        "id": "yo2QZQi9ljY2"
      },
      "source": [
        "accuracy spoof dataset originale"
      ]
    },
    {
      "cell_type": "code",
      "metadata": {
        "id": "oWqnwd1xliwa",
        "outputId": "3b141f80-92cc-4d62-9ca5-d8ea91a5bee0",
        "colab": {
          "base_uri": "https://localhost:8080/"
        }
      },
      "source": [
        "accuracy_class('Spoof',Test_orig)"
      ],
      "execution_count": 218,
      "outputs": [
        {
          "output_type": "stream",
          "name": "stdout",
          "text": [
            "# imgSpoof: 1500\n",
            "Numero di predizioni Spoof giuste: 1470\n",
            "Accuracy : 98.0\n"
          ]
        }
      ]
    },
    {
      "cell_type": "markdown",
      "metadata": {
        "id": "ymmjQ5KLlprX"
      },
      "source": [
        "accuracy dataset adv solo per le immagini perturbate (che erano spoof spoof)"
      ]
    },
    {
      "cell_type": "code",
      "metadata": {
        "id": "ANeiGue-lOoZ",
        "outputId": "30dc1180-f426-4519-c63a-141ddf51b777",
        "colab": {
          "base_uri": "https://localhost:8080/"
        }
      },
      "source": [
        "accuracy_class('Spoof',Test_tot)"
      ],
      "execution_count": 219,
      "outputs": [
        {
          "output_type": "stream",
          "name": "stdout",
          "text": [
            "# imgSpoof: 1470\n",
            "Numero di predizioni Spoof giuste: 22\n",
            "Accuracy : 1.5\n"
          ]
        }
      ]
    },
    {
      "cell_type": "code",
      "metadata": {
        "id": "HCYY8-D-nQo9",
        "outputId": "15b7b847-0639-4d12-c03f-41e65073e0e5",
        "colab": {
          "base_uri": "https://localhost:8080/"
        }
      },
      "source": [
        "100-13.2"
      ],
      "execution_count": 220,
      "outputs": [
        {
          "output_type": "execute_result",
          "data": {
            "text/plain": [
              "86.8"
            ]
          },
          "metadata": {},
          "execution_count": 220
        }
      ]
    },
    {
      "cell_type": "markdown",
      "metadata": {
        "id": "RyGkco9BUIUF"
      },
      "source": [
        "#Calcolo accuracy per materiale"
      ]
    },
    {
      "cell_type": "code",
      "metadata": {
        "id": "tCgJgsTdO8TC"
      },
      "source": [
        "df=pd.DataFrame()\n",
        "for x in materiali:\n",
        "  n,m,a=acc_mat(Test_tot,x)\n",
        "  df=df.append({\n",
        "      'materiale' : x,\n",
        "      'n_img' : n,\n",
        "      'n_img_perturbate' : m,\n",
        "      'accuracy_attacco' : a \n",
        "  },ignore_index=True)"
      ],
      "execution_count": 221,
      "outputs": []
    },
    {
      "cell_type": "markdown",
      "metadata": {
        "id": "2oPUBQIHg4oy"
      },
      "source": [
        "#Istogramma"
      ]
    },
    {
      "cell_type": "code",
      "metadata": {
        "id": "U0xKGe8WZsWK",
        "outputId": "c74ea5a4-08fd-4fa6-d444-eba960faa2fd",
        "colab": {
          "base_uri": "https://localhost:8080/",
          "height": 339
        }
      },
      "source": [
        "fig = plt.figure(figsize=[10,5])\n",
        "plt.bar(df.materiale.values, height=df.accuracy_attacco.values);\n",
        "plt.xlabel('Material');\n",
        "plt.ylim(0,100)\n",
        "plt.ylabel('Accuracy');\n",
        "#plt.savefig(attack_name+'.png')"
      ],
      "execution_count": 171,
      "outputs": [
        {
          "output_type": "display_data",
          "data": {
            "image/png": "[encoded data removed]",
            "text/plain": [
              "<Figure size 720x360 with 1 Axes>"
            ]
          },
          "metadata": {
            "needs_background": "light"
          }
        }
      ]
    }
  ]
}