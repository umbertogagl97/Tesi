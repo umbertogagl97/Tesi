{
  "nbformat": 4,
  "nbformat_minor": 0,
  "metadata": {
    "colab": {
      "name": "Istogrammi_GreenBit.ipynb",
      "provenance": [],
      "authorship_tag": "ABX9TyPxaqTS+Q9mrsZPepsZKI+x",
      "include_colab_link": true
    },
    "kernelspec": {
      "name": "python3",
      "display_name": "Python 3"
    },
    "language_info": {
      "name": "python"
    }
  },
  "cells": [
    {
      "cell_type": "markdown",
      "metadata": {
        "id": "view-in-github",
        "colab_type": "text"
      },
      "source": [
        "<a href=\"https://colab.research.google.com/github/umbertogagl97/Tesi/blob/main/Richieste_prof/Istogrammi_GreenBit.ipynb\" target=\"_parent\"><img src=\"https://colab.research.google.com/assets/colab-badge.svg\" alt=\"Open In Colab\"/></a>"
      ]
    },
    {
      "cell_type": "markdown",
      "metadata": {
        "id": "nGmEBN4oxqUO"
      },
      "source": [
        "# Import librerie"
      ]
    },
    {
      "cell_type": "code",
      "metadata": {
        "id": "01RXI-DDIb3C"
      },
      "source": [
        "#Librerie\n",
        "import numpy as np\n",
        "\n",
        "import pandas as pd\n",
        "import matplotlib.pyplot as plt"
      ],
      "execution_count": 3,
      "outputs": []
    },
    {
      "cell_type": "markdown",
      "metadata": {
        "id": "dherpFOH0Uau"
      },
      "source": [
        "#Collegamento google drive"
      ]
    },
    {
      "cell_type": "code",
      "metadata": {
        "id": "vyvTOQw-aHRP",
        "colab": {
          "base_uri": "https://localhost:8080/"
        },
        "outputId": "af29b73b-0de3-4a24-dddb-c2ac2ef7098e"
      },
      "source": [
        "#collegamento google drive\n",
        "from google.colab import drive\n",
        "drive.mount('/content/gdrive')"
      ],
      "execution_count": 2,
      "outputs": [
        {
          "output_type": "stream",
          "name": "stdout",
          "text": [
            "Mounted at /content/gdrive\n"
          ]
        }
      ]
    },
    {
      "cell_type": "markdown",
      "metadata": {
        "id": "J-8oR6CwsFqT"
      },
      "source": [
        "#Def var"
      ]
    },
    {
      "cell_type": "code",
      "metadata": {
        "id": "4ihfUjdrsG4c"
      },
      "source": [
        "materiali=['Ecoflex','Gelatine','Latex','LiquidEcoflex','RTV','WoodGlue']"
      ],
      "execution_count": null,
      "outputs": []
    },
    {
      "cell_type": "markdown",
      "metadata": {
        "id": "VMzqYvDwkuHm"
      },
      "source": [
        "#Path drive"
      ]
    },
    {
      "cell_type": "code",
      "metadata": {
        "id": "-zZZGF_flliD"
      },
      "source": [
        "pd_name='preds_adv_IFGSM.xlsx'\n",
        "pathPreds=F'/content/gdrive/MyDrive/GreenBit_attacks/{pd_name}'\n",
        "\n",
        "pathPredsOrig=F'/content/gdrive/MyDrive/Dataset_impronte/test/Preds_value/GreenBit_con_normalize.xlsx'"
      ],
      "execution_count": 6,
      "outputs": []
    },
    {
      "cell_type": "markdown",
      "metadata": {
        "id": "nYl52WFVnwpU"
      },
      "source": [
        "#Fun"
      ]
    },
    {
      "cell_type": "code",
      "metadata": {
        "id": "-MPKcIKUnx7B"
      },
      "source": [
        "def print_acc(pd_preds):\n",
        "  '''\n",
        "  stampa accuracy usando il dataframe con le predizioni\n",
        "  pd_preds: dataframe\n",
        "  '''\n",
        "  true_label = pd_preds.real.values\n",
        "  predicted = pd_preds.predicted.values\n",
        "  accuracy=round((np.sum((true_label == predicted).astype(int)))/pd_preds.shape[0],4)*100\n",
        "  print(\"\\nAccuracy: {0}\".format(accuracy))\n",
        "  print(\"Shape dataframe: {0}\".format(pd_preds.shape)) "
      ],
      "execution_count": 9,
      "outputs": []
    },
    {
      "cell_type": "markdown",
      "metadata": {
        "id": "9lNOBye6kq3a"
      },
      "source": [
        "#Caricamento dataframe"
      ]
    },
    {
      "cell_type": "code",
      "metadata": {
        "colab": {
          "base_uri": "https://localhost:8080/"
        },
        "id": "EgHYCrIukqKZ",
        "outputId": "0dac6e6c-a712-445e-ea96-d3c442f5d0a5"
      },
      "source": [
        "Test_orig=pd.read_excel(pathPredsOrig)\n",
        "Test_orig=Test_orig[1000:] #solo le spoof\n",
        "Test_p=pd.read_excel(pathPreds)\n",
        "\n",
        "print(Test_orig)\n",
        "print(Test_p)"
      ],
      "execution_count": 29,
      "outputs": [
        {
          "output_type": "stream",
          "name": "stdout",
          "text": [
            "     predicted   real  value_pred_live  value_pred_spoof\n",
            "1000     Spoof  Spoof        -1.388857          1.978444\n",
            "1001     Spoof  Spoof        -4.021381          4.948711\n",
            "1002     Spoof  Spoof        -1.157224          1.746312\n",
            "1003     Spoof  Spoof        -2.919692          3.673729\n",
            "1004     Spoof  Spoof        -0.811149          1.578893\n",
            "...        ...    ...              ...               ...\n",
            "2495     Spoof  Spoof        -6.226919          6.755638\n",
            "2496     Spoof  Spoof        -6.701868          6.876269\n",
            "2497     Spoof  Spoof        -2.930325          2.954088\n",
            "2498     Spoof  Spoof        -2.598931          2.867774\n",
            "2499     Spoof  Spoof        -6.355600          6.727512\n",
            "\n",
            "[1500 rows x 4 columns]\n",
            "                                    name predicted  ...  prob_spoof   real\n",
            "0     GreenBit_Ecoflex 00-50_004_0_0.png      Live  ...     16.7204  Spoof\n",
            "1     GreenBit_Ecoflex 00-50_004_0_4.png      Live  ...     14.6301  Spoof\n",
            "2     GreenBit_Ecoflex 00-50_004_0_5.png      Live  ...     19.6672  Spoof\n",
            "3     GreenBit_Ecoflex 00-50_004_0_9.png      Live  ...     10.8007  Spoof\n",
            "4     GreenBit_Ecoflex 00-50_004_1_0.png      Live  ...     16.4605  Spoof\n",
            "...                                  ...       ...  ...         ...    ...\n",
            "1495       GreenBit_WoodGlue_020_8_4.png      Live  ...     15.0277  Spoof\n",
            "1496       GreenBit_WoodGlue_020_8_9.png      Live  ...     17.6474  Spoof\n",
            "1497       GreenBit_WoodGlue_020_9_0.png      Live  ...     19.2205  Spoof\n",
            "1498       GreenBit_WoodGlue_020_9_4.png      Live  ...     18.8568  Spoof\n",
            "1499       GreenBit_WoodGlue_020_9_9.png      Live  ...      8.0648  Spoof\n",
            "\n",
            "[1500 rows x 5 columns]\n"
          ]
        }
      ]
    },
    {
      "cell_type": "code",
      "metadata": {
        "colab": {
          "base_uri": "https://localhost:8080/"
        },
        "id": "YyjwnqZnsv_v",
        "outputId": "a323b010-bc28-495e-d2f9-11e23095d8c5"
      },
      "source": [
        "print(Test_orig.predicted.values[0])"
      ],
      "execution_count": 37,
      "outputs": [
        {
          "output_type": "stream",
          "name": "stdout",
          "text": [
            "Spoof\n"
          ]
        }
      ]
    },
    {
      "cell_type": "code",
      "metadata": {
        "id": "myh6rdkisnb_"
      },
      "source": [
        "Test_orig=Test_orig.loc[Test_orig['real']==Test_orig['predicted']]"
      ],
      "execution_count": 43,
      "outputs": []
    },
    {
      "cell_type": "code",
      "metadata": {
        "id": "df96VqyuoKRT"
      },
      "source": [
        "#aggiungi i nomi delle immagini a Test_orig e ricaricalo su Drive"
      ],
      "execution_count": null,
      "outputs": []
    },
    {
      "cell_type": "code",
      "metadata": {
        "colab": {
          "base_uri": "https://localhost:8080/"
        },
        "id": "7JIg9LvEnzXx",
        "outputId": "5952efde-98f0-4273-d5f2-3876df5922dd"
      },
      "source": [
        "print_acc(Test_orig)\n",
        "print_acc(Test_p)"
      ],
      "execution_count": 30,
      "outputs": [
        {
          "output_type": "stream",
          "name": "stdout",
          "text": [
            "\n",
            "Accuracy: 98.0\n",
            "Shape dataframe: (1500, 4)\n",
            "\n",
            "Accuracy: 0.0\n",
            "Shape dataframe: (1500, 5)\n"
          ]
        }
      ]
    },
    {
      "cell_type": "code",
      "metadata": {
        "colab": {
          "base_uri": "https://localhost:8080/",
          "height": 282
        },
        "id": "Xjl6sqWLoXTK",
        "outputId": "321effba-b077-4469-a18f-21dcd327deda"
      },
      "source": [
        "#x = np.arange(3)\n",
        "x=['a','b','c']\n",
        "y=[20,40,10]\n",
        "#plt.xticks(x, ['a','b','c'])\n",
        "plt.bar(x, height=y)\n",
        "#poni come x i materiali e come height quante img sono perturbate bene"
      ],
      "execution_count": 27,
      "outputs": [
        {
          "output_type": "execute_result",
          "data": {
            "text/plain": [
              "<BarContainer object of 3 artists>"
            ]
          },
          "metadata": {},
          "execution_count": 27
        },
        {
          "output_type": "display_data",
          "data": {
            "image/png": "[encoded data removed]",
            "text/plain": [
              "<Figure size 432x288 with 1 Axes>"
            ]
          },
          "metadata": {
            "needs_background": "light"
          }
        }
      ]
    }
  ]
}