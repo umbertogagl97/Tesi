{
  "nbformat": 4,
  "nbformat_minor": 0,
  "metadata": {
    "colab": {
      "name": "Attacco_DeepFool_0_1.ipynb",
      "provenance": [],
      "collapsed_sections": [
        "lcoLiAGAtqBh",
        "OHENSlCXxzcr",
        "nGmEBN4oxqUO",
        "pIqUXUmoA541",
        "-ycpjmyb4Cxe",
        "dherpFOH0Uau",
        "5X10jetEyAax",
        "fETy1V2abbWo",
        "_miDmRukbbWq",
        "9XepXK-ny3XN",
        "PBSyijWDqY4-",
        "O_c2L3v0r2xG",
        "P3kr1yAn2UBl",
        "kJ6xDO5GGZY5",
        "O2z5CDqCOjhi",
        "OzZkC7HimlHT",
        "ZFKEoI-enb8L"
      ],
      "machine_shape": "hm",
      "include_colab_link": true
    },
    "kernelspec": {
      "name": "python3",
      "display_name": "Python 3"
    },
    "language_info": {
      "name": "python"
    },
    "accelerator": "GPU",
    "widgets": {
      "application/vnd.jupyter.widget-state+json": {
        "7caf0c2134d148c782501c9e0bcf9a6d": {
          "model_module": "@jupyter-widgets/controls",
          "model_name": "HBoxModel",
          "model_module_version": "1.5.0",
          "state": {
            "_view_name": "HBoxView",
            "_dom_classes": [],
            "_model_name": "HBoxModel",
            "_view_module": "@jupyter-widgets/controls",
            "_model_module_version": "1.5.0",
            "_view_count": null,
            "_view_module_version": "1.5.0",
            "box_style": "",
            "layout": "IPY_MODEL_5f5c348b20bc4f1fbdd18e2eecd590d3",
            "_model_module": "@jupyter-widgets/controls",
            "children": [
              "IPY_MODEL_dfcd8bea1b2042e9bfbf13a47510908a",
              "IPY_MODEL_ba423b0df95b4af4aca185d524ff757c",
              "IPY_MODEL_d8df49a68c174c7e9c0f2e0fa976ef89"
            ]
          }
        },
        "5f5c348b20bc4f1fbdd18e2eecd590d3": {
          "model_module": "@jupyter-widgets/base",
          "model_name": "LayoutModel",
          "model_module_version": "1.2.0",
          "state": {
            "_view_name": "LayoutView",
            "grid_template_rows": null,
            "right": null,
            "justify_content": null,
            "_view_module": "@jupyter-widgets/base",
            "overflow": null,
            "_model_module_version": "1.2.0",
            "_view_count": null,
            "flex_flow": null,
            "width": null,
            "min_width": null,
            "border": null,
            "align_items": null,
            "bottom": null,
            "_model_module": "@jupyter-widgets/base",
            "top": null,
            "grid_column": null,
            "overflow_y": null,
            "overflow_x": null,
            "grid_auto_flow": null,
            "grid_area": null,
            "grid_template_columns": null,
            "flex": null,
            "_model_name": "LayoutModel",
            "justify_items": null,
            "grid_row": null,
            "max_height": null,
            "align_content": null,
            "visibility": null,
            "align_self": null,
            "height": null,
            "min_height": null,
            "padding": null,
            "grid_auto_rows": null,
            "grid_gap": null,
            "max_width": null,
            "order": null,
            "_view_module_version": "1.2.0",
            "grid_template_areas": null,
            "object_position": null,
            "object_fit": null,
            "grid_auto_columns": null,
            "margin": null,
            "display": null,
            "left": null
          }
        },
        "dfcd8bea1b2042e9bfbf13a47510908a": {
          "model_module": "@jupyter-widgets/controls",
          "model_name": "HTMLModel",
          "model_module_version": "1.5.0",
          "state": {
            "_view_name": "HTMLView",
            "style": "IPY_MODEL_ed6dda5a664746f0a2adc0219d84c4df",
            "_dom_classes": [],
            "description": "",
            "_model_name": "HTMLModel",
            "placeholder": "​",
            "_view_module": "@jupyter-widgets/controls",
            "_model_module_version": "1.5.0",
            "value": "100%",
            "_view_count": null,
            "_view_module_version": "1.5.0",
            "description_tooltip": null,
            "_model_module": "@jupyter-widgets/controls",
            "layout": "IPY_MODEL_2b815be77b8b407ca829423ebec6a889"
          }
        },
        "ba423b0df95b4af4aca185d524ff757c": {
          "model_module": "@jupyter-widgets/controls",
          "model_name": "FloatProgressModel",
          "model_module_version": "1.5.0",
          "state": {
            "_view_name": "ProgressView",
            "style": "IPY_MODEL_b144fafe1ccb4033a68d7a17c31d8cbd",
            "_dom_classes": [],
            "description": "",
            "_model_name": "FloatProgressModel",
            "bar_style": "success",
            "max": 574673361,
            "_view_module": "@jupyter-widgets/controls",
            "_model_module_version": "1.5.0",
            "value": 574673361,
            "_view_count": null,
            "_view_module_version": "1.5.0",
            "orientation": "horizontal",
            "min": 0,
            "description_tooltip": null,
            "_model_module": "@jupyter-widgets/controls",
            "layout": "IPY_MODEL_744d04b3055e4da5814aabf74e7d1b69"
          }
        },
        "d8df49a68c174c7e9c0f2e0fa976ef89": {
          "model_module": "@jupyter-widgets/controls",
          "model_name": "HTMLModel",
          "model_module_version": "1.5.0",
          "state": {
            "_view_name": "HTMLView",
            "style": "IPY_MODEL_60d6a34f18be45078c5b14317c1a0943",
            "_dom_classes": [],
            "description": "",
            "_model_name": "HTMLModel",
            "placeholder": "​",
            "_view_module": "@jupyter-widgets/controls",
            "_model_module_version": "1.5.0",
            "value": " 548M/548M [00:08&lt;00:00, 73.7MB/s]",
            "_view_count": null,
            "_view_module_version": "1.5.0",
            "description_tooltip": null,
            "_model_module": "@jupyter-widgets/controls",
            "layout": "IPY_MODEL_20aefcfa14374554b4797ce4a0cf9c15"
          }
        },
        "ed6dda5a664746f0a2adc0219d84c4df": {
          "model_module": "@jupyter-widgets/controls",
          "model_name": "DescriptionStyleModel",
          "model_module_version": "1.5.0",
          "state": {
            "_view_name": "StyleView",
            "_model_name": "DescriptionStyleModel",
            "description_width": "",
            "_view_module": "@jupyter-widgets/base",
            "_model_module_version": "1.5.0",
            "_view_count": null,
            "_view_module_version": "1.2.0",
            "_model_module": "@jupyter-widgets/controls"
          }
        },
        "2b815be77b8b407ca829423ebec6a889": {
          "model_module": "@jupyter-widgets/base",
          "model_name": "LayoutModel",
          "model_module_version": "1.2.0",
          "state": {
            "_view_name": "LayoutView",
            "grid_template_rows": null,
            "right": null,
            "justify_content": null,
            "_view_module": "@jupyter-widgets/base",
            "overflow": null,
            "_model_module_version": "1.2.0",
            "_view_count": null,
            "flex_flow": null,
            "width": null,
            "min_width": null,
            "border": null,
            "align_items": null,
            "bottom": null,
            "_model_module": "@jupyter-widgets/base",
            "top": null,
            "grid_column": null,
            "overflow_y": null,
            "overflow_x": null,
            "grid_auto_flow": null,
            "grid_area": null,
            "grid_template_columns": null,
            "flex": null,
            "_model_name": "LayoutModel",
            "justify_items": null,
            "grid_row": null,
            "max_height": null,
            "align_content": null,
            "visibility": null,
            "align_self": null,
            "height": null,
            "min_height": null,
            "padding": null,
            "grid_auto_rows": null,
            "grid_gap": null,
            "max_width": null,
            "order": null,
            "_view_module_version": "1.2.0",
            "grid_template_areas": null,
            "object_position": null,
            "object_fit": null,
            "grid_auto_columns": null,
            "margin": null,
            "display": null,
            "left": null
          }
        },
        "b144fafe1ccb4033a68d7a17c31d8cbd": {
          "model_module": "@jupyter-widgets/controls",
          "model_name": "ProgressStyleModel",
          "model_module_version": "1.5.0",
          "state": {
            "_view_name": "StyleView",
            "_model_name": "ProgressStyleModel",
            "description_width": "",
            "_view_module": "@jupyter-widgets/base",
            "_model_module_version": "1.5.0",
            "_view_count": null,
            "_view_module_version": "1.2.0",
            "bar_color": null,
            "_model_module": "@jupyter-widgets/controls"
          }
        },
        "744d04b3055e4da5814aabf74e7d1b69": {
          "model_module": "@jupyter-widgets/base",
          "model_name": "LayoutModel",
          "model_module_version": "1.2.0",
          "state": {
            "_view_name": "LayoutView",
            "grid_template_rows": null,
            "right": null,
            "justify_content": null,
            "_view_module": "@jupyter-widgets/base",
            "overflow": null,
            "_model_module_version": "1.2.0",
            "_view_count": null,
            "flex_flow": null,
            "width": null,
            "min_width": null,
            "border": null,
            "align_items": null,
            "bottom": null,
            "_model_module": "@jupyter-widgets/base",
            "top": null,
            "grid_column": null,
            "overflow_y": null,
            "overflow_x": null,
            "grid_auto_flow": null,
            "grid_area": null,
            "grid_template_columns": null,
            "flex": null,
            "_model_name": "LayoutModel",
            "justify_items": null,
            "grid_row": null,
            "max_height": null,
            "align_content": null,
            "visibility": null,
            "align_self": null,
            "height": null,
            "min_height": null,
            "padding": null,
            "grid_auto_rows": null,
            "grid_gap": null,
            "max_width": null,
            "order": null,
            "_view_module_version": "1.2.0",
            "grid_template_areas": null,
            "object_position": null,
            "object_fit": null,
            "grid_auto_columns": null,
            "margin": null,
            "display": null,
            "left": null
          }
        },
        "60d6a34f18be45078c5b14317c1a0943": {
          "model_module": "@jupyter-widgets/controls",
          "model_name": "DescriptionStyleModel",
          "model_module_version": "1.5.0",
          "state": {
            "_view_name": "StyleView",
            "_model_name": "DescriptionStyleModel",
            "description_width": "",
            "_view_module": "@jupyter-widgets/base",
            "_model_module_version": "1.5.0",
            "_view_count": null,
            "_view_module_version": "1.2.0",
            "_model_module": "@jupyter-widgets/controls"
          }
        },
        "20aefcfa14374554b4797ce4a0cf9c15": {
          "model_module": "@jupyter-widgets/base",
          "model_name": "LayoutModel",
          "model_module_version": "1.2.0",
          "state": {
            "_view_name": "LayoutView",
            "grid_template_rows": null,
            "right": null,
            "justify_content": null,
            "_view_module": "@jupyter-widgets/base",
            "overflow": null,
            "_model_module_version": "1.2.0",
            "_view_count": null,
            "flex_flow": null,
            "width": null,
            "min_width": null,
            "border": null,
            "align_items": null,
            "bottom": null,
            "_model_module": "@jupyter-widgets/base",
            "top": null,
            "grid_column": null,
            "overflow_y": null,
            "overflow_x": null,
            "grid_auto_flow": null,
            "grid_area": null,
            "grid_template_columns": null,
            "flex": null,
            "_model_name": "LayoutModel",
            "justify_items": null,
            "grid_row": null,
            "max_height": null,
            "align_content": null,
            "visibility": null,
            "align_self": null,
            "height": null,
            "min_height": null,
            "padding": null,
            "grid_auto_rows": null,
            "grid_gap": null,
            "max_width": null,
            "order": null,
            "_view_module_version": "1.2.0",
            "grid_template_areas": null,
            "object_position": null,
            "object_fit": null,
            "grid_auto_columns": null,
            "margin": null,
            "display": null,
            "left": null
          }
        }
      }
    }
  },
  "cells": [
    {
      "cell_type": "markdown",
      "metadata": {
        "id": "view-in-github",
        "colab_type": "text"
      },
      "source": [
        "<a href=\"https://colab.research.google.com/github/umbertogagl97/Tesi/blob/main/Impronte/AttaccoScanner/Attacco_DeepFool_0_1.ipynb\" target=\"_parent\"><img src=\"https://colab.research.google.com/assets/colab-badge.svg\" alt=\"Open In Colab\"/></a>"
      ]
    },
    {
      "cell_type": "markdown",
      "metadata": {
        "id": "lcoLiAGAtqBh"
      },
      "source": [
        "# **Init**"
      ]
    },
    {
      "cell_type": "markdown",
      "metadata": {
        "id": "OHENSlCXxzcr"
      },
      "source": [
        "##Import ART"
      ]
    },
    {
      "cell_type": "code",
      "metadata": {
        "id": "hIKN5Oqa-i6u",
        "colab": {
          "base_uri": "https://localhost:8080/"
        },
        "outputId": "40488cc2-b2d3-40ea-c4b0-7c820675e4cd"
      },
      "source": [
        "#importa ART\n",
        "!pip install adversarial-robustness-toolbox"
      ],
      "execution_count": 1,
      "outputs": [
        {
          "output_type": "stream",
          "name": "stdout",
          "text": [
            "Collecting adversarial-robustness-toolbox\n",
            "  Downloading adversarial_robustness_toolbox-1.8.1-py3-none-any.whl (1.1 MB)\n",
            "\u001b[?25l\r\u001b[K     |▎                               | 10 kB 35.8 MB/s eta 0:00:01\r\u001b[K     |▋                               | 20 kB 25.4 MB/s eta 0:00:01\r\u001b[K     |█                               | 30 kB 17.1 MB/s eta 0:00:01\r\u001b[K     |█▏                              | 40 kB 14.8 MB/s eta 0:00:01\r\u001b[K     |█▌                              | 51 kB 8.3 MB/s eta 0:00:01\r\u001b[K     |█▉                              | 61 kB 8.7 MB/s eta 0:00:01\r\u001b[K     |██                              | 71 kB 8.5 MB/s eta 0:00:01\r\u001b[K     |██▍                             | 81 kB 9.5 MB/s eta 0:00:01\r\u001b[K     |██▊                             | 92 kB 9.4 MB/s eta 0:00:01\r\u001b[K     |███                             | 102 kB 7.9 MB/s eta 0:00:01\r\u001b[K     |███▎                            | 112 kB 7.9 MB/s eta 0:00:01\r\u001b[K     |███▋                            | 122 kB 7.9 MB/s eta 0:00:01\r\u001b[K     |███▉                            | 133 kB 7.9 MB/s eta 0:00:01\r\u001b[K     |████▏                           | 143 kB 7.9 MB/s eta 0:00:01\r\u001b[K     |████▌                           | 153 kB 7.9 MB/s eta 0:00:01\r\u001b[K     |████▊                           | 163 kB 7.9 MB/s eta 0:00:01\r\u001b[K     |█████                           | 174 kB 7.9 MB/s eta 0:00:01\r\u001b[K     |█████▍                          | 184 kB 7.9 MB/s eta 0:00:01\r\u001b[K     |█████▋                          | 194 kB 7.9 MB/s eta 0:00:01\r\u001b[K     |██████                          | 204 kB 7.9 MB/s eta 0:00:01\r\u001b[K     |██████▎                         | 215 kB 7.9 MB/s eta 0:00:01\r\u001b[K     |██████▌                         | 225 kB 7.9 MB/s eta 0:00:01\r\u001b[K     |██████▉                         | 235 kB 7.9 MB/s eta 0:00:01\r\u001b[K     |███████▏                        | 245 kB 7.9 MB/s eta 0:00:01\r\u001b[K     |███████▍                        | 256 kB 7.9 MB/s eta 0:00:01\r\u001b[K     |███████▊                        | 266 kB 7.9 MB/s eta 0:00:01\r\u001b[K     |████████                        | 276 kB 7.9 MB/s eta 0:00:01\r\u001b[K     |████████▎                       | 286 kB 7.9 MB/s eta 0:00:01\r\u001b[K     |████████▋                       | 296 kB 7.9 MB/s eta 0:00:01\r\u001b[K     |█████████                       | 307 kB 7.9 MB/s eta 0:00:01\r\u001b[K     |█████████▏                      | 317 kB 7.9 MB/s eta 0:00:01\r\u001b[K     |█████████▌                      | 327 kB 7.9 MB/s eta 0:00:01\r\u001b[K     |█████████▉                      | 337 kB 7.9 MB/s eta 0:00:01\r\u001b[K     |██████████                      | 348 kB 7.9 MB/s eta 0:00:01\r\u001b[K     |██████████▍                     | 358 kB 7.9 MB/s eta 0:00:01\r\u001b[K     |██████████▊                     | 368 kB 7.9 MB/s eta 0:00:01\r\u001b[K     |███████████                     | 378 kB 7.9 MB/s eta 0:00:01\r\u001b[K     |███████████▎                    | 389 kB 7.9 MB/s eta 0:00:01\r\u001b[K     |███████████▋                    | 399 kB 7.9 MB/s eta 0:00:01\r\u001b[K     |███████████▉                    | 409 kB 7.9 MB/s eta 0:00:01\r\u001b[K     |████████████▏                   | 419 kB 7.9 MB/s eta 0:00:01\r\u001b[K     |████████████▌                   | 430 kB 7.9 MB/s eta 0:00:01\r\u001b[K     |████████████▊                   | 440 kB 7.9 MB/s eta 0:00:01\r\u001b[K     |█████████████                   | 450 kB 7.9 MB/s eta 0:00:01\r\u001b[K     |█████████████▍                  | 460 kB 7.9 MB/s eta 0:00:01\r\u001b[K     |█████████████▋                  | 471 kB 7.9 MB/s eta 0:00:01\r\u001b[K     |██████████████                  | 481 kB 7.9 MB/s eta 0:00:01\r\u001b[K     |██████████████▎                 | 491 kB 7.9 MB/s eta 0:00:01\r\u001b[K     |██████████████▌                 | 501 kB 7.9 MB/s eta 0:00:01\r\u001b[K     |██████████████▉                 | 512 kB 7.9 MB/s eta 0:00:01\r\u001b[K     |███████████████▏                | 522 kB 7.9 MB/s eta 0:00:01\r\u001b[K     |███████████████▍                | 532 kB 7.9 MB/s eta 0:00:01\r\u001b[K     |███████████████▊                | 542 kB 7.9 MB/s eta 0:00:01\r\u001b[K     |████████████████                | 552 kB 7.9 MB/s eta 0:00:01\r\u001b[K     |████████████████▎               | 563 kB 7.9 MB/s eta 0:00:01\r\u001b[K     |████████████████▋               | 573 kB 7.9 MB/s eta 0:00:01\r\u001b[K     |█████████████████               | 583 kB 7.9 MB/s eta 0:00:01\r\u001b[K     |█████████████████▏              | 593 kB 7.9 MB/s eta 0:00:01\r\u001b[K     |█████████████████▌              | 604 kB 7.9 MB/s eta 0:00:01\r\u001b[K     |█████████████████▉              | 614 kB 7.9 MB/s eta 0:00:01\r\u001b[K     |██████████████████              | 624 kB 7.9 MB/s eta 0:00:01\r\u001b[K     |██████████████████▍             | 634 kB 7.9 MB/s eta 0:00:01\r\u001b[K     |██████████████████▊             | 645 kB 7.9 MB/s eta 0:00:01\r\u001b[K     |███████████████████             | 655 kB 7.9 MB/s eta 0:00:01\r\u001b[K     |███████████████████▎            | 665 kB 7.9 MB/s eta 0:00:01\r\u001b[K     |███████████████████▋            | 675 kB 7.9 MB/s eta 0:00:01\r\u001b[K     |███████████████████▉            | 686 kB 7.9 MB/s eta 0:00:01\r\u001b[K     |████████████████████▏           | 696 kB 7.9 MB/s eta 0:00:01\r\u001b[K     |████████████████████▌           | 706 kB 7.9 MB/s eta 0:00:01\r\u001b[K     |████████████████████▊           | 716 kB 7.9 MB/s eta 0:00:01\r\u001b[K     |█████████████████████           | 727 kB 7.9 MB/s eta 0:00:01\r\u001b[K     |█████████████████████▍          | 737 kB 7.9 MB/s eta 0:00:01\r\u001b[K     |█████████████████████▋          | 747 kB 7.9 MB/s eta 0:00:01\r\u001b[K     |██████████████████████          | 757 kB 7.9 MB/s eta 0:00:01\r\u001b[K     |██████████████████████▎         | 768 kB 7.9 MB/s eta 0:00:01\r\u001b[K     |██████████████████████▌         | 778 kB 7.9 MB/s eta 0:00:01\r\u001b[K     |██████████████████████▉         | 788 kB 7.9 MB/s eta 0:00:01\r\u001b[K     |███████████████████████▏        | 798 kB 7.9 MB/s eta 0:00:01\r\u001b[K     |███████████████████████▍        | 808 kB 7.9 MB/s eta 0:00:01\r\u001b[K     |███████████████████████▊        | 819 kB 7.9 MB/s eta 0:00:01\r\u001b[K     |████████████████████████        | 829 kB 7.9 MB/s eta 0:00:01\r\u001b[K     |████████████████████████▎       | 839 kB 7.9 MB/s eta 0:00:01\r\u001b[K     |████████████████████████▋       | 849 kB 7.9 MB/s eta 0:00:01\r\u001b[K     |█████████████████████████       | 860 kB 7.9 MB/s eta 0:00:01\r\u001b[K     |█████████████████████████▏      | 870 kB 7.9 MB/s eta 0:00:01\r\u001b[K     |█████████████████████████▌      | 880 kB 7.9 MB/s eta 0:00:01\r\u001b[K     |█████████████████████████▉      | 890 kB 7.9 MB/s eta 0:00:01\r\u001b[K     |██████████████████████████      | 901 kB 7.9 MB/s eta 0:00:01\r\u001b[K     |██████████████████████████▍     | 911 kB 7.9 MB/s eta 0:00:01\r\u001b[K     |██████████████████████████▊     | 921 kB 7.9 MB/s eta 0:00:01\r\u001b[K     |███████████████████████████     | 931 kB 7.9 MB/s eta 0:00:01\r\u001b[K     |███████████████████████████▎    | 942 kB 7.9 MB/s eta 0:00:01\r\u001b[K     |███████████████████████████▋    | 952 kB 7.9 MB/s eta 0:00:01\r\u001b[K     |████████████████████████████    | 962 kB 7.9 MB/s eta 0:00:01\r\u001b[K     |████████████████████████████▏   | 972 kB 7.9 MB/s eta 0:00:01\r\u001b[K     |████████████████████████████▌   | 983 kB 7.9 MB/s eta 0:00:01\r\u001b[K     |████████████████████████████▉   | 993 kB 7.9 MB/s eta 0:00:01\r\u001b[K     |█████████████████████████████   | 1.0 MB 7.9 MB/s eta 0:00:01\r\u001b[K     |█████████████████████████████▍  | 1.0 MB 7.9 MB/s eta 0:00:01\r\u001b[K     |█████████████████████████████▊  | 1.0 MB 7.9 MB/s eta 0:00:01\r\u001b[K     |██████████████████████████████  | 1.0 MB 7.9 MB/s eta 0:00:01\r\u001b[K     |██████████████████████████████▎ | 1.0 MB 7.9 MB/s eta 0:00:01\r\u001b[K     |██████████████████████████████▋ | 1.1 MB 7.9 MB/s eta 0:00:01\r\u001b[K     |██████████████████████████████▉ | 1.1 MB 7.9 MB/s eta 0:00:01\r\u001b[K     |███████████████████████████████▏| 1.1 MB 7.9 MB/s eta 0:00:01\r\u001b[K     |███████████████████████████████▌| 1.1 MB 7.9 MB/s eta 0:00:01\r\u001b[K     |███████████████████████████████▊| 1.1 MB 7.9 MB/s eta 0:00:01\r\u001b[K     |████████████████████████████████| 1.1 MB 7.9 MB/s \n",
            "\u001b[?25hRequirement already satisfied: six in /usr/local/lib/python3.7/dist-packages (from adversarial-robustness-toolbox) (1.15.0)\n",
            "Requirement already satisfied: numpy>=1.18.0 in /usr/local/lib/python3.7/dist-packages (from adversarial-robustness-toolbox) (1.19.5)\n",
            "Requirement already satisfied: tqdm in /usr/local/lib/python3.7/dist-packages (from adversarial-robustness-toolbox) (4.62.3)\n",
            "Requirement already satisfied: scipy>=1.4.1 in /usr/local/lib/python3.7/dist-packages (from adversarial-robustness-toolbox) (1.4.1)\n",
            "Collecting numba>=0.53.1\n",
            "  Downloading numba-0.54.1-cp37-cp37m-manylinux2014_x86_64.manylinux_2_17_x86_64.whl (3.3 MB)\n",
            "\u001b[K     |████████████████████████████████| 3.3 MB 66.3 MB/s \n",
            "\u001b[?25hRequirement already satisfied: setuptools in /usr/local/lib/python3.7/dist-packages (from adversarial-robustness-toolbox) (57.4.0)\n",
            "Requirement already satisfied: scikit-learn<1.1.0,>=0.22.2 in /usr/local/lib/python3.7/dist-packages (from adversarial-robustness-toolbox) (0.22.2.post1)\n",
            "Collecting llvmlite<0.38,>=0.37.0rc1\n",
            "  Downloading llvmlite-0.37.0-cp37-cp37m-manylinux2014_x86_64.whl (26.3 MB)\n",
            "\u001b[K     |████████████████████████████████| 26.3 MB 64.2 MB/s \n",
            "\u001b[?25hRequirement already satisfied: joblib>=0.11 in /usr/local/lib/python3.7/dist-packages (from scikit-learn<1.1.0,>=0.22.2->adversarial-robustness-toolbox) (1.1.0)\n",
            "Installing collected packages: llvmlite, numba, adversarial-robustness-toolbox\n",
            "  Attempting uninstall: llvmlite\n",
            "    Found existing installation: llvmlite 0.34.0\n",
            "    Uninstalling llvmlite-0.34.0:\n",
            "      Successfully uninstalled llvmlite-0.34.0\n",
            "  Attempting uninstall: numba\n",
            "    Found existing installation: numba 0.51.2\n",
            "    Uninstalling numba-0.51.2:\n",
            "      Successfully uninstalled numba-0.51.2\n",
            "Successfully installed adversarial-robustness-toolbox-1.8.1 llvmlite-0.37.0 numba-0.54.1\n"
          ]
        }
      ]
    },
    {
      "cell_type": "markdown",
      "metadata": {
        "id": "nGmEBN4oxqUO"
      },
      "source": [
        "## Import librerie"
      ]
    },
    {
      "cell_type": "code",
      "metadata": {
        "id": "01RXI-DDIb3C"
      },
      "source": [
        "#Librerie\n",
        "\n",
        "import torch\n",
        "import torch.nn as nn\n",
        "import torch.optim as optim\n",
        "import numpy as np\n",
        "import torchvision\n",
        "from torchvision import datasets, models, transforms\n",
        "#import time\n",
        "#import os\n",
        "#import shutil\n",
        "#import copy\n",
        "\n",
        "import pandas as pd\n",
        "import matplotlib.pyplot as plt\n",
        "import sys\n",
        "\n",
        "from torchvision.transforms.functional import InterpolationMode\n",
        "\n",
        "from torch.utils.data import TensorDataset, DataLoader\n",
        "\n",
        "import cv2\n",
        "from google.colab.patches import cv2_imshow"
      ],
      "execution_count": 2,
      "outputs": []
    },
    {
      "cell_type": "markdown",
      "metadata": {
        "id": "pIqUXUmoA541"
      },
      "source": [
        "##Check device\n"
      ]
    },
    {
      "cell_type": "code",
      "metadata": {
        "id": "P2pe5Zh2A4Ui",
        "colab": {
          "base_uri": "https://localhost:8080/"
        },
        "outputId": "99ee0292-532e-4fa7-d194-beb1aa013430"
      },
      "source": [
        "print(torch.__version__)\n",
        "print(torch.cuda.is_available())\n",
        "print(torch.cuda.get_device_name(0))\n",
        "device = torch.device(\"cuda:0\" if torch.cuda.is_available() else \"cpu\")\n",
        "print(device)"
      ],
      "execution_count": 3,
      "outputs": [
        {
          "output_type": "stream",
          "name": "stdout",
          "text": [
            "1.9.0+cu111\n",
            "True\n",
            "Tesla P100-PCIE-16GB\n",
            "cuda:0\n"
          ]
        }
      ]
    },
    {
      "cell_type": "markdown",
      "metadata": {
        "id": "-ycpjmyb4Cxe"
      },
      "source": [
        "##Def path"
      ]
    },
    {
      "cell_type": "code",
      "metadata": {
        "id": "4hMuySVI4GgY"
      },
      "source": [
        "#scanner\n",
        "scanner_name = 'HiScan'\n",
        "\n",
        "#load modello\n",
        "path_model = F\"/content/gdrive/My Drive/Scanner/{scanner_name}\" \n",
        "\n",
        "#dataset\n",
        "pathTestset=F'/content/gdrive/MyDrive/Dataset_impronte/test/{scanner_name}'\n",
        "\n",
        "#predizioni testset originale\n",
        "pd_preds=F'/content/gdrive/MyDrive/Dataset_impronte/test/Preds_value/{scanner_name}_con_normalize.xlsx'"
      ],
      "execution_count": 4,
      "outputs": []
    },
    {
      "cell_type": "markdown",
      "metadata": {
        "id": "dherpFOH0Uau"
      },
      "source": [
        "##Collegamento google drive"
      ]
    },
    {
      "cell_type": "code",
      "metadata": {
        "id": "vyvTOQw-aHRP",
        "colab": {
          "base_uri": "https://localhost:8080/"
        },
        "outputId": "94be1626-0a1a-46f4-d240-6c325adcd845"
      },
      "source": [
        "#collegamento google drive\n",
        "from google.colab import drive\n",
        "drive.mount('/content/gdrive')"
      ],
      "execution_count": 5,
      "outputs": [
        {
          "output_type": "stream",
          "name": "stdout",
          "text": [
            "Mounted at /content/gdrive\n"
          ]
        }
      ]
    },
    {
      "cell_type": "markdown",
      "metadata": {
        "id": "pV0cZLAzphdp"
      },
      "source": [
        "##Transforms"
      ]
    },
    {
      "cell_type": "code",
      "metadata": {
        "id": "xOiUbDZ5pixj"
      },
      "source": [
        "transf_init=transforms.Resize(size=(1000,1000),interpolation=InterpolationMode.NEAREST)\n",
        "\n",
        "data_transform_test= transforms.Compose([transforms.Resize([224,224],interpolation=InterpolationMode.NEAREST),\n",
        "          transforms.Normalize([0.485, 0.456, 0.406], [0.229, 0.224, 0.225])\n",
        "          ])\n",
        "transf_resize=transforms.Resize([224,224],interpolation=InterpolationMode.NEAREST)\n",
        "\n",
        "transf_load= transforms.Compose([transforms.ToTensor(),\n",
        "                                 #transforms.Normalize([0.485, 0.456, 0.406], [0.229, 0.224, 0.225])\n",
        "          ])\n",
        "trans_norm=transforms.Normalize([0.485, 0.456, 0.406], [0.229, 0.224, 0.225])\n"
      ],
      "execution_count": 7,
      "outputs": []
    },
    {
      "cell_type": "markdown",
      "metadata": {
        "id": "5X10jetEyAax"
      },
      "source": [
        "#**Dataset**"
      ]
    },
    {
      "cell_type": "markdown",
      "metadata": {
        "id": "fETy1V2abbWo"
      },
      "source": [
        "##Caricamento dataset"
      ]
    },
    {
      "cell_type": "code",
      "metadata": {
        "id": "AMW6yAMPbbWp",
        "colab": {
          "base_uri": "https://localhost:8080/"
        },
        "outputId": "033b7397-2739-44c9-8419-6584392d0f5a"
      },
      "source": [
        "test_dataset = datasets.ImageFolder(pathTestset,transform=transf_load)\n",
        "dim_set=len(test_dataset)\n",
        "print(dim_set)"
      ],
      "execution_count": 8,
      "outputs": [
        {
          "output_type": "stream",
          "name": "stdout",
          "text": [
            "2500\n"
          ]
        }
      ]
    },
    {
      "cell_type": "markdown",
      "metadata": {
        "id": "_miDmRukbbWq"
      },
      "source": [
        "##Dataloader"
      ]
    },
    {
      "cell_type": "code",
      "metadata": {
        "id": "o3JB4rWJbbWq"
      },
      "source": [
        "testgen=torch.utils.data.DataLoader(test_dataset, pin_memory=True, batch_size=1,num_workers=2)"
      ],
      "execution_count": 9,
      "outputs": []
    },
    {
      "cell_type": "markdown",
      "metadata": {
        "id": "ZazQQE8ypKP9"
      },
      "source": [
        "##Nomi classi"
      ]
    },
    {
      "cell_type": "code",
      "metadata": {
        "colab": {
          "base_uri": "https://localhost:8080/"
        },
        "id": "DYk4cr4eo9Ir",
        "outputId": "b0bf6d2e-2cb3-4fcd-bb1b-b35ff0ca0d79"
      },
      "source": [
        "classes_name=test_dataset.classes\n",
        "class_number=len(classes_name)\n",
        "print(classes_name)\n",
        "print(class_number)\n",
        "#del test_dataset"
      ],
      "execution_count": 10,
      "outputs": [
        {
          "output_type": "stream",
          "name": "stdout",
          "text": [
            "['Live', 'Spoof']\n",
            "2\n"
          ]
        }
      ]
    },
    {
      "cell_type": "markdown",
      "metadata": {
        "id": "vT9l9KWwv1uu"
      },
      "source": [
        "##Min Max dataset"
      ]
    },
    {
      "cell_type": "code",
      "metadata": {
        "id": "x9FPsg0aE6xI",
        "colab": {
          "base_uri": "https://localhost:8080/"
        },
        "outputId": "2153449c-6a08-4045-8ac6-009ed634a1d7"
      },
      "source": [
        "a,_=next(iter(testgen))\n",
        "_min,_max=torch.min(a),torch.max(a)\n",
        "print(_min,_max)"
      ],
      "execution_count": 11,
      "outputs": [
        {
          "output_type": "stream",
          "name": "stdout",
          "text": [
            "tensor(0.) tensor(1.)\n"
          ]
        }
      ]
    },
    {
      "cell_type": "markdown",
      "metadata": {
        "id": "AJ_O-UAECNMk"
      },
      "source": [
        "#**Riduzione dataset**"
      ]
    },
    {
      "cell_type": "code",
      "metadata": {
        "id": "RnOEmgNRbbWp",
        "colab": {
          "base_uri": "https://localhost:8080/"
        },
        "outputId": "c947225c-028b-4658-9ea7-b220534b31ef"
      },
      "source": [
        "test_dataset.samples=test_dataset.samples[1004:1005]\n",
        "\n",
        "dim_set=len(test_dataset)\n",
        "print(dim_set)"
      ],
      "execution_count": 12,
      "outputs": [
        {
          "output_type": "stream",
          "name": "stdout",
          "text": [
            "1\n"
          ]
        }
      ]
    },
    {
      "cell_type": "markdown",
      "metadata": {
        "id": "9XepXK-ny3XN"
      },
      "source": [
        "# **Creazione modello**\n",
        "\n",
        "> non ho bloccato i parametri inferiori e sbloccato quelli del classificatore, vedi se funziona\n",
        "\n"
      ]
    },
    {
      "cell_type": "markdown",
      "metadata": {
        "id": "PBSyijWDqY4-"
      },
      "source": [
        "##Load model pre-trained"
      ]
    },
    {
      "cell_type": "code",
      "metadata": {
        "id": "GymaBXhaPMvL",
        "colab": {
          "base_uri": "https://localhost:8080/",
          "height": 0,
          "referenced_widgets": [
            "7caf0c2134d148c782501c9e0bcf9a6d",
            "5f5c348b20bc4f1fbdd18e2eecd590d3",
            "dfcd8bea1b2042e9bfbf13a47510908a",
            "ba423b0df95b4af4aca185d524ff757c",
            "d8df49a68c174c7e9c0f2e0fa976ef89",
            "ed6dda5a664746f0a2adc0219d84c4df",
            "2b815be77b8b407ca829423ebec6a889",
            "b144fafe1ccb4033a68d7a17c31d8cbd",
            "744d04b3055e4da5814aabf74e7d1b69",
            "60d6a34f18be45078c5b14317c1a0943",
            "20aefcfa14374554b4797ce4a0cf9c15"
          ]
        },
        "outputId": "c08759f1-7467-4a60-8c46-6c1c62798961"
      },
      "source": [
        "model = models.vgg19(pretrained=True,progress=True)\n",
        "#model = models.densenet201(pretrained=True,progress=True)\n",
        "#print(model)"
      ],
      "execution_count": 13,
      "outputs": [
        {
          "output_type": "stream",
          "name": "stderr",
          "text": [
            "Downloading: \"https://download.pytorch.org/models/vgg19-dcbb9e9d.pth\" to /root/.cache/torch/hub/checkpoints/vgg19-dcbb9e9d.pth\n"
          ]
        },
        {
          "output_type": "display_data",
          "data": {
            "application/vnd.jupyter.widget-view+json": {
              "model_id": "7caf0c2134d148c782501c9e0bcf9a6d",
              "version_minor": 0,
              "version_major": 2
            },
            "text/plain": [
              "  0%|          | 0.00/548M [00:00<?, ?B/s]"
            ]
          },
          "metadata": {}
        }
      ]
    },
    {
      "cell_type": "markdown",
      "metadata": {
        "id": "O_c2L3v0r2xG"
      },
      "source": [
        "##Aggiunta classificatore"
      ]
    },
    {
      "cell_type": "code",
      "metadata": {
        "id": "d1qeI3_3qKJJ"
      },
      "source": [
        "model.classifier[6]=nn.Linear(4096,2) #per vgg19\n",
        "#model.classifier=nn.Linear(1920,2) #per densenet201\n",
        "\n",
        "#print(model) "
      ],
      "execution_count": 14,
      "outputs": []
    },
    {
      "cell_type": "markdown",
      "metadata": {
        "id": "HOHqOuTVAMaz"
      },
      "source": [
        "##Load pesi"
      ]
    },
    {
      "cell_type": "code",
      "metadata": {
        "id": "CEXv4tQ3AOi0",
        "colab": {
          "base_uri": "https://localhost:8080/"
        },
        "outputId": "17a9a205-af95-40ef-e2ca-b6937809bef2"
      },
      "source": [
        "model.load_state_dict(torch.load(path_model))#,map_location=torch.device('cpu')))\n"
      ],
      "execution_count": 15,
      "outputs": [
        {
          "output_type": "execute_result",
          "data": {
            "text/plain": [
              "<All keys matched successfully>"
            ]
          },
          "metadata": {},
          "execution_count": 15
        }
      ]
    },
    {
      "cell_type": "markdown",
      "metadata": {
        "id": "P3kr1yAn2UBl"
      },
      "source": [
        "# **Def funzioni**"
      ]
    },
    {
      "cell_type": "markdown",
      "metadata": {
        "id": "0OdO07YuUOFS"
      },
      "source": [
        "##calc size"
      ]
    },
    {
      "cell_type": "code",
      "metadata": {
        "id": "1EAve-4iUPk1"
      },
      "source": [
        "def calc_size(n):\n",
        "  '''\n",
        "  n: int \n",
        "  return: 80% of n\n",
        "  '''\n",
        "  return tuple(int(np.ceil(i * (80/100))) for i in n)"
      ],
      "execution_count": 16,
      "outputs": []
    },
    {
      "cell_type": "markdown",
      "metadata": {
        "id": "Q64Z8X5mzAZ1"
      },
      "source": [
        "##Perturbazione"
      ]
    },
    {
      "cell_type": "code",
      "metadata": {
        "id": "GegLlIcWzCSv"
      },
      "source": [
        "def compute_perturb(x,x_adv):\n",
        "  '''\n",
        "    x: img originali\n",
        "    x_adv: img contraddittorie\n",
        "    return: pertubazioni\n",
        "  '''\n",
        "  if x_adv.shape[2]!=1000:\n",
        "    x=np.array(transf_resize(torch.Tensor(x)))\n",
        "  perturb=x_adv-x\n",
        "  \n",
        "  if perturb.shape[2]!=1000:\n",
        "    perturb=np.array(transf_init(torch.Tensor(perturb)))\n",
        "  \n",
        "  return perturb"
      ],
      "execution_count": 17,
      "outputs": []
    },
    {
      "cell_type": "markdown",
      "metadata": {
        "id": "JmyIKi7XvvSf"
      },
      "source": [
        "##Print subplot"
      ]
    },
    {
      "cell_type": "code",
      "metadata": {
        "id": "uspz0KYNvwuS"
      },
      "source": [
        "def print_subplot(perturb,x_test,y_test,preds,x_test_adv,value_preds_adv):\n",
        "  '''\n",
        "    perturb: perturbazioni\n",
        "    x_test: img originali\n",
        "    y_test: classi originali\n",
        "    preds: classi predette per img originali\n",
        "    x_test_adv: img contraddittoria\n",
        "    value_preds_adv: probabilità predette img contraddittorie\n",
        "    normalize: se True normalizza le immagini\n",
        "  '''\n",
        "\n",
        "  #nel seguente ciclo for si crea un vettore delle classi predette ordinato per probabilità decrescente\n",
        "  for i in range(len(x_test)):#(x_test.shape[0]):\n",
        "    value=value_preds_adv[i]*100\n",
        "    value_sorted=sorted(value,reverse=True)\n",
        "    classes=[]\n",
        "    for j in range(value.size) :\n",
        "      ind=np.where(value==value_sorted[j]) #restituisce l'indice in value del valore uguale a value_sorted[i], quindi è la classe\n",
        "      classes.append(classes_name[ind[0][0]]) #classes è il vettore finale\n",
        "    \n",
        "    value_sorted=[ round(elem, 2) for elem in value_sorted ]\n",
        "\n",
        "    val_pert=np.mean(np.abs(perturb[i]))\n",
        "    pert_min,pert_max=np.min(perturb[i]),np.max(perturb[i])\n",
        "    #perturb,val_pert,perturb_norm=compute_perturb(x_test,x_test_adv)\n",
        "    perturb[i]=np.clip(perturb[i],0,1) #rimuovo i valori negativi poiché non posso visualizzarli\n",
        "    #in seguito per ogni immagine del test set si stampa un subplot\n",
        "    fig = plt.figure(figsize=[20,20])\n",
        "    #plt.subplots_adjust(wspace=0.9)\n",
        "    print('\\033[1m'+\"IMMAGINE \"+'\\033[1m',i) #valore END: '\\033[0m'\n",
        "    #originale\n",
        "    ax1 = fig.add_subplot(131) #subplot con 3 righe e due colonne\n",
        "    ax1.axis('off')\n",
        "    #ax1.imshow(cv2.rotate(x_test[i],cv2.cv2.ROTATE_90_CLOCKWISE))\n",
        "    ax1.imshow(x_test[i].transpose(1,2,0))\n",
        "    ax1.title.set_text(\"ORIGINALE\\nclasse reale: \"+classes_name[np.argmax(y_test[i])]+\"\\nclasse predetta: \"+str(classes_name[preds[i]]))\n",
        "    #perturbazione\n",
        "    ax2 = fig.add_subplot(132)\n",
        "    #ax2.imshow(cv2.rotate(perturb_norm[i],cv2.cv2.ROTATE_90_CLOCKWISE))\n",
        "    ax2.imshow(perturb[i].transpose(1,2,0),cmap='gray')\n",
        "    #ax2.imshow(perturb[i],cmap='gray')\n",
        "    ax2.axis('off')\n",
        "    ax2.title.set_text(\"PERTURBAZIONE\\nvalore medio: \"+str(round(val_pert,4))+\"\\nmin: \"+str(pert_min)+\"\\nmax: \"+str(pert_max))\n",
        "    #perturbata\n",
        "    ax3 = fig.add_subplot(133)\n",
        "    #ax3.imshow(cv2.rotate(x_test_adv[i],cv2.cv2.ROTATE_90_CLOCKWISE))#,aspect='auto')\n",
        "    ax3.imshow(x_test_adv[i].transpose(1,2,0))\n",
        "    ax3.axis('off')\n",
        "    ax3.title.set_text(\"PERTURBATA\\nclassi predette: \"+str(classes)+\"\\ncon valori: \"+str(value_sorted))\n",
        "    plt.show()"
      ],
      "execution_count": 18,
      "outputs": []
    },
    {
      "cell_type": "markdown",
      "metadata": {
        "id": "kJ6xDO5GGZY5"
      },
      "source": [
        "##Testing"
      ]
    },
    {
      "cell_type": "code",
      "metadata": {
        "id": "-VvGULk0ng1S"
      },
      "source": [
        "def test_average(classifier,input):\n",
        "  '''\n",
        "  model: model trained\n",
        "  test_loader: dataloader \n",
        "  return: pred: classe predetta, probabilities, values\n",
        "  '''\n",
        "  preds=[]\n",
        "  #value=[]\n",
        "  prob=nn.Softmax(dim=0)\n",
        "  \n",
        "  if input.shape[2]!=1000:\n",
        "    input=transf_init(input)\n",
        "\n",
        "  n=input.shape\n",
        "  n_mod=calc_size(n[2:4])\n",
        "  crop_transform=transforms.TenCrop((n_mod[0],n_mod[1]))\n",
        "  crops=crop_transform(input)\n",
        "  live=0\n",
        "  spoof=0\n",
        "  for crop in crops:\n",
        "    crop=data_transform_test(crop) #resize 224\n",
        "    outputs = classifier.predict(crop)\n",
        "    live+=outputs[0][0]\n",
        "    spoof+=outputs[0][1]\n",
        "  live=live/10\n",
        "  spoof=spoof/10\n",
        "  values=[live,spoof]\n",
        "  predicted=np.argmax(values)\n",
        "  probabilities=prob(torch.Tensor(values)).numpy()\n",
        "\n",
        "  return predicted,probabilities,values"
      ],
      "execution_count": 19,
      "outputs": []
    },
    {
      "cell_type": "markdown",
      "metadata": {
        "id": "Sm63-OLUwGE-"
      },
      "source": [
        "##mask"
      ]
    },
    {
      "cell_type": "code",
      "metadata": {
        "id": "lnK0KawpwHeq"
      },
      "source": [
        "def compute_mask(img):\n",
        "  #img iniziale [0,1]\n",
        "  img=np.array(img[0])\n",
        "  img=img.transpose(1,2,0)\n",
        "\n",
        "  #trasforma in gray\n",
        "  r, g, b = img[:,:,0], img[:,:,1], img[:,:,2]\n",
        "  gray = 0.2989 * r + 0.5870 * g + 0.1140 * b\n",
        "  #scala in [0,255]\n",
        "  gray = (gray - np.min(gray)) / (np.max(gray) - np.min(gray))\n",
        "  gray=gray*255\n",
        "  gray=gray.astype('uint8')\n",
        "  #calcola immagine binaria\n",
        "  ret, imgf = cv2.threshold(gray, 0,255, cv2.THRESH_BINARY_INV+cv2.THRESH_OTSU)\n",
        "\n",
        "  image_contours = np.zeros((imgf.shape[1],\n",
        "                            imgf.shape[0]),\n",
        "                            np.uint8)\n",
        "\n",
        "  image_binary = np.zeros((imgf.shape[1],\n",
        "                          imgf.shape[0]),\n",
        "                          np.uint8)\n",
        "\n",
        "  #cerca i contorni nell'immagine binaria\n",
        "  contours =cv2.findContours(imgf, cv2.RETR_TREE, cv2.CHAIN_APPROX_SIMPLE)[0]\n",
        "  cv2.drawContours(image_contours,\n",
        "                      contours, -1,\n",
        "                      (255,255), 3)\n",
        "\n",
        "  contours = cv2.findContours(image_contours, cv2.RETR_LIST,\n",
        "                            cv2.CHAIN_APPROX_SIMPLE)[0]\n",
        "  #disegna solo il contorno più esterno\n",
        "  cv2.drawContours(image_binary, [max(contours, key = cv2.contourArea)],\n",
        "                  -1, (255, 255),-1)\n",
        "  #restituisce immagine [0,1]\n",
        "  return ((image_binary-np.min(image_binary))/(np.max(image_binary)-np.min(image_binary)))"
      ],
      "execution_count": 20,
      "outputs": []
    },
    {
      "cell_type": "markdown",
      "metadata": {
        "id": "w_qc1J0y4Ucu"
      },
      "source": [
        "##Save/read"
      ]
    },
    {
      "cell_type": "code",
      "metadata": {
        "id": "bFrqikuV4WIb"
      },
      "source": [
        "def save_read(x):\n",
        "  print(\"valori img originale:\")\n",
        "  print(test_average(classifier,torch.Tensor(x).unsqueeze_(0)))\n",
        "  x=x.transpose(1,2,0)*255\n",
        "  #plt.imsave('prova.bmp',x)\n",
        "  cv2.imwrite('prova.png',x)\n",
        "  #plt.imshow(x)\n",
        "  #cv2_imshow(x)\n",
        "\n",
        "  x=cv2.imread('prova.png')\n",
        "  x=x/255\n",
        "  #x=plt.imread('prova.png')/255\n",
        "  #plt.imshow(prova_arr*255)\n",
        "  #cv2_imshow(x*255)\n",
        "  print(\"valori dopo salvataggio/lettura:\")\n",
        "  print(test_average(classifier,torch.Tensor(x.transpose(2,0,1)).unsqueeze_(0)))"
      ],
      "execution_count": 21,
      "outputs": []
    },
    {
      "cell_type": "markdown",
      "metadata": {
        "id": "DWxzZ1rGd5LY"
      },
      "source": [
        "##accuracy single class"
      ]
    },
    {
      "cell_type": "code",
      "metadata": {
        "id": "b5X2LDppd6bN"
      },
      "source": [
        "def accuracy_class(class_str,pd_class):\n",
        "  '''\n",
        "  class_str: string class\n",
        "  pd_class: dataframe\n",
        "  '''\n",
        "  n=np.sum(pd_class['real']==class_str)\n",
        "  print(\"# img\"+class_str+\": \"+str(n))\n",
        "\n",
        "  p=pd_class.loc[pd_class['real']==class_str]\n",
        "  p=p.loc[p['predicted']==p['real']]\n",
        "  n_class=p.count(0)[0]\n",
        "  print(\"Numero di predizioni \"+class_str+\" giuste: \"+str(n_class))\n",
        "  print(\"Accuracy : \"+str(round(n_class/n*100,2)))  "
      ],
      "execution_count": 22,
      "outputs": []
    },
    {
      "cell_type": "markdown",
      "metadata": {
        "id": "55yuMaawbgyt"
      },
      "source": [
        "##print accuracy"
      ]
    },
    {
      "cell_type": "code",
      "metadata": {
        "id": "Zit5EmQsbiHX"
      },
      "source": [
        "def print_acc(pd_preds):\n",
        "  '''\n",
        "  stampa accuracy usando il dataframe con le predizioni\n",
        "  pd_preds: dataframe\n",
        "  '''\n",
        "  true_label = pd_preds.real.values\n",
        "  predicted = pd_preds.predicted.values\n",
        "  accuracy=round((np.sum((true_label == predicted).astype(int)))/pd_preds.shape[0],4)*100\n",
        "  print(\"\\nAccuracy: {0}\".format(accuracy))\n",
        "  print(\"Shape dataframe: {0}\".format(pd_preds.shape)) "
      ],
      "execution_count": 23,
      "outputs": []
    },
    {
      "cell_type": "markdown",
      "metadata": {
        "id": "B-a_DqwJOULQ"
      },
      "source": [
        "##DeepFool"
      ]
    },
    {
      "cell_type": "code",
      "metadata": {
        "id": "FeswXkxiOULQ"
      },
      "source": [
        "from __future__ import absolute_import, division, print_function, unicode_literals\n",
        "\n",
        "import logging\n",
        "from typing import Optional, TYPE_CHECKING\n",
        "\n",
        "import numpy as np\n",
        "from tqdm.auto import trange\n",
        "\n",
        "from art.config import ART_NUMPY_DTYPE\n",
        "from art.estimators.estimator import BaseEstimator\n",
        "from art.estimators.classification.classifier import ClassGradientsMixin\n",
        "from art.attacks.attack import EvasionAttack\n",
        "from art.utils import compute_success, is_probability\n",
        "\n",
        "if TYPE_CHECKING:\n",
        "    from art.utils import CLASSIFIER_CLASS_LOSS_GRADIENTS_TYPE\n",
        "\n",
        "logger = logging.getLogger(__name__)\n",
        "\n",
        "\n",
        "class DeepFool_mod(EvasionAttack):\n",
        "    \"\"\"\n",
        "    Implementation of the attack from Moosavi-Dezfooli et al. (2015).\n",
        "    | Paper link: https://arxiv.org/abs/1511.04599\n",
        "    \"\"\"\n",
        "\n",
        "    attack_params = EvasionAttack.attack_params + [\n",
        "        \"max_iter\",\n",
        "        \"epsilon\",\n",
        "        \"nb_grads\",\n",
        "        \"class_target\",\n",
        "        \"confidence\",\n",
        "        \"max_over\",\n",
        "        \"batch_size\",\n",
        "        \"verbose\",\n",
        "    ]\n",
        "    _estimator_requirements = (BaseEstimator, ClassGradientsMixin)\n",
        "\n",
        "    def __init__(\n",
        "        self,\n",
        "        classifier: \"CLASSIFIER_CLASS_LOSS_GRADIENTS_TYPE\",\n",
        "        max_iter: int = 100,\n",
        "        epsilon: float = 1e-6,\n",
        "        nb_grads: int = 10,\n",
        "        class_target = 0,\n",
        "        confidence = 0.7,\n",
        "        max_over = 1,\n",
        "        batch_size: int = 1,\n",
        "        verbose: bool = True,\n",
        "    ) -> None:\n",
        "        \"\"\"\n",
        "        Create a DeepFool attack instance.\n",
        "        :param classifier: A trained classifier.\n",
        "        :param max_iter: The maximum number of iterations.\n",
        "        :param epsilon: Overshoot parameter.\n",
        "        :param nb_grads: The number of class gradients (top nb_grads w.r.t. prediction) to compute. This way only the\n",
        "                         most likely classes are considered, speeding up the computation.\n",
        "        :param class_target: classe da far predire.\n",
        "        :param confidence: probabilità minima con la quale predire class_target                         \n",
        "        :param max_over: numero massimo di volte che può applicare il parametro overshoot\n",
        "        :param batch_size: Batch size\n",
        "        :param verbose: Show progress bars.\n",
        "        \"\"\"\n",
        "        super().__init__(estimator=classifier)\n",
        "        self.max_iter = max_iter\n",
        "        self.epsilon = epsilon\n",
        "        self.nb_grads = nb_grads\n",
        "        self.class_target=class_target\n",
        "        self.confidence=confidence\n",
        "        self.batch_size = batch_size\n",
        "        self.max_over = max_over\n",
        "        self.verbose = verbose\n",
        "        self._check_params()\n",
        "        if self.estimator.clip_values is None:\n",
        "            logger.warning(\n",
        "                \"The `clip_values` attribute of the estimator is `None`, therefore this instance of DeepFool will by \"\n",
        "                \"default generate adversarial perturbations scaled for input values in the range [0, 1] but not clip \"\n",
        "                \"the adversarial example.\"\n",
        "            )\n",
        "\n",
        "    def generate(self, x: np.ndarray, y: Optional[np.ndarray] = None, **kwargs) -> np.ndarray:\n",
        "        \"\"\"\n",
        "        Generate adversarial samples and return them in an array.\n",
        "        :param x: An array with the original inputs to be attacked.\n",
        "        :param y: An array with the original labels to be predicted.\n",
        "        :return: An array holding the adversarial examples.\n",
        "        \"\"\"\n",
        "        x_adv = x.astype(ART_NUMPY_DTYPE)\n",
        "\n",
        "        #preds = self.estimator.predict(x, batch_size=self.batch_size)\n",
        "\n",
        "        class_pred,prob_preds,preds=test_average(self.estimator,torch.Tensor(x_adv))\n",
        "        preds=np.array(preds).reshape(1,2)\n",
        "\n",
        "        if self.estimator.nb_classes == 2 and preds.shape[1] == 1:\n",
        "            raise ValueError(\n",
        "                \"This attack has not yet been tested for binary classification with a single output classifier.\"\n",
        "            )\n",
        "\n",
        "        if is_probability(preds[0]):\n",
        "            logger.warning(\n",
        "                \"It seems that the attacked model is predicting probabilities. DeepFool expects logits as model output \"\n",
        "                \"to achieve its full attack strength.\"\n",
        "            )\n",
        "\n",
        "        # Determine the class labels for which to compute the gradients\n",
        "        use_grads_subset = self.nb_grads < self.estimator.nb_classes\n",
        "        if use_grads_subset:\n",
        "            # TODO compute set of unique labels per batch\n",
        "            grad_labels = np.argsort(-preds, axis=1)[:, : self.nb_grads]\n",
        "            labels_set = np.unique(grad_labels)\n",
        "        else:\n",
        "            labels_set = np.arange(self.estimator.nb_classes)\n",
        "        sorter = np.arange(len(labels_set))\n",
        "\n",
        "        # Pick a small scalar to avoid division by 0\n",
        "        tol = 10e-8\n",
        "\n",
        "        if ((class_pred==np.argmax(y, axis=1)) and (class_pred!= self.class_target)):\n",
        "            active=True\n",
        "        elif ((class_pred!=np.argmax(y, axis=1)) and (class_pred== self.class_target) and (np.max(prob_preds)<self.confidence)): \n",
        "            active=True\n",
        "        else:  active=False\n",
        "\n",
        "        if active: \n",
        "            x_adv=transf_resize(torch.Tensor(x_adv))\n",
        "            mask_mod=compute_mask(x_adv)\n",
        "            x_adv=np.array(x_adv)\n",
        "\n",
        "            x_init=transf_resize(torch.Tensor(x.astype(ART_NUMPY_DTYPE)))\n",
        "            x_init=np.array(x_init)\n",
        "\n",
        "        # Compute perturbation with implicit batching\n",
        "        for batch_id in trange(\n",
        "            int(np.ceil(x_adv.shape[0] / float(self.batch_size))), desc=\"DeepFool\", disable=not self.verbose\n",
        "        ):\n",
        "            batch_index_1, batch_index_2 = batch_id * self.batch_size, (batch_id + 1) * self.batch_size\n",
        "            batch = x_adv[batch_index_1:batch_index_2].copy()\n",
        "\n",
        "            # Get predictions and gradients for batch\n",
        "            #f_batch = preds[batch_index_1:batch_index_2] #predizioni\n",
        "            #fk_hat = np.argmax(f_batch, axis=1) #classe predetta\n",
        "            \n",
        "            batch_grd=np.array(trans_norm(torch.Tensor(batch)))\n",
        "            if use_grads_subset:\n",
        "                # Compute gradients only for top predicted classes\n",
        "                grd = np.array([self.estimator.class_gradient(batch_grd, label=_) for _ in labels_set])\n",
        "                grd = np.squeeze(np.swapaxes(grd, 0, 2), axis=0)\n",
        "            else:\n",
        "                # Compute gradients for all classes\n",
        "                grd = self.estimator.class_gradient(batch_grd)\n",
        "\n",
        "            # Get current predictions\n",
        "\n",
        "            #active_indices = np.arange(len(batch))\n",
        "            current_step = 0\n",
        "\n",
        "            while active==True and current_step < self.max_iter:\n",
        "                # Compute difference in predictions and gradients only for selected top predictions\n",
        "                labels_indices = sorter[np.searchsorted(labels_set, class_pred, sorter=sorter)]\n",
        "                grad_diff = (grd - grd[np.arange(len(grd)), labels_indices][:, None])*mask_mod\n",
        "                f_diff = preds[:,labels_set] - preds[np.arange(len(preds)), labels_indices][:, None]\n",
        "\n",
        "                # Choose coordinate and compute perturbation\n",
        "                norm = np.linalg.norm(grad_diff.reshape(len(grad_diff), len(labels_set), -1), axis=2) + tol\n",
        "                value = np.abs(f_diff) / norm\n",
        "                value[np.arange(len(value)), labels_indices] = np.inf\n",
        "                l_var = np.argmin(value, axis=1)\n",
        "                absolute1 = abs(f_diff[np.arange(len(f_diff)), l_var])\n",
        "                draddiff = grad_diff[np.arange(len(grad_diff)), l_var].reshape(len(grad_diff), -1)\n",
        "                pow1 = (\n",
        "                    pow(\n",
        "                        np.linalg.norm(draddiff, axis=1),\n",
        "                        2,\n",
        "                    )\n",
        "                    + tol\n",
        "                )\n",
        "                r_var = absolute1 / pow1\n",
        "                r_var = r_var.reshape((-1,) + (1,) * (len(x.shape) - 1))\n",
        "                r_var = r_var * grad_diff[np.arange(len(grad_diff)), l_var]\n",
        "                #print(\"pert\")\n",
        "                #plt.imshow(r_var[0].transpose(1,2,0)*255)\n",
        "                #plt.show()\n",
        "                r, g, b = r_var[0,0,:,:],r_var[0,1,:,:],r_var[0,2,:,:]\n",
        "                r_var = 0.2989 * r + 0.5870 * g + 0.1140 * b\n",
        "\n",
        "                # Add perturbation and clip result\n",
        "                if self.estimator.clip_values is not None:\n",
        "                    batch = np.clip(\n",
        "                        batch\n",
        "                        + r_var * (self.estimator.clip_values[1] - self.estimator.clip_values[0]),\n",
        "                        self.estimator.clip_values[0],\n",
        "                        self.estimator.clip_values[1]\n",
        "                    )\n",
        "                else:\n",
        "                    batch += r_var\n",
        "                batch=batch.astype(np.single)\n",
        "                # Recompute prediction for new x\n",
        "                class_pred_i,prob_preds,preds=test_average(self.estimator,torch.Tensor(batch))\n",
        "                preds=np.array(preds).reshape(1,2)\n",
        "                #f_batch = self.estimator.predict(batch)\n",
        "                #fk_i_hat = np.argmax(f_batch, axis=1)\n",
        "                \n",
        "                batch_grd=np.array(trans_norm(torch.Tensor(batch)))\n",
        "                # Recompute gradients for new x\n",
        "                if use_grads_subset:\n",
        "                    # Compute gradients only for (originally) top predicted classes\n",
        "                    grd = np.array([self.estimator.class_gradient(batch_grd, label=_) for _ in labels_set])\n",
        "                    grd = np.squeeze(np.swapaxes(grd, 0, 2), axis=0)\n",
        "                else:\n",
        "                    # Compute gradients for all classes\n",
        "                    grd = self.estimator.class_gradient(batch_grd)\n",
        "\n",
        "                # Stop if misclassification has been achieved\n",
        "                #active_indices = np.where(class_pred_i == class_pred)[0]\n",
        "                if ((class_pred_i==np.argmax(y, axis=1)) and (class_pred_i!= self.class_target)):\n",
        "                  active=True\n",
        "                elif ((class_pred_i!=np.argmax(y, axis=1)) and (class_pred_i== self.class_target) and (np.max(prob_preds)<self.confidence)): \n",
        "                  active=True\n",
        "                else:  active=False\n",
        "\n",
        "                current_step += 1\n",
        "            \n",
        "            ov_it=0\n",
        "            while active and ov_it<self.max_over:\n",
        "              x_adv2 = (1 + self.epsilon) * (batch - x_init)            \n",
        "              batch = x_init + x_adv2\n",
        "              if self.estimator.clip_values is not None:\n",
        "                  np.clip(\n",
        "                      batch,\n",
        "                      self.estimator.clip_values[0],\n",
        "                      self.estimator.clip_values[1],\n",
        "                      out=batch,\n",
        "                  )   \n",
        "              class_pred,prob_preds,preds=test_average(self.estimator,torch.Tensor(batch))\n",
        "              if ((class_pred==np.argmax(y, axis=1)) and (class_pred!= self.class_target)):\n",
        "                  active=True\n",
        "              elif ((class_pred!=np.argmax(y, axis=1)) and (class_pred== self.class_target) and (np.max(prob_preds)<self.confidence)): \n",
        "                  active=True\n",
        "              else:  active=False    \n",
        "              ov_it+=1\n",
        "              \n",
        "            x_adv=batch\n",
        "              \n",
        "        logger.info(\n",
        "            \"Success rate of DeepFool attack: %.2f%%\",\n",
        "            100 * compute_success(self.estimator, x, y, x_adv, batch_size=self.batch_size),\n",
        "        )\n",
        "        return x_adv\n",
        "\n",
        "    def _check_params(self) -> None:\n",
        "        if not isinstance(self.max_iter, (int, np.int)) or self.max_iter <= 0:\n",
        "            raise ValueError(\"The number of iterations must be a positive integer.\")\n",
        "\n",
        "        if not isinstance(self.nb_grads, (int, np.int)) or self.nb_grads <= 0:\n",
        "            raise ValueError(\"The number of class gradients to compute must be a positive integer.\")\n",
        "\n",
        "        if self.epsilon < 0:\n",
        "            raise ValueError(\"The overshoot parameter must not be negative.\")\n",
        "\n",
        "        if self.batch_size <= 0:\n",
        "            raise ValueError(\"The batch size `batch_size` has to be positive.\")\n",
        "\n",
        "        if not isinstance(self.verbose, bool):\n",
        "            raise ValueError(\"The argument `verbose` has to be of type bool.\")\n",
        "\n",
        "        if isinstance(self.class_target,int):\n",
        "            if self.class_target!=0 and self.class_target!=1:\n",
        "              raise ValueError(\"Attacco destinato alle impronte (0,1)\")\n",
        "        else: \n",
        "          raise ValueError(\"Class_target deve essere intero\")   \n",
        "\n",
        "        if isinstance(self.confidence,float):\n",
        "            if self.confidence <=0 or self.confidence >1:\n",
        "              raise ValueError(\"confidence deve essere compreso tra 0 e 1\")\n",
        "        else: \n",
        "          raise ValueError(\"confidence deve essere float\")\n",
        "\n",
        "        if isinstance(self.max_over,int):\n",
        "            if self.max_over <=0:\n",
        "              raise ValueError(\"max_over deve essere positivo\")\n",
        "        else: \n",
        "          raise ValueError(\"confidence deve essere int\")"
      ],
      "execution_count": 34,
      "outputs": []
    },
    {
      "cell_type": "markdown",
      "metadata": {
        "id": "O2z5CDqCOjhi"
      },
      "source": [
        "# **Esecuzione**"
      ]
    },
    {
      "cell_type": "markdown",
      "metadata": {
        "id": "OzZkC7HimlHT"
      },
      "source": [
        "##Creazione classificatore ART Pytorch\n",
        "\n"
      ]
    },
    {
      "cell_type": "code",
      "metadata": {
        "id": "AZL7c94zmlHU"
      },
      "source": [
        "from art.estimators.classification import PyTorchClassifier\n",
        "\n",
        "classifier = PyTorchClassifier(\n",
        "    model=model,\n",
        "    clip_values=(_min,_max),\n",
        "    loss=nn.CrossEntropyLoss(),\n",
        "    optimizer=optim.Adam(model.classifier.parameters(),lr=1e-5),\n",
        "    input_shape=(224, 224, 3),\n",
        "    nb_classes=class_number\n",
        ")"
      ],
      "execution_count": 25,
      "outputs": []
    },
    {
      "cell_type": "markdown",
      "metadata": {
        "id": "m10EkCq5GeEu"
      },
      "source": [
        "##Attacco"
      ]
    },
    {
      "cell_type": "code",
      "metadata": {
        "colab": {
          "base_uri": "https://localhost:8080/"
        },
        "id": "2yk7RwELGfM4",
        "outputId": "953065ee-5dfb-4949-d571-e75d21b922f2"
      },
      "source": [
        "from art.utils import to_categorical\n",
        "from PIL import Image, ImageFile\n",
        "ImageFile.LOAD_TRUNCATED_IMAGES = True\n",
        "import random\n",
        "# FGM\n",
        "attack = DeepFool_mod(classifier, epsilon=0.1,max_iter=50,nb_grads=2,class_target=classes_name.index('Live'),confidence=0.7,max_over=5,verbose=False)\n",
        "\n",
        "list_print=sorted(random.sample(range(dim_set),1))\n",
        "\n",
        "x_print=[]\n",
        "y_print=[]\n",
        "x_print_adv=[] \n",
        "y_print_adv=[] \n",
        "perturb_print=[]\n",
        "Test_p = pd.DataFrame()\n",
        "model.eval()\n",
        "model.cuda()\n",
        "\n",
        "i=0\n",
        "for input,label in testgen:\n",
        "  i+=1\n",
        "\n",
        "  sys.stdout.write(\"\\rElem: {0}/{1}\".format(i,len(testgen)))\n",
        "  sys.stdout.flush()\n",
        "\n",
        "  y_test=np.array((to_categorical(label.numpy(),2)))\n",
        "  x_test=np.array(input.numpy())\n",
        "  #cv2.imwrite(\"img_orig.png\",x_test[0].transpose(1,2,0)*255)\n",
        "\n",
        "  x_test_adv=attack.generate(x=x_test,y=y_test)\n",
        "  perturb=compute_perturb(x_test[0],x_test_adv[0])\n",
        "\n",
        "  #x_test_adv=x_test_adv[0,:,:,:]\n",
        "  #x_test_adv=(x_test_adv-np.min(x_test_adv))/(np.max(x_test_adv)-np.min(x_test_adv))\n",
        "  \n",
        "  x_test_adv=torch.Tensor(x_test_adv)\n",
        "  #x_test_adv=x_test_adv.unsqueeze_(0)\n",
        "  \n",
        "  if x_test_adv.shape[2]!=1000:\n",
        "    x_test_adv=transf_init(x_test_adv)\n",
        "\n",
        "  pred,probabilities,_=test_average(classifier,x_test_adv)\n",
        "  Test_p = Test_p.append({'real': classes_name[int(label)] ,\n",
        "                          'predicted': classes_name[pred], #qui metti pred\n",
        "                          'prob_live': round(probabilities[0],4),\n",
        "                          'prob_spoof': round(probabilities[1],4)},ignore_index = True)\n",
        "\n",
        "  #print\n",
        "  if i-1 in list_print:\n",
        "    x_print.append(x_test[0])\n",
        "    x_print_adv.append(x_test_adv[0].numpy())\n",
        "    y_print.append(y_test)\n",
        "    y_print_adv.append(probabilities)\n",
        "    perturb_print.append(perturb)\n",
        "\n",
        "x_print=np.array(x_print)\n",
        "y_print=np.array(y_print)\n",
        "x_print_adv=np.array(x_print_adv)\n",
        "y_print_adv=np.array(y_print_adv)\n",
        "perturb_print=np.array(perturb_print)"
      ],
      "execution_count": 35,
      "outputs": [
        {
          "output_type": "stream",
          "name": "stdout",
          "text": [
            "\rElem: 1/1"
          ]
        }
      ]
    },
    {
      "cell_type": "markdown",
      "metadata": {
        "id": "ZFKEoI-enb8L"
      },
      "source": [
        "##Testing\n",
        "\n",
        "> Trasforma i due testing in una funzione e richiamala due volte\n",
        "\n"
      ]
    },
    {
      "cell_type": "markdown",
      "metadata": {
        "id": "1MmzfXhFt40W"
      },
      "source": [
        "###Print accuracy test orig from file & load pd"
      ]
    },
    {
      "cell_type": "code",
      "metadata": {
        "id": "DSOr1z85vhl7",
        "colab": {
          "base_uri": "https://localhost:8080/"
        },
        "outputId": "378230e2-ef5b-43f2-b901-2165af86c206"
      },
      "source": [
        "Test_orig=pd.read_excel(pd_preds)\n",
        "print_acc(Test_orig) "
      ],
      "execution_count": 36,
      "outputs": [
        {
          "output_type": "stream",
          "name": "stdout",
          "text": [
            "\n",
            "Accuracy: 93.76\n",
            "Shape dataframe: (2500, 4)\n"
          ]
        }
      ]
    },
    {
      "cell_type": "markdown",
      "metadata": {
        "id": "xRmjrhHYsVsN"
      },
      "source": [
        "###Testing immagini spoof predette live prima e dopo"
      ]
    },
    {
      "cell_type": "markdown",
      "metadata": {
        "id": "zGuElPEOW3dZ"
      },
      "source": [
        "####Accuracy adv"
      ]
    },
    {
      "cell_type": "code",
      "metadata": {
        "colab": {
          "base_uri": "https://localhost:8080/"
        },
        "id": "Gp0jAIC-W5zC",
        "outputId": "9d55d2f7-231f-4076-84c9-3a19c3c0681f"
      },
      "source": [
        "print_acc(Test_p)"
      ],
      "execution_count": 37,
      "outputs": [
        {
          "output_type": "stream",
          "name": "stdout",
          "text": [
            "\n",
            "Accuracy: 0.0\n",
            "Shape dataframe: (1, 4)\n"
          ]
        }
      ]
    },
    {
      "cell_type": "markdown",
      "metadata": {
        "id": "uyLoc2K6V_ar"
      },
      "source": [
        "####Spoof"
      ]
    },
    {
      "cell_type": "markdown",
      "metadata": {
        "id": "J0SfSelFK2dl"
      },
      "source": [
        "prima"
      ]
    },
    {
      "cell_type": "code",
      "metadata": {
        "id": "DsNqIDAxsZBA",
        "colab": {
          "base_uri": "https://localhost:8080/"
        },
        "outputId": "cdb3bfb7-9488-48c5-abe7-2f8349059ba6"
      },
      "source": [
        "accuracy_class('Spoof',Test_orig)"
      ],
      "execution_count": 38,
      "outputs": [
        {
          "output_type": "stream",
          "name": "stdout",
          "text": [
            "# imgSpoof: 1500\n",
            "Numero di predizioni Spoof giuste: 1460\n",
            "Accuracy : 97.33\n"
          ]
        }
      ]
    },
    {
      "cell_type": "markdown",
      "metadata": {
        "id": "AciVwgFyK3Xc"
      },
      "source": [
        "dopo"
      ]
    },
    {
      "cell_type": "code",
      "metadata": {
        "id": "E2xU5gUQuy7y",
        "colab": {
          "base_uri": "https://localhost:8080/"
        },
        "outputId": "0cb1683b-03ca-4d85-f0b6-8d96fbb1d170"
      },
      "source": [
        "accuracy_class('Spoof',Test_p)"
      ],
      "execution_count": 39,
      "outputs": [
        {
          "output_type": "stream",
          "name": "stdout",
          "text": [
            "# imgSpoof: 1\n",
            "Numero di predizioni Spoof giuste: 0\n",
            "Accuracy : 0.0\n"
          ]
        }
      ]
    },
    {
      "cell_type": "markdown",
      "metadata": {
        "id": "a4Q78IIqWCTI"
      },
      "source": [
        "####Live"
      ]
    },
    {
      "cell_type": "markdown",
      "metadata": {
        "id": "rtPKGqzEWCTI"
      },
      "source": [
        "prima"
      ]
    },
    {
      "cell_type": "code",
      "metadata": {
        "colab": {
          "base_uri": "https://localhost:8080/"
        },
        "id": "AtB5Te35WCTJ",
        "outputId": "9569d3d7-ecd4-489a-c743-e7716d8edf24"
      },
      "source": [
        "accuracy_class('Live',Test_orig)"
      ],
      "execution_count": 40,
      "outputs": [
        {
          "output_type": "stream",
          "name": "stdout",
          "text": [
            "# imgLive: 1000\n",
            "Numero di predizioni Live giuste: 884\n",
            "Accuracy : 88.4\n"
          ]
        }
      ]
    },
    {
      "cell_type": "markdown",
      "metadata": {
        "id": "e3VNm1BCWCTJ"
      },
      "source": [
        "dopo"
      ]
    },
    {
      "cell_type": "code",
      "metadata": {
        "colab": {
          "base_uri": "https://localhost:8080/"
        },
        "id": "ssG-LK1zWCTJ",
        "outputId": "9bb7091f-2458-4f77-8265-eca143c4145d"
      },
      "source": [
        "accuracy_class('Live',Test_p)"
      ],
      "execution_count": 41,
      "outputs": [
        {
          "output_type": "stream",
          "name": "stdout",
          "text": [
            "# imgLive: 0\n",
            "Numero di predizioni Live giuste: 0\n",
            "Accuracy : nan\n"
          ]
        },
        {
          "output_type": "stream",
          "name": "stderr",
          "text": [
            "/usr/local/lib/python3.7/dist-packages/ipykernel_launcher.py:13: RuntimeWarning: invalid value encountered in long_scalars\n",
            "  del sys.path[0]\n"
          ]
        }
      ]
    },
    {
      "cell_type": "markdown",
      "metadata": {
        "id": "MMl35zPf3mlm"
      },
      "source": [
        "####numero img spoof predette live con prob >70%"
      ]
    },
    {
      "cell_type": "code",
      "metadata": {
        "id": "JSN-zFU23r6J",
        "colab": {
          "base_uri": "https://localhost:8080/"
        },
        "outputId": "d78ff759-562d-4146-fd2a-7ec0dba6c07e"
      },
      "source": [
        "p=Test_p.loc[Test_p['real']=='Spoof']\n",
        "p=p.loc[p['predicted']=='Live']\n",
        "print(\"img spoof-live: \"+str(p.count(0)[0]))\n",
        "p=p.loc[p['prob_live']>=0.7]\n",
        "print(\"img con prob_live>70%: \"+str(p.count(0)[0]))"
      ],
      "execution_count": 42,
      "outputs": [
        {
          "output_type": "stream",
          "name": "stdout",
          "text": [
            "img spoof-live: 1\n",
            "img con prob_live>70%: 1\n"
          ]
        }
      ]
    },
    {
      "cell_type": "markdown",
      "metadata": {
        "id": "ppH0s3Ov618F"
      },
      "source": [
        "##subplot"
      ]
    },
    {
      "cell_type": "markdown",
      "metadata": {
        "id": "Jr0m-v0meeS2"
      },
      "source": [
        "###test finale"
      ]
    },
    {
      "cell_type": "code",
      "metadata": {
        "id": "qSs9SSpU7xgV"
      },
      "source": [
        "#da usare nel test finale\n",
        "preds_orig=Test_orig[1000:].predicted.values[list_print]\n",
        "print(preds_orig)\n",
        "print_subplot(perturb_print,x_print,y_print,preds_orig,x_print_adv,y_print_adv,normalize=False)"
      ],
      "execution_count": null,
      "outputs": []
    },
    {
      "cell_type": "markdown",
      "metadata": {
        "id": "LGRODgf-egr4"
      },
      "source": [
        "###dataset ridotto"
      ]
    },
    {
      "cell_type": "code",
      "metadata": {
        "id": "YFV6X6RZ6ZA7",
        "colab": {
          "base_uri": "https://localhost:8080/",
          "height": 437
        },
        "outputId": "687c99ea-066d-4375-ae28-f3490623f818"
      },
      "source": [
        "#da usare solo con dataset ridotto\n",
        "preds_orig=[]\n",
        "for input,_ in testgen:\n",
        "  preds_orig_i,_,_=test_average(classifier,input)\n",
        "  preds_orig.append(preds_orig_i)\n",
        "preds_orig=np.array(preds_orig)\n",
        "preds_orig=preds_orig[list_print]\n",
        "print_subplot(perturb_print,x_print,y_print,preds_orig,x_print_adv,y_print_adv)"
      ],
      "execution_count": 43,
      "outputs": [
        {
          "output_type": "stream",
          "name": "stdout",
          "text": [
            "\u001b[1mIMMAGINE \u001b[1m 0\n"
          ]
        },
        {
          "output_type": "display_data",
          "data": {
            "image/png": "[encoded data removed]",
            "text/plain": [
              "<Figure size 1440x1440 with 3 Axes>"
            ]
          },
          "metadata": {
            "needs_background": "light"
          }
        }
      ]
    },
    {
      "cell_type": "markdown",
      "metadata": {
        "id": "S-bsx7fXWquY"
      },
      "source": [
        "#salvataggio e lettura immagine"
      ]
    },
    {
      "cell_type": "code",
      "metadata": {
        "colab": {
          "base_uri": "https://localhost:8080/"
        },
        "id": "fnV-dDcP3euu",
        "outputId": "62f09ee7-f183-4292-fbdc-b2e114fe131a"
      },
      "source": [
        "save_read(x_print_adv[0])"
      ],
      "execution_count": 44,
      "outputs": [
        {
          "output_type": "stream",
          "name": "stdout",
          "text": [
            "valori img originale:\n",
            "(0, array([0.7451133, 0.2548867], dtype=float32), [0.7792326867580414, -0.29348459243774416])\n",
            "valori dopo salvataggio/lettura:\n",
            "(0, array([0.7499449 , 0.25005504], dtype=float32), [0.7920611053705215, -0.3062576174736023])\n"
          ]
        }
      ]
    }
  ]
}