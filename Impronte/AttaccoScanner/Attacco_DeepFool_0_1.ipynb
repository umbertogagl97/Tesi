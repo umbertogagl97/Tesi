{
  "nbformat": 4,
  "nbformat_minor": 0,
  "metadata": {
    "colab": {
      "name": "Attacco_DeepFool_0_1.ipynb",
      "provenance": [],
      "collapsed_sections": [
        "lcoLiAGAtqBh",
        "OHENSlCXxzcr",
        "nGmEBN4oxqUO",
        "pIqUXUmoA541",
        "WApYIVcnU9sq",
        "-ycpjmyb4Cxe",
        "dherpFOH0Uau",
        "5X10jetEyAax",
        "fETy1V2abbWo",
        "_miDmRukbbWq",
        "AJ_O-UAECNMk",
        "9XepXK-ny3XN",
        "PBSyijWDqY4-",
        "O_c2L3v0r2xG",
        "P3kr1yAn2UBl",
        "0OdO07YuUOFS",
        "Q64Z8X5mzAZ1",
        "JmyIKi7XvvSf",
        "kJ6xDO5GGZY5",
        "OVSi44LIk0TX",
        "Sm63-OLUwGE-",
        "EDEx25LerL5R",
        "OzZkC7HimlHT",
        "ZFKEoI-enb8L",
        "S-bsx7fXWquY"
      ],
      "machine_shape": "hm",
      "include_colab_link": true
    },
    "kernelspec": {
      "name": "python3",
      "display_name": "Python 3"
    },
    "language_info": {
      "name": "python"
    },
    "accelerator": "GPU",
    "widgets": {
      "application/vnd.jupyter.widget-state+json": {
        "fea124768f0048ec864331ef134806a2": {
          "model_module": "@jupyter-widgets/controls",
          "model_name": "HBoxModel",
          "model_module_version": "1.5.0",
          "state": {
            "_view_name": "HBoxView",
            "_dom_classes": [],
            "_model_name": "HBoxModel",
            "_view_module": "@jupyter-widgets/controls",
            "_model_module_version": "1.5.0",
            "_view_count": null,
            "_view_module_version": "1.5.0",
            "box_style": "",
            "layout": "IPY_MODEL_1ee749b7dd37426f944d9548db34fc14",
            "_model_module": "@jupyter-widgets/controls",
            "children": [
              "IPY_MODEL_915f572386ee4b9abba1340ff85e34fd",
              "IPY_MODEL_02cea4f3b0d24e3da3e06329f6b16eab",
              "IPY_MODEL_7d501778eb964ed2bbdc288992760a9b"
            ]
          }
        },
        "1ee749b7dd37426f944d9548db34fc14": {
          "model_module": "@jupyter-widgets/base",
          "model_name": "LayoutModel",
          "model_module_version": "1.2.0",
          "state": {
            "_view_name": "LayoutView",
            "grid_template_rows": null,
            "right": null,
            "justify_content": null,
            "_view_module": "@jupyter-widgets/base",
            "overflow": null,
            "_model_module_version": "1.2.0",
            "_view_count": null,
            "flex_flow": null,
            "width": null,
            "min_width": null,
            "border": null,
            "align_items": null,
            "bottom": null,
            "_model_module": "@jupyter-widgets/base",
            "top": null,
            "grid_column": null,
            "overflow_y": null,
            "overflow_x": null,
            "grid_auto_flow": null,
            "grid_area": null,
            "grid_template_columns": null,
            "flex": null,
            "_model_name": "LayoutModel",
            "justify_items": null,
            "grid_row": null,
            "max_height": null,
            "align_content": null,
            "visibility": null,
            "align_self": null,
            "height": null,
            "min_height": null,
            "padding": null,
            "grid_auto_rows": null,
            "grid_gap": null,
            "max_width": null,
            "order": null,
            "_view_module_version": "1.2.0",
            "grid_template_areas": null,
            "object_position": null,
            "object_fit": null,
            "grid_auto_columns": null,
            "margin": null,
            "display": null,
            "left": null
          }
        },
        "915f572386ee4b9abba1340ff85e34fd": {
          "model_module": "@jupyter-widgets/controls",
          "model_name": "HTMLModel",
          "model_module_version": "1.5.0",
          "state": {
            "_view_name": "HTMLView",
            "style": "IPY_MODEL_79a0d1795b064ddba7da6e24376fee78",
            "_dom_classes": [],
            "description": "",
            "_model_name": "HTMLModel",
            "placeholder": "​",
            "_view_module": "@jupyter-widgets/controls",
            "_model_module_version": "1.5.0",
            "value": "100%",
            "_view_count": null,
            "_view_module_version": "1.5.0",
            "description_tooltip": null,
            "_model_module": "@jupyter-widgets/controls",
            "layout": "IPY_MODEL_37621357296a43ef87f81ef3836c9064"
          }
        },
        "02cea4f3b0d24e3da3e06329f6b16eab": {
          "model_module": "@jupyter-widgets/controls",
          "model_name": "FloatProgressModel",
          "model_module_version": "1.5.0",
          "state": {
            "_view_name": "ProgressView",
            "style": "IPY_MODEL_ee4fb2082e44403da9712df6499fb727",
            "_dom_classes": [],
            "description": "",
            "_model_name": "FloatProgressModel",
            "bar_style": "success",
            "max": 574673361,
            "_view_module": "@jupyter-widgets/controls",
            "_model_module_version": "1.5.0",
            "value": 574673361,
            "_view_count": null,
            "_view_module_version": "1.5.0",
            "orientation": "horizontal",
            "min": 0,
            "description_tooltip": null,
            "_model_module": "@jupyter-widgets/controls",
            "layout": "IPY_MODEL_10b014c832924f128c556bd863e233c1"
          }
        },
        "7d501778eb964ed2bbdc288992760a9b": {
          "model_module": "@jupyter-widgets/controls",
          "model_name": "HTMLModel",
          "model_module_version": "1.5.0",
          "state": {
            "_view_name": "HTMLView",
            "style": "IPY_MODEL_7210f8395e3446819f701d0c11eed42a",
            "_dom_classes": [],
            "description": "",
            "_model_name": "HTMLModel",
            "placeholder": "​",
            "_view_module": "@jupyter-widgets/controls",
            "_model_module_version": "1.5.0",
            "value": " 548M/548M [00:03&lt;00:00, 184MB/s]",
            "_view_count": null,
            "_view_module_version": "1.5.0",
            "description_tooltip": null,
            "_model_module": "@jupyter-widgets/controls",
            "layout": "IPY_MODEL_415f1e3dfc2144eaad74afc0d3a5999d"
          }
        },
        "79a0d1795b064ddba7da6e24376fee78": {
          "model_module": "@jupyter-widgets/controls",
          "model_name": "DescriptionStyleModel",
          "model_module_version": "1.5.0",
          "state": {
            "_view_name": "StyleView",
            "_model_name": "DescriptionStyleModel",
            "description_width": "",
            "_view_module": "@jupyter-widgets/base",
            "_model_module_version": "1.5.0",
            "_view_count": null,
            "_view_module_version": "1.2.0",
            "_model_module": "@jupyter-widgets/controls"
          }
        },
        "37621357296a43ef87f81ef3836c9064": {
          "model_module": "@jupyter-widgets/base",
          "model_name": "LayoutModel",
          "model_module_version": "1.2.0",
          "state": {
            "_view_name": "LayoutView",
            "grid_template_rows": null,
            "right": null,
            "justify_content": null,
            "_view_module": "@jupyter-widgets/base",
            "overflow": null,
            "_model_module_version": "1.2.0",
            "_view_count": null,
            "flex_flow": null,
            "width": null,
            "min_width": null,
            "border": null,
            "align_items": null,
            "bottom": null,
            "_model_module": "@jupyter-widgets/base",
            "top": null,
            "grid_column": null,
            "overflow_y": null,
            "overflow_x": null,
            "grid_auto_flow": null,
            "grid_area": null,
            "grid_template_columns": null,
            "flex": null,
            "_model_name": "LayoutModel",
            "justify_items": null,
            "grid_row": null,
            "max_height": null,
            "align_content": null,
            "visibility": null,
            "align_self": null,
            "height": null,
            "min_height": null,
            "padding": null,
            "grid_auto_rows": null,
            "grid_gap": null,
            "max_width": null,
            "order": null,
            "_view_module_version": "1.2.0",
            "grid_template_areas": null,
            "object_position": null,
            "object_fit": null,
            "grid_auto_columns": null,
            "margin": null,
            "display": null,
            "left": null
          }
        },
        "ee4fb2082e44403da9712df6499fb727": {
          "model_module": "@jupyter-widgets/controls",
          "model_name": "ProgressStyleModel",
          "model_module_version": "1.5.0",
          "state": {
            "_view_name": "StyleView",
            "_model_name": "ProgressStyleModel",
            "description_width": "",
            "_view_module": "@jupyter-widgets/base",
            "_model_module_version": "1.5.0",
            "_view_count": null,
            "_view_module_version": "1.2.0",
            "bar_color": null,
            "_model_module": "@jupyter-widgets/controls"
          }
        },
        "10b014c832924f128c556bd863e233c1": {
          "model_module": "@jupyter-widgets/base",
          "model_name": "LayoutModel",
          "model_module_version": "1.2.0",
          "state": {
            "_view_name": "LayoutView",
            "grid_template_rows": null,
            "right": null,
            "justify_content": null,
            "_view_module": "@jupyter-widgets/base",
            "overflow": null,
            "_model_module_version": "1.2.0",
            "_view_count": null,
            "flex_flow": null,
            "width": null,
            "min_width": null,
            "border": null,
            "align_items": null,
            "bottom": null,
            "_model_module": "@jupyter-widgets/base",
            "top": null,
            "grid_column": null,
            "overflow_y": null,
            "overflow_x": null,
            "grid_auto_flow": null,
            "grid_area": null,
            "grid_template_columns": null,
            "flex": null,
            "_model_name": "LayoutModel",
            "justify_items": null,
            "grid_row": null,
            "max_height": null,
            "align_content": null,
            "visibility": null,
            "align_self": null,
            "height": null,
            "min_height": null,
            "padding": null,
            "grid_auto_rows": null,
            "grid_gap": null,
            "max_width": null,
            "order": null,
            "_view_module_version": "1.2.0",
            "grid_template_areas": null,
            "object_position": null,
            "object_fit": null,
            "grid_auto_columns": null,
            "margin": null,
            "display": null,
            "left": null
          }
        },
        "7210f8395e3446819f701d0c11eed42a": {
          "model_module": "@jupyter-widgets/controls",
          "model_name": "DescriptionStyleModel",
          "model_module_version": "1.5.0",
          "state": {
            "_view_name": "StyleView",
            "_model_name": "DescriptionStyleModel",
            "description_width": "",
            "_view_module": "@jupyter-widgets/base",
            "_model_module_version": "1.5.0",
            "_view_count": null,
            "_view_module_version": "1.2.0",
            "_model_module": "@jupyter-widgets/controls"
          }
        },
        "415f1e3dfc2144eaad74afc0d3a5999d": {
          "model_module": "@jupyter-widgets/base",
          "model_name": "LayoutModel",
          "model_module_version": "1.2.0",
          "state": {
            "_view_name": "LayoutView",
            "grid_template_rows": null,
            "right": null,
            "justify_content": null,
            "_view_module": "@jupyter-widgets/base",
            "overflow": null,
            "_model_module_version": "1.2.0",
            "_view_count": null,
            "flex_flow": null,
            "width": null,
            "min_width": null,
            "border": null,
            "align_items": null,
            "bottom": null,
            "_model_module": "@jupyter-widgets/base",
            "top": null,
            "grid_column": null,
            "overflow_y": null,
            "overflow_x": null,
            "grid_auto_flow": null,
            "grid_area": null,
            "grid_template_columns": null,
            "flex": null,
            "_model_name": "LayoutModel",
            "justify_items": null,
            "grid_row": null,
            "max_height": null,
            "align_content": null,
            "visibility": null,
            "align_self": null,
            "height": null,
            "min_height": null,
            "padding": null,
            "grid_auto_rows": null,
            "grid_gap": null,
            "max_width": null,
            "order": null,
            "_view_module_version": "1.2.0",
            "grid_template_areas": null,
            "object_position": null,
            "object_fit": null,
            "grid_auto_columns": null,
            "margin": null,
            "display": null,
            "left": null
          }
        }
      }
    }
  },
  "cells": [
    {
      "cell_type": "markdown",
      "metadata": {
        "id": "view-in-github",
        "colab_type": "text"
      },
      "source": [
        "<a href=\"https://colab.research.google.com/github/umbertogagl97/Tesi/blob/main/Impronte/AttaccoScanner/Attacco_DeepFool_0_1.ipynb\" target=\"_parent\"><img src=\"https://colab.research.google.com/assets/colab-badge.svg\" alt=\"Open In Colab\"/></a>"
      ]
    },
    {
      "cell_type": "markdown",
      "metadata": {
        "id": "lcoLiAGAtqBh"
      },
      "source": [
        "# **Init**"
      ]
    },
    {
      "cell_type": "markdown",
      "metadata": {
        "id": "OHENSlCXxzcr"
      },
      "source": [
        "##Import ART"
      ]
    },
    {
      "cell_type": "code",
      "metadata": {
        "id": "hIKN5Oqa-i6u",
        "colab": {
          "base_uri": "https://localhost:8080/"
        },
        "outputId": "c9cd0f4f-749e-4055-8684-223696773974"
      },
      "source": [
        "#importa ART\n",
        "!pip install adversarial-robustness-toolbox"
      ],
      "execution_count": 1,
      "outputs": [
        {
          "output_type": "stream",
          "name": "stdout",
          "text": [
            "Collecting adversarial-robustness-toolbox\n",
            "  Downloading adversarial_robustness_toolbox-1.8.1-py3-none-any.whl (1.1 MB)\n",
            "\u001b[?25l\r\u001b[K     |▎                               | 10 kB 35.6 MB/s eta 0:00:01\r\u001b[K     |▋                               | 20 kB 25.9 MB/s eta 0:00:01\r\u001b[K     |█                               | 30 kB 12.7 MB/s eta 0:00:01\r\u001b[K     |█▏                              | 40 kB 10.1 MB/s eta 0:00:01\r\u001b[K     |█▌                              | 51 kB 4.4 MB/s eta 0:00:01\r\u001b[K     |█▉                              | 61 kB 4.6 MB/s eta 0:00:01\r\u001b[K     |██                              | 71 kB 4.5 MB/s eta 0:00:01\r\u001b[K     |██▍                             | 81 kB 5.1 MB/s eta 0:00:01\r\u001b[K     |██▊                             | 92 kB 5.0 MB/s eta 0:00:01\r\u001b[K     |███                             | 102 kB 4.3 MB/s eta 0:00:01\r\u001b[K     |███▎                            | 112 kB 4.3 MB/s eta 0:00:01\r\u001b[K     |███▋                            | 122 kB 4.3 MB/s eta 0:00:01\r\u001b[K     |███▉                            | 133 kB 4.3 MB/s eta 0:00:01\r\u001b[K     |████▏                           | 143 kB 4.3 MB/s eta 0:00:01\r\u001b[K     |████▌                           | 153 kB 4.3 MB/s eta 0:00:01\r\u001b[K     |████▊                           | 163 kB 4.3 MB/s eta 0:00:01\r\u001b[K     |█████                           | 174 kB 4.3 MB/s eta 0:00:01\r\u001b[K     |█████▍                          | 184 kB 4.3 MB/s eta 0:00:01\r\u001b[K     |█████▋                          | 194 kB 4.3 MB/s eta 0:00:01\r\u001b[K     |██████                          | 204 kB 4.3 MB/s eta 0:00:01\r\u001b[K     |██████▎                         | 215 kB 4.3 MB/s eta 0:00:01\r\u001b[K     |██████▌                         | 225 kB 4.3 MB/s eta 0:00:01\r\u001b[K     |██████▉                         | 235 kB 4.3 MB/s eta 0:00:01\r\u001b[K     |███████▏                        | 245 kB 4.3 MB/s eta 0:00:01\r\u001b[K     |███████▍                        | 256 kB 4.3 MB/s eta 0:00:01\r\u001b[K     |███████▊                        | 266 kB 4.3 MB/s eta 0:00:01\r\u001b[K     |████████                        | 276 kB 4.3 MB/s eta 0:00:01\r\u001b[K     |████████▎                       | 286 kB 4.3 MB/s eta 0:00:01\r\u001b[K     |████████▋                       | 296 kB 4.3 MB/s eta 0:00:01\r\u001b[K     |█████████                       | 307 kB 4.3 MB/s eta 0:00:01\r\u001b[K     |█████████▏                      | 317 kB 4.3 MB/s eta 0:00:01\r\u001b[K     |█████████▌                      | 327 kB 4.3 MB/s eta 0:00:01\r\u001b[K     |█████████▉                      | 337 kB 4.3 MB/s eta 0:00:01\r\u001b[K     |██████████                      | 348 kB 4.3 MB/s eta 0:00:01\r\u001b[K     |██████████▍                     | 358 kB 4.3 MB/s eta 0:00:01\r\u001b[K     |██████████▊                     | 368 kB 4.3 MB/s eta 0:00:01\r\u001b[K     |███████████                     | 378 kB 4.3 MB/s eta 0:00:01\r\u001b[K     |███████████▎                    | 389 kB 4.3 MB/s eta 0:00:01\r\u001b[K     |███████████▋                    | 399 kB 4.3 MB/s eta 0:00:01\r\u001b[K     |███████████▉                    | 409 kB 4.3 MB/s eta 0:00:01\r\u001b[K     |████████████▏                   | 419 kB 4.3 MB/s eta 0:00:01\r\u001b[K     |████████████▌                   | 430 kB 4.3 MB/s eta 0:00:01\r\u001b[K     |████████████▊                   | 440 kB 4.3 MB/s eta 0:00:01\r\u001b[K     |█████████████                   | 450 kB 4.3 MB/s eta 0:00:01\r\u001b[K     |█████████████▍                  | 460 kB 4.3 MB/s eta 0:00:01\r\u001b[K     |█████████████▋                  | 471 kB 4.3 MB/s eta 0:00:01\r\u001b[K     |██████████████                  | 481 kB 4.3 MB/s eta 0:00:01\r\u001b[K     |██████████████▎                 | 491 kB 4.3 MB/s eta 0:00:01\r\u001b[K     |██████████████▌                 | 501 kB 4.3 MB/s eta 0:00:01\r\u001b[K     |██████████████▉                 | 512 kB 4.3 MB/s eta 0:00:01\r\u001b[K     |███████████████▏                | 522 kB 4.3 MB/s eta 0:00:01\r\u001b[K     |███████████████▍                | 532 kB 4.3 MB/s eta 0:00:01\r\u001b[K     |███████████████▊                | 542 kB 4.3 MB/s eta 0:00:01\r\u001b[K     |████████████████                | 552 kB 4.3 MB/s eta 0:00:01\r\u001b[K     |████████████████▎               | 563 kB 4.3 MB/s eta 0:00:01\r\u001b[K     |████████████████▋               | 573 kB 4.3 MB/s eta 0:00:01\r\u001b[K     |█████████████████               | 583 kB 4.3 MB/s eta 0:00:01\r\u001b[K     |█████████████████▏              | 593 kB 4.3 MB/s eta 0:00:01\r\u001b[K     |█████████████████▌              | 604 kB 4.3 MB/s eta 0:00:01\r\u001b[K     |█████████████████▉              | 614 kB 4.3 MB/s eta 0:00:01\r\u001b[K     |██████████████████              | 624 kB 4.3 MB/s eta 0:00:01\r\u001b[K     |██████████████████▍             | 634 kB 4.3 MB/s eta 0:00:01\r\u001b[K     |██████████████████▊             | 645 kB 4.3 MB/s eta 0:00:01\r\u001b[K     |███████████████████             | 655 kB 4.3 MB/s eta 0:00:01\r\u001b[K     |███████████████████▎            | 665 kB 4.3 MB/s eta 0:00:01\r\u001b[K     |███████████████████▋            | 675 kB 4.3 MB/s eta 0:00:01\r\u001b[K     |███████████████████▉            | 686 kB 4.3 MB/s eta 0:00:01\r\u001b[K     |████████████████████▏           | 696 kB 4.3 MB/s eta 0:00:01\r\u001b[K     |████████████████████▌           | 706 kB 4.3 MB/s eta 0:00:01\r\u001b[K     |████████████████████▊           | 716 kB 4.3 MB/s eta 0:00:01\r\u001b[K     |█████████████████████           | 727 kB 4.3 MB/s eta 0:00:01\r\u001b[K     |█████████████████████▍          | 737 kB 4.3 MB/s eta 0:00:01\r\u001b[K     |█████████████████████▋          | 747 kB 4.3 MB/s eta 0:00:01\r\u001b[K     |██████████████████████          | 757 kB 4.3 MB/s eta 0:00:01\r\u001b[K     |██████████████████████▎         | 768 kB 4.3 MB/s eta 0:00:01\r\u001b[K     |██████████████████████▌         | 778 kB 4.3 MB/s eta 0:00:01\r\u001b[K     |██████████████████████▉         | 788 kB 4.3 MB/s eta 0:00:01\r\u001b[K     |███████████████████████▏        | 798 kB 4.3 MB/s eta 0:00:01\r\u001b[K     |███████████████████████▍        | 808 kB 4.3 MB/s eta 0:00:01\r\u001b[K     |███████████████████████▊        | 819 kB 4.3 MB/s eta 0:00:01\r\u001b[K     |████████████████████████        | 829 kB 4.3 MB/s eta 0:00:01\r\u001b[K     |████████████████████████▎       | 839 kB 4.3 MB/s eta 0:00:01\r\u001b[K     |████████████████████████▋       | 849 kB 4.3 MB/s eta 0:00:01\r\u001b[K     |█████████████████████████       | 860 kB 4.3 MB/s eta 0:00:01\r\u001b[K     |█████████████████████████▏      | 870 kB 4.3 MB/s eta 0:00:01\r\u001b[K     |█████████████████████████▌      | 880 kB 4.3 MB/s eta 0:00:01\r\u001b[K     |█████████████████████████▉      | 890 kB 4.3 MB/s eta 0:00:01\r\u001b[K     |██████████████████████████      | 901 kB 4.3 MB/s eta 0:00:01\r\u001b[K     |██████████████████████████▍     | 911 kB 4.3 MB/s eta 0:00:01\r\u001b[K     |██████████████████████████▊     | 921 kB 4.3 MB/s eta 0:00:01\r\u001b[K     |███████████████████████████     | 931 kB 4.3 MB/s eta 0:00:01\r\u001b[K     |███████████████████████████▎    | 942 kB 4.3 MB/s eta 0:00:01\r\u001b[K     |███████████████████████████▋    | 952 kB 4.3 MB/s eta 0:00:01\r\u001b[K     |████████████████████████████    | 962 kB 4.3 MB/s eta 0:00:01\r\u001b[K     |████████████████████████████▏   | 972 kB 4.3 MB/s eta 0:00:01\r\u001b[K     |████████████████████████████▌   | 983 kB 4.3 MB/s eta 0:00:01\r\u001b[K     |████████████████████████████▉   | 993 kB 4.3 MB/s eta 0:00:01\r\u001b[K     |█████████████████████████████   | 1.0 MB 4.3 MB/s eta 0:00:01\r\u001b[K     |█████████████████████████████▍  | 1.0 MB 4.3 MB/s eta 0:00:01\r\u001b[K     |█████████████████████████████▊  | 1.0 MB 4.3 MB/s eta 0:00:01\r\u001b[K     |██████████████████████████████  | 1.0 MB 4.3 MB/s eta 0:00:01\r\u001b[K     |██████████████████████████████▎ | 1.0 MB 4.3 MB/s eta 0:00:01\r\u001b[K     |██████████████████████████████▋ | 1.1 MB 4.3 MB/s eta 0:00:01\r\u001b[K     |██████████████████████████████▉ | 1.1 MB 4.3 MB/s eta 0:00:01\r\u001b[K     |███████████████████████████████▏| 1.1 MB 4.3 MB/s eta 0:00:01\r\u001b[K     |███████████████████████████████▌| 1.1 MB 4.3 MB/s eta 0:00:01\r\u001b[K     |███████████████████████████████▊| 1.1 MB 4.3 MB/s eta 0:00:01\r\u001b[K     |████████████████████████████████| 1.1 MB 4.3 MB/s \n",
            "\u001b[?25hRequirement already satisfied: six in /usr/local/lib/python3.7/dist-packages (from adversarial-robustness-toolbox) (1.15.0)\n",
            "Requirement already satisfied: scikit-learn<1.1.0,>=0.22.2 in /usr/local/lib/python3.7/dist-packages (from adversarial-robustness-toolbox) (0.22.2.post1)\n",
            "Requirement already satisfied: scipy>=1.4.1 in /usr/local/lib/python3.7/dist-packages (from adversarial-robustness-toolbox) (1.4.1)\n",
            "Collecting numba>=0.53.1\n",
            "  Downloading numba-0.54.1-cp37-cp37m-manylinux2014_x86_64.manylinux_2_17_x86_64.whl (3.3 MB)\n",
            "\u001b[K     |████████████████████████████████| 3.3 MB 81.6 MB/s \n",
            "\u001b[?25hRequirement already satisfied: numpy>=1.18.0 in /usr/local/lib/python3.7/dist-packages (from adversarial-robustness-toolbox) (1.19.5)\n",
            "Requirement already satisfied: tqdm in /usr/local/lib/python3.7/dist-packages (from adversarial-robustness-toolbox) (4.62.3)\n",
            "Requirement already satisfied: setuptools in /usr/local/lib/python3.7/dist-packages (from adversarial-robustness-toolbox) (57.4.0)\n",
            "Collecting llvmlite<0.38,>=0.37.0rc1\n",
            "  Downloading llvmlite-0.37.0-cp37-cp37m-manylinux2014_x86_64.whl (26.3 MB)\n",
            "\u001b[K     |████████████████████████████████| 26.3 MB 169 kB/s \n",
            "\u001b[?25hRequirement already satisfied: joblib>=0.11 in /usr/local/lib/python3.7/dist-packages (from scikit-learn<1.1.0,>=0.22.2->adversarial-robustness-toolbox) (1.0.1)\n",
            "Installing collected packages: llvmlite, numba, adversarial-robustness-toolbox\n",
            "  Attempting uninstall: llvmlite\n",
            "    Found existing installation: llvmlite 0.34.0\n",
            "    Uninstalling llvmlite-0.34.0:\n",
            "      Successfully uninstalled llvmlite-0.34.0\n",
            "  Attempting uninstall: numba\n",
            "    Found existing installation: numba 0.51.2\n",
            "    Uninstalling numba-0.51.2:\n",
            "      Successfully uninstalled numba-0.51.2\n",
            "Successfully installed adversarial-robustness-toolbox-1.8.1 llvmlite-0.37.0 numba-0.54.1\n"
          ]
        }
      ]
    },
    {
      "cell_type": "markdown",
      "metadata": {
        "id": "nGmEBN4oxqUO"
      },
      "source": [
        "## Import librerie"
      ]
    },
    {
      "cell_type": "code",
      "metadata": {
        "id": "01RXI-DDIb3C"
      },
      "source": [
        "#Librerie\n",
        "\n",
        "import torch\n",
        "import torch.nn as nn\n",
        "import torch.optim as optim\n",
        "import numpy as np\n",
        "import torchvision\n",
        "from torchvision import datasets, models, transforms\n",
        "#import time\n",
        "#import os\n",
        "#import shutil\n",
        "#import copy\n",
        "\n",
        "import pandas as pd\n",
        "import matplotlib.pyplot as plt\n",
        "import sys\n",
        "\n",
        "from torchvision.transforms.functional import InterpolationMode\n",
        "\n",
        "from torch.utils.data import TensorDataset, DataLoader\n",
        "\n",
        "import cv2\n",
        "from google.colab.patches import cv2_imshow"
      ],
      "execution_count": 2,
      "outputs": []
    },
    {
      "cell_type": "markdown",
      "metadata": {
        "id": "pIqUXUmoA541"
      },
      "source": [
        "##Check device\n"
      ]
    },
    {
      "cell_type": "code",
      "metadata": {
        "id": "P2pe5Zh2A4Ui",
        "colab": {
          "base_uri": "https://localhost:8080/"
        },
        "outputId": "58f58e2b-b6e5-4902-ee10-6ca059240c60"
      },
      "source": [
        "print(torch.__version__)\n",
        "print(torch.cuda.is_available())\n",
        "print(torch.cuda.get_device_name(0))\n",
        "device = torch.device(\"cuda:0\" if torch.cuda.is_available() else \"cpu\")\n",
        "print(device)"
      ],
      "execution_count": 3,
      "outputs": [
        {
          "output_type": "stream",
          "name": "stdout",
          "text": [
            "1.9.0+cu111\n",
            "True\n",
            "Tesla P100-PCIE-16GB\n",
            "cuda:0\n"
          ]
        }
      ]
    },
    {
      "cell_type": "markdown",
      "metadata": {
        "id": "WApYIVcnU9sq"
      },
      "source": [
        "##Transforms"
      ]
    },
    {
      "cell_type": "code",
      "metadata": {
        "id": "Hi_cyTbXU-8s"
      },
      "source": [
        "transf_init=transforms.Resize(size=(1000,1000),interpolation=InterpolationMode.NEAREST)\n",
        "\n",
        "data_transform_test= transforms.Compose([transforms.Resize([224,224],interpolation=InterpolationMode.NEAREST),\n",
        "          transforms.Normalize([0.485, 0.456, 0.406], [0.229, 0.224, 0.225])\n",
        "          ])\n",
        "transf_resize=transforms.Resize([224,224],interpolation=InterpolationMode.NEAREST)\n",
        "\n",
        "transf_load= transforms.Compose([transforms.ToTensor(),\n",
        "                                 #transforms.Normalize([0.485, 0.456, 0.406], [0.229, 0.224, 0.225])\n",
        "          ])\n",
        "trans_norm=transforms.Normalize([0.485, 0.456, 0.406], [0.229, 0.224, 0.225])"
      ],
      "execution_count": 4,
      "outputs": []
    },
    {
      "cell_type": "markdown",
      "metadata": {
        "id": "-ycpjmyb4Cxe"
      },
      "source": [
        "##Def path"
      ]
    },
    {
      "cell_type": "code",
      "metadata": {
        "id": "4hMuySVI4GgY"
      },
      "source": [
        "#scanner\n",
        "scanner_name = 'HiScan'\n",
        "\n",
        "#salvataggio modello\n",
        "model_name = 'VGG19_10epoc_lr5_bs200_adam'\n",
        "path_model = F\"/content/gdrive/My Drive/ModelliCNN/Scanner/{scanner_name}/{model_name}\" \n",
        "\n",
        "#dataset\n",
        "pathTestset=F'/content/gdrive/MyDrive/Dataset_impronte/test/{scanner_name}'\n",
        "\n",
        "pd_preds_value=F'/content/gdrive/MyDrive/Dataset_impronte/test/Preds_value/{scanner_name}_con_normalize.xlsx'"
      ],
      "execution_count": 5,
      "outputs": []
    },
    {
      "cell_type": "markdown",
      "metadata": {
        "id": "dherpFOH0Uau"
      },
      "source": [
        "##Collegamento google drive"
      ]
    },
    {
      "cell_type": "code",
      "metadata": {
        "id": "vyvTOQw-aHRP",
        "colab": {
          "base_uri": "https://localhost:8080/"
        },
        "outputId": "9ff1b62f-22e8-415e-cd6d-62facb74775f"
      },
      "source": [
        "#collegamento google drive\n",
        "from google.colab import drive\n",
        "drive.mount('/content/gdrive')"
      ],
      "execution_count": 6,
      "outputs": [
        {
          "output_type": "stream",
          "name": "stdout",
          "text": [
            "Mounted at /content/gdrive\n"
          ]
        }
      ]
    },
    {
      "cell_type": "markdown",
      "metadata": {
        "id": "5X10jetEyAax"
      },
      "source": [
        "#**Dataset**"
      ]
    },
    {
      "cell_type": "markdown",
      "metadata": {
        "id": "fETy1V2abbWo"
      },
      "source": [
        "##Caricamento dataset"
      ]
    },
    {
      "cell_type": "code",
      "metadata": {
        "id": "AMW6yAMPbbWp",
        "colab": {
          "base_uri": "https://localhost:8080/"
        },
        "outputId": "744bdb01-d9ba-4ff1-ff33-0ba58b6cf6ac"
      },
      "source": [
        "test_dataset = datasets.ImageFolder(pathTestset,transform=transf_load)\n",
        "dim_set=len(test_dataset)\n",
        "print(dim_set)"
      ],
      "execution_count": 7,
      "outputs": [
        {
          "output_type": "stream",
          "name": "stdout",
          "text": [
            "2500\n"
          ]
        }
      ]
    },
    {
      "cell_type": "markdown",
      "metadata": {
        "id": "_miDmRukbbWq"
      },
      "source": [
        "##Dataloader"
      ]
    },
    {
      "cell_type": "code",
      "metadata": {
        "id": "o3JB4rWJbbWq",
        "colab": {
          "base_uri": "https://localhost:8080/"
        },
        "outputId": "91ae99c8-9e37-4411-84e2-ca3f83d94c2f"
      },
      "source": [
        "testgen=torch.utils.data.DataLoader(test_dataset, pin_memory=True, batch_size=1,num_workers=2)\n",
        "print(len(testgen))"
      ],
      "execution_count": 8,
      "outputs": [
        {
          "output_type": "stream",
          "name": "stdout",
          "text": [
            "2500\n"
          ]
        }
      ]
    },
    {
      "cell_type": "code",
      "metadata": {
        "id": "lE1W9TjPsW4g",
        "colab": {
          "base_uri": "https://localhost:8080/"
        },
        "outputId": "9eb80fd9-c20c-4c9c-84da-d98cd9f2fd09"
      },
      "source": [
        "a,_=next(iter(testgen))\n",
        "_min,_max=torch.min(a),torch.max(a)\n",
        "print(_min,_max)"
      ],
      "execution_count": 9,
      "outputs": [
        {
          "output_type": "stream",
          "name": "stdout",
          "text": [
            "tensor(0.) tensor(1.)\n"
          ]
        }
      ]
    },
    {
      "cell_type": "markdown",
      "metadata": {
        "id": "ZazQQE8ypKP9"
      },
      "source": [
        "##Nomi classi"
      ]
    },
    {
      "cell_type": "code",
      "metadata": {
        "colab": {
          "base_uri": "https://localhost:8080/"
        },
        "id": "DYk4cr4eo9Ir",
        "outputId": "d4cf8923-8d6d-46f1-ab75-35bc579e6ce2"
      },
      "source": [
        "classes_name=test_dataset.classes\n",
        "class_number=len(classes_name)\n",
        "print(classes_name)\n",
        "print(class_number)\n",
        "#del test_dataset"
      ],
      "execution_count": 10,
      "outputs": [
        {
          "output_type": "stream",
          "name": "stdout",
          "text": [
            "['Live', 'Spoof']\n",
            "2\n"
          ]
        }
      ]
    },
    {
      "cell_type": "markdown",
      "metadata": {
        "id": "AJ_O-UAECNMk"
      },
      "source": [
        "#**Riduzione dataset**"
      ]
    },
    {
      "cell_type": "code",
      "metadata": {
        "id": "RnOEmgNRbbWp",
        "colab": {
          "base_uri": "https://localhost:8080/"
        },
        "outputId": "5dd7e575-5efc-4b4c-e4f0-cb8ffcda94c2"
      },
      "source": [
        "test_dataset.samples=test_dataset.samples[1004:1005]\n",
        "\n",
        "dim_set=len(test_dataset)\n",
        "print(dim_set)"
      ],
      "execution_count": 11,
      "outputs": [
        {
          "output_type": "stream",
          "name": "stdout",
          "text": [
            "1\n"
          ]
        }
      ]
    },
    {
      "cell_type": "code",
      "metadata": {
        "id": "9aVJfMTlOJPq",
        "outputId": "d650c65b-59bb-42aa-9771-58e34f92422e",
        "colab": {
          "base_uri": "https://localhost:8080/"
        }
      },
      "source": [
        "a,b=next(iter(testgen))\n",
        "_min,_max=torch.min(a),torch.max(a)\n",
        "print(_min,_max)"
      ],
      "execution_count": 12,
      "outputs": [
        {
          "output_type": "stream",
          "name": "stdout",
          "text": [
            "tensor(0.) tensor(1.)\n"
          ]
        }
      ]
    },
    {
      "cell_type": "markdown",
      "metadata": {
        "id": "9XepXK-ny3XN"
      },
      "source": [
        "# **Creazione modello**\n",
        "\n",
        "> non ho bloccato i parametri inferiori e sbloccato quelli del classificatore, vedi se funziona\n",
        "\n"
      ]
    },
    {
      "cell_type": "markdown",
      "metadata": {
        "id": "PBSyijWDqY4-"
      },
      "source": [
        "##Load model pre-trained"
      ]
    },
    {
      "cell_type": "code",
      "metadata": {
        "id": "GymaBXhaPMvL",
        "colab": {
          "base_uri": "https://localhost:8080/",
          "height": 0,
          "referenced_widgets": [
            "fea124768f0048ec864331ef134806a2",
            "1ee749b7dd37426f944d9548db34fc14",
            "915f572386ee4b9abba1340ff85e34fd",
            "02cea4f3b0d24e3da3e06329f6b16eab",
            "7d501778eb964ed2bbdc288992760a9b",
            "79a0d1795b064ddba7da6e24376fee78",
            "37621357296a43ef87f81ef3836c9064",
            "ee4fb2082e44403da9712df6499fb727",
            "10b014c832924f128c556bd863e233c1",
            "7210f8395e3446819f701d0c11eed42a",
            "415f1e3dfc2144eaad74afc0d3a5999d"
          ]
        },
        "outputId": "19eaeefe-9763-4766-85b0-170ddef46296"
      },
      "source": [
        "model = models.vgg19(pretrained=True,progress=True)\n",
        "#model = models.densenet201(pretrained=True,progress=True)\n",
        "#print(model)"
      ],
      "execution_count": 13,
      "outputs": [
        {
          "output_type": "stream",
          "name": "stderr",
          "text": [
            "Downloading: \"https://download.pytorch.org/models/vgg19-dcbb9e9d.pth\" to /root/.cache/torch/hub/checkpoints/vgg19-dcbb9e9d.pth\n"
          ]
        },
        {
          "output_type": "display_data",
          "data": {
            "application/vnd.jupyter.widget-view+json": {
              "model_id": "fea124768f0048ec864331ef134806a2",
              "version_minor": 0,
              "version_major": 2
            },
            "text/plain": [
              "  0%|          | 0.00/548M [00:00<?, ?B/s]"
            ]
          },
          "metadata": {}
        }
      ]
    },
    {
      "cell_type": "markdown",
      "metadata": {
        "id": "O_c2L3v0r2xG"
      },
      "source": [
        "##Aggiunta classificatore"
      ]
    },
    {
      "cell_type": "code",
      "metadata": {
        "id": "d1qeI3_3qKJJ"
      },
      "source": [
        "model.classifier[6]=nn.Linear(4096,2) #per vgg19\n",
        "#model.classifier=nn.Linear(1920,2) #per densenet201\n",
        "\n",
        "#print(model) "
      ],
      "execution_count": 14,
      "outputs": []
    },
    {
      "cell_type": "markdown",
      "metadata": {
        "id": "HOHqOuTVAMaz"
      },
      "source": [
        "##Load pesi"
      ]
    },
    {
      "cell_type": "code",
      "metadata": {
        "id": "CEXv4tQ3AOi0",
        "colab": {
          "base_uri": "https://localhost:8080/"
        },
        "outputId": "c029458d-5412-4108-c69d-3ef0fe2230e5"
      },
      "source": [
        "model.load_state_dict(torch.load(path_model))#,map_location=torch.device('cpu')))\n"
      ],
      "execution_count": 15,
      "outputs": [
        {
          "output_type": "execute_result",
          "data": {
            "text/plain": [
              "<All keys matched successfully>"
            ]
          },
          "metadata": {},
          "execution_count": 15
        }
      ]
    },
    {
      "cell_type": "markdown",
      "metadata": {
        "id": "FbDIoiiOOOmM"
      },
      "source": [
        "# **Def funzioni**"
      ]
    },
    {
      "cell_type": "markdown",
      "metadata": {
        "id": "bI0ASgpVOOmN"
      },
      "source": [
        "##calc size"
      ]
    },
    {
      "cell_type": "code",
      "metadata": {
        "id": "2tNsURiwOOmN"
      },
      "source": [
        "def calc_size(n):\n",
        "  '''\n",
        "  n: int \n",
        "  return: 80% of n\n",
        "  '''\n",
        "  return tuple(int(np.ceil(i * (80/100))) for i in n)"
      ],
      "execution_count": 16,
      "outputs": []
    },
    {
      "cell_type": "markdown",
      "metadata": {
        "id": "TZjJCBBuOOmN"
      },
      "source": [
        "##Perturbazione"
      ]
    },
    {
      "cell_type": "code",
      "metadata": {
        "id": "xjV_9KslOOmO"
      },
      "source": [
        "def compute_perturb(x,x_adv):\n",
        "  '''\n",
        "    x: img originali\n",
        "    x_adv: img contraddittorie\n",
        "    return: pertubazioni, media, perturbazioni normalizzate in [0,1] \n",
        "  '''\n",
        "  if x_adv.shape[2]!=1000:\n",
        "    x=np.array(transf_resize(torch.Tensor(x)))\n",
        "  perturb=x_adv-x\n",
        "  \n",
        "  if perturb.shape[2]!=1000:\n",
        "    perturb=np.array(transf_init(torch.Tensor(perturb)))\n",
        "  #perturb_gray = np.clip(0.2989 * perturb[:,0,:,:] + 0.5870 * perturb[:,1,:,:] + 0.1140 * perturb[:,2,:,:],0,1)\n",
        "  #print('Average perturbation: {:4.2f}'.format(m))\n",
        "  \n",
        "  return perturb"
      ],
      "execution_count": 17,
      "outputs": []
    },
    {
      "cell_type": "markdown",
      "metadata": {
        "id": "UtK8U4NjOOmO"
      },
      "source": [
        "##Print subplot"
      ]
    },
    {
      "cell_type": "code",
      "metadata": {
        "id": "4ubAK4GkOOmO"
      },
      "source": [
        "def print_subplot(perturb,x_test,y_test,preds,x_test_adv,value_preds_adv,normalize=False):\n",
        "  '''\n",
        "    x_test: img originali\n",
        "    y_test: classi originali\n",
        "    preds: classi predette per img originali\n",
        "    x_test_adv: img contraddittoria\n",
        "    value_preds_adv: probabilità predette img contraddittorie\n",
        "    normalize: se True normalizza le immagini\n",
        "  '''\n",
        "  \n",
        "  if normalize:\n",
        "    min,max=np.min(x_test),np.max(x_test)\n",
        "    x_test = (x_test - min) / (max - min)\n",
        "    min,max=np.min(x_test_adv),np.max(x_test_adv)\n",
        "    x_test_adv = (x_test_adv - min) / (max - min)\n",
        "\n",
        "\n",
        "  #perturb,val_pert,perturb_norm=compute_perturb(x_test,x_test_adv)\n",
        "\n",
        "  #nel seguente ciclo for si crea un vettore delle classi predette ordinato per probabilità decrescente\n",
        "  for i in range(len(x_test)):#(x_test.shape[0]):\n",
        "    value=value_preds_adv[i]*100\n",
        "    value_sorted=sorted(value,reverse=True)\n",
        "    classes=[]\n",
        "    for j in range(value.size) :\n",
        "      ind=np.where(value==value_sorted[j]) #restituisce l'indice in value del valore uguale a value_sorted[i], quindi è la classe\n",
        "      classes.append(classes_name[ind[0][0]]) #classes è il vettore finale\n",
        "    \n",
        "    value_sorted=[ round(elem, 2) for elem in value_sorted ]\n",
        "\n",
        "    val_pert=np.mean(np.abs(perturb[i]))\n",
        "    pert_min,pert_max=np.min(perturb[i]),np.max(perturb[i])\n",
        "    #perturb,val_pert,perturb_norm=compute_perturb(x_test,x_test_adv)\n",
        "    perturb[perturb<0]=0 #rimuovo i valori negativi poiché non posso visualizzarli\n",
        "    #in seguito per ogni immagine del test set si stampa un subplot\n",
        "    fig = plt.figure(figsize=[20,20])\n",
        "    #plt.subplots_adjust(wspace=0.9)\n",
        "    print('\\033[1m'+\"IMMAGINE \"+'\\033[1m',i) #valore END: '\\033[0m'\n",
        "    #originale\n",
        "    ax1 = fig.add_subplot(131) #subplot con 3 righe e due colonne\n",
        "    ax1.axis('off')\n",
        "    #ax1.imshow(cv2.rotate(x_test[i],cv2.cv2.ROTATE_90_CLOCKWISE))\n",
        "    ax1.imshow(x_test[i].transpose(1,2,0))\n",
        "    ax1.title.set_text(\"ORIGINALE\\nclasse reale: \"+classes_name[np.argmax(y_test[i])]+\"\\nclasse predetta: \"+str(classes_name[preds[i]]))\n",
        "    #perturbazione\n",
        "    ax2 = fig.add_subplot(132)\n",
        "    #ax2.imshow(cv2.rotate(perturb_norm[i],cv2.cv2.ROTATE_90_CLOCKWISE))\n",
        "    ax2.imshow(perturb[i].transpose(1,2,0),cmap='gray')\n",
        "    #ax2.imshow(perturb[i],cmap='gray')\n",
        "    ax2.axis('off')\n",
        "    ax2.title.set_text(\"PERTURBAZIONE\\nvalore medio: \"+str(round(val_pert,4))+\"\\nmin: \"+str(pert_min)+\"\\nmax: \"+str(pert_max))\n",
        "    #perturbata\n",
        "    ax3 = fig.add_subplot(133)\n",
        "    #ax3.imshow(cv2.rotate(x_test_adv[i],cv2.cv2.ROTATE_90_CLOCKWISE))#,aspect='auto')\n",
        "    ax3.imshow(x_test_adv[i].transpose(1,2,0))\n",
        "    ax3.axis('off')\n",
        "    ax3.title.set_text(\"PERTURBATA\\nclassi predette: \"+str(classes)+\"\\ncon valori: \"+str(value_sorted))\n",
        "    plt.show()"
      ],
      "execution_count": 29,
      "outputs": []
    },
    {
      "cell_type": "markdown",
      "metadata": {
        "id": "nSQQRJTiOOmO"
      },
      "source": [
        "##Testing"
      ]
    },
    {
      "cell_type": "markdown",
      "metadata": {
        "id": "uKVZr8R5OOmO"
      },
      "source": [
        "con media senza datframe"
      ]
    },
    {
      "cell_type": "code",
      "metadata": {
        "id": "eTEBhM8aOOmO"
      },
      "source": [
        "def test_average_preds(classifier,input):\n",
        "  '''\n",
        "  model: model trained\n",
        "  test_loader: dataloader \n",
        "  return: pred: classe predetta, probabilities: probabilità per entrambe le classi\n",
        "  '''\n",
        "  preds=[]\n",
        "  #value=[]\n",
        "  prob=nn.Softmax()\n",
        "  \n",
        "  if input.shape[2]!=1000:\n",
        "    input=transf_init(input)\n",
        "\n",
        "  n=input.shape\n",
        "  n_mod=calc_size(n[2:4])\n",
        "  crop_transform=transforms.TenCrop((n_mod[0],n_mod[1]))\n",
        "  crops=crop_transform(input)\n",
        "  live=0\n",
        "  spoof=0\n",
        "  for crop in crops:\n",
        "    crop=data_transform_test(crop) #resize 224\n",
        "    outputs = classifier.predict(crop)\n",
        "    live+=outputs[0][0]\n",
        "    spoof+=outputs[0][1]\n",
        "  live=live/10\n",
        "  spoof=spoof/10\n",
        "  predicted=np.argmax([live,spoof])\n",
        "  probabilities=prob(torch.Tensor([live,spoof])).numpy()\n",
        "\n",
        "  return predicted,probabilities"
      ],
      "execution_count": 19,
      "outputs": []
    },
    {
      "cell_type": "code",
      "metadata": {
        "id": "RQrqiwnnOOmP"
      },
      "source": [
        "def test_average_values(classifier,input):\n",
        "  '''\n",
        "  model: model trained\n",
        "  test_loader: dataloader \n",
        "  return: pred: classe predetta, probabilities: probabilità per entrambe le classi\n",
        "  '''\n",
        "  preds=[]\n",
        "  #value=[]\n",
        "  \n",
        "  if input.shape[2]!=1000:\n",
        "    input=transf_init(input)\n",
        "\n",
        "  n=input.shape\n",
        "  n_mod=calc_size(n[2:4])\n",
        "  crop_transform=transforms.TenCrop((n_mod[0],n_mod[1]))\n",
        "  crops=crop_transform(input)\n",
        "  live=0\n",
        "  spoof=0\n",
        "  for crop in crops:\n",
        "    crop=data_transform_test(crop) #resize 224\n",
        "    outputs = classifier.predict(crop)\n",
        "    live+=outputs[0][0]\n",
        "    spoof+=outputs[0][1]\n",
        "  live=live/10\n",
        "  spoof=spoof/10\n",
        "  predicted=np.argmax([live,spoof])\n",
        "  values=[live,spoof]\n",
        "\n",
        "  return predicted,values"
      ],
      "execution_count": 20,
      "outputs": []
    },
    {
      "cell_type": "markdown",
      "metadata": {
        "id": "MFU0LxnIOOmP"
      },
      "source": [
        "##Array to dataloader"
      ]
    },
    {
      "cell_type": "code",
      "metadata": {
        "id": "Gu2hPth8OOmP"
      },
      "source": [
        "def array2dataloader(x,y):\n",
        "  '''\n",
        "  :param x: ndarray x_test;\n",
        "  :param y: labels\n",
        "  '''\n",
        "  tensor_x = torch.Tensor(x) # transform to torch tensor\n",
        "  tensor_y = torch.Tensor(np.argmax(y,axis=1))\n",
        "\n",
        "  my_dataset = TensorDataset(tensor_x,tensor_y) # create your datset\n",
        "  return DataLoader(my_dataset) "
      ],
      "execution_count": 21,
      "outputs": []
    },
    {
      "cell_type": "markdown",
      "metadata": {
        "id": "ILb58jxYOOmP"
      },
      "source": [
        "##mask"
      ]
    },
    {
      "cell_type": "code",
      "metadata": {
        "id": "8zLUZTBLOOmP"
      },
      "source": [
        "def compute_mask(img):\n",
        "  #img iniziale [0,1]\n",
        "  img=np.array(img[0])\n",
        "  img=img.transpose(1,2,0)\n",
        "\n",
        "  #trasforma in gray\n",
        "  r, g, b = img[:,:,0], img[:,:,1], img[:,:,2]\n",
        "  gray = 0.2989 * r + 0.5870 * g + 0.1140 * b\n",
        "  #scala in [0,255]\n",
        "  gray = (gray - np.min(gray)) / (np.max(gray) - np.min(gray))\n",
        "  gray=gray*255\n",
        "  gray=gray.astype('uint8')\n",
        "  #calcola immagine binaria\n",
        "  ret, imgf = cv2.threshold(gray, 0,255, cv2.THRESH_BINARY_INV+cv2.THRESH_OTSU)\n",
        "\n",
        "  image_contours = np.zeros((imgf.shape[1],\n",
        "                            imgf.shape[0]),\n",
        "                            np.uint8)\n",
        "\n",
        "  image_binary = np.zeros((imgf.shape[1],\n",
        "                          imgf.shape[0]),\n",
        "                          np.uint8)\n",
        "\n",
        "  #cerca i contorni nell'immagine binaria\n",
        "  contours =cv2.findContours(imgf, cv2.RETR_TREE, cv2.CHAIN_APPROX_SIMPLE)[0]\n",
        "  cv2.drawContours(image_contours,\n",
        "                      contours, -1,\n",
        "                      (255,255), 3)\n",
        "\n",
        "  contours = cv2.findContours(image_contours, cv2.RETR_LIST,\n",
        "                            cv2.CHAIN_APPROX_SIMPLE)[0]\n",
        "  #disegna solo il contorno più esterno\n",
        "  cv2.drawContours(image_binary, [max(contours, key = cv2.contourArea)],\n",
        "                  -1, (255, 255),-1)\n",
        "  #restituisce immagine [0,1]\n",
        "  return ((image_binary-np.min(image_binary))/(np.max(image_binary)-np.min(image_binary)))"
      ],
      "execution_count": 22,
      "outputs": []
    },
    {
      "cell_type": "markdown",
      "metadata": {
        "id": "B-a_DqwJOULQ"
      },
      "source": [
        "##DeepFool"
      ]
    },
    {
      "cell_type": "code",
      "metadata": {
        "id": "FeswXkxiOULQ"
      },
      "source": [
        "from __future__ import absolute_import, division, print_function, unicode_literals\n",
        "\n",
        "import logging\n",
        "from typing import Optional, TYPE_CHECKING\n",
        "\n",
        "import numpy as np\n",
        "from tqdm.auto import trange\n",
        "\n",
        "from art.config import ART_NUMPY_DTYPE\n",
        "from art.estimators.estimator import BaseEstimator\n",
        "from art.estimators.classification.classifier import ClassGradientsMixin\n",
        "from art.attacks.attack import EvasionAttack\n",
        "from art.utils import compute_success, is_probability\n",
        "\n",
        "if TYPE_CHECKING:\n",
        "    from art.utils import CLASSIFIER_CLASS_LOSS_GRADIENTS_TYPE\n",
        "\n",
        "logger = logging.getLogger(__name__)\n",
        "\n",
        "\n",
        "class DeepFool_mod(EvasionAttack):\n",
        "    \"\"\"\n",
        "    Implementation of the attack from Moosavi-Dezfooli et al. (2015).\n",
        "    | Paper link: https://arxiv.org/abs/1511.04599\n",
        "    \"\"\"\n",
        "\n",
        "    attack_params = EvasionAttack.attack_params + [\n",
        "        \"max_iter\",\n",
        "        \"epsilon\",\n",
        "        \"nb_grads\",\n",
        "        \"batch_size\",\n",
        "        \"verbose\",\n",
        "    ]\n",
        "    _estimator_requirements = (BaseEstimator, ClassGradientsMixin)\n",
        "\n",
        "    def __init__(\n",
        "        self,\n",
        "        classifier: \"CLASSIFIER_CLASS_LOSS_GRADIENTS_TYPE\",\n",
        "        max_iter: int = 100,\n",
        "        epsilon: float = 1e-6,\n",
        "        nb_grads: int = 10,\n",
        "        batch_size: int = 1,\n",
        "        verbose: bool = True,\n",
        "    ) -> None:\n",
        "        \"\"\"\n",
        "        Create a DeepFool attack instance.\n",
        "        :param classifier: A trained classifier.\n",
        "        :param max_iter: The maximum number of iterations.\n",
        "        :param epsilon: Overshoot parameter.\n",
        "        :param nb_grads: The number of class gradients (top nb_grads w.r.t. prediction) to compute. This way only the\n",
        "                         most likely classes are considered, speeding up the computation.\n",
        "        :param batch_size: Batch size\n",
        "        :param verbose: Show progress bars.\n",
        "        \"\"\"\n",
        "        super().__init__(estimator=classifier)\n",
        "        self.max_iter = max_iter\n",
        "        self.epsilon = epsilon\n",
        "        self.nb_grads = nb_grads\n",
        "        self.batch_size = batch_size\n",
        "        self.verbose = verbose\n",
        "        self._check_params()\n",
        "        if self.estimator.clip_values is None:\n",
        "            logger.warning(\n",
        "                \"The `clip_values` attribute of the estimator is `None`, therefore this instance of DeepFool will by \"\n",
        "                \"default generate adversarial perturbations scaled for input values in the range [0, 1] but not clip \"\n",
        "                \"the adversarial example.\"\n",
        "            )\n",
        "\n",
        "    def generate(self, x: np.ndarray, y: Optional[np.ndarray] = None, class_target=0, confidence=0.6, multi_over=False, max_over=5, **kwargs) -> np.ndarray:\n",
        "        \"\"\"\n",
        "        Generate adversarial samples and return them in an array.\n",
        "        :param x: An array with the original inputs to be attacked.\n",
        "        :param y: An array with the original labels to be predicted.\n",
        "        :return: An array holding the adversarial examples.\n",
        "        \"\"\"\n",
        "        x_adv = x.astype(ART_NUMPY_DTYPE)\n",
        "        prob=nn.Softmax()\n",
        "        #preds = self.estimator.predict(x, batch_size=self.batch_size)\n",
        "\n",
        "        class_pred,preds=test_average_values(self.estimator,torch.Tensor(x_adv))\n",
        "        preds=np.array(preds).reshape(1,2)\n",
        "\n",
        "        if self.estimator.nb_classes == 2 and preds.shape[1] == 1:\n",
        "            raise ValueError(\n",
        "                \"This attack has not yet been tested for binary classification with a single output classifier.\"\n",
        "            )\n",
        "\n",
        "        if is_probability(preds[0]):\n",
        "            logger.warning(\n",
        "                \"It seems that the attacked model is predicting probabilities. DeepFool expects logits as model output \"\n",
        "                \"to achieve its full attack strength.\"\n",
        "            )\n",
        "\n",
        "        # Determine the class labels for which to compute the gradients\n",
        "        use_grads_subset = self.nb_grads < self.estimator.nb_classes\n",
        "        if use_grads_subset:\n",
        "            # TODO compute set of unique labels per batch\n",
        "            grad_labels = np.argsort(-preds, axis=1)[:, : self.nb_grads]\n",
        "            labels_set = np.unique(grad_labels)\n",
        "        else:\n",
        "            labels_set = np.arange(self.estimator.nb_classes)\n",
        "        sorter = np.arange(len(labels_set))\n",
        "\n",
        "        # Pick a small scalar to avoid division by 0\n",
        "        tol = 10e-8\n",
        "\n",
        "        if ((class_pred==np.argmax(y, axis=1)) and (class_pred!= class_target)):\n",
        "            active=True\n",
        "        elif ((class_pred!=np.argmax(y, axis=1)) and (class_pred== class_target) and (np.max(prob(torch.Tensor(preds)).numpy())<confidence)): \n",
        "            active=True\n",
        "        else:  active=False\n",
        "\n",
        "        if active: \n",
        "            x_adv=transf_resize(torch.Tensor(x_adv))\n",
        "            mask_mod=compute_mask(x_adv)\n",
        "            x_adv=np.array(x_adv)\n",
        "\n",
        "            x_init=transf_resize(torch.Tensor(x.astype(ART_NUMPY_DTYPE)))\n",
        "            x_init=np.array(x_init)\n",
        "\n",
        "        # Compute perturbation with implicit batching\n",
        "        for batch_id in trange(\n",
        "            int(np.ceil(x_adv.shape[0] / float(self.batch_size))), desc=\"DeepFool\", disable=not self.verbose\n",
        "        ):\n",
        "            batch_index_1, batch_index_2 = batch_id * self.batch_size, (batch_id + 1) * self.batch_size\n",
        "            batch = x_adv[batch_index_1:batch_index_2].copy()\n",
        "\n",
        "            # Get predictions and gradients for batch\n",
        "            #f_batch = preds[batch_index_1:batch_index_2] #predizioni\n",
        "            #fk_hat = np.argmax(f_batch, axis=1) #classe predetta\n",
        "            \n",
        "            batch_grd=np.array(trans_norm(torch.Tensor(batch)))\n",
        "            if use_grads_subset:\n",
        "                # Compute gradients only for top predicted classes\n",
        "                grd = np.array([self.estimator.class_gradient(batch_grd, label=_) for _ in labels_set])\n",
        "                grd = np.squeeze(np.swapaxes(grd, 0, 2), axis=0)\n",
        "            else:\n",
        "                # Compute gradients for all classes\n",
        "                grd = self.estimator.class_gradient(batch_grd)\n",
        "\n",
        "            # Get current predictions\n",
        "\n",
        "            #active_indices = np.arange(len(batch))\n",
        "            current_step = 0\n",
        "\n",
        "            while active==True and current_step < self.max_iter:\n",
        "                # Compute difference in predictions and gradients only for selected top predictions\n",
        "                labels_indices = sorter[np.searchsorted(labels_set, class_pred, sorter=sorter)]\n",
        "                grad_diff = (grd - grd[np.arange(len(grd)), labels_indices][:, None])*mask_mod\n",
        "                f_diff = preds[:,labels_set] - preds[np.arange(len(preds)), labels_indices][:, None]\n",
        "\n",
        "                # Choose coordinate and compute perturbation\n",
        "                norm = np.linalg.norm(grad_diff.reshape(len(grad_diff), len(labels_set), -1), axis=2) + tol\n",
        "                value = np.abs(f_diff) / norm\n",
        "                value[np.arange(len(value)), labels_indices] = np.inf\n",
        "                l_var = np.argmin(value, axis=1)\n",
        "                absolute1 = abs(f_diff[np.arange(len(f_diff)), l_var])\n",
        "                draddiff = grad_diff[np.arange(len(grad_diff)), l_var].reshape(len(grad_diff), -1)\n",
        "                pow1 = (\n",
        "                    pow(\n",
        "                        np.linalg.norm(draddiff, axis=1),\n",
        "                        2,\n",
        "                    )\n",
        "                    + tol\n",
        "                )\n",
        "                r_var = absolute1 / pow1\n",
        "                r_var = r_var.reshape((-1,) + (1,) * (len(x.shape) - 1))\n",
        "                r_var = r_var * grad_diff[np.arange(len(grad_diff)), l_var]\n",
        "                #print(\"pert\")\n",
        "                #plt.imshow(r_var[0].transpose(1,2,0)*255)\n",
        "                #plt.show()\n",
        "                r, g, b = r_var[0,0,:,:],r_var[0,1,:,:],r_var[0,2,:,:]\n",
        "                r_var = 0.2989 * r + 0.5870 * g + 0.1140 * b\n",
        "\n",
        "                # Add perturbation and clip result\n",
        "                if self.estimator.clip_values is not None:\n",
        "                    batch = np.clip(\n",
        "                        batch\n",
        "                        + r_var * (self.estimator.clip_values[1] - self.estimator.clip_values[0]),\n",
        "                        self.estimator.clip_values[0],\n",
        "                        self.estimator.clip_values[1]\n",
        "                    )\n",
        "                else:\n",
        "                    batch += r_var\n",
        "                batch=batch.astype(np.single)\n",
        "                # Recompute prediction for new x\n",
        "                class_pred_i,preds=test_average_values(self.estimator,torch.Tensor(batch))\n",
        "                preds=np.array(preds).reshape(1,2)\n",
        "                #f_batch = self.estimator.predict(batch)\n",
        "                #fk_i_hat = np.argmax(f_batch, axis=1)\n",
        "                \n",
        "                batch_grd=np.array(trans_norm(torch.Tensor(batch)))\n",
        "                # Recompute gradients for new x\n",
        "                if use_grads_subset:\n",
        "                    # Compute gradients only for (originally) top predicted classes\n",
        "                    grd = np.array([self.estimator.class_gradient(batch_grd, label=_) for _ in labels_set])\n",
        "                    grd = np.squeeze(np.swapaxes(grd, 0, 2), axis=0)\n",
        "                else:\n",
        "                    # Compute gradients for all classes\n",
        "                    grd = self.estimator.class_gradient(batch_grd)\n",
        "\n",
        "                # Stop if misclassification has been achieved\n",
        "                #active_indices = np.where(class_pred_i == class_pred)[0]\n",
        "                if ((class_pred_i==np.argmax(y, axis=1)) and (class_pred_i!= class_target)):\n",
        "                  active=True\n",
        "                elif ((class_pred_i!=np.argmax(y, axis=1)) and (class_pred_i== class_target) and (np.max(prob(torch.Tensor(preds)).numpy())<confidence)): \n",
        "                  active=True\n",
        "                else:  active=False\n",
        "\n",
        "                current_step += 1\n",
        "            \n",
        "            if multi_over:\n",
        "              ov_it=0\n",
        "              while active and ov_it<max_over:\n",
        "                x_adv2 = (1 + self.epsilon) * (batch - x_init)            \n",
        "                batch = x_init + x_adv2\n",
        "                if self.estimator.clip_values is not None:\n",
        "                    np.clip(\n",
        "                        batch,\n",
        "                        self.estimator.clip_values[0],\n",
        "                        self.estimator.clip_values[1],\n",
        "                        out=batch,\n",
        "                    )   \n",
        "                class_pred,preds=test_average_values(self.estimator,torch.Tensor(batch))\n",
        "                if ((class_pred==np.argmax(y, axis=1)) and (class_pred!= class_target)):\n",
        "                    active=True\n",
        "                elif ((class_pred!=np.argmax(y, axis=1)) and (class_pred== class_target) and (np.max(prob(torch.Tensor(preds)).numpy())<confidence)): \n",
        "                    active=True\n",
        "                else:  active=False    \n",
        "                ov_it+=1\n",
        "              \n",
        "              x_adv=batch\n",
        "              \n",
        "            else:  \n",
        "              if active:\n",
        "                # Apply overshoot parameter\n",
        "                x_adv1 = x_adv[batch_index_1:batch_index_2]\n",
        "                x_adv2 = (1 + self.epsilon) * (batch - x_adv[batch_index_1:batch_index_2])            \n",
        "                x_adv[batch_index_1:batch_index_2] = x_adv1 + x_adv2\n",
        "                if self.estimator.clip_values is not None:\n",
        "                    np.clip(\n",
        "                        x_adv[batch_index_1:batch_index_2],\n",
        "                        self.estimator.clip_values[0],\n",
        "                        self.estimator.clip_values[1],\n",
        "                        out=x_adv[batch_index_1:batch_index_2],\n",
        "                    )   \n",
        "              else: x_adv=batch\n",
        "\n",
        "        logger.info(\n",
        "            \"Success rate of DeepFool attack: %.2f%%\",\n",
        "            100 * compute_success(self.estimator, x, y, x_adv, batch_size=self.batch_size),\n",
        "        )\n",
        "        return x_adv\n",
        "\n",
        "    def _check_params(self) -> None:\n",
        "        if not isinstance(self.max_iter, (int, np.int)) or self.max_iter <= 0:\n",
        "            raise ValueError(\"The number of iterations must be a positive integer.\")\n",
        "\n",
        "        if not isinstance(self.nb_grads, (int, np.int)) or self.nb_grads <= 0:\n",
        "            raise ValueError(\"The number of class gradients to compute must be a positive integer.\")\n",
        "\n",
        "        if self.epsilon < 0:\n",
        "            raise ValueError(\"The overshoot parameter must not be negative.\")\n",
        "\n",
        "        if self.batch_size <= 0:\n",
        "            raise ValueError(\"The batch size `batch_size` has to be positive.\")\n",
        "\n",
        "        if not isinstance(self.verbose, bool):\n",
        "            raise ValueError(\"The argument `verbose` has to be of type bool.\")"
      ],
      "execution_count": 23,
      "outputs": []
    },
    {
      "cell_type": "markdown",
      "metadata": {
        "id": "O2z5CDqCOjhi"
      },
      "source": [
        "# **Esecuzione**"
      ]
    },
    {
      "cell_type": "markdown",
      "metadata": {
        "id": "OzZkC7HimlHT"
      },
      "source": [
        "##Creazione classificatore ART Pytorch\n",
        "\n"
      ]
    },
    {
      "cell_type": "code",
      "metadata": {
        "id": "AZL7c94zmlHU"
      },
      "source": [
        "from art.estimators.classification import PyTorchClassifier\n",
        "\n",
        "classifier = PyTorchClassifier(\n",
        "    model=model,\n",
        "    clip_values=(_min, _max),\n",
        "    loss=nn.CrossEntropyLoss(),\n",
        "    optimizer=optim.Adam(model.classifier.parameters(),lr=1e-5),\n",
        "    input_shape=(224, 224, 3),\n",
        "    nb_classes=class_number\n",
        ")"
      ],
      "execution_count": 24,
      "outputs": []
    },
    {
      "cell_type": "markdown",
      "metadata": {
        "id": "m10EkCq5GeEu"
      },
      "source": [
        "##Attacco"
      ]
    },
    {
      "cell_type": "code",
      "metadata": {
        "id": "dqZvLx_3ObXE",
        "outputId": "f946cd23-e9c2-4477-b27b-fd70c166faf3",
        "colab": {
          "base_uri": "https://localhost:8080/"
        }
      },
      "source": [
        "from art.utils import to_categorical\n",
        "from PIL import Image, ImageFile\n",
        "ImageFile.LOAD_TRUNCATED_IMAGES = True\n",
        "import random\n",
        "# FGM\n",
        "attack = DeepFool_mod(classifier,epsilon=0.1,max_iter=50,nb_grads=2,verbose=False)\n",
        "\n",
        "list_print=sorted(random.sample(range(dim_set),1))\n",
        "\n",
        "x_print=[]\n",
        "y_print=[]\n",
        "x_print_adv=[] \n",
        "y_print_adv=[] \n",
        "perturb_print=[]\n",
        "Test_p = pd.DataFrame()\n",
        "model.eval()\n",
        "model.cuda()\n",
        "\n",
        "i=0\n",
        "for input,label in testgen:\n",
        "  i+=1\n",
        "\n",
        "  sys.stdout.write(\"\\rElem: {0}/{1}\".format(i,len(testgen)))\n",
        "  sys.stdout.flush()\n",
        "\n",
        "  y_test=np.array((to_categorical(label.numpy(),2)))\n",
        "  x_test=np.array(input.numpy())\n",
        "  #cv2.imwrite(\"img_orig.png\",x_test[0].transpose(1,2,0)*255)\n",
        "  x_test_adv=attack.generate(x=x_test,y=y_test,class_target=classes_name.index('Live'),confidence=0.7,multi_over=True,max_over=5)\n",
        "  perturb=compute_perturb(x_test[0],x_test_adv[0])\n",
        "\n",
        "  #x_test_adv=x_test_adv[0,:,:,:]\n",
        "  #x_test_adv=(x_test_adv-np.min(x_test_adv))/(np.max(x_test_adv)-np.min(x_test_adv))\n",
        "  \n",
        "  x_test_adv=torch.Tensor(x_test_adv)\n",
        "  #x_test_adv=x_test_adv.unsqueeze_(0)\n",
        "  \n",
        "  if x_test_adv.shape[2]!=1000:\n",
        "    x_test_adv=transf_init(x_test_adv)\n",
        "\n",
        "  pred,probabilities=test_average_preds(classifier,x_test_adv)\n",
        "  Test_p = Test_p.append({'real': classes_name[int(label)] ,\n",
        "                          'predicted': classes_name[pred], #qui metti pred\n",
        "                          'prob_live': round(probabilities[0],4),\n",
        "                          'prob_spoof': round(probabilities[1],4)},ignore_index = True)\n",
        "\n",
        "  #print\n",
        "  if i-1 in list_print:\n",
        "    x_print.append(x_test[0])\n",
        "    x_print_adv.append(x_test_adv[0].numpy())\n",
        "    y_print.append(y_test)\n",
        "    y_print_adv.append(probabilities)\n",
        "    perturb_print.append(perturb)"
      ],
      "execution_count": 26,
      "outputs": [
        {
          "output_type": "stream",
          "name": "stdout",
          "text": [
            "\rElem: 1/1"
          ]
        },
        {
          "output_type": "stream",
          "name": "stderr",
          "text": [
            "/usr/local/lib/python3.7/dist-packages/torch/nn/functional.py:718: UserWarning: Named tensors and all their associated APIs are an experimental feature and subject to change. Please do not use them for anything important until they are released as stable. (Triggered internally at  /pytorch/c10/core/TensorImpl.h:1156.)\n",
            "  return torch.max_pool2d(input, kernel_size, stride, padding, dilation, ceil_mode)\n",
            "/usr/local/lib/python3.7/dist-packages/ipykernel_launcher.py:227: UserWarning: Implicit dimension choice for softmax has been deprecated. Change the call to include dim=X as an argument.\n",
            "/usr/local/lib/python3.7/dist-packages/ipykernel_launcher.py:28: UserWarning: Implicit dimension choice for softmax has been deprecated. Change the call to include dim=X as an argument.\n"
          ]
        }
      ]
    },
    {
      "cell_type": "markdown",
      "metadata": {
        "id": "ZFKEoI-enb8L"
      },
      "source": [
        "##Testing\n",
        "\n",
        "> Trasforma i due testing in una funzione e richiamala due volte\n",
        "\n"
      ]
    },
    {
      "cell_type": "markdown",
      "metadata": {
        "id": "1MmzfXhFt40W"
      },
      "source": [
        "###Print accuracy test orig from file & load pd"
      ]
    },
    {
      "cell_type": "code",
      "metadata": {
        "id": "DSOr1z85vhl7",
        "colab": {
          "base_uri": "https://localhost:8080/"
        },
        "outputId": "ab936440-6175-4cf8-fe9c-d460581c2e04"
      },
      "source": [
        "Test_orig=pd.read_excel(pd_preds_value)\n",
        "true_label = Test_orig.real.values\n",
        "predicted = Test_orig.predicted.values\n",
        "accuracy=round((np.sum((true_label == predicted).astype(int)))/Test_orig.shape[0],4)*100\n",
        "print(\"\\nAccuracy: {0}\".format(accuracy))\n",
        "print(\"Shape dataframe: {0}\".format(Test_orig.shape))  "
      ],
      "execution_count": null,
      "outputs": [
        {
          "output_type": "stream",
          "name": "stdout",
          "text": [
            "\n",
            "Accuracy: 93.76\n",
            "Shape dataframe: (2500, 4)\n"
          ]
        }
      ]
    },
    {
      "cell_type": "markdown",
      "metadata": {
        "id": "xRmjrhHYsVsN"
      },
      "source": [
        "###Testing immagini spoof predette live prima e dopo"
      ]
    },
    {
      "cell_type": "markdown",
      "metadata": {
        "id": "zGuElPEOW3dZ"
      },
      "source": [
        "####Accuracy adv"
      ]
    },
    {
      "cell_type": "code",
      "metadata": {
        "colab": {
          "base_uri": "https://localhost:8080/"
        },
        "id": "Gp0jAIC-W5zC",
        "outputId": "54bdc6b4-cb5c-44a8-ce34-babaa738d5c9"
      },
      "source": [
        "true_label = Test_p.real.values\n",
        "predicted = Test_p.predicted.values\n",
        "accuracy=round((np.sum((true_label == predicted).astype(int)))/Test_p.shape[0],4)*100\n",
        "print(\"\\nAccuracy: {0}\".format(accuracy))\n",
        "print(\"Shape dataframe: {0}\".format(Test_p.shape)) "
      ],
      "execution_count": null,
      "outputs": [
        {
          "output_type": "stream",
          "name": "stdout",
          "text": [
            "\n",
            "Accuracy: 1.6\n",
            "Shape dataframe: (1500, 4)\n"
          ]
        }
      ]
    },
    {
      "cell_type": "markdown",
      "metadata": {
        "id": "uyLoc2K6V_ar"
      },
      "source": [
        "####Spoof"
      ]
    },
    {
      "cell_type": "code",
      "metadata": {
        "id": "wxZwQC-osvGM",
        "colab": {
          "base_uri": "https://localhost:8080/"
        },
        "outputId": "c3b5545c-2e3e-4a1d-d774-c5b8bb0ff6f6"
      },
      "source": [
        "print(Test_orig)\n",
        "n_spoof=np.sum(Test_orig['real']=='Spoof')\n",
        "print(\"# img spoof: \"+str(n_spoof))"
      ],
      "execution_count": null,
      "outputs": [
        {
          "output_type": "stream",
          "name": "stdout",
          "text": [
            "     predicted   real  value_pred_live  value_pred_spoof\n",
            "0         Live   Live         6.631882         -5.174079\n",
            "1         Live   Live         7.300115         -6.452907\n",
            "2         Live   Live         9.761596         -9.069071\n",
            "3         Live   Live        10.803438         -9.714268\n",
            "4         Live   Live         7.850704         -7.007375\n",
            "...        ...    ...              ...               ...\n",
            "2495     Spoof  Spoof        -6.569155          8.471490\n",
            "2496     Spoof  Spoof        -7.230628          8.972368\n",
            "2497     Spoof  Spoof        -4.387788          5.860938\n",
            "2498     Spoof  Spoof        -6.238798          8.079524\n",
            "2499     Spoof  Spoof        -6.456174          8.300977\n",
            "\n",
            "[2500 rows x 4 columns]\n",
            "# img spoof: 1500\n"
          ]
        }
      ]
    },
    {
      "cell_type": "markdown",
      "metadata": {
        "id": "J0SfSelFK2dl"
      },
      "source": [
        "prima"
      ]
    },
    {
      "cell_type": "code",
      "metadata": {
        "id": "DsNqIDAxsZBA",
        "colab": {
          "base_uri": "https://localhost:8080/"
        },
        "outputId": "521f625f-b88d-4d2a-9be3-1ca25a57df94"
      },
      "source": [
        "p=Test_orig.loc[Test_orig['real']=='Spoof']\n",
        "p1=p.loc[p['predicted']==p['real']]\n",
        "print(\"Img realmente spoof e predette spoof\")\n",
        "print(p1)\n",
        "n_spoof_pred=p1.count(0)[0]\n",
        "print(\"Numero di predizioni spoof giuste: \"+str(n_spoof_pred))\n",
        "print(\"Accuracy su img spoof: \"+str(round(n_spoof_pred/n_spoof*100,2)))"
      ],
      "execution_count": null,
      "outputs": [
        {
          "output_type": "stream",
          "name": "stdout",
          "text": [
            "Img realmente spoof e predette spoof\n",
            "     predicted   real  value_pred_live  value_pred_spoof\n",
            "1000     Spoof  Spoof        -6.478349          7.893529\n",
            "1001     Spoof  Spoof        -5.261711          7.206484\n",
            "1002     Spoof  Spoof        -5.208933          6.696104\n",
            "1003     Spoof  Spoof        -2.940028          4.300073\n",
            "1004     Spoof  Spoof        -5.451423          6.697002\n",
            "...        ...    ...              ...               ...\n",
            "2495     Spoof  Spoof        -6.569155          8.471490\n",
            "2496     Spoof  Spoof        -7.230628          8.972368\n",
            "2497     Spoof  Spoof        -4.387788          5.860938\n",
            "2498     Spoof  Spoof        -6.238798          8.079524\n",
            "2499     Spoof  Spoof        -6.456174          8.300977\n",
            "\n",
            "[1460 rows x 4 columns]\n",
            "Numero di predizioni spoof giuste: 1460\n",
            "Accuracy su img spoof: 97.33\n"
          ]
        }
      ]
    },
    {
      "cell_type": "markdown",
      "metadata": {
        "id": "AciVwgFyK3Xc"
      },
      "source": [
        "dopo"
      ]
    },
    {
      "cell_type": "code",
      "metadata": {
        "id": "E2xU5gUQuy7y",
        "colab": {
          "base_uri": "https://localhost:8080/"
        },
        "outputId": "e62ecc21-b065-4743-cde3-088137dfec26"
      },
      "source": [
        "d=Test_p.loc[Test_p['real']=='Spoof']\n",
        "d1=d.loc[d['predicted']==d['real']]\n",
        "print(\"Img realmente spoof e predette spoof\")\n",
        "print(d1)\n",
        "n_spoof_pred2=d1.count(0)[0]\n",
        "print(\"Numero di predizioni spoof giuste: \"+str(n_spoof_pred2))\n",
        "print(\"Accuracy su img spoof: \"+str(round(n_spoof_pred2/n_spoof*100,2)))"
      ],
      "execution_count": null,
      "outputs": [
        {
          "output_type": "stream",
          "name": "stdout",
          "text": [
            "Img realmente spoof e predette spoof\n",
            "     predicted  prob_live  prob_spoof   real\n",
            "55       Spoof     0.0000      1.0000  Spoof\n",
            "174      Spoof     0.0643      0.9357  Spoof\n",
            "322      Spoof     0.0000      1.0000  Spoof\n",
            "340      Spoof     0.0000      1.0000  Spoof\n",
            "375      Spoof     0.3446      0.6554  Spoof\n",
            "420      Spoof     0.0033      0.9967  Spoof\n",
            "434      Spoof     0.0009      0.9991  Spoof\n",
            "479      Spoof     0.3803      0.6197  Spoof\n",
            "482      Spoof     0.0000      1.0000  Spoof\n",
            "610      Spoof     0.0329      0.9671  Spoof\n",
            "625      Spoof     0.0421      0.9579  Spoof\n",
            "628      Spoof     0.1254      0.8746  Spoof\n",
            "732      Spoof     0.1875      0.8125  Spoof\n",
            "752      Spoof     0.0000      1.0000  Spoof\n",
            "790      Spoof     0.0000      1.0000  Spoof\n",
            "836      Spoof     0.0130      0.9870  Spoof\n",
            "897      Spoof     0.0000      1.0000  Spoof\n",
            "909      Spoof     0.0000      1.0000  Spoof\n",
            "941      Spoof     0.0000      1.0000  Spoof\n",
            "975      Spoof     0.0609      0.9391  Spoof\n",
            "1085     Spoof     0.0532      0.9468  Spoof\n",
            "1112     Spoof     0.3987      0.6013  Spoof\n",
            "1380     Spoof     0.4359      0.5641  Spoof\n",
            "1385     Spoof     0.0013      0.9987  Spoof\n",
            "1395     Spoof     0.0000      1.0000  Spoof\n",
            "1403     Spoof     0.0946      0.9054  Spoof\n",
            "1407     Spoof     0.0280      0.9720  Spoof\n",
            "1431     Spoof     0.4459      0.5541  Spoof\n",
            "1437     Spoof     0.2660      0.7340  Spoof\n",
            "Numero di predizioni spoof giuste: 29\n",
            "Accuracy su img spoof: 1.93\n"
          ]
        }
      ]
    },
    {
      "cell_type": "markdown",
      "metadata": {
        "id": "a4Q78IIqWCTI"
      },
      "source": [
        "####Live"
      ]
    },
    {
      "cell_type": "code",
      "metadata": {
        "colab": {
          "base_uri": "https://localhost:8080/"
        },
        "id": "2GuxOWBYWTLk",
        "outputId": "4be499b5-16c5-436f-c70b-0337fe4cbc38"
      },
      "source": [
        "print(Test_orig)\n",
        "n_live=np.sum(Test_orig['real']=='Live')\n",
        "print(\"# img live: \"+str(n_live))"
      ],
      "execution_count": null,
      "outputs": [
        {
          "output_type": "stream",
          "name": "stdout",
          "text": [
            "     predicted   real  value_pred_live  value_pred_spoof\n",
            "0         Live   Live     9.999975e-01      2.466650e-06\n",
            "1         Live   Live     9.965458e-01      3.454167e-03\n",
            "2         Live   Live     9.999992e-01      8.817851e-07\n",
            "3         Live   Live     1.000000e+00      1.178422e-08\n",
            "4         Live   Live     9.999968e-01      3.219343e-06\n",
            "...        ...    ...              ...               ...\n",
            "2495     Spoof  Spoof     6.620399e-06      9.999933e-01\n",
            "2496     Spoof  Spoof     2.302027e-07      9.999998e-01\n",
            "2497     Spoof  Spoof     8.690116e-06      9.999913e-01\n",
            "2498     Spoof  Spoof     4.773208e-07      9.999995e-01\n",
            "2499     Spoof  Spoof     2.115458e-08      1.000000e+00\n",
            "\n",
            "[2500 rows x 4 columns]\n",
            "# img live: 1000\n"
          ]
        }
      ]
    },
    {
      "cell_type": "markdown",
      "metadata": {
        "id": "rtPKGqzEWCTI"
      },
      "source": [
        "prima"
      ]
    },
    {
      "cell_type": "code",
      "metadata": {
        "colab": {
          "base_uri": "https://localhost:8080/"
        },
        "id": "AtB5Te35WCTJ",
        "outputId": "8039ff36-0656-4530-b7eb-2924271f8ac5"
      },
      "source": [
        "p=Test_orig.loc[Test_orig['real']=='Live']\n",
        "p1=p.loc[p['predicted']==p['real']]\n",
        "print(\"Img realmente live e predette live\")\n",
        "print(p1)\n",
        "n_live_pred=p1.count(0)[0]\n",
        "print(\"Numero di predizioni live giuste: \"+str(n_live_pred))\n",
        "print(\"Accuracy su img live: \"+str(round(n_live_pred/n_live*100,2)))"
      ],
      "execution_count": null,
      "outputs": [
        {
          "output_type": "stream",
          "name": "stdout",
          "text": [
            "Img realmente live e predette live\n",
            "    predicted  real  value_pred_live  value_pred_spoof\n",
            "0        Live  Live         0.999997      2.466650e-06\n",
            "1        Live  Live         0.996546      3.454167e-03\n",
            "2        Live  Live         0.999999      8.817851e-07\n",
            "3        Live  Live         1.000000      1.178422e-08\n",
            "4        Live  Live         0.999997      3.219343e-06\n",
            "..        ...   ...              ...               ...\n",
            "993      Live  Live         0.997092      2.908215e-03\n",
            "994      Live  Live         0.649311      3.506885e-01\n",
            "995      Live  Live         0.899581      1.004193e-01\n",
            "998      Live  Live         0.521490      4.785097e-01\n",
            "999      Live  Live         0.990239      9.761168e-03\n",
            "\n",
            "[930 rows x 4 columns]\n",
            "Numero di predizioni live giuste: 930\n",
            "Accuracy su img live: 93.0\n"
          ]
        }
      ]
    },
    {
      "cell_type": "markdown",
      "metadata": {
        "id": "e3VNm1BCWCTJ"
      },
      "source": [
        "dopo"
      ]
    },
    {
      "cell_type": "code",
      "metadata": {
        "colab": {
          "base_uri": "https://localhost:8080/"
        },
        "id": "ssG-LK1zWCTJ",
        "outputId": "843571c0-c84a-43ea-bf11-e5d164e1b62d"
      },
      "source": [
        "d=Test_p.loc[Test_p['real']=='Live']\n",
        "d1=d.loc[d['predicted']==d['real']]\n",
        "print(\"Img realmente live e predette live\")\n",
        "print(d1)\n",
        "n_live_pred2=d1.count(0)[0]\n",
        "print(\"Numero di predizioni live giuste: \"+str(n_live_pred2))\n",
        "print(\"Accuracy su img live: \"+str(round(n_live_pred2/n_live*100,2)))"
      ],
      "execution_count": null,
      "outputs": [
        {
          "output_type": "stream",
          "name": "stdout",
          "text": [
            "Img realmente live e predette live\n",
            "    predicted  prob_live  prob_spoof  real\n",
            "0        Live     1.0000      0.0000  Live\n",
            "1        Live     0.9965      0.0035  Live\n",
            "2        Live     1.0000      0.0000  Live\n",
            "3        Live     1.0000      0.0000  Live\n",
            "4        Live     1.0000      0.0000  Live\n",
            "..        ...        ...         ...   ...\n",
            "993      Live     0.9971      0.0029  Live\n",
            "994      Live     0.6493      0.3507  Live\n",
            "995      Live     0.8996      0.1004  Live\n",
            "998      Live     0.5215      0.4785  Live\n",
            "999      Live     0.9902      0.0098  Live\n",
            "\n",
            "[930 rows x 4 columns]\n",
            "Numero di predizioni live giuste: 930\n",
            "Accuracy su img live: 93.0\n"
          ]
        }
      ]
    },
    {
      "cell_type": "markdown",
      "metadata": {
        "id": "ppH0s3Ov618F"
      },
      "source": [
        "##subplot"
      ]
    },
    {
      "cell_type": "code",
      "metadata": {
        "id": "bFxABzvs8VGd",
        "colab": {
          "base_uri": "https://localhost:8080/"
        },
        "outputId": "0aa1f958-7035-4843-b244-22f5a4b3d1ec"
      },
      "source": [
        "print(list_print)"
      ],
      "execution_count": null,
      "outputs": [
        {
          "output_type": "stream",
          "name": "stdout",
          "text": [
            "[33, 502, 632, 983, 1134, 1283, 1364, 1383, 1421, 1481]\n"
          ]
        }
      ]
    },
    {
      "cell_type": "code",
      "metadata": {
        "id": "S67o_Ele5Ob2"
      },
      "source": [
        "x_print=np.array(x_print)\n",
        "y_print=np.array(y_print)\n",
        "x_print_adv=np.array(x_print_adv)\n",
        "y_print_adv=np.array(y_print_adv)\n",
        "perturb_print=np.array(perturb_print)"
      ],
      "execution_count": 27,
      "outputs": []
    },
    {
      "cell_type": "code",
      "metadata": {
        "id": "sK7H3u-j_6BG",
        "colab": {
          "base_uri": "https://localhost:8080/"
        },
        "outputId": "7ba5895e-7fbf-46d7-f12d-2796699f276b"
      },
      "source": [
        "print(x_print_adv.shape)"
      ],
      "execution_count": null,
      "outputs": [
        {
          "output_type": "stream",
          "name": "stdout",
          "text": [
            "(10, 3, 1000, 1000)\n"
          ]
        }
      ]
    },
    {
      "cell_type": "code",
      "metadata": {
        "id": "qSs9SSpU7xgV"
      },
      "source": [
        "#da usare nel test finale\n",
        "preds_orig=Test_orig[1000:].predicted.values[list_print]\n",
        "print(preds_orig)\n",
        "print_subplot(perturb_print,x_print,y_print,preds_orig,x_print_adv,y_print_adv,normalize=False)"
      ],
      "execution_count": null,
      "outputs": []
    },
    {
      "cell_type": "code",
      "metadata": {
        "id": "YFV6X6RZ6ZA7",
        "colab": {
          "base_uri": "https://localhost:8080/",
          "height": 474
        },
        "outputId": "bb077e04-82fc-43eb-8ed1-e54052838202"
      },
      "source": [
        "#da usare solo con dataset ridotto\n",
        "preds_orig=[]\n",
        "for input,_ in testgen:\n",
        "  preds_orig_i,_=test_average_preds(classifier,input)\n",
        "  preds_orig.append(preds_orig_i)\n",
        "preds_orig=np.array(preds_orig)\n",
        "preds_orig=preds_orig[list_print]\n",
        "print_subplot(perturb_print,x_print,y_print,preds_orig,x_print_adv,y_print_adv,normalize=False)"
      ],
      "execution_count": 31,
      "outputs": [
        {
          "output_type": "stream",
          "name": "stderr",
          "text": [
            "/usr/local/lib/python3.7/dist-packages/ipykernel_launcher.py:28: UserWarning: Implicit dimension choice for softmax has been deprecated. Change the call to include dim=X as an argument.\n"
          ]
        },
        {
          "output_type": "stream",
          "name": "stdout",
          "text": [
            "\u001b[1mIMMAGINE \u001b[1m 0\n"
          ]
        },
        {
          "output_type": "display_data",
          "data": {
            "image/png": "[encoded data removed]",
            "text/plain": [
              "<Figure size 1440x1440 with 3 Axes>"
            ]
          },
          "metadata": {
            "needs_background": "light"
          }
        }
      ]
    },
    {
      "cell_type": "markdown",
      "metadata": {
        "id": "S-bsx7fXWquY"
      },
      "source": [
        "#prova salvataggio e lettura immagine"
      ]
    },
    {
      "cell_type": "code",
      "metadata": {
        "id": "D9-4BBmeRcH8",
        "colab": {
          "base_uri": "https://localhost:8080/",
          "height": 720
        },
        "outputId": "02a43eea-3df6-4b59-f5e5-89ca771f4b69"
      },
      "source": [
        "from PIL import Image\n",
        "i=6\n",
        "arr_init=x_print_adv[i].transpose(1,2,0)\n",
        "#arr_init=(arr_init-np.min(arr_init))/(np.max(arr_init)-np.min(arr_init))\n",
        "arr_init=(arr_init*255)\n",
        "print(np.min(arr_init),np.max(arr_init))\n",
        "#plt.imsave('prova.bmp',arr_init)\n",
        "cv2.imwrite('prova.png',arr_init)\n",
        "#plt.imshow(arr_init)\n",
        "cv2_imshow(arr_init)\n",
        "test_average_values(classifier,torch.Tensor(x_print_adv[i]).unsqueeze_(0))"
      ],
      "execution_count": null,
      "outputs": [
        {
          "output_type": "stream",
          "name": "stdout",
          "text": [
            "0.0 255.0\n"
          ]
        },
        {
          "output_type": "display_data",
          "data": {
            "image/png": "[encoded data removed]",
            "text/plain": [
              "<PIL.Image.Image image mode=RGB size=1000x1000 at 0x7FA44C60B390>"
            ]
          },
          "metadata": {}
        },
        {
          "output_type": "execute_result",
          "data": {
            "text/plain": [
              "(0, [1.0345222294330596, -0.019491440057754515])"
            ]
          },
          "metadata": {},
          "execution_count": 35
        }
      ]
    },
    {
      "cell_type": "code",
      "metadata": {
        "id": "pfkYe0h3W1Dk",
        "colab": {
          "base_uri": "https://localhost:8080/",
          "height": 720
        },
        "outputId": "66ac2576-35f1-4663-eb23-db103c3df1de"
      },
      "source": [
        "prova_arr=cv2.imread('prova.png')\n",
        "prova_arr=prova_arr/255\n",
        "#prova_arr=plt.imread('prova.bmp')\n",
        "#prova_arr=(prova_arr-np.min(prova_arr))/(np.max(prova_arr)-np.min(prova_arr))\n",
        "print(np.min(prova_arr),np.max(prova_arr))\n",
        "#plt.imshow(prova_arr*255)\n",
        "cv2_imshow(prova_arr*255)\n",
        "test_average_values(classifier,torch.Tensor(prova_arr.transpose(2,0,1)).unsqueeze_(0))"
      ],
      "execution_count": null,
      "outputs": [
        {
          "output_type": "stream",
          "name": "stdout",
          "text": [
            "0.0 1.0\n"
          ]
        },
        {
          "output_type": "display_data",
          "data": {
            "image/png": "[encoded data removed]",
            "text/plain": [
              "<PIL.Image.Image image mode=RGB size=1000x1000 at 0x7FA44C60B790>"
            ]
          },
          "metadata": {}
        },
        {
          "output_type": "execute_result",
          "data": {
            "text/plain": [
              "(0, [1.0210279673337936, -0.0028549492359161376])"
            ]
          },
          "metadata": {},
          "execution_count": 36
        }
      ]
    }
  ]
}