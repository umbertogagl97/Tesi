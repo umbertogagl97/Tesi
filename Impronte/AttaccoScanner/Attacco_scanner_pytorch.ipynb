{
  "nbformat": 4,
  "nbformat_minor": 0,
  "metadata": {
    "colab": {
      "name": "Attacco_scanner_pytorch.ipynb",
      "provenance": [],
      "collapsed_sections": [
        "lcoLiAGAtqBh",
        "OHENSlCXxzcr",
        "nGmEBN4oxqUO",
        "pIqUXUmoA541",
        "-ycpjmyb4Cxe",
        "dherpFOH0Uau",
        "5X10jetEyAax",
        "fETy1V2abbWo",
        "VeQuyOYGbbWp",
        "_miDmRukbbWq",
        "I5sK56TG2eT9",
        "9XepXK-ny3XN",
        "PBSyijWDqY4-",
        "O_c2L3v0r2xG",
        "VRhT4XM1sVm-",
        "MAU1QYvhrGVs",
        "aVwvG_5SKo7x",
        "xRRSYT01GRfB",
        "P3kr1yAn2UBl",
        "-56wdwb5TLHl",
        "QCO-pkW9GXc0",
        "kJ6xDO5GGZY5",
        "y71Fo3alJY0s",
        "nkdhgkab0e-B",
        "O2z5CDqCOjhi",
        "iTIkMx6Evczx",
        "liAmXvKByROm",
        "OzZkC7HimlHT",
        "Suibji7V0I7j",
        "Fq6B6unj2HcX",
        "cYPmQSaL2Oxa",
        "8w98YNCQGJGq",
        "ZFKEoI-enb8L",
        "g_sQeKbZfK74",
        "nLcnge6A0Npi",
        "lqk0NmxqjXkm",
        "Rn8n_-yejatQ"
      ],
      "mount_file_id": "1LFvCjg8zmdzf9GGORH3M3sLCejtQ0qUI",
      "authorship_tag": "ABX9TyMy7i1EdSFZxGRHDrcJghzG",
      "include_colab_link": true
    },
    "kernelspec": {
      "name": "python3",
      "display_name": "Python 3"
    },
    "language_info": {
      "name": "python"
    },
    "accelerator": "GPU",
    "widgets": {
      "application/vnd.jupyter.widget-state+json": {
        "554a6d71dfd7482483645205cc60dd08": {
          "model_module": "@jupyter-widgets/controls",
          "model_name": "HBoxModel",
          "model_module_version": "1.5.0",
          "state": {
            "_view_name": "HBoxView",
            "_dom_classes": [],
            "_model_name": "HBoxModel",
            "_view_module": "@jupyter-widgets/controls",
            "_model_module_version": "1.5.0",
            "_view_count": null,
            "_view_module_version": "1.5.0",
            "box_style": "",
            "layout": "IPY_MODEL_5be00104345443a3b9ec77f8ee5d30b8",
            "_model_module": "@jupyter-widgets/controls",
            "children": [
              "IPY_MODEL_8785e87fd9034735847c5d05a5af530d",
              "IPY_MODEL_15187fdf80d3492a99088974bf4ff267",
              "IPY_MODEL_20565ea05160416b9ec6f0f89daf670c"
            ]
          }
        },
        "5be00104345443a3b9ec77f8ee5d30b8": {
          "model_module": "@jupyter-widgets/base",
          "model_name": "LayoutModel",
          "model_module_version": "1.2.0",
          "state": {
            "_view_name": "LayoutView",
            "grid_template_rows": null,
            "right": null,
            "justify_content": null,
            "_view_module": "@jupyter-widgets/base",
            "overflow": null,
            "_model_module_version": "1.2.0",
            "_view_count": null,
            "flex_flow": null,
            "width": null,
            "min_width": null,
            "border": null,
            "align_items": null,
            "bottom": null,
            "_model_module": "@jupyter-widgets/base",
            "top": null,
            "grid_column": null,
            "overflow_y": null,
            "overflow_x": null,
            "grid_auto_flow": null,
            "grid_area": null,
            "grid_template_columns": null,
            "flex": null,
            "_model_name": "LayoutModel",
            "justify_items": null,
            "grid_row": null,
            "max_height": null,
            "align_content": null,
            "visibility": null,
            "align_self": null,
            "height": null,
            "min_height": null,
            "padding": null,
            "grid_auto_rows": null,
            "grid_gap": null,
            "max_width": null,
            "order": null,
            "_view_module_version": "1.2.0",
            "grid_template_areas": null,
            "object_position": null,
            "object_fit": null,
            "grid_auto_columns": null,
            "margin": null,
            "display": null,
            "left": null
          }
        },
        "8785e87fd9034735847c5d05a5af530d": {
          "model_module": "@jupyter-widgets/controls",
          "model_name": "HTMLModel",
          "model_module_version": "1.5.0",
          "state": {
            "_view_name": "HTMLView",
            "style": "IPY_MODEL_484c22613abf446aa39ae8b6e6da2395",
            "_dom_classes": [],
            "description": "",
            "_model_name": "HTMLModel",
            "placeholder": "​",
            "_view_module": "@jupyter-widgets/controls",
            "_model_module_version": "1.5.0",
            "value": "100%",
            "_view_count": null,
            "_view_module_version": "1.5.0",
            "description_tooltip": null,
            "_model_module": "@jupyter-widgets/controls",
            "layout": "IPY_MODEL_313d40cbf50645efba7422f7e8b5f9a1"
          }
        },
        "15187fdf80d3492a99088974bf4ff267": {
          "model_module": "@jupyter-widgets/controls",
          "model_name": "FloatProgressModel",
          "model_module_version": "1.5.0",
          "state": {
            "_view_name": "ProgressView",
            "style": "IPY_MODEL_ff957a3f03a64ec9b1c0d50b22dcfb9c",
            "_dom_classes": [],
            "description": "",
            "_model_name": "FloatProgressModel",
            "bar_style": "success",
            "max": 574673361,
            "_view_module": "@jupyter-widgets/controls",
            "_model_module_version": "1.5.0",
            "value": 574673361,
            "_view_count": null,
            "_view_module_version": "1.5.0",
            "orientation": "horizontal",
            "min": 0,
            "description_tooltip": null,
            "_model_module": "@jupyter-widgets/controls",
            "layout": "IPY_MODEL_ae9ec22c212f40a9958cd71610981e4d"
          }
        },
        "20565ea05160416b9ec6f0f89daf670c": {
          "model_module": "@jupyter-widgets/controls",
          "model_name": "HTMLModel",
          "model_module_version": "1.5.0",
          "state": {
            "_view_name": "HTMLView",
            "style": "IPY_MODEL_e03bf5432ba2456ab769fbe0c51573af",
            "_dom_classes": [],
            "description": "",
            "_model_name": "HTMLModel",
            "placeholder": "​",
            "_view_module": "@jupyter-widgets/controls",
            "_model_module_version": "1.5.0",
            "value": " 548M/548M [00:05&lt;00:00, 102MB/s]",
            "_view_count": null,
            "_view_module_version": "1.5.0",
            "description_tooltip": null,
            "_model_module": "@jupyter-widgets/controls",
            "layout": "IPY_MODEL_f9d1942e5b8b4556b0d1212df7a39127"
          }
        },
        "484c22613abf446aa39ae8b6e6da2395": {
          "model_module": "@jupyter-widgets/controls",
          "model_name": "DescriptionStyleModel",
          "model_module_version": "1.5.0",
          "state": {
            "_view_name": "StyleView",
            "_model_name": "DescriptionStyleModel",
            "description_width": "",
            "_view_module": "@jupyter-widgets/base",
            "_model_module_version": "1.5.0",
            "_view_count": null,
            "_view_module_version": "1.2.0",
            "_model_module": "@jupyter-widgets/controls"
          }
        },
        "313d40cbf50645efba7422f7e8b5f9a1": {
          "model_module": "@jupyter-widgets/base",
          "model_name": "LayoutModel",
          "model_module_version": "1.2.0",
          "state": {
            "_view_name": "LayoutView",
            "grid_template_rows": null,
            "right": null,
            "justify_content": null,
            "_view_module": "@jupyter-widgets/base",
            "overflow": null,
            "_model_module_version": "1.2.0",
            "_view_count": null,
            "flex_flow": null,
            "width": null,
            "min_width": null,
            "border": null,
            "align_items": null,
            "bottom": null,
            "_model_module": "@jupyter-widgets/base",
            "top": null,
            "grid_column": null,
            "overflow_y": null,
            "overflow_x": null,
            "grid_auto_flow": null,
            "grid_area": null,
            "grid_template_columns": null,
            "flex": null,
            "_model_name": "LayoutModel",
            "justify_items": null,
            "grid_row": null,
            "max_height": null,
            "align_content": null,
            "visibility": null,
            "align_self": null,
            "height": null,
            "min_height": null,
            "padding": null,
            "grid_auto_rows": null,
            "grid_gap": null,
            "max_width": null,
            "order": null,
            "_view_module_version": "1.2.0",
            "grid_template_areas": null,
            "object_position": null,
            "object_fit": null,
            "grid_auto_columns": null,
            "margin": null,
            "display": null,
            "left": null
          }
        },
        "ff957a3f03a64ec9b1c0d50b22dcfb9c": {
          "model_module": "@jupyter-widgets/controls",
          "model_name": "ProgressStyleModel",
          "model_module_version": "1.5.0",
          "state": {
            "_view_name": "StyleView",
            "_model_name": "ProgressStyleModel",
            "description_width": "",
            "_view_module": "@jupyter-widgets/base",
            "_model_module_version": "1.5.0",
            "_view_count": null,
            "_view_module_version": "1.2.0",
            "bar_color": null,
            "_model_module": "@jupyter-widgets/controls"
          }
        },
        "ae9ec22c212f40a9958cd71610981e4d": {
          "model_module": "@jupyter-widgets/base",
          "model_name": "LayoutModel",
          "model_module_version": "1.2.0",
          "state": {
            "_view_name": "LayoutView",
            "grid_template_rows": null,
            "right": null,
            "justify_content": null,
            "_view_module": "@jupyter-widgets/base",
            "overflow": null,
            "_model_module_version": "1.2.0",
            "_view_count": null,
            "flex_flow": null,
            "width": null,
            "min_width": null,
            "border": null,
            "align_items": null,
            "bottom": null,
            "_model_module": "@jupyter-widgets/base",
            "top": null,
            "grid_column": null,
            "overflow_y": null,
            "overflow_x": null,
            "grid_auto_flow": null,
            "grid_area": null,
            "grid_template_columns": null,
            "flex": null,
            "_model_name": "LayoutModel",
            "justify_items": null,
            "grid_row": null,
            "max_height": null,
            "align_content": null,
            "visibility": null,
            "align_self": null,
            "height": null,
            "min_height": null,
            "padding": null,
            "grid_auto_rows": null,
            "grid_gap": null,
            "max_width": null,
            "order": null,
            "_view_module_version": "1.2.0",
            "grid_template_areas": null,
            "object_position": null,
            "object_fit": null,
            "grid_auto_columns": null,
            "margin": null,
            "display": null,
            "left": null
          }
        },
        "e03bf5432ba2456ab769fbe0c51573af": {
          "model_module": "@jupyter-widgets/controls",
          "model_name": "DescriptionStyleModel",
          "model_module_version": "1.5.0",
          "state": {
            "_view_name": "StyleView",
            "_model_name": "DescriptionStyleModel",
            "description_width": "",
            "_view_module": "@jupyter-widgets/base",
            "_model_module_version": "1.5.0",
            "_view_count": null,
            "_view_module_version": "1.2.0",
            "_model_module": "@jupyter-widgets/controls"
          }
        },
        "f9d1942e5b8b4556b0d1212df7a39127": {
          "model_module": "@jupyter-widgets/base",
          "model_name": "LayoutModel",
          "model_module_version": "1.2.0",
          "state": {
            "_view_name": "LayoutView",
            "grid_template_rows": null,
            "right": null,
            "justify_content": null,
            "_view_module": "@jupyter-widgets/base",
            "overflow": null,
            "_model_module_version": "1.2.0",
            "_view_count": null,
            "flex_flow": null,
            "width": null,
            "min_width": null,
            "border": null,
            "align_items": null,
            "bottom": null,
            "_model_module": "@jupyter-widgets/base",
            "top": null,
            "grid_column": null,
            "overflow_y": null,
            "overflow_x": null,
            "grid_auto_flow": null,
            "grid_area": null,
            "grid_template_columns": null,
            "flex": null,
            "_model_name": "LayoutModel",
            "justify_items": null,
            "grid_row": null,
            "max_height": null,
            "align_content": null,
            "visibility": null,
            "align_self": null,
            "height": null,
            "min_height": null,
            "padding": null,
            "grid_auto_rows": null,
            "grid_gap": null,
            "max_width": null,
            "order": null,
            "_view_module_version": "1.2.0",
            "grid_template_areas": null,
            "object_position": null,
            "object_fit": null,
            "grid_auto_columns": null,
            "margin": null,
            "display": null,
            "left": null
          }
        }
      }
    }
  },
  "cells": [
    {
      "cell_type": "markdown",
      "metadata": {
        "id": "view-in-github",
        "colab_type": "text"
      },
      "source": [
        "<a href=\"https://colab.research.google.com/github/umbertogagl97/Tesi/blob/main/Impronte/AttaccoScanner/Attacco_scanner_pytorch.ipynb\" target=\"_parent\"><img src=\"https://colab.research.google.com/assets/colab-badge.svg\" alt=\"Open In Colab\"/></a>"
      ]
    },
    {
      "cell_type": "markdown",
      "metadata": {
        "id": "lcoLiAGAtqBh"
      },
      "source": [
        "# **Init**"
      ]
    },
    {
      "cell_type": "markdown",
      "metadata": {
        "id": "OHENSlCXxzcr"
      },
      "source": [
        "##Import ART"
      ]
    },
    {
      "cell_type": "code",
      "metadata": {
        "id": "hIKN5Oqa-i6u",
        "colab": {
          "base_uri": "https://localhost:8080/"
        },
        "outputId": "d8c36e1e-ba70-465b-8cec-5291f08e18e0"
      },
      "source": [
        "#importa ART\n",
        "!pip install adversarial-robustness-toolbox"
      ],
      "execution_count": 1,
      "outputs": [
        {
          "output_type": "stream",
          "name": "stdout",
          "text": [
            "Collecting adversarial-robustness-toolbox\n",
            "  Downloading adversarial_robustness_toolbox-1.8.1-py3-none-any.whl (1.1 MB)\n",
            "\u001b[?25l\r\u001b[K     |▎                               | 10 kB 34.6 MB/s eta 0:00:01\r\u001b[K     |▋                               | 20 kB 18.1 MB/s eta 0:00:01\r\u001b[K     |█                               | 30 kB 14.4 MB/s eta 0:00:01\r\u001b[K     |█▏                              | 40 kB 13.0 MB/s eta 0:00:01\r\u001b[K     |█▌                              | 51 kB 7.2 MB/s eta 0:00:01\r\u001b[K     |█▉                              | 61 kB 8.2 MB/s eta 0:00:01\r\u001b[K     |██                              | 71 kB 8.8 MB/s eta 0:00:01\r\u001b[K     |██▍                             | 81 kB 6.2 MB/s eta 0:00:01\r\u001b[K     |██▊                             | 92 kB 6.8 MB/s eta 0:00:01\r\u001b[K     |███                             | 102 kB 7.5 MB/s eta 0:00:01\r\u001b[K     |███▎                            | 112 kB 7.5 MB/s eta 0:00:01\r\u001b[K     |███▋                            | 122 kB 7.5 MB/s eta 0:00:01\r\u001b[K     |███▉                            | 133 kB 7.5 MB/s eta 0:00:01\r\u001b[K     |████▏                           | 143 kB 7.5 MB/s eta 0:00:01\r\u001b[K     |████▌                           | 153 kB 7.5 MB/s eta 0:00:01\r\u001b[K     |████▊                           | 163 kB 7.5 MB/s eta 0:00:01\r\u001b[K     |█████                           | 174 kB 7.5 MB/s eta 0:00:01\r\u001b[K     |█████▍                          | 184 kB 7.5 MB/s eta 0:00:01\r\u001b[K     |█████▋                          | 194 kB 7.5 MB/s eta 0:00:01\r\u001b[K     |██████                          | 204 kB 7.5 MB/s eta 0:00:01\r\u001b[K     |██████▎                         | 215 kB 7.5 MB/s eta 0:00:01\r\u001b[K     |██████▌                         | 225 kB 7.5 MB/s eta 0:00:01\r\u001b[K     |██████▉                         | 235 kB 7.5 MB/s eta 0:00:01\r\u001b[K     |███████▏                        | 245 kB 7.5 MB/s eta 0:00:01\r\u001b[K     |███████▍                        | 256 kB 7.5 MB/s eta 0:00:01\r\u001b[K     |███████▊                        | 266 kB 7.5 MB/s eta 0:00:01\r\u001b[K     |████████                        | 276 kB 7.5 MB/s eta 0:00:01\r\u001b[K     |████████▎                       | 286 kB 7.5 MB/s eta 0:00:01\r\u001b[K     |████████▋                       | 296 kB 7.5 MB/s eta 0:00:01\r\u001b[K     |█████████                       | 307 kB 7.5 MB/s eta 0:00:01\r\u001b[K     |█████████▏                      | 317 kB 7.5 MB/s eta 0:00:01\r\u001b[K     |█████████▌                      | 327 kB 7.5 MB/s eta 0:00:01\r\u001b[K     |█████████▉                      | 337 kB 7.5 MB/s eta 0:00:01\r\u001b[K     |██████████                      | 348 kB 7.5 MB/s eta 0:00:01\r\u001b[K     |██████████▍                     | 358 kB 7.5 MB/s eta 0:00:01\r\u001b[K     |██████████▊                     | 368 kB 7.5 MB/s eta 0:00:01\r\u001b[K     |███████████                     | 378 kB 7.5 MB/s eta 0:00:01\r\u001b[K     |███████████▎                    | 389 kB 7.5 MB/s eta 0:00:01\r\u001b[K     |███████████▋                    | 399 kB 7.5 MB/s eta 0:00:01\r\u001b[K     |███████████▉                    | 409 kB 7.5 MB/s eta 0:00:01\r\u001b[K     |████████████▏                   | 419 kB 7.5 MB/s eta 0:00:01\r\u001b[K     |████████████▌                   | 430 kB 7.5 MB/s eta 0:00:01\r\u001b[K     |████████████▊                   | 440 kB 7.5 MB/s eta 0:00:01\r\u001b[K     |█████████████                   | 450 kB 7.5 MB/s eta 0:00:01\r\u001b[K     |█████████████▍                  | 460 kB 7.5 MB/s eta 0:00:01\r\u001b[K     |█████████████▋                  | 471 kB 7.5 MB/s eta 0:00:01\r\u001b[K     |██████████████                  | 481 kB 7.5 MB/s eta 0:00:01\r\u001b[K     |██████████████▎                 | 491 kB 7.5 MB/s eta 0:00:01\r\u001b[K     |██████████████▌                 | 501 kB 7.5 MB/s eta 0:00:01\r\u001b[K     |██████████████▉                 | 512 kB 7.5 MB/s eta 0:00:01\r\u001b[K     |███████████████▏                | 522 kB 7.5 MB/s eta 0:00:01\r\u001b[K     |███████████████▍                | 532 kB 7.5 MB/s eta 0:00:01\r\u001b[K     |███████████████▊                | 542 kB 7.5 MB/s eta 0:00:01\r\u001b[K     |████████████████                | 552 kB 7.5 MB/s eta 0:00:01\r\u001b[K     |████████████████▎               | 563 kB 7.5 MB/s eta 0:00:01\r\u001b[K     |████████████████▋               | 573 kB 7.5 MB/s eta 0:00:01\r\u001b[K     |█████████████████               | 583 kB 7.5 MB/s eta 0:00:01\r\u001b[K     |█████████████████▏              | 593 kB 7.5 MB/s eta 0:00:01\r\u001b[K     |█████████████████▌              | 604 kB 7.5 MB/s eta 0:00:01\r\u001b[K     |█████████████████▉              | 614 kB 7.5 MB/s eta 0:00:01\r\u001b[K     |██████████████████              | 624 kB 7.5 MB/s eta 0:00:01\r\u001b[K     |██████████████████▍             | 634 kB 7.5 MB/s eta 0:00:01\r\u001b[K     |██████████████████▊             | 645 kB 7.5 MB/s eta 0:00:01\r\u001b[K     |███████████████████             | 655 kB 7.5 MB/s eta 0:00:01\r\u001b[K     |███████████████████▎            | 665 kB 7.5 MB/s eta 0:00:01\r\u001b[K     |███████████████████▋            | 675 kB 7.5 MB/s eta 0:00:01\r\u001b[K     |███████████████████▉            | 686 kB 7.5 MB/s eta 0:00:01\r\u001b[K     |████████████████████▏           | 696 kB 7.5 MB/s eta 0:00:01\r\u001b[K     |████████████████████▌           | 706 kB 7.5 MB/s eta 0:00:01\r\u001b[K     |████████████████████▊           | 716 kB 7.5 MB/s eta 0:00:01\r\u001b[K     |█████████████████████           | 727 kB 7.5 MB/s eta 0:00:01\r\u001b[K     |█████████████████████▍          | 737 kB 7.5 MB/s eta 0:00:01\r\u001b[K     |█████████████████████▋          | 747 kB 7.5 MB/s eta 0:00:01\r\u001b[K     |██████████████████████          | 757 kB 7.5 MB/s eta 0:00:01\r\u001b[K     |██████████████████████▎         | 768 kB 7.5 MB/s eta 0:00:01\r\u001b[K     |██████████████████████▌         | 778 kB 7.5 MB/s eta 0:00:01\r\u001b[K     |██████████████████████▉         | 788 kB 7.5 MB/s eta 0:00:01\r\u001b[K     |███████████████████████▏        | 798 kB 7.5 MB/s eta 0:00:01\r\u001b[K     |███████████████████████▍        | 808 kB 7.5 MB/s eta 0:00:01\r\u001b[K     |███████████████████████▊        | 819 kB 7.5 MB/s eta 0:00:01\r\u001b[K     |████████████████████████        | 829 kB 7.5 MB/s eta 0:00:01\r\u001b[K     |████████████████████████▎       | 839 kB 7.5 MB/s eta 0:00:01\r\u001b[K     |████████████████████████▋       | 849 kB 7.5 MB/s eta 0:00:01\r\u001b[K     |█████████████████████████       | 860 kB 7.5 MB/s eta 0:00:01\r\u001b[K     |█████████████████████████▏      | 870 kB 7.5 MB/s eta 0:00:01\r\u001b[K     |█████████████████████████▌      | 880 kB 7.5 MB/s eta 0:00:01\r\u001b[K     |█████████████████████████▉      | 890 kB 7.5 MB/s eta 0:00:01\r\u001b[K     |██████████████████████████      | 901 kB 7.5 MB/s eta 0:00:01\r\u001b[K     |██████████████████████████▍     | 911 kB 7.5 MB/s eta 0:00:01\r\u001b[K     |██████████████████████████▊     | 921 kB 7.5 MB/s eta 0:00:01\r\u001b[K     |███████████████████████████     | 931 kB 7.5 MB/s eta 0:00:01\r\u001b[K     |███████████████████████████▎    | 942 kB 7.5 MB/s eta 0:00:01\r\u001b[K     |███████████████████████████▋    | 952 kB 7.5 MB/s eta 0:00:01\r\u001b[K     |████████████████████████████    | 962 kB 7.5 MB/s eta 0:00:01\r\u001b[K     |████████████████████████████▏   | 972 kB 7.5 MB/s eta 0:00:01\r\u001b[K     |████████████████████████████▌   | 983 kB 7.5 MB/s eta 0:00:01\r\u001b[K     |████████████████████████████▉   | 993 kB 7.5 MB/s eta 0:00:01\r\u001b[K     |█████████████████████████████   | 1.0 MB 7.5 MB/s eta 0:00:01\r\u001b[K     |█████████████████████████████▍  | 1.0 MB 7.5 MB/s eta 0:00:01\r\u001b[K     |█████████████████████████████▊  | 1.0 MB 7.5 MB/s eta 0:00:01\r\u001b[K     |██████████████████████████████  | 1.0 MB 7.5 MB/s eta 0:00:01\r\u001b[K     |██████████████████████████████▎ | 1.0 MB 7.5 MB/s eta 0:00:01\r\u001b[K     |██████████████████████████████▋ | 1.1 MB 7.5 MB/s eta 0:00:01\r\u001b[K     |██████████████████████████████▉ | 1.1 MB 7.5 MB/s eta 0:00:01\r\u001b[K     |███████████████████████████████▏| 1.1 MB 7.5 MB/s eta 0:00:01\r\u001b[K     |███████████████████████████████▌| 1.1 MB 7.5 MB/s eta 0:00:01\r\u001b[K     |███████████████████████████████▊| 1.1 MB 7.5 MB/s eta 0:00:01\r\u001b[K     |████████████████████████████████| 1.1 MB 7.5 MB/s \n",
            "\u001b[?25hRequirement already satisfied: numpy>=1.18.0 in /usr/local/lib/python3.7/dist-packages (from adversarial-robustness-toolbox) (1.19.5)\n",
            "Requirement already satisfied: setuptools in /usr/local/lib/python3.7/dist-packages (from adversarial-robustness-toolbox) (57.4.0)\n",
            "Requirement already satisfied: six in /usr/local/lib/python3.7/dist-packages (from adversarial-robustness-toolbox) (1.15.0)\n",
            "Requirement already satisfied: scipy>=1.4.1 in /usr/local/lib/python3.7/dist-packages (from adversarial-robustness-toolbox) (1.4.1)\n",
            "Collecting numba>=0.53.1\n",
            "  Downloading numba-0.54.1-cp37-cp37m-manylinux2014_x86_64.manylinux_2_17_x86_64.whl (3.3 MB)\n",
            "\u001b[K     |████████████████████████████████| 3.3 MB 36.9 MB/s \n",
            "\u001b[?25hRequirement already satisfied: scikit-learn<1.1.0,>=0.22.2 in /usr/local/lib/python3.7/dist-packages (from adversarial-robustness-toolbox) (0.22.2.post1)\n",
            "Requirement already satisfied: tqdm in /usr/local/lib/python3.7/dist-packages (from adversarial-robustness-toolbox) (4.62.3)\n",
            "Collecting llvmlite<0.38,>=0.37.0rc1\n",
            "  Downloading llvmlite-0.37.0-cp37-cp37m-manylinux2014_x86_64.whl (26.3 MB)\n",
            "\u001b[K     |████████████████████████████████| 26.3 MB 1.5 MB/s \n",
            "\u001b[?25hRequirement already satisfied: joblib>=0.11 in /usr/local/lib/python3.7/dist-packages (from scikit-learn<1.1.0,>=0.22.2->adversarial-robustness-toolbox) (1.0.1)\n",
            "Installing collected packages: llvmlite, numba, adversarial-robustness-toolbox\n",
            "  Attempting uninstall: llvmlite\n",
            "    Found existing installation: llvmlite 0.34.0\n",
            "    Uninstalling llvmlite-0.34.0:\n",
            "      Successfully uninstalled llvmlite-0.34.0\n",
            "  Attempting uninstall: numba\n",
            "    Found existing installation: numba 0.51.2\n",
            "    Uninstalling numba-0.51.2:\n",
            "      Successfully uninstalled numba-0.51.2\n",
            "Successfully installed adversarial-robustness-toolbox-1.8.1 llvmlite-0.37.0 numba-0.54.1\n"
          ]
        }
      ]
    },
    {
      "cell_type": "markdown",
      "metadata": {
        "id": "nGmEBN4oxqUO"
      },
      "source": [
        "## Import librerie"
      ]
    },
    {
      "cell_type": "code",
      "metadata": {
        "id": "01RXI-DDIb3C"
      },
      "source": [
        "#Librerie\n",
        "\n",
        "import torch\n",
        "import torch.nn as nn\n",
        "import torch.optim as optim\n",
        "import numpy as np\n",
        "import torchvision\n",
        "from torchvision import datasets, models, transforms\n",
        "#import time\n",
        "#import os\n",
        "#import shutil\n",
        "#import copy\n",
        "\n",
        "import pandas as pd\n",
        "import matplotlib.pyplot as plt\n",
        "import sys\n"
      ],
      "execution_count": 2,
      "outputs": []
    },
    {
      "cell_type": "markdown",
      "metadata": {
        "id": "pIqUXUmoA541"
      },
      "source": [
        "##Check device\n"
      ]
    },
    {
      "cell_type": "code",
      "metadata": {
        "id": "P2pe5Zh2A4Ui",
        "colab": {
          "base_uri": "https://localhost:8080/"
        },
        "outputId": "50dd39c1-bce1-48d1-baf0-a0dd511492d2"
      },
      "source": [
        "print(torch.__version__)\n",
        "print(torch.cuda.is_available())\n",
        "print(torch.cuda.get_device_name(0))\n",
        "device = torch.device(\"cuda:0\" if torch.cuda.is_available() else \"cpu\")\n",
        "print(device)"
      ],
      "execution_count": 3,
      "outputs": [
        {
          "output_type": "stream",
          "name": "stdout",
          "text": [
            "1.9.0+cu111\n",
            "True\n",
            "Tesla P100-PCIE-16GB\n",
            "cuda:0\n"
          ]
        }
      ]
    },
    {
      "cell_type": "markdown",
      "metadata": {
        "id": "-ycpjmyb4Cxe"
      },
      "source": [
        "##Def path"
      ]
    },
    {
      "cell_type": "code",
      "metadata": {
        "id": "4hMuySVI4GgY"
      },
      "source": [
        "#scanner\n",
        "scanner_name = 'HiScan'\n",
        "\n",
        "#salvataggio modello\n",
        "model_name = 'VGG19_paper_10epoc_lr5_bs200_adam'\n",
        "path_model = F\"/content/gdrive/My Drive/ModelliCNN/Scanner/{scanner_name}/{model_name}\" \n",
        "\n",
        "#dataset\n",
        "pathTestset=F'/content/gdrive/MyDrive/Dataset_impronte/test/{scanner_name}'"
      ],
      "execution_count": 4,
      "outputs": []
    },
    {
      "cell_type": "markdown",
      "metadata": {
        "id": "dherpFOH0Uau"
      },
      "source": [
        "##Collegamento google drive"
      ]
    },
    {
      "cell_type": "code",
      "metadata": {
        "id": "vyvTOQw-aHRP",
        "colab": {
          "base_uri": "https://localhost:8080/"
        },
        "outputId": "1bd75a1c-f21a-4d91-db2f-b2ccc00b2eec"
      },
      "source": [
        "#collegamento google drive\n",
        "from google.colab import drive\n",
        "drive.mount('/content/gdrive')"
      ],
      "execution_count": 5,
      "outputs": [
        {
          "output_type": "stream",
          "name": "stdout",
          "text": [
            "Mounted at /content/gdrive\n"
          ]
        }
      ]
    },
    {
      "cell_type": "markdown",
      "metadata": {
        "id": "5X10jetEyAax"
      },
      "source": [
        "#**Dataset**"
      ]
    },
    {
      "cell_type": "markdown",
      "metadata": {
        "id": "fETy1V2abbWo"
      },
      "source": [
        "##Caricamento dataset"
      ]
    },
    {
      "cell_type": "code",
      "metadata": {
        "id": "AMW6yAMPbbWp",
        "colab": {
          "base_uri": "https://localhost:8080/"
        },
        "outputId": "c438f6d5-f1e5-42c4-c242-ed567048e611"
      },
      "source": [
        "test_dataset = datasets.ImageFolder(pathTestset,transforms.ToTensor())\n",
        "dim_set=len(test_dataset)\n",
        "print(dim_set)"
      ],
      "execution_count": 6,
      "outputs": [
        {
          "output_type": "stream",
          "name": "stdout",
          "text": [
            "2500\n"
          ]
        }
      ]
    },
    {
      "cell_type": "markdown",
      "metadata": {
        "id": "_miDmRukbbWq"
      },
      "source": [
        "##Dataloader"
      ]
    },
    {
      "cell_type": "code",
      "metadata": {
        "id": "o3JB4rWJbbWq",
        "colab": {
          "base_uri": "https://localhost:8080/"
        },
        "outputId": "490d33ac-66dc-4aa5-fabf-b153b0c9ed3e"
      },
      "source": [
        "testgen=torch.utils.data.DataLoader(test_dataset, pin_memory=True, batch_size=1,num_workers=2)\n",
        "print(len(testgen))"
      ],
      "execution_count": 7,
      "outputs": [
        {
          "output_type": "stream",
          "name": "stdout",
          "text": [
            "2500\n"
          ]
        }
      ]
    },
    {
      "cell_type": "markdown",
      "metadata": {
        "id": "ZazQQE8ypKP9"
      },
      "source": [
        "##Nomi classi"
      ]
    },
    {
      "cell_type": "code",
      "metadata": {
        "colab": {
          "base_uri": "https://localhost:8080/"
        },
        "id": "DYk4cr4eo9Ir",
        "outputId": "60868ed7-e6c3-48e5-ead3-bde8ab8d5b2e"
      },
      "source": [
        "classes_name=test_dataset.classes\n",
        "class_number=len(classes_name)\n",
        "print(classes_name)\n",
        "print(class_number)"
      ],
      "execution_count": 8,
      "outputs": [
        {
          "output_type": "stream",
          "name": "stdout",
          "text": [
            "['Live', 'Spoof']\n",
            "2\n"
          ]
        }
      ]
    },
    {
      "cell_type": "markdown",
      "metadata": {
        "id": "cj8l5WYXimg_"
      },
      "source": [
        "#**Dataset attack**"
      ]
    },
    {
      "cell_type": "markdown",
      "metadata": {
        "id": "GN6UlChaimhH"
      },
      "source": [
        "##Caricamento dataset"
      ]
    },
    {
      "cell_type": "code",
      "metadata": {
        "id": "wZrWrHXMimhH"
      },
      "source": [
        "data_transform_attack=data_transform=transforms.Compose([transforms.Resize([224,224]),\n",
        "        transforms.ToTensor(),\n",
        "        transforms.Normalize([0.485, 0.456, 0.406], [0.229, 0.224, 0.225])\n",
        "        ])\n",
        "test_dataset_at = datasets.ImageFolder(pathTestset,transform=data_transform_attack)"
      ],
      "execution_count": 9,
      "outputs": []
    },
    {
      "cell_type": "markdown",
      "metadata": {
        "id": "Juf1MXF5imhI"
      },
      "source": [
        "##Dataloader"
      ]
    },
    {
      "cell_type": "code",
      "metadata": {
        "id": "X0lm4xw8imhI"
      },
      "source": [
        "testgen_at=torch.utils.data.DataLoader(test_dataset_at, pin_memory=True, batch_size=1,num_workers=2)"
      ],
      "execution_count": 10,
      "outputs": []
    },
    {
      "cell_type": "markdown",
      "metadata": {
        "id": "AJ_O-UAECNMk"
      },
      "source": [
        "#**Riduzione dataset**"
      ]
    },
    {
      "cell_type": "markdown",
      "metadata": {
        "id": "VeQuyOYGbbWp"
      },
      "source": [
        "##riduzione dataset originale"
      ]
    },
    {
      "cell_type": "code",
      "metadata": {
        "id": "RnOEmgNRbbWp",
        "colab": {
          "base_uri": "https://localhost:8080/"
        },
        "outputId": "2e87adc8-79e3-4b77-a4cf-524633458713"
      },
      "source": [
        "test_dataset.samples=test_dataset.samples[:5]\n",
        "test_dataset.targets=test_dataset.targets[:5]\n",
        "\n",
        "dim_set=len(test_dataset)\n",
        "print(dim_set)"
      ],
      "execution_count": 11,
      "outputs": [
        {
          "output_type": "stream",
          "name": "stdout",
          "text": [
            "5\n"
          ]
        }
      ]
    },
    {
      "cell_type": "markdown",
      "metadata": {
        "id": "OUWonOiMimhH"
      },
      "source": [
        "##riduzione dataset attack"
      ]
    },
    {
      "cell_type": "code",
      "metadata": {
        "id": "d8Av8XblimhH"
      },
      "source": [
        "test_dataset_at.samples=test_dataset_at.samples[:5]\n",
        "test_dataset_at.targets=test_dataset_at.targets[:5]"
      ],
      "execution_count": 12,
      "outputs": []
    },
    {
      "cell_type": "markdown",
      "metadata": {
        "id": "9XepXK-ny3XN"
      },
      "source": [
        "# **Creazione modello**\n",
        "\n",
        "> non ho bloccato i parametri inferiori e sbloccato quelli del classificatore, vedi se funziona\n",
        "\n"
      ]
    },
    {
      "cell_type": "markdown",
      "metadata": {
        "id": "PBSyijWDqY4-"
      },
      "source": [
        "##Load model pre-trained"
      ]
    },
    {
      "cell_type": "code",
      "metadata": {
        "id": "GymaBXhaPMvL",
        "colab": {
          "base_uri": "https://localhost:8080/",
          "height": 0,
          "referenced_widgets": [
            "554a6d71dfd7482483645205cc60dd08",
            "5be00104345443a3b9ec77f8ee5d30b8",
            "8785e87fd9034735847c5d05a5af530d",
            "15187fdf80d3492a99088974bf4ff267",
            "20565ea05160416b9ec6f0f89daf670c",
            "484c22613abf446aa39ae8b6e6da2395",
            "313d40cbf50645efba7422f7e8b5f9a1",
            "ff957a3f03a64ec9b1c0d50b22dcfb9c",
            "ae9ec22c212f40a9958cd71610981e4d",
            "e03bf5432ba2456ab769fbe0c51573af",
            "f9d1942e5b8b4556b0d1212df7a39127"
          ]
        },
        "outputId": "0e19222d-709e-47e7-b1a6-e0b26769f985"
      },
      "source": [
        "model = models.vgg19(pretrained=True,progress=True)\n",
        "print(model)"
      ],
      "execution_count": 11,
      "outputs": [
        {
          "output_type": "stream",
          "name": "stderr",
          "text": [
            "Downloading: \"https://download.pytorch.org/models/vgg19-dcbb9e9d.pth\" to /root/.cache/torch/hub/checkpoints/vgg19-dcbb9e9d.pth\n"
          ]
        },
        {
          "output_type": "display_data",
          "data": {
            "application/vnd.jupyter.widget-view+json": {
              "model_id": "554a6d71dfd7482483645205cc60dd08",
              "version_minor": 0,
              "version_major": 2
            },
            "text/plain": [
              "  0%|          | 0.00/548M [00:00<?, ?B/s]"
            ]
          },
          "metadata": {}
        },
        {
          "output_type": "stream",
          "name": "stdout",
          "text": [
            "VGG(\n",
            "  (features): Sequential(\n",
            "    (0): Conv2d(3, 64, kernel_size=(3, 3), stride=(1, 1), padding=(1, 1))\n",
            "    (1): ReLU(inplace=True)\n",
            "    (2): Conv2d(64, 64, kernel_size=(3, 3), stride=(1, 1), padding=(1, 1))\n",
            "    (3): ReLU(inplace=True)\n",
            "    (4): MaxPool2d(kernel_size=2, stride=2, padding=0, dilation=1, ceil_mode=False)\n",
            "    (5): Conv2d(64, 128, kernel_size=(3, 3), stride=(1, 1), padding=(1, 1))\n",
            "    (6): ReLU(inplace=True)\n",
            "    (7): Conv2d(128, 128, kernel_size=(3, 3), stride=(1, 1), padding=(1, 1))\n",
            "    (8): ReLU(inplace=True)\n",
            "    (9): MaxPool2d(kernel_size=2, stride=2, padding=0, dilation=1, ceil_mode=False)\n",
            "    (10): Conv2d(128, 256, kernel_size=(3, 3), stride=(1, 1), padding=(1, 1))\n",
            "    (11): ReLU(inplace=True)\n",
            "    (12): Conv2d(256, 256, kernel_size=(3, 3), stride=(1, 1), padding=(1, 1))\n",
            "    (13): ReLU(inplace=True)\n",
            "    (14): Conv2d(256, 256, kernel_size=(3, 3), stride=(1, 1), padding=(1, 1))\n",
            "    (15): ReLU(inplace=True)\n",
            "    (16): Conv2d(256, 256, kernel_size=(3, 3), stride=(1, 1), padding=(1, 1))\n",
            "    (17): ReLU(inplace=True)\n",
            "    (18): MaxPool2d(kernel_size=2, stride=2, padding=0, dilation=1, ceil_mode=False)\n",
            "    (19): Conv2d(256, 512, kernel_size=(3, 3), stride=(1, 1), padding=(1, 1))\n",
            "    (20): ReLU(inplace=True)\n",
            "    (21): Conv2d(512, 512, kernel_size=(3, 3), stride=(1, 1), padding=(1, 1))\n",
            "    (22): ReLU(inplace=True)\n",
            "    (23): Conv2d(512, 512, kernel_size=(3, 3), stride=(1, 1), padding=(1, 1))\n",
            "    (24): ReLU(inplace=True)\n",
            "    (25): Conv2d(512, 512, kernel_size=(3, 3), stride=(1, 1), padding=(1, 1))\n",
            "    (26): ReLU(inplace=True)\n",
            "    (27): MaxPool2d(kernel_size=2, stride=2, padding=0, dilation=1, ceil_mode=False)\n",
            "    (28): Conv2d(512, 512, kernel_size=(3, 3), stride=(1, 1), padding=(1, 1))\n",
            "    (29): ReLU(inplace=True)\n",
            "    (30): Conv2d(512, 512, kernel_size=(3, 3), stride=(1, 1), padding=(1, 1))\n",
            "    (31): ReLU(inplace=True)\n",
            "    (32): Conv2d(512, 512, kernel_size=(3, 3), stride=(1, 1), padding=(1, 1))\n",
            "    (33): ReLU(inplace=True)\n",
            "    (34): Conv2d(512, 512, kernel_size=(3, 3), stride=(1, 1), padding=(1, 1))\n",
            "    (35): ReLU(inplace=True)\n",
            "    (36): MaxPool2d(kernel_size=2, stride=2, padding=0, dilation=1, ceil_mode=False)\n",
            "  )\n",
            "  (avgpool): AdaptiveAvgPool2d(output_size=(7, 7))\n",
            "  (classifier): Sequential(\n",
            "    (0): Linear(in_features=25088, out_features=4096, bias=True)\n",
            "    (1): ReLU(inplace=True)\n",
            "    (2): Dropout(p=0.5, inplace=False)\n",
            "    (3): Linear(in_features=4096, out_features=4096, bias=True)\n",
            "    (4): ReLU(inplace=True)\n",
            "    (5): Dropout(p=0.5, inplace=False)\n",
            "    (6): Linear(in_features=4096, out_features=1000, bias=True)\n",
            "  )\n",
            ")\n"
          ]
        }
      ]
    },
    {
      "cell_type": "markdown",
      "metadata": {
        "id": "O_c2L3v0r2xG"
      },
      "source": [
        "##Aggiunta classificatore"
      ]
    },
    {
      "cell_type": "code",
      "metadata": {
        "id": "d1qeI3_3qKJJ",
        "colab": {
          "base_uri": "https://localhost:8080/"
        },
        "outputId": "33b0b8a5-f706-4798-fef7-bca112bed443"
      },
      "source": [
        "model.classifier[6]=nn.Linear(4096,2) #per vgg19\n",
        "#model.classifier=nn.Linear(1920,2) #per densenet201\n",
        "\n",
        "print(model) "
      ],
      "execution_count": 12,
      "outputs": [
        {
          "output_type": "stream",
          "name": "stdout",
          "text": [
            "VGG(\n",
            "  (features): Sequential(\n",
            "    (0): Conv2d(3, 64, kernel_size=(3, 3), stride=(1, 1), padding=(1, 1))\n",
            "    (1): ReLU(inplace=True)\n",
            "    (2): Conv2d(64, 64, kernel_size=(3, 3), stride=(1, 1), padding=(1, 1))\n",
            "    (3): ReLU(inplace=True)\n",
            "    (4): MaxPool2d(kernel_size=2, stride=2, padding=0, dilation=1, ceil_mode=False)\n",
            "    (5): Conv2d(64, 128, kernel_size=(3, 3), stride=(1, 1), padding=(1, 1))\n",
            "    (6): ReLU(inplace=True)\n",
            "    (7): Conv2d(128, 128, kernel_size=(3, 3), stride=(1, 1), padding=(1, 1))\n",
            "    (8): ReLU(inplace=True)\n",
            "    (9): MaxPool2d(kernel_size=2, stride=2, padding=0, dilation=1, ceil_mode=False)\n",
            "    (10): Conv2d(128, 256, kernel_size=(3, 3), stride=(1, 1), padding=(1, 1))\n",
            "    (11): ReLU(inplace=True)\n",
            "    (12): Conv2d(256, 256, kernel_size=(3, 3), stride=(1, 1), padding=(1, 1))\n",
            "    (13): ReLU(inplace=True)\n",
            "    (14): Conv2d(256, 256, kernel_size=(3, 3), stride=(1, 1), padding=(1, 1))\n",
            "    (15): ReLU(inplace=True)\n",
            "    (16): Conv2d(256, 256, kernel_size=(3, 3), stride=(1, 1), padding=(1, 1))\n",
            "    (17): ReLU(inplace=True)\n",
            "    (18): MaxPool2d(kernel_size=2, stride=2, padding=0, dilation=1, ceil_mode=False)\n",
            "    (19): Conv2d(256, 512, kernel_size=(3, 3), stride=(1, 1), padding=(1, 1))\n",
            "    (20): ReLU(inplace=True)\n",
            "    (21): Conv2d(512, 512, kernel_size=(3, 3), stride=(1, 1), padding=(1, 1))\n",
            "    (22): ReLU(inplace=True)\n",
            "    (23): Conv2d(512, 512, kernel_size=(3, 3), stride=(1, 1), padding=(1, 1))\n",
            "    (24): ReLU(inplace=True)\n",
            "    (25): Conv2d(512, 512, kernel_size=(3, 3), stride=(1, 1), padding=(1, 1))\n",
            "    (26): ReLU(inplace=True)\n",
            "    (27): MaxPool2d(kernel_size=2, stride=2, padding=0, dilation=1, ceil_mode=False)\n",
            "    (28): Conv2d(512, 512, kernel_size=(3, 3), stride=(1, 1), padding=(1, 1))\n",
            "    (29): ReLU(inplace=True)\n",
            "    (30): Conv2d(512, 512, kernel_size=(3, 3), stride=(1, 1), padding=(1, 1))\n",
            "    (31): ReLU(inplace=True)\n",
            "    (32): Conv2d(512, 512, kernel_size=(3, 3), stride=(1, 1), padding=(1, 1))\n",
            "    (33): ReLU(inplace=True)\n",
            "    (34): Conv2d(512, 512, kernel_size=(3, 3), stride=(1, 1), padding=(1, 1))\n",
            "    (35): ReLU(inplace=True)\n",
            "    (36): MaxPool2d(kernel_size=2, stride=2, padding=0, dilation=1, ceil_mode=False)\n",
            "  )\n",
            "  (avgpool): AdaptiveAvgPool2d(output_size=(7, 7))\n",
            "  (classifier): Sequential(\n",
            "    (0): Linear(in_features=25088, out_features=4096, bias=True)\n",
            "    (1): ReLU(inplace=True)\n",
            "    (2): Dropout(p=0.5, inplace=False)\n",
            "    (3): Linear(in_features=4096, out_features=4096, bias=True)\n",
            "    (4): ReLU(inplace=True)\n",
            "    (5): Dropout(p=0.5, inplace=False)\n",
            "    (6): Linear(in_features=4096, out_features=2, bias=True)\n",
            "  )\n",
            ")\n"
          ]
        }
      ]
    },
    {
      "cell_type": "markdown",
      "metadata": {
        "id": "HOHqOuTVAMaz"
      },
      "source": [
        "##Load pesi"
      ]
    },
    {
      "cell_type": "code",
      "metadata": {
        "id": "CEXv4tQ3AOi0",
        "colab": {
          "base_uri": "https://localhost:8080/"
        },
        "outputId": "6384c673-d875-4059-e0ac-31c7b875b39f"
      },
      "source": [
        "model.load_state_dict(torch.load(path_model))#,map_location=torch.device('cpu')))\n"
      ],
      "execution_count": 13,
      "outputs": [
        {
          "output_type": "execute_result",
          "data": {
            "text/plain": [
              "<All keys matched successfully>"
            ]
          },
          "metadata": {},
          "execution_count": 13
        }
      ]
    },
    {
      "cell_type": "markdown",
      "metadata": {
        "id": "VRhT4XM1sVm-"
      },
      "source": [
        "##Set iperparametri"
      ]
    },
    {
      "cell_type": "code",
      "metadata": {
        "id": "zH1X3BB5sX6w"
      },
      "source": [
        "learning_rate = 1e-5\n",
        "\n",
        "criterion = nn.CrossEntropyLoss() #criterio dell'aggiornamento del gradiente: minimizzazione funzione loss entropia\n",
        "optimizer = optim.Adam(model.classifier.parameters(),lr=learning_rate)#,momentum=momentum)"
      ],
      "execution_count": 14,
      "outputs": []
    },
    {
      "cell_type": "markdown",
      "metadata": {
        "id": "P3kr1yAn2UBl"
      },
      "source": [
        "# **Def funzioni**"
      ]
    },
    {
      "cell_type": "markdown",
      "metadata": {
        "id": "QCO-pkW9GXc0"
      },
      "source": [
        "##Calcolo perturbazioni\n",
        "\n"
      ]
    },
    {
      "cell_type": "code",
      "metadata": {
        "id": "ICBxtPOSDHmY"
      },
      "source": [
        "def compute_perturb(x,x_adv):\n",
        "  '''\n",
        "    x: img originali\n",
        "    x_adv: img contraddittorie\n",
        "    return: pertubazioni, media, perturbazioni normalizzate in [0,1] \n",
        "  '''\n",
        "  perturb=x_adv-x\n",
        "  m=np.mean(np.abs((x_adv - x)))\n",
        "  print('Average perturbation: {:4.2f}'.format(m))\n",
        "  min, max = np.amin(perturb), np.amax(perturb)\n",
        "  perturb_norm = (perturb - min) / (max - min)\n",
        "  return perturb,m,perturb_norm"
      ],
      "execution_count": 15,
      "outputs": []
    },
    {
      "cell_type": "markdown",
      "metadata": {
        "id": "kJ6xDO5GGZY5"
      },
      "source": [
        "##Testing"
      ]
    },
    {
      "cell_type": "markdown",
      "metadata": {
        "id": "c5WjC95nDTS3"
      },
      "source": [
        "senza media"
      ]
    },
    {
      "cell_type": "code",
      "metadata": {
        "id": "Jg0ANI0SGalZ"
      },
      "source": [
        "def testing(x,y,classifier):\n",
        "  '''\n",
        "    x: img test\n",
        "    y: classi reali\n",
        "    classifier: modello di tipo Keras addestrato\n",
        "    return: valori probabilità, classi predette, accuracy\n",
        "  '''\n",
        "  \n",
        "  value_preds=classifier.predict(x) #contiene i valori tra 0 e 1 predetti per ognuna delle 10 classi e per ogni immagine\n",
        "  preds = np.argmax(value_preds, axis=1) #(le predizioni vanno da 0 a 9 e indicano la classe predetta)\n",
        "  acc = (np.sum(preds == np.argmax(y, axis=1)) / y.shape[0])*100\n",
        "  print(\"Accuracy on test set:\", (round(acc,2)))\n",
        "  #print(\"classi predette: \",preds)\n",
        "  return value_preds,preds,acc"
      ],
      "execution_count": 16,
      "outputs": []
    },
    {
      "cell_type": "markdown",
      "metadata": {
        "id": "VYLf6jaODUYe"
      },
      "source": [
        "con media"
      ]
    },
    {
      "cell_type": "code",
      "metadata": {
        "id": "og1eazVBDVKE"
      },
      "source": [
        "#calcola la dimensione che devono avere i vari crop\n",
        "def calc_size(n):\n",
        "  '''\n",
        "  n: int \n",
        "  return: 80% of n\n",
        "  '''\n",
        "  return tuple(int(np.ceil(i * (80/100))) for i in n)\n",
        "\n",
        "def test_average(model,test_loader,):\n",
        "  '''\n",
        "  model: model trained\n",
        "  test_loader: dataloader \n",
        "  return: dataframe{n_img,class_predicted,class_real}\n",
        "  '''\n",
        "\n",
        "  Test = pd.DataFrame()\n",
        "  model.eval()\n",
        "  model.cuda()\n",
        "  data_transform_test= transforms.Compose([transforms.Resize([224,224]),\n",
        "          transforms.Normalize([0.485, 0.456, 0.406], [0.229, 0.224, 0.225])\n",
        "          ])\n",
        "  i=0\n",
        "  for input,label in test_loader:\n",
        "    i+=1\n",
        "    n=input.shape\n",
        "    n_mod=calc_size(n[2:4])\n",
        "    crop_transform=transforms.TenCrop((n_mod[0],n_mod[1]))#.to(device)\n",
        "    crops=crop_transform(input)\n",
        "    live=0\n",
        "    spoof=0\n",
        "    sys.stdout.write(\"\\rImage {0}/{1}\".format(i,len(test_loader)))\n",
        "    sys.stdout.flush()\n",
        "    for crop in crops:\n",
        "      crop=data_transform_test(crop).to(device)\n",
        "      outputs = model(crop)\n",
        "      live+=outputs[0][0]\n",
        "      spoof+=outputs[0][1]\n",
        "    live=live/10\n",
        "    spoof=spoof/10\n",
        "    predicted=np.argmax([live,spoof])\n",
        "    Test = Test.append({'real': classes_name[int(label)] ,\n",
        "                        'predicted': classes_name[predicted],\n",
        "                        'value_pred_live': live.item(),\n",
        "                        'value_pred_spoof': spoof.item()},ignore_index = True)\n",
        "\n",
        "  true_label = Test.real.values\n",
        "  predicted = Test.predicted.values\n",
        "  accuracy=round((np.sum((true_label == predicted).astype(int)))/Test.shape[0],4)*100\n",
        "  print(\"\\nAccuracy: {0}\".format(accuracy))\n",
        "  print(\"Shape dataframe: {0}\".format(Test.shape))  \n",
        "\n",
        "  return Test"
      ],
      "execution_count": 17,
      "outputs": []
    },
    {
      "cell_type": "markdown",
      "metadata": {
        "id": "y71Fo3alJY0s"
      },
      "source": [
        "##Print subplot"
      ]
    },
    {
      "cell_type": "code",
      "metadata": {
        "id": "16Pou8fjJapa"
      },
      "source": [
        "def print_subplot(n_img,preds,value_preds_adv,x_test,y_test,x_test_adv,perturb_norm,normalize=True):\n",
        "  '''\n",
        "    n_img: prime n immagini da visualizzare\n",
        "    preds: classi predette per img originali\n",
        "    value_preds_adv: probabilità predette img contraddittorie\n",
        "    x_test: img originali\n",
        "    y_test: classi originali\n",
        "    x_test_adv: img contraddittoria\n",
        "    perturb_norm: perturbazioni normalizzate\n",
        "  '''\n",
        "  \n",
        "  if normalize:\n",
        "    min,max=np.min(x_test),np.max(x_test)\n",
        "    x_test = (x_test - min) / (max - min)\n",
        "    min,max=np.min(x_test_adv),np.max(x_test_adv)\n",
        "    x_test_adv = (x_test_adv - min) / (max - min)\n",
        "\n",
        "  #nel seguente ciclo for si crea un vettore delle classi predette ordinato per probabilità decrescente\n",
        "  for i in range(n_img):#(x_test.shape[0]):\n",
        "    value=value_preds_adv[i]*100\n",
        "    value_sorted=sorted(value,reverse=True)\n",
        "    classes=[]\n",
        "    for j in range(value.size) :\n",
        "      ind=np.where(value==value_sorted[j]) #restituisce l'indice in value del valore uguale a value_sorted[i], quindi è la classe\n",
        "      classes.append(classes_name[ind[0][0]]) #classes è il vettore finale\n",
        "    \n",
        "    value_sorted=[ round(elem, 2) for elem in value_sorted ]\n",
        "\n",
        "    #in seguito per ogni immagine del test set si stampa un subplot\n",
        "    fig = plt.figure(figsize=[10,10])\n",
        "    plt.subplots_adjust(wspace=0.9)\n",
        "    print('\\033[1m'+\"IMMAGINE \"+'\\033[1m',i) #valore END: '\\033[0m'\n",
        "    #originale\n",
        "    ax1 = fig.add_subplot(131) #subplot con 3 righe e due colonne\n",
        "    ax1.axis('off')\n",
        "    #ax1.imshow(cv2.rotate(x_test[i],cv2.cv2.ROTATE_90_CLOCKWISE))\n",
        "    ax1.imshow(x_test[i].transpose(1,2,0))\n",
        "    ax1.title.set_text(\"ORIGINALE\\nclasse reale: \"+classes_name[np.argmax(y_test[i])]+\"\\nclasse predetta: \"+str(preds[i]))\n",
        "    #perturbazione\n",
        "    ax2 = fig.add_subplot(132)\n",
        "    #ax2.imshow(cv2.rotate(perturb_norm[i],cv2.cv2.ROTATE_90_CLOCKWISE))\n",
        "    ax2.imshow(perturb_norm[i].transpose(1,2,0))\n",
        "    ax2.axis('off')\n",
        "    ax2.title.set_text(\"PERTURBAZIONE\")\n",
        "    #perturbata\n",
        "    ax3 = fig.add_subplot(133)\n",
        "    #ax3.imshow(cv2.rotate(x_test_adv[i],cv2.cv2.ROTATE_90_CLOCKWISE))#,aspect='auto')\n",
        "    ax3.imshow(x_test_adv[i].transpose(1,2,0))\n",
        "    ax3.axis('off')\n",
        "    ax3.title.set_text(\"PERTURBATA\\nclassi predette: \"+str(classes)+\"\\ncon valori: \"+str(value_sorted))\n",
        "    plt.show()"
      ],
      "execution_count": 18,
      "outputs": []
    },
    {
      "cell_type": "markdown",
      "metadata": {
        "id": "OVSi44LIk0TX"
      },
      "source": [
        "##Array to dataloader"
      ]
    },
    {
      "cell_type": "code",
      "metadata": {
        "id": "YarvS4XUk2Ka"
      },
      "source": [
        "from torch.utils.data import TensorDataset, DataLoader\n",
        "\n",
        "def array2dataloader(x,y):\n",
        "  tensor_x = torch.Tensor(x) # transform to torch tensor\n",
        "  tensor_y = torch.Tensor(np.argmax(y,axis=1))\n",
        "\n",
        "  my_dataset = TensorDataset(tensor_x,tensor_y) # create your datset\n",
        "  return DataLoader(my_dataset) "
      ],
      "execution_count": null,
      "outputs": []
    },
    {
      "cell_type": "markdown",
      "metadata": {
        "id": "O2z5CDqCOjhi"
      },
      "source": [
        "# **Esecuzione**"
      ]
    },
    {
      "cell_type": "markdown",
      "metadata": {
        "id": "liAmXvKByROm"
      },
      "source": [
        "##creazione matrici"
      ]
    },
    {
      "cell_type": "code",
      "metadata": {
        "id": "-LUdHPV_yVD6"
      },
      "source": [
        "from art.utils import to_categorical\n",
        "x_test=[]\n",
        "y_test=[]\n",
        "\n",
        "for input,label in testgen_at:\n",
        "  #x_test.append(input.permute(0,2,3,1).numpy()[0,:,:,:])\n",
        "  print(i)\n",
        "  x_test.append(input.numpy()[0,:,:,:])\n",
        "  y_test.append(to_categorical(label.numpy(),2)[0])\n",
        "  \n",
        "x_test=np.array(x_test)\n",
        "y_test=np.array(y_test)\n",
        "\n",
        "print(x_test.shape)\n",
        "print(y_test.shape)"
      ],
      "execution_count": null,
      "outputs": []
    },
    {
      "cell_type": "markdown",
      "metadata": {
        "id": "I6bhW8YpbJXj"
      },
      "source": [
        "min max"
      ]
    },
    {
      "cell_type": "code",
      "metadata": {
        "colab": {
          "base_uri": "https://localhost:8080/"
        },
        "id": "ArdEPvZMa1FH",
        "outputId": "5a7f19e1-8cfa-4d85-d7c9-4a053bda4a8e"
      },
      "source": [
        "min,max=np.min(x_test),np.max(x_test)\n",
        "print(min,max)"
      ],
      "execution_count": 22,
      "outputs": [
        {
          "output_type": "stream",
          "name": "stdout",
          "text": [
            "-2.117904 2.64\n"
          ]
        }
      ]
    },
    {
      "cell_type": "markdown",
      "metadata": {
        "id": "2RaV8L1jbHzg"
      },
      "source": [
        "##Normalizza matrice [0,1]"
      ]
    },
    {
      "cell_type": "code",
      "metadata": {
        "id": "Ej69ol9BalVN"
      },
      "source": [
        "x_test = (x_test - min) / (max - min)\n",
        "min=0\n",
        "max=1"
      ],
      "execution_count": null,
      "outputs": []
    },
    {
      "cell_type": "markdown",
      "metadata": {
        "id": "OzZkC7HimlHT"
      },
      "source": [
        "##Creazione classificatore ART Pytorch\n",
        "\n"
      ]
    },
    {
      "cell_type": "code",
      "metadata": {
        "id": "AZL7c94zmlHU"
      },
      "source": [
        "from art.estimators.classification import PyTorchClassifier\n",
        "\n",
        "classifier = PyTorchClassifier(\n",
        "    model=model,\n",
        "    clip_values=(min, max),\n",
        "    loss=criterion,\n",
        "    optimizer=optimizer,\n",
        "    input_shape=(224, 224, 3),\n",
        "    nb_classes=class_number,\n",
        ")"
      ],
      "execution_count": 23,
      "outputs": []
    },
    {
      "cell_type": "markdown",
      "metadata": {
        "id": "Suibji7V0I7j"
      },
      "source": [
        "##Attacco"
      ]
    },
    {
      "cell_type": "markdown",
      "metadata": {
        "id": "Fq6B6unj2HcX"
      },
      "source": [
        "###Definizione attacco"
      ]
    },
    {
      "cell_type": "code",
      "metadata": {
        "id": "DZ-ghSjs2Ma0"
      },
      "source": [
        "from art.attacks.evasion import FastGradientMethod\n",
        "# FGM\n",
        "attack = FastGradientMethod(estimator=classifier, eps=0.1)"
      ],
      "execution_count": 24,
      "outputs": []
    },
    {
      "cell_type": "markdown",
      "metadata": {
        "id": "cYPmQSaL2Oxa"
      },
      "source": [
        "###Generazione adversarial samples\n",
        "\n"
      ]
    },
    {
      "cell_type": "code",
      "metadata": {
        "id": "gl_FoOil2SrO",
        "colab": {
          "base_uri": "https://localhost:8080/"
        },
        "outputId": "b3457552-d388-4016-cf9c-ca590d632b69"
      },
      "source": [
        "x_test_adv = attack.generate(x=x_test,y=y_test) #aggiunge una perturbazione alle immagini del test set\n",
        "#N.B. si possono passare le classi reali del test set (con y=y_test) e in questo caso FGM calcolerà le perturbazioni in modo che il classificatore\n",
        "#non predica queste classi. Mentre, se non passo y_test, le calcolerà in modo da non fargli predire la classe predetta normalmente (la quale può essere diversa da quella reale\n",
        "#se il classificatore non è corretto)"
      ],
      "execution_count": 25,
      "outputs": [
        {
          "output_type": "stream",
          "name": "stderr",
          "text": [
            "/usr/local/lib/python3.7/dist-packages/torch/nn/functional.py:718: UserWarning: Named tensors and all their associated APIs are an experimental feature and subject to change. Please do not use them for anything important until they are released as stable. (Triggered internally at  /pytorch/c10/core/TensorImpl.h:1156.)\n",
            "  return torch.max_pool2d(input, kernel_size, stride, padding, dilation, ceil_mode)\n"
          ]
        }
      ]
    },
    {
      "cell_type": "markdown",
      "metadata": {
        "id": "8w98YNCQGJGq"
      },
      "source": [
        "##Calcolo perturbazione"
      ]
    },
    {
      "cell_type": "code",
      "metadata": {
        "id": "MgPraX51Z15a",
        "colab": {
          "base_uri": "https://localhost:8080/"
        },
        "outputId": "42fb1be2-5f53-423f-d93a-5e9362cc76e5"
      },
      "source": [
        "perturb,m,perturb_norm=compute_perturb(x_test,x_test_adv)"
      ],
      "execution_count": 26,
      "outputs": [
        {
          "output_type": "stream",
          "name": "stdout",
          "text": [
            "Average perturbation: 0.09\n"
          ]
        }
      ]
    },
    {
      "cell_type": "markdown",
      "metadata": {
        "id": "ZFKEoI-enb8L"
      },
      "source": [
        "##Testing\n",
        "\n",
        "> Trasforma i due testing in una funzione e richiamala due volte\n",
        "\n"
      ]
    },
    {
      "cell_type": "markdown",
      "metadata": {
        "id": "Mdu0B8nFklrU"
      },
      "source": [
        "###test img orig"
      ]
    },
    {
      "cell_type": "code",
      "metadata": {
        "colab": {
          "base_uri": "https://localhost:8080/"
        },
        "id": "fr_bpmfGklrc",
        "outputId": "864137bc-022e-41e9-fbc3-da01dc95d690"
      },
      "source": [
        "Test_orig=test_average(model,testgen)"
      ],
      "execution_count": 27,
      "outputs": [
        {
          "output_type": "stream",
          "name": "stdout",
          "text": [
            "Image 2500/2500\n",
            "Accuracy: 93.76\n",
            "Shape dataframe: (2500, 4)\n"
          ]
        }
      ]
    },
    {
      "cell_type": "markdown",
      "metadata": {
        "id": "g_sQeKbZfK74"
      },
      "source": [
        "###Testing no media img originali"
      ]
    },
    {
      "cell_type": "code",
      "metadata": {
        "colab": {
          "base_uri": "https://localhost:8080/"
        },
        "id": "2gFNZs_ifK74",
        "outputId": "213ac0b4-d713-431f-8d3b-6f50be89c671"
      },
      "source": [
        "value_preds,preds,acc=testing(x_test,y_test,classifier)"
      ],
      "execution_count": 28,
      "outputs": [
        {
          "output_type": "stream",
          "name": "stdout",
          "text": [
            "Accuracy on test set: 89.84\n"
          ]
        }
      ]
    },
    {
      "cell_type": "markdown",
      "metadata": {
        "id": "NvlTYpiOk3tx"
      },
      "source": [
        "###test img perturb"
      ]
    },
    {
      "cell_type": "markdown",
      "metadata": {
        "id": "pnR4N3rAmkX_"
      },
      "source": [
        "da matrice adv a dataloader"
      ]
    },
    {
      "cell_type": "code",
      "metadata": {
        "id": "6Vdo43qvk9eB"
      },
      "source": [
        "dataloader_adv=array2dataloader(x_test_adv,y_test)"
      ],
      "execution_count": null,
      "outputs": []
    },
    {
      "cell_type": "code",
      "metadata": {
        "colab": {
          "base_uri": "https://localhost:8080/"
        },
        "id": "-llgU_Q_k3t4",
        "outputId": "4e7d388d-87f5-4e47-e8b6-7b8d5d0ab277"
      },
      "source": [
        "Test_perturb=test_average(model,dataloader_adv)"
      ],
      "execution_count": 30,
      "outputs": [
        {
          "output_type": "stream",
          "name": "stdout",
          "text": [
            "Image 2500/2500\n",
            "Accuracy: 61.12\n",
            "Shape dataframe: (2500, 4)\n"
          ]
        }
      ]
    },
    {
      "cell_type": "markdown",
      "metadata": {
        "id": "tDx3f74HIdWX"
      },
      "source": [
        "###Testing no media img perturbate "
      ]
    },
    {
      "cell_type": "code",
      "metadata": {
        "colab": {
          "base_uri": "https://localhost:8080/"
        },
        "id": "aXkJIXo_Ig3B",
        "outputId": "7117d3df-38c6-4383-df3c-7989d2678e4d"
      },
      "source": [
        "value_preds_adv,preds_adv,acc_adv=testing(x_test_adv,y_test,classifier)"
      ],
      "execution_count": 31,
      "outputs": [
        {
          "output_type": "stream",
          "name": "stdout",
          "text": [
            "Accuracy on test set: 17.2\n"
          ]
        }
      ]
    },
    {
      "cell_type": "markdown",
      "metadata": {
        "id": "nLcnge6A0Npi"
      },
      "source": [
        "##Stampa subplot prime N immagini"
      ]
    },
    {
      "cell_type": "code",
      "metadata": {
        "id": "cB1Q6Id6_CNR"
      },
      "source": [
        "#print_subplot(10,preds,value_preds_adv,x_test,y_test,x_test_adv,perturb_norm)\n",
        "print_subplot(3,Test_orig.predicted,Test_perturb.values[:,2:4],x_test,y_test,x_test_adv,perturb_norm)"
      ],
      "execution_count": null,
      "outputs": []
    }
  ]
}