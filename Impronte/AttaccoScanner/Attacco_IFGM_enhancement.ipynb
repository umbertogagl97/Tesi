{
  "nbformat": 4,
  "nbformat_minor": 0,
  "metadata": {
    "colab": {
      "name": "Attacco_IFGM_enhancement.ipynb",
      "provenance": [],
      "collapsed_sections": [
        "lcoLiAGAtqBh",
        "OHENSlCXxzcr",
        "nGmEBN4oxqUO",
        "pIqUXUmoA541",
        "-ycpjmyb4Cxe",
        "dherpFOH0Uau",
        "pV0cZLAzphdp",
        "5X10jetEyAax",
        "fETy1V2abbWo",
        "_miDmRukbbWq",
        "ZazQQE8ypKP9",
        "vT9l9KWwv1uu",
        "AJ_O-UAECNMk",
        "9XepXK-ny3XN",
        "PBSyijWDqY4-",
        "O_c2L3v0r2xG",
        "shAnhrP3JZfJ",
        "9_GPV-52IRYV",
        "VALnI8jHIVU9",
        "0OdO07YuUOFS",
        "Q64Z8X5mzAZ1",
        "JmyIKi7XvvSf",
        "kJ6xDO5GGZY5",
        "Sm63-OLUwGE-",
        "w_qc1J0y4Ucu",
        "DWxzZ1rGd5LY",
        "55yuMaawbgyt",
        "OfEnYI_UUEb6",
        "OzZkC7HimlHT",
        "ZFKEoI-enb8L"
      ],
      "include_colab_link": true
    },
    "kernelspec": {
      "name": "python3",
      "display_name": "Python 3"
    },
    "language_info": {
      "name": "python"
    },
    "widgets": {
      "application/vnd.jupyter.widget-state+json": {
        "a48453145a8d49f08bcc5fef68d311fa": {
          "model_module": "@jupyter-widgets/controls",
          "model_name": "HBoxModel",
          "model_module_version": "1.5.0",
          "state": {
            "_view_name": "HBoxView",
            "_dom_classes": [],
            "_model_name": "HBoxModel",
            "_view_module": "@jupyter-widgets/controls",
            "_model_module_version": "1.5.0",
            "_view_count": null,
            "_view_module_version": "1.5.0",
            "box_style": "",
            "layout": "IPY_MODEL_e44ffc5df95c4290b88064d2ed8cf85f",
            "_model_module": "@jupyter-widgets/controls",
            "children": [
              "IPY_MODEL_29e1b44597934029a06f86ef454ce13b",
              "IPY_MODEL_a0551718b1414bc98c16de4dd93ea7bc",
              "IPY_MODEL_803c57155f1f4b63ae35e7e51811848c"
            ]
          }
        },
        "e44ffc5df95c4290b88064d2ed8cf85f": {
          "model_module": "@jupyter-widgets/base",
          "model_name": "LayoutModel",
          "model_module_version": "1.2.0",
          "state": {
            "_view_name": "LayoutView",
            "grid_template_rows": null,
            "right": null,
            "justify_content": null,
            "_view_module": "@jupyter-widgets/base",
            "overflow": null,
            "_model_module_version": "1.2.0",
            "_view_count": null,
            "flex_flow": null,
            "width": null,
            "min_width": null,
            "border": null,
            "align_items": null,
            "bottom": null,
            "_model_module": "@jupyter-widgets/base",
            "top": null,
            "grid_column": null,
            "overflow_y": null,
            "overflow_x": null,
            "grid_auto_flow": null,
            "grid_area": null,
            "grid_template_columns": null,
            "flex": null,
            "_model_name": "LayoutModel",
            "justify_items": null,
            "grid_row": null,
            "max_height": null,
            "align_content": null,
            "visibility": null,
            "align_self": null,
            "height": null,
            "min_height": null,
            "padding": null,
            "grid_auto_rows": null,
            "grid_gap": null,
            "max_width": null,
            "order": null,
            "_view_module_version": "1.2.0",
            "grid_template_areas": null,
            "object_position": null,
            "object_fit": null,
            "grid_auto_columns": null,
            "margin": null,
            "display": null,
            "left": null
          }
        },
        "29e1b44597934029a06f86ef454ce13b": {
          "model_module": "@jupyter-widgets/controls",
          "model_name": "HTMLModel",
          "model_module_version": "1.5.0",
          "state": {
            "_view_name": "HTMLView",
            "style": "IPY_MODEL_e662ad2376b5408a98ff7c84b1e57715",
            "_dom_classes": [],
            "description": "",
            "_model_name": "HTMLModel",
            "placeholder": "​",
            "_view_module": "@jupyter-widgets/controls",
            "_model_module_version": "1.5.0",
            "value": "100%",
            "_view_count": null,
            "_view_module_version": "1.5.0",
            "description_tooltip": null,
            "_model_module": "@jupyter-widgets/controls",
            "layout": "IPY_MODEL_d6ce04600d134d4f99b0b02ab78718f8"
          }
        },
        "a0551718b1414bc98c16de4dd93ea7bc": {
          "model_module": "@jupyter-widgets/controls",
          "model_name": "FloatProgressModel",
          "model_module_version": "1.5.0",
          "state": {
            "_view_name": "ProgressView",
            "style": "IPY_MODEL_b4544e6bb1d044f3a72f4cf69f252a06",
            "_dom_classes": [],
            "description": "",
            "_model_name": "FloatProgressModel",
            "bar_style": "success",
            "max": 574673361,
            "_view_module": "@jupyter-widgets/controls",
            "_model_module_version": "1.5.0",
            "value": 574673361,
            "_view_count": null,
            "_view_module_version": "1.5.0",
            "orientation": "horizontal",
            "min": 0,
            "description_tooltip": null,
            "_model_module": "@jupyter-widgets/controls",
            "layout": "IPY_MODEL_307e1ace6b004ab58d7104aa10debddf"
          }
        },
        "803c57155f1f4b63ae35e7e51811848c": {
          "model_module": "@jupyter-widgets/controls",
          "model_name": "HTMLModel",
          "model_module_version": "1.5.0",
          "state": {
            "_view_name": "HTMLView",
            "style": "IPY_MODEL_c7e16137c29c47508e56a48f78fa02b6",
            "_dom_classes": [],
            "description": "",
            "_model_name": "HTMLModel",
            "placeholder": "​",
            "_view_module": "@jupyter-widgets/controls",
            "_model_module_version": "1.5.0",
            "value": " 548M/548M [00:04&lt;00:00, 131MB/s]",
            "_view_count": null,
            "_view_module_version": "1.5.0",
            "description_tooltip": null,
            "_model_module": "@jupyter-widgets/controls",
            "layout": "IPY_MODEL_071644ec2da646f9b6c514f3b129e2e6"
          }
        },
        "e662ad2376b5408a98ff7c84b1e57715": {
          "model_module": "@jupyter-widgets/controls",
          "model_name": "DescriptionStyleModel",
          "model_module_version": "1.5.0",
          "state": {
            "_view_name": "StyleView",
            "_model_name": "DescriptionStyleModel",
            "description_width": "",
            "_view_module": "@jupyter-widgets/base",
            "_model_module_version": "1.5.0",
            "_view_count": null,
            "_view_module_version": "1.2.0",
            "_model_module": "@jupyter-widgets/controls"
          }
        },
        "d6ce04600d134d4f99b0b02ab78718f8": {
          "model_module": "@jupyter-widgets/base",
          "model_name": "LayoutModel",
          "model_module_version": "1.2.0",
          "state": {
            "_view_name": "LayoutView",
            "grid_template_rows": null,
            "right": null,
            "justify_content": null,
            "_view_module": "@jupyter-widgets/base",
            "overflow": null,
            "_model_module_version": "1.2.0",
            "_view_count": null,
            "flex_flow": null,
            "width": null,
            "min_width": null,
            "border": null,
            "align_items": null,
            "bottom": null,
            "_model_module": "@jupyter-widgets/base",
            "top": null,
            "grid_column": null,
            "overflow_y": null,
            "overflow_x": null,
            "grid_auto_flow": null,
            "grid_area": null,
            "grid_template_columns": null,
            "flex": null,
            "_model_name": "LayoutModel",
            "justify_items": null,
            "grid_row": null,
            "max_height": null,
            "align_content": null,
            "visibility": null,
            "align_self": null,
            "height": null,
            "min_height": null,
            "padding": null,
            "grid_auto_rows": null,
            "grid_gap": null,
            "max_width": null,
            "order": null,
            "_view_module_version": "1.2.0",
            "grid_template_areas": null,
            "object_position": null,
            "object_fit": null,
            "grid_auto_columns": null,
            "margin": null,
            "display": null,
            "left": null
          }
        },
        "b4544e6bb1d044f3a72f4cf69f252a06": {
          "model_module": "@jupyter-widgets/controls",
          "model_name": "ProgressStyleModel",
          "model_module_version": "1.5.0",
          "state": {
            "_view_name": "StyleView",
            "_model_name": "ProgressStyleModel",
            "description_width": "",
            "_view_module": "@jupyter-widgets/base",
            "_model_module_version": "1.5.0",
            "_view_count": null,
            "_view_module_version": "1.2.0",
            "bar_color": null,
            "_model_module": "@jupyter-widgets/controls"
          }
        },
        "307e1ace6b004ab58d7104aa10debddf": {
          "model_module": "@jupyter-widgets/base",
          "model_name": "LayoutModel",
          "model_module_version": "1.2.0",
          "state": {
            "_view_name": "LayoutView",
            "grid_template_rows": null,
            "right": null,
            "justify_content": null,
            "_view_module": "@jupyter-widgets/base",
            "overflow": null,
            "_model_module_version": "1.2.0",
            "_view_count": null,
            "flex_flow": null,
            "width": null,
            "min_width": null,
            "border": null,
            "align_items": null,
            "bottom": null,
            "_model_module": "@jupyter-widgets/base",
            "top": null,
            "grid_column": null,
            "overflow_y": null,
            "overflow_x": null,
            "grid_auto_flow": null,
            "grid_area": null,
            "grid_template_columns": null,
            "flex": null,
            "_model_name": "LayoutModel",
            "justify_items": null,
            "grid_row": null,
            "max_height": null,
            "align_content": null,
            "visibility": null,
            "align_self": null,
            "height": null,
            "min_height": null,
            "padding": null,
            "grid_auto_rows": null,
            "grid_gap": null,
            "max_width": null,
            "order": null,
            "_view_module_version": "1.2.0",
            "grid_template_areas": null,
            "object_position": null,
            "object_fit": null,
            "grid_auto_columns": null,
            "margin": null,
            "display": null,
            "left": null
          }
        },
        "c7e16137c29c47508e56a48f78fa02b6": {
          "model_module": "@jupyter-widgets/controls",
          "model_name": "DescriptionStyleModel",
          "model_module_version": "1.5.0",
          "state": {
            "_view_name": "StyleView",
            "_model_name": "DescriptionStyleModel",
            "description_width": "",
            "_view_module": "@jupyter-widgets/base",
            "_model_module_version": "1.5.0",
            "_view_count": null,
            "_view_module_version": "1.2.0",
            "_model_module": "@jupyter-widgets/controls"
          }
        },
        "071644ec2da646f9b6c514f3b129e2e6": {
          "model_module": "@jupyter-widgets/base",
          "model_name": "LayoutModel",
          "model_module_version": "1.2.0",
          "state": {
            "_view_name": "LayoutView",
            "grid_template_rows": null,
            "right": null,
            "justify_content": null,
            "_view_module": "@jupyter-widgets/base",
            "overflow": null,
            "_model_module_version": "1.2.0",
            "_view_count": null,
            "flex_flow": null,
            "width": null,
            "min_width": null,
            "border": null,
            "align_items": null,
            "bottom": null,
            "_model_module": "@jupyter-widgets/base",
            "top": null,
            "grid_column": null,
            "overflow_y": null,
            "overflow_x": null,
            "grid_auto_flow": null,
            "grid_area": null,
            "grid_template_columns": null,
            "flex": null,
            "_model_name": "LayoutModel",
            "justify_items": null,
            "grid_row": null,
            "max_height": null,
            "align_content": null,
            "visibility": null,
            "align_self": null,
            "height": null,
            "min_height": null,
            "padding": null,
            "grid_auto_rows": null,
            "grid_gap": null,
            "max_width": null,
            "order": null,
            "_view_module_version": "1.2.0",
            "grid_template_areas": null,
            "object_position": null,
            "object_fit": null,
            "grid_auto_columns": null,
            "margin": null,
            "display": null,
            "left": null
          }
        }
      }
    },
    "accelerator": "GPU"
  },
  "cells": [
    {
      "cell_type": "markdown",
      "metadata": {
        "id": "view-in-github",
        "colab_type": "text"
      },
      "source": [
        "<a href=\"https://colab.research.google.com/github/umbertogagl97/Tesi/blob/main/Impronte/AttaccoScanner/Attacco_IFGM_enhancement.ipynb\" target=\"_parent\"><img src=\"https://colab.research.google.com/assets/colab-badge.svg\" alt=\"Open In Colab\"/></a>"
      ]
    },
    {
      "cell_type": "markdown",
      "metadata": {
        "id": "lcoLiAGAtqBh"
      },
      "source": [
        "# **Init**"
      ]
    },
    {
      "cell_type": "markdown",
      "metadata": {
        "id": "OHENSlCXxzcr"
      },
      "source": [
        "##Import ART"
      ]
    },
    {
      "cell_type": "code",
      "metadata": {
        "id": "hIKN5Oqa-i6u",
        "colab": {
          "base_uri": "https://localhost:8080/"
        },
        "outputId": "71c92e21-5378-46aa-d2c6-d1ebd4e81117"
      },
      "source": [
        "#importa ART\n",
        "!pip install adversarial-robustness-toolbox"
      ],
      "execution_count": 1,
      "outputs": [
        {
          "output_type": "stream",
          "name": "stdout",
          "text": [
            "Collecting adversarial-robustness-toolbox\n",
            "  Downloading adversarial_robustness_toolbox-1.8.1-py3-none-any.whl (1.1 MB)\n",
            "\u001b[?25l\r\u001b[K     |▎                               | 10 kB 34.8 MB/s eta 0:00:01\r\u001b[K     |▋                               | 20 kB 23.6 MB/s eta 0:00:01\r\u001b[K     |█                               | 30 kB 11.6 MB/s eta 0:00:01\r\u001b[K     |█▏                              | 40 kB 9.3 MB/s eta 0:00:01\r\u001b[K     |█▌                              | 51 kB 5.0 MB/s eta 0:00:01\r\u001b[K     |█▉                              | 61 kB 5.5 MB/s eta 0:00:01\r\u001b[K     |██                              | 71 kB 5.3 MB/s eta 0:00:01\r\u001b[K     |██▍                             | 81 kB 6.0 MB/s eta 0:00:01\r\u001b[K     |██▊                             | 92 kB 6.2 MB/s eta 0:00:01\r\u001b[K     |███                             | 102 kB 5.0 MB/s eta 0:00:01\r\u001b[K     |███▎                            | 112 kB 5.0 MB/s eta 0:00:01\r\u001b[K     |███▋                            | 122 kB 5.0 MB/s eta 0:00:01\r\u001b[K     |███▉                            | 133 kB 5.0 MB/s eta 0:00:01\r\u001b[K     |████▏                           | 143 kB 5.0 MB/s eta 0:00:01\r\u001b[K     |████▌                           | 153 kB 5.0 MB/s eta 0:00:01\r\u001b[K     |████▊                           | 163 kB 5.0 MB/s eta 0:00:01\r\u001b[K     |█████                           | 174 kB 5.0 MB/s eta 0:00:01\r\u001b[K     |█████▍                          | 184 kB 5.0 MB/s eta 0:00:01\r\u001b[K     |█████▋                          | 194 kB 5.0 MB/s eta 0:00:01\r\u001b[K     |██████                          | 204 kB 5.0 MB/s eta 0:00:01\r\u001b[K     |██████▎                         | 215 kB 5.0 MB/s eta 0:00:01\r\u001b[K     |██████▌                         | 225 kB 5.0 MB/s eta 0:00:01\r\u001b[K     |██████▉                         | 235 kB 5.0 MB/s eta 0:00:01\r\u001b[K     |███████▏                        | 245 kB 5.0 MB/s eta 0:00:01\r\u001b[K     |███████▍                        | 256 kB 5.0 MB/s eta 0:00:01\r\u001b[K     |███████▊                        | 266 kB 5.0 MB/s eta 0:00:01\r\u001b[K     |████████                        | 276 kB 5.0 MB/s eta 0:00:01\r\u001b[K     |████████▎                       | 286 kB 5.0 MB/s eta 0:00:01\r\u001b[K     |████████▋                       | 296 kB 5.0 MB/s eta 0:00:01\r\u001b[K     |█████████                       | 307 kB 5.0 MB/s eta 0:00:01\r\u001b[K     |█████████▏                      | 317 kB 5.0 MB/s eta 0:00:01\r\u001b[K     |█████████▌                      | 327 kB 5.0 MB/s eta 0:00:01\r\u001b[K     |█████████▉                      | 337 kB 5.0 MB/s eta 0:00:01\r\u001b[K     |██████████                      | 348 kB 5.0 MB/s eta 0:00:01\r\u001b[K     |██████████▍                     | 358 kB 5.0 MB/s eta 0:00:01\r\u001b[K     |██████████▊                     | 368 kB 5.0 MB/s eta 0:00:01\r\u001b[K     |███████████                     | 378 kB 5.0 MB/s eta 0:00:01\r\u001b[K     |███████████▎                    | 389 kB 5.0 MB/s eta 0:00:01\r\u001b[K     |███████████▋                    | 399 kB 5.0 MB/s eta 0:00:01\r\u001b[K     |███████████▉                    | 409 kB 5.0 MB/s eta 0:00:01\r\u001b[K     |████████████▏                   | 419 kB 5.0 MB/s eta 0:00:01\r\u001b[K     |████████████▌                   | 430 kB 5.0 MB/s eta 0:00:01\r\u001b[K     |████████████▊                   | 440 kB 5.0 MB/s eta 0:00:01\r\u001b[K     |█████████████                   | 450 kB 5.0 MB/s eta 0:00:01\r\u001b[K     |█████████████▍                  | 460 kB 5.0 MB/s eta 0:00:01\r\u001b[K     |█████████████▋                  | 471 kB 5.0 MB/s eta 0:00:01\r\u001b[K     |██████████████                  | 481 kB 5.0 MB/s eta 0:00:01\r\u001b[K     |██████████████▎                 | 491 kB 5.0 MB/s eta 0:00:01\r\u001b[K     |██████████████▌                 | 501 kB 5.0 MB/s eta 0:00:01\r\u001b[K     |██████████████▉                 | 512 kB 5.0 MB/s eta 0:00:01\r\u001b[K     |███████████████▏                | 522 kB 5.0 MB/s eta 0:00:01\r\u001b[K     |███████████████▍                | 532 kB 5.0 MB/s eta 0:00:01\r\u001b[K     |███████████████▊                | 542 kB 5.0 MB/s eta 0:00:01\r\u001b[K     |████████████████                | 552 kB 5.0 MB/s eta 0:00:01\r\u001b[K     |████████████████▎               | 563 kB 5.0 MB/s eta 0:00:01\r\u001b[K     |████████████████▋               | 573 kB 5.0 MB/s eta 0:00:01\r\u001b[K     |█████████████████               | 583 kB 5.0 MB/s eta 0:00:01\r\u001b[K     |█████████████████▏              | 593 kB 5.0 MB/s eta 0:00:01\r\u001b[K     |█████████████████▌              | 604 kB 5.0 MB/s eta 0:00:01\r\u001b[K     |█████████████████▉              | 614 kB 5.0 MB/s eta 0:00:01\r\u001b[K     |██████████████████              | 624 kB 5.0 MB/s eta 0:00:01\r\u001b[K     |██████████████████▍             | 634 kB 5.0 MB/s eta 0:00:01\r\u001b[K     |██████████████████▊             | 645 kB 5.0 MB/s eta 0:00:01\r\u001b[K     |███████████████████             | 655 kB 5.0 MB/s eta 0:00:01\r\u001b[K     |███████████████████▎            | 665 kB 5.0 MB/s eta 0:00:01\r\u001b[K     |███████████████████▋            | 675 kB 5.0 MB/s eta 0:00:01\r\u001b[K     |███████████████████▉            | 686 kB 5.0 MB/s eta 0:00:01\r\u001b[K     |████████████████████▏           | 696 kB 5.0 MB/s eta 0:00:01\r\u001b[K     |████████████████████▌           | 706 kB 5.0 MB/s eta 0:00:01\r\u001b[K     |████████████████████▊           | 716 kB 5.0 MB/s eta 0:00:01\r\u001b[K     |█████████████████████           | 727 kB 5.0 MB/s eta 0:00:01\r\u001b[K     |█████████████████████▍          | 737 kB 5.0 MB/s eta 0:00:01\r\u001b[K     |█████████████████████▋          | 747 kB 5.0 MB/s eta 0:00:01\r\u001b[K     |██████████████████████          | 757 kB 5.0 MB/s eta 0:00:01\r\u001b[K     |██████████████████████▎         | 768 kB 5.0 MB/s eta 0:00:01\r\u001b[K     |██████████████████████▌         | 778 kB 5.0 MB/s eta 0:00:01\r\u001b[K     |██████████████████████▉         | 788 kB 5.0 MB/s eta 0:00:01\r\u001b[K     |███████████████████████▏        | 798 kB 5.0 MB/s eta 0:00:01\r\u001b[K     |███████████████████████▍        | 808 kB 5.0 MB/s eta 0:00:01\r\u001b[K     |███████████████████████▊        | 819 kB 5.0 MB/s eta 0:00:01\r\u001b[K     |████████████████████████        | 829 kB 5.0 MB/s eta 0:00:01\r\u001b[K     |████████████████████████▎       | 839 kB 5.0 MB/s eta 0:00:01\r\u001b[K     |████████████████████████▋       | 849 kB 5.0 MB/s eta 0:00:01\r\u001b[K     |█████████████████████████       | 860 kB 5.0 MB/s eta 0:00:01\r\u001b[K     |█████████████████████████▏      | 870 kB 5.0 MB/s eta 0:00:01\r\u001b[K     |█████████████████████████▌      | 880 kB 5.0 MB/s eta 0:00:01\r\u001b[K     |█████████████████████████▉      | 890 kB 5.0 MB/s eta 0:00:01\r\u001b[K     |██████████████████████████      | 901 kB 5.0 MB/s eta 0:00:01\r\u001b[K     |██████████████████████████▍     | 911 kB 5.0 MB/s eta 0:00:01\r\u001b[K     |██████████████████████████▊     | 921 kB 5.0 MB/s eta 0:00:01\r\u001b[K     |███████████████████████████     | 931 kB 5.0 MB/s eta 0:00:01\r\u001b[K     |███████████████████████████▎    | 942 kB 5.0 MB/s eta 0:00:01\r\u001b[K     |███████████████████████████▋    | 952 kB 5.0 MB/s eta 0:00:01\r\u001b[K     |████████████████████████████    | 962 kB 5.0 MB/s eta 0:00:01\r\u001b[K     |████████████████████████████▏   | 972 kB 5.0 MB/s eta 0:00:01\r\u001b[K     |████████████████████████████▌   | 983 kB 5.0 MB/s eta 0:00:01\r\u001b[K     |████████████████████████████▉   | 993 kB 5.0 MB/s eta 0:00:01\r\u001b[K     |█████████████████████████████   | 1.0 MB 5.0 MB/s eta 0:00:01\r\u001b[K     |█████████████████████████████▍  | 1.0 MB 5.0 MB/s eta 0:00:01\r\u001b[K     |█████████████████████████████▊  | 1.0 MB 5.0 MB/s eta 0:00:01\r\u001b[K     |██████████████████████████████  | 1.0 MB 5.0 MB/s eta 0:00:01\r\u001b[K     |██████████████████████████████▎ | 1.0 MB 5.0 MB/s eta 0:00:01\r\u001b[K     |██████████████████████████████▋ | 1.1 MB 5.0 MB/s eta 0:00:01\r\u001b[K     |██████████████████████████████▉ | 1.1 MB 5.0 MB/s eta 0:00:01\r\u001b[K     |███████████████████████████████▏| 1.1 MB 5.0 MB/s eta 0:00:01\r\u001b[K     |███████████████████████████████▌| 1.1 MB 5.0 MB/s eta 0:00:01\r\u001b[K     |███████████████████████████████▊| 1.1 MB 5.0 MB/s eta 0:00:01\r\u001b[K     |████████████████████████████████| 1.1 MB 5.0 MB/s \n",
            "\u001b[?25hRequirement already satisfied: setuptools in /usr/local/lib/python3.7/dist-packages (from adversarial-robustness-toolbox) (57.4.0)\n",
            "Collecting numba>=0.53.1\n",
            "  Downloading numba-0.54.1-cp37-cp37m-manylinux2014_x86_64.manylinux_2_17_x86_64.whl (3.3 MB)\n",
            "\u001b[K     |████████████████████████████████| 3.3 MB 50.4 MB/s \n",
            "\u001b[?25hRequirement already satisfied: six in /usr/local/lib/python3.7/dist-packages (from adversarial-robustness-toolbox) (1.15.0)\n",
            "Requirement already satisfied: scikit-learn<1.1.0,>=0.22.2 in /usr/local/lib/python3.7/dist-packages (from adversarial-robustness-toolbox) (1.0.1)\n",
            "Requirement already satisfied: tqdm in /usr/local/lib/python3.7/dist-packages (from adversarial-robustness-toolbox) (4.62.3)\n",
            "Requirement already satisfied: numpy>=1.18.0 in /usr/local/lib/python3.7/dist-packages (from adversarial-robustness-toolbox) (1.19.5)\n",
            "Requirement already satisfied: scipy>=1.4.1 in /usr/local/lib/python3.7/dist-packages (from adversarial-robustness-toolbox) (1.4.1)\n",
            "Collecting llvmlite<0.38,>=0.37.0rc1\n",
            "  Downloading llvmlite-0.37.0-cp37-cp37m-manylinux2014_x86_64.whl (26.3 MB)\n",
            "\u001b[K     |████████████████████████████████| 26.3 MB 1.2 MB/s \n",
            "\u001b[?25hRequirement already satisfied: threadpoolctl>=2.0.0 in /usr/local/lib/python3.7/dist-packages (from scikit-learn<1.1.0,>=0.22.2->adversarial-robustness-toolbox) (3.0.0)\n",
            "Requirement already satisfied: joblib>=0.11 in /usr/local/lib/python3.7/dist-packages (from scikit-learn<1.1.0,>=0.22.2->adversarial-robustness-toolbox) (1.1.0)\n",
            "Installing collected packages: llvmlite, numba, adversarial-robustness-toolbox\n",
            "  Attempting uninstall: llvmlite\n",
            "    Found existing installation: llvmlite 0.34.0\n",
            "    Uninstalling llvmlite-0.34.0:\n",
            "      Successfully uninstalled llvmlite-0.34.0\n",
            "  Attempting uninstall: numba\n",
            "    Found existing installation: numba 0.51.2\n",
            "    Uninstalling numba-0.51.2:\n",
            "      Successfully uninstalled numba-0.51.2\n",
            "Successfully installed adversarial-robustness-toolbox-1.8.1 llvmlite-0.37.0 numba-0.54.1\n"
          ]
        }
      ]
    },
    {
      "cell_type": "markdown",
      "metadata": {
        "id": "nGmEBN4oxqUO"
      },
      "source": [
        "## Import librerie"
      ]
    },
    {
      "cell_type": "code",
      "metadata": {
        "id": "01RXI-DDIb3C"
      },
      "source": [
        "#Librerie\n",
        "\n",
        "import torch\n",
        "import torch.nn as nn\n",
        "import torch.optim as optim\n",
        "import numpy as np\n",
        "import torchvision\n",
        "from torchvision import datasets, models, transforms\n",
        "#import time\n",
        "#import os\n",
        "#import shutil\n",
        "#import copy\n",
        "\n",
        "import pandas as pd\n",
        "import matplotlib.pyplot as plt\n",
        "import sys\n",
        "\n",
        "from torchvision.transforms.functional import InterpolationMode\n",
        "\n",
        "from torch.utils.data import TensorDataset, DataLoader\n",
        "\n",
        "import cv2\n",
        "from google.colab.patches import cv2_imshow"
      ],
      "execution_count": 2,
      "outputs": []
    },
    {
      "cell_type": "markdown",
      "metadata": {
        "id": "pIqUXUmoA541"
      },
      "source": [
        "##Check device\n"
      ]
    },
    {
      "cell_type": "code",
      "metadata": {
        "id": "P2pe5Zh2A4Ui",
        "colab": {
          "base_uri": "https://localhost:8080/"
        },
        "outputId": "913319db-950d-41f1-d621-1754452c4ca1"
      },
      "source": [
        "print(torch.__version__)\n",
        "print(torch.cuda.is_available())\n",
        "print(torch.cuda.get_device_name(0))\n",
        "device = torch.device(\"cuda:0\" if torch.cuda.is_available() else \"cpu\")\n",
        "print(device)"
      ],
      "execution_count": 3,
      "outputs": [
        {
          "output_type": "stream",
          "name": "stdout",
          "text": [
            "1.10.0+cu111\n",
            "True\n",
            "Tesla P100-PCIE-16GB\n",
            "cuda:0\n"
          ]
        }
      ]
    },
    {
      "cell_type": "markdown",
      "metadata": {
        "id": "-ycpjmyb4Cxe"
      },
      "source": [
        "##Def path"
      ]
    },
    {
      "cell_type": "code",
      "metadata": {
        "id": "4hMuySVI4GgY"
      },
      "source": [
        "#scanner\n",
        "scanner_name = 'GreenBit'\n",
        "\n",
        "#load modello\n",
        "path_model = F\"/content/gdrive/My Drive/Scanner/{scanner_name}\" \n",
        "\n",
        "#dataset\n",
        "pathTestset=F'/content/gdrive/MyDrive/Dataset_impronte/test/{scanner_name}'\n",
        "\n",
        "#predizioni testset originale\n",
        "pd_preds=F'/content/gdrive/MyDrive/Dataset_impronte/test/Preds_value/{scanner_name}_con_normalize.xlsx'"
      ],
      "execution_count": 4,
      "outputs": []
    },
    {
      "cell_type": "markdown",
      "metadata": {
        "id": "dherpFOH0Uau"
      },
      "source": [
        "##Collegamento google drive"
      ]
    },
    {
      "cell_type": "code",
      "metadata": {
        "id": "vyvTOQw-aHRP",
        "colab": {
          "base_uri": "https://localhost:8080/"
        },
        "outputId": "e327650a-2fc1-4887-8740-8f68ea84ca36"
      },
      "source": [
        "#collegamento google drive\n",
        "from google.colab import drive\n",
        "drive.mount('/content/gdrive')"
      ],
      "execution_count": 5,
      "outputs": [
        {
          "output_type": "stream",
          "name": "stdout",
          "text": [
            "Mounted at /content/gdrive\n"
          ]
        }
      ]
    },
    {
      "cell_type": "markdown",
      "metadata": {
        "id": "pV0cZLAzphdp"
      },
      "source": [
        "##Transforms"
      ]
    },
    {
      "cell_type": "code",
      "metadata": {
        "id": "xOiUbDZ5pixj"
      },
      "source": [
        "#transf_init=transforms.Resize(size=(1000,1000),interpolation=InterpolationMode.NEAREST)\n",
        "\n",
        "data_transform_test= transforms.Compose([transforms.Resize([224,224],interpolation=InterpolationMode.NEAREST),\n",
        "          transforms.Normalize([0.485, 0.456, 0.406], [0.229, 0.224, 0.225])\n",
        "          ])\n",
        "transf_resize=transforms.Resize([224,224],interpolation=InterpolationMode.NEAREST)\n",
        "transf_load= transforms.Compose([transforms.ToTensor(),\n",
        "                                 #transforms.Normalize([0.485, 0.456, 0.406], [0.229, 0.224, 0.225])\n",
        "          ])\n",
        "trans_norm=transforms.Normalize([0.485, 0.456, 0.406], [0.229, 0.224, 0.225])\n"
      ],
      "execution_count": 6,
      "outputs": []
    },
    {
      "cell_type": "markdown",
      "metadata": {
        "id": "5X10jetEyAax"
      },
      "source": [
        "#**Dataset**"
      ]
    },
    {
      "cell_type": "markdown",
      "metadata": {
        "id": "fETy1V2abbWo"
      },
      "source": [
        "##Caricamento dataset"
      ]
    },
    {
      "cell_type": "code",
      "metadata": {
        "id": "AMW6yAMPbbWp",
        "colab": {
          "base_uri": "https://localhost:8080/"
        },
        "outputId": "37941d06-f27b-4109-a5a2-88f8d95c530d"
      },
      "source": [
        "test_dataset = datasets.ImageFolder(pathTestset,transform=transf_load)\n",
        "dim_set=len(test_dataset)\n",
        "print(dim_set)"
      ],
      "execution_count": 86,
      "outputs": [
        {
          "output_type": "stream",
          "name": "stdout",
          "text": [
            "2500\n"
          ]
        }
      ]
    },
    {
      "cell_type": "markdown",
      "metadata": {
        "id": "_miDmRukbbWq"
      },
      "source": [
        "##Dataloader"
      ]
    },
    {
      "cell_type": "code",
      "metadata": {
        "id": "o3JB4rWJbbWq"
      },
      "source": [
        "testgen=torch.utils.data.DataLoader(test_dataset, pin_memory=True, batch_size=1,num_workers=2)"
      ],
      "execution_count": 87,
      "outputs": []
    },
    {
      "cell_type": "markdown",
      "metadata": {
        "id": "ZazQQE8ypKP9"
      },
      "source": [
        "##Nomi classi"
      ]
    },
    {
      "cell_type": "code",
      "metadata": {
        "colab": {
          "base_uri": "https://localhost:8080/"
        },
        "id": "DYk4cr4eo9Ir",
        "outputId": "d803fc4b-0523-4d71-a8b3-a1619b09e2df"
      },
      "source": [
        "classes_name=test_dataset.classes\n",
        "class_number=len(classes_name)\n",
        "print(classes_name)\n",
        "print(class_number)\n",
        "#del test_dataset"
      ],
      "execution_count": 88,
      "outputs": [
        {
          "output_type": "stream",
          "name": "stdout",
          "text": [
            "['Live', 'Spoof']\n",
            "2\n"
          ]
        }
      ]
    },
    {
      "cell_type": "markdown",
      "metadata": {
        "id": "vT9l9KWwv1uu"
      },
      "source": [
        "##Min Max dataset"
      ]
    },
    {
      "cell_type": "code",
      "metadata": {
        "id": "x9FPsg0aE6xI"
      },
      "source": [
        "_min,_max=0,1"
      ],
      "execution_count": 89,
      "outputs": []
    },
    {
      "cell_type": "markdown",
      "metadata": {
        "id": "eNR3oeYXPvTM"
      },
      "source": [
        "##transf_init"
      ]
    },
    {
      "cell_type": "code",
      "metadata": {
        "id": "-1Os3S2xPwn1"
      },
      "source": [
        "a,_=next(iter(testgen))\n",
        "size_init=np.array(a.shape[2:4])\n",
        "transf_init=transforms.Resize(size=(size_init[0],size_init[1]),interpolation=InterpolationMode.NEAREST)"
      ],
      "execution_count": 90,
      "outputs": []
    },
    {
      "cell_type": "markdown",
      "metadata": {
        "id": "AJ_O-UAECNMk"
      },
      "source": [
        "#**Riduzione dataset**"
      ]
    },
    {
      "cell_type": "code",
      "metadata": {
        "id": "RnOEmgNRbbWp",
        "colab": {
          "base_uri": "https://localhost:8080/"
        },
        "outputId": "1b69235a-df60-4242-8e7a-69068510af0b"
      },
      "source": [
        "test_dataset.samples=test_dataset.samples[1000:]\n",
        "\n",
        "dim_set=len(test_dataset)\n",
        "print(dim_set)"
      ],
      "execution_count": 91,
      "outputs": [
        {
          "output_type": "stream",
          "name": "stdout",
          "text": [
            "1500\n"
          ]
        }
      ]
    },
    {
      "cell_type": "code",
      "metadata": {
        "colab": {
          "base_uri": "https://localhost:8080/"
        },
        "id": "xnOBh-Eap-SF",
        "outputId": "682c9be1-d6eb-433d-9725-c9d94d6aa5fc"
      },
      "source": [
        "test_dataset.samples=[test_dataset.samples[i] for i in range(len(test_dataset)) if 'Latex' in test_dataset.samples[i][0]]\n",
        "\n",
        "dim_set=len(test_dataset)\n",
        "print(dim_set)"
      ],
      "execution_count": 92,
      "outputs": [
        {
          "output_type": "stream",
          "name": "stdout",
          "text": [
            "250\n"
          ]
        }
      ]
    },
    {
      "cell_type": "markdown",
      "metadata": {
        "id": "XtSM4AeYqE1i"
      },
      "source": [
        "eseguire solo se si vuole provare con poche img"
      ]
    },
    {
      "cell_type": "code",
      "metadata": {
        "colab": {
          "base_uri": "https://localhost:8080/"
        },
        "id": "fJkn8UPzqDlq",
        "outputId": "c74e1d6b-c2a2-4fb8-dc17-75bc290db9c3"
      },
      "source": [
        "test_dataset.samples=test_dataset.samples[:1]\n",
        "\n",
        "dim_set=len(test_dataset)\n",
        "print(dim_set)"
      ],
      "execution_count": 126,
      "outputs": [
        {
          "output_type": "stream",
          "name": "stdout",
          "text": [
            "1\n"
          ]
        }
      ]
    },
    {
      "cell_type": "markdown",
      "metadata": {
        "id": "9XepXK-ny3XN"
      },
      "source": [
        "# **Creazione modello**\n",
        "\n",
        "> non ho bloccato i parametri inferiori e sbloccato quelli del classificatore, vedi se funziona\n",
        "\n"
      ]
    },
    {
      "cell_type": "markdown",
      "metadata": {
        "id": "PBSyijWDqY4-"
      },
      "source": [
        "##Load model pre-trained"
      ]
    },
    {
      "cell_type": "code",
      "metadata": {
        "id": "GymaBXhaPMvL",
        "colab": {
          "base_uri": "https://localhost:8080/",
          "height": 0,
          "referenced_widgets": [
            "a48453145a8d49f08bcc5fef68d311fa",
            "e44ffc5df95c4290b88064d2ed8cf85f",
            "29e1b44597934029a06f86ef454ce13b",
            "a0551718b1414bc98c16de4dd93ea7bc",
            "803c57155f1f4b63ae35e7e51811848c",
            "e662ad2376b5408a98ff7c84b1e57715",
            "d6ce04600d134d4f99b0b02ab78718f8",
            "b4544e6bb1d044f3a72f4cf69f252a06",
            "307e1ace6b004ab58d7104aa10debddf",
            "c7e16137c29c47508e56a48f78fa02b6",
            "071644ec2da646f9b6c514f3b129e2e6"
          ]
        },
        "outputId": "5d994593-e66d-4a8a-c649-e201b8b36504"
      },
      "source": [
        "if scanner_name=='DigitalPersona':\n",
        "  model = models.densenet201(pretrained=True,progress=True)\n",
        "else: model = models.vgg19(pretrained=True,progress=True)\n",
        "\n",
        "#print(model)"
      ],
      "execution_count": 13,
      "outputs": [
        {
          "output_type": "stream",
          "name": "stderr",
          "text": [
            "Downloading: \"https://download.pytorch.org/models/vgg19-dcbb9e9d.pth\" to /root/.cache/torch/hub/checkpoints/vgg19-dcbb9e9d.pth\n"
          ]
        },
        {
          "output_type": "display_data",
          "data": {
            "application/vnd.jupyter.widget-view+json": {
              "model_id": "a48453145a8d49f08bcc5fef68d311fa",
              "version_minor": 0,
              "version_major": 2
            },
            "text/plain": [
              "  0%|          | 0.00/548M [00:00<?, ?B/s]"
            ]
          },
          "metadata": {}
        }
      ]
    },
    {
      "cell_type": "markdown",
      "metadata": {
        "id": "O_c2L3v0r2xG"
      },
      "source": [
        "##Aggiunta classificatore"
      ]
    },
    {
      "cell_type": "code",
      "metadata": {
        "id": "d1qeI3_3qKJJ"
      },
      "source": [
        "if scanner_name=='DigitalPersona':\n",
        "  model.classifier=nn.Linear(1920,2) #per densenet201\n",
        "else: model.classifier[6]=nn.Linear(4096,2) #per vgg19\n",
        "\n",
        "\n",
        "#print(model) "
      ],
      "execution_count": 14,
      "outputs": []
    },
    {
      "cell_type": "markdown",
      "metadata": {
        "id": "HOHqOuTVAMaz"
      },
      "source": [
        "##Load pesi"
      ]
    },
    {
      "cell_type": "code",
      "metadata": {
        "id": "CEXv4tQ3AOi0",
        "colab": {
          "base_uri": "https://localhost:8080/"
        },
        "outputId": "9f6c9ce7-8b47-4e8d-f104-a9ac87f1c11c"
      },
      "source": [
        "model.load_state_dict(torch.load(path_model))#,map_location=torch.device('cpu')))\n"
      ],
      "execution_count": 15,
      "outputs": [
        {
          "output_type": "execute_result",
          "data": {
            "text/plain": [
              "<All keys matched successfully>"
            ]
          },
          "metadata": {},
          "execution_count": 15
        }
      ]
    },
    {
      "cell_type": "markdown",
      "metadata": {
        "id": "P3kr1yAn2UBl"
      },
      "source": [
        "# **Def funzioni**"
      ]
    },
    {
      "cell_type": "markdown",
      "metadata": {
        "id": "shAnhrP3JZfJ"
      },
      "source": [
        "##enhanc"
      ]
    },
    {
      "cell_type": "markdown",
      "metadata": {
        "id": "9_GPV-52IRYV"
      },
      "source": [
        "###fun"
      ]
    },
    {
      "cell_type": "code",
      "metadata": {
        "id": "sZuOAgLRIp6i"
      },
      "source": [
        "# -*- coding: utf-8 -*-\n",
        "\"\"\"\n",
        "Created on Mon Nov 4 19:46:32 2020\n",
        "\n",
        "@author: utkarsh\n",
        "\"\"\"\n",
        "\n",
        "import numpy as np\n",
        "import cv2\n",
        "from scipy import signal\n",
        "from scipy import ndimage\n",
        "import math\n",
        "import scipy\n",
        "\n",
        "class FingerprintImageEnhancer(object):\n",
        "    def __init__(self, ridge_segment_blksze=16, ridge_segment_thresh=0.1, gradient_sigma=1, block_sigma=7, orient_smooth_sigma=7,\n",
        "                 ridge_freq_blksze=38, ridge_freq_windsze=5, min_wave_length=5, max_wave_length=15, kx=0.65, ky=0.65, angleInc=3.0, ridge_filter_thresh=-3):\n",
        "        self.ridge_segment_blksze = ridge_segment_blksze\n",
        "        self.ridge_segment_thresh = ridge_segment_thresh\n",
        "        self.gradient_sigma = gradient_sigma\n",
        "        self.block_sigma = block_sigma\n",
        "        self.orient_smooth_sigma = orient_smooth_sigma\n",
        "        self.ridge_freq_blksze = ridge_freq_blksze\n",
        "        self.ridge_freq_windsze = ridge_freq_windsze\n",
        "        self.min_wave_length = min_wave_length\n",
        "        self.max_wave_length = max_wave_length\n",
        "        self.kx = kx\n",
        "        self.ky = ky\n",
        "        self.angleInc = angleInc\n",
        "        self.ridge_filter_thresh = ridge_filter_thresh\n",
        "\n",
        "\n",
        "        self._mask = []\n",
        "        self._normim = []\n",
        "        self._orientim = []\n",
        "        self._mean_freq = []\n",
        "        self._median_freq = []\n",
        "        self._freq = []\n",
        "        self._freqim = []\n",
        "        self._binim = []\n",
        "\n",
        "    def __normalise(self, img, mean, std):\n",
        "        normed = (img - np.mean(img)) / (np.std(img))\n",
        "        return (normed)\n",
        "\n",
        "    def __ridge_segment(self, img):\n",
        "        # RIDGESEGMENT - Normalises fingerprint image and segments ridge region\n",
        "        #\n",
        "        # Function identifies ridge regions of a fingerprint image and returns a\n",
        "        # mask identifying this region.  It also normalises the intesity values of\n",
        "        # the image so that the ridge regions have zero mean, unit standard\n",
        "        # deviation.\n",
        "        #\n",
        "        # This function breaks the image up into blocks of size blksze x blksze and\n",
        "        # evaluates the standard deviation in each region.  If the standard\n",
        "        # deviation is above the threshold it is deemed part of the fingerprint.\n",
        "        # Note that the image is normalised to have zero mean, unit standard\n",
        "        # deviation prior to performing this process so that the threshold you\n",
        "        # specify is relative to a unit standard deviation.\n",
        "        #\n",
        "        # Usage:   [normim, mask, maskind] = ridgesegment(im, blksze, thresh)\n",
        "        #\n",
        "        # Arguments:   im     - Fingerprint image to be segmented.\n",
        "        #              blksze - Block size over which the the standard\n",
        "        #                       deviation is determined (try a value of 16).\n",
        "        #              thresh - Threshold of standard deviation to decide if a\n",
        "        #                       block is a ridge region (Try a value 0.1 - 0.2)\n",
        "        #\n",
        "        # Ouput:     normim - Image where the ridge regions are renormalised to\n",
        "        #                       have zero mean, unit standard deviation.\n",
        "        #              mask   - Mask indicating ridge-like regions of the image,\n",
        "        #                       0 for non ridge regions, 1 for ridge regions.\n",
        "        #              maskind - Vector of indices of locations within the mask.\n",
        "        #\n",
        "        # Suggested values for a 500dpi fingerprint image:\n",
        "        #\n",
        "        #   [normim, mask, maskind] = ridgesegment(im, 16, 0.1)\n",
        "        #\n",
        "        # See also: RIDGEORIENT, RIDGEFREQ, RIDGEFILTER\n",
        "\n",
        "        ### REFERENCES\n",
        "\n",
        "        # Peter Kovesi\n",
        "        # School of Computer Science & Software Engineering\n",
        "        # The University of Western Australia\n",
        "        # pk at csse uwa edu au\n",
        "        # http://www.csse.uwa.edu.au/~pk\n",
        "        rows, cols = img.shape\n",
        "        im = self.__normalise(img, 0, 1)  # normalise to get zero mean and unit standard deviation\n",
        "\n",
        "        new_rows = np.int(self.ridge_segment_blksze * np.ceil((np.float(rows)) / (np.float(self.ridge_segment_blksze))))\n",
        "        new_cols = np.int(self.ridge_segment_blksze * np.ceil((np.float(cols)) / (np.float(self.ridge_segment_blksze))))\n",
        "\n",
        "        padded_img = np.zeros((new_rows, new_cols))\n",
        "        stddevim = np.zeros((new_rows, new_cols))\n",
        "        padded_img[0:rows][:, 0:cols] = im\n",
        "        for i in range(0, new_rows, self.ridge_segment_blksze):\n",
        "            for j in range(0, new_cols, self.ridge_segment_blksze):\n",
        "                block = padded_img[i:i + self.ridge_segment_blksze][:, j:j + self.ridge_segment_blksze]\n",
        "\n",
        "                stddevim[i:i + self.ridge_segment_blksze][:, j:j + self.ridge_segment_blksze] = np.std(block) * np.ones(block.shape)\n",
        "\n",
        "        stddevim = stddevim[0:rows][:, 0:cols]\n",
        "        self._mask = stddevim > self.ridge_segment_thresh\n",
        "        mean_val = np.mean(im[self._mask])\n",
        "        std_val = np.std(im[self._mask])\n",
        "        self._normim = (im - mean_val) / (std_val)\n",
        "\n",
        "    def __ridge_orient(self):\n",
        "        # RIDGEORIENT - Estimates the local orientation of ridges in a fingerprint\n",
        "        #\n",
        "        # Usage:  [orientim, reliability, coherence] = ridgeorientation(im, gradientsigma,...\n",
        "        #                                             blocksigma, ...\n",
        "        #                                             orientsmoothsigma)\n",
        "        #\n",
        "        # Arguments:  im                - A normalised input image.\n",
        "        #             gradientsigma     - Sigma of the derivative of Gaussian\n",
        "        #                                 used to compute image gradients.\n",
        "        #             blocksigma        - Sigma of the Gaussian weighting used to\n",
        "        #                                 sum the gradient moments.\n",
        "        #             orientsmoothsigma - Sigma of the Gaussian used to smooth\n",
        "        #                                 the final orientation vector field.\n",
        "        #                                 Optional: if ommitted it defaults to 0\n",
        "        #\n",
        "        # Output:    orientim          - The orientation image in radians.\n",
        "        #                                 Orientation values are +ve clockwise\n",
        "        #                                 and give the direction *along* the\n",
        "        #                                 ridges.\n",
        "        #             reliability       - Measure of the reliability of the\n",
        "        #                                 orientation measure.  This is a value\n",
        "        #                                 between 0 and 1. I think a value above\n",
        "        #                                 about 0.5 can be considered 'reliable'.\n",
        "        #                                 reliability = 1 - Imin./(Imax+.001);\n",
        "        #             coherence         - A measure of the degree to which the local\n",
        "        #                                 area is oriented.\n",
        "        #                                 coherence = ((Imax-Imin)./(Imax+Imin)).^2;\n",
        "        #\n",
        "        # With a fingerprint image at a 'standard' resolution of 500dpi suggested\n",
        "        # parameter values might be:\n",
        "        #\n",
        "        #    [orientim, reliability] = ridgeorient(im, 1, 3, 3);\n",
        "        #\n",
        "        # See also: RIDGESEGMENT, RIDGEFREQ, RIDGEFILTER\n",
        "\n",
        "        ### REFERENCES\n",
        "\n",
        "        # May 2003      Original version by Raymond Thai,\n",
        "        # January 2005  Reworked by Peter Kovesi\n",
        "        # October 2011  Added coherence computation and orientsmoothsigma made optional\n",
        "        #\n",
        "        # School of Computer Science & Software Engineering\n",
        "        # The University of Western Australia\n",
        "        # pk at csse uwa edu au\n",
        "        # http://www.csse.uwa.edu.au/~pk\n",
        "\n",
        "        rows,cols = self._normim.shape\n",
        "        #Calculate image gradients.\n",
        "        sze = np.fix(6*self.gradient_sigma)\n",
        "        if np.remainder(sze,2) == 0:\n",
        "            sze = sze+1\n",
        "\n",
        "        gauss = cv2.getGaussianKernel(np.int(sze),self.gradient_sigma)\n",
        "        f = gauss * gauss.T\n",
        "\n",
        "        fy,fx = np.gradient(f)                               #Gradient of Gaussian\n",
        "\n",
        "        Gx = signal.convolve2d(self._normim, fx, mode='same')\n",
        "        Gy = signal.convolve2d(self._normim, fy, mode='same')\n",
        "\n",
        "        Gxx = np.power(Gx,2)\n",
        "        Gyy = np.power(Gy,2)\n",
        "        Gxy = Gx*Gy\n",
        "\n",
        "        #Now smooth the covariance data to perform a weighted summation of the data.\n",
        "        sze = np.fix(6*self.block_sigma)\n",
        "\n",
        "        gauss = cv2.getGaussianKernel(np.int(sze), self.block_sigma)\n",
        "        f = gauss * gauss.T\n",
        "\n",
        "        Gxx = ndimage.convolve(Gxx,f)\n",
        "        Gyy = ndimage.convolve(Gyy,f)\n",
        "        Gxy = 2*ndimage.convolve(Gxy,f)\n",
        "\n",
        "        # Analytic solution of principal direction\n",
        "        denom = np.sqrt(np.power(Gxy,2) + np.power((Gxx - Gyy),2)) + np.finfo(float).eps\n",
        "\n",
        "        sin2theta = Gxy/denom                   # Sine and cosine of doubled angles\n",
        "        cos2theta = (Gxx-Gyy)/denom\n",
        "\n",
        "\n",
        "        if self.orient_smooth_sigma:\n",
        "            sze = np.fix(6*self.orient_smooth_sigma)\n",
        "            if np.remainder(sze,2) == 0:\n",
        "                sze = sze+1\n",
        "            gauss = cv2.getGaussianKernel(np.int(sze), self.orient_smooth_sigma)\n",
        "            f = gauss * gauss.T\n",
        "            cos2theta = ndimage.convolve(cos2theta,f)                   # Smoothed sine and cosine of\n",
        "            sin2theta = ndimage.convolve(sin2theta,f)                   # doubled angles\n",
        "\n",
        "        self._orientim = np.pi/2 + np.arctan2(sin2theta,cos2theta)/2\n",
        "\n",
        "    def __ridge_freq(self):\n",
        "        # RIDGEFREQ - Calculates a ridge frequency image\n",
        "        #\n",
        "        # Function to estimate the fingerprint ridge frequency across a\n",
        "        # fingerprint image. This is done by considering blocks of the image and\n",
        "        # determining a ridgecount within each block by a call to FREQEST.\n",
        "        #\n",
        "        # Usage:\n",
        "        #  [freqim, medianfreq] =  ridgefreq(im, mask, orientim, blksze, windsze, ...\n",
        "        #                                    minWaveLength, maxWaveLength)\n",
        "        #\n",
        "        # Arguments:\n",
        "        #         im       - Image to be processed.\n",
        "        #         mask     - Mask defining ridge regions (obtained from RIDGESEGMENT)\n",
        "        #         orientim - Ridge orientation image (obtained from RIDGORIENT)\n",
        "        #         blksze   - Size of image block to use (say 32)\n",
        "        #         windsze  - Window length used to identify peaks. This should be\n",
        "        #                    an odd integer, say 3 or 5.\n",
        "        #         minWaveLength,  maxWaveLength - Minimum and maximum ridge\n",
        "        #                     wavelengths, in pixels, considered acceptable.\n",
        "        #\n",
        "        # Output:\n",
        "        #         freqim     - An image  the same size as im with  values set to\n",
        "        #                      the estimated ridge spatial frequency within each\n",
        "        #                      image block.  If a  ridge frequency cannot be\n",
        "        #                      found within a block, or cannot be found within the\n",
        "        #                      limits set by min and max Wavlength freqim is set\n",
        "        #                      to zeros within that block.\n",
        "        #         medianfreq - Median frequency value evaluated over all the\n",
        "        #                      valid regions of the image.\n",
        "        #\n",
        "        # Suggested parameters for a 500dpi fingerprint image\n",
        "        #   [freqim, medianfreq] = ridgefreq(im,orientim, 32, 5, 5, 15);\n",
        "        #\n",
        "\n",
        "        # See also: RIDGEORIENT, FREQEST, RIDGESEGMENT\n",
        "\n",
        "        # Reference:\n",
        "        # Hong, L., Wan, Y., and Jain, A. K. Fingerprint image enhancement:\n",
        "        # Algorithm and performance evaluation. IEEE Transactions on Pattern\n",
        "        # Analysis and Machine Intelligence 20, 8 (1998), 777 789.\n",
        "\n",
        "        ### REFERENCES\n",
        "\n",
        "        # Peter Kovesi\n",
        "        # School of Computer Science & Software Engineering\n",
        "        # The University of Western Australia\n",
        "        # pk at csse uwa edu au\n",
        "        # http://www.csse.uwa.edu.au/~pk\n",
        "\n",
        "        rows, cols = self._normim.shape\n",
        "        freq = np.zeros((rows, cols))\n",
        "\n",
        "        for r in range(0, rows - self.ridge_freq_blksze, self.ridge_freq_blksze):\n",
        "            for c in range(0, cols - self.ridge_freq_blksze, self.ridge_freq_blksze):\n",
        "                blkim = self._normim[r:r + self.ridge_freq_blksze][:, c:c + self.ridge_freq_blksze]\n",
        "                blkor = self._orientim[r:r + self.ridge_freq_blksze][:, c:c + self.ridge_freq_blksze]\n",
        "\n",
        "                freq[r:r + self.ridge_freq_blksze][:, c:c + self.ridge_freq_blksze] = self.__frequest(blkim, blkor)\n",
        "\n",
        "        self._freq = freq * self._mask\n",
        "        freq_1d = np.reshape(self._freq, (1, rows * cols))\n",
        "        ind = np.where(freq_1d > 0)\n",
        "\n",
        "        ind = np.array(ind)\n",
        "        ind = ind[1, :]\n",
        "\n",
        "        non_zero_elems_in_freq = freq_1d[0][ind]\n",
        "\n",
        "        if(len(non_zero_elems_in_freq) != 0):\n",
        "            self._mean_freq = np.mean(non_zero_elems_in_freq)\n",
        "            self._median_freq = np.median(non_zero_elems_in_freq)  # does not work properly\n",
        "        else:\n",
        "            self._mean_freq = 0\n",
        "            self._median_freq = 0  # does not work properly\n",
        "        self._freq = self._mean_freq * self._mask\n",
        "\n",
        "    def __frequest(self, blkim, blkor):\n",
        "        # FREQEST - Estimate fingerprint ridge frequency within image block\n",
        "        #\n",
        "        # Function to estimate the fingerprint ridge frequency within a small block\n",
        "        # of a fingerprint image.  This function is used by RIDGEFREQ\n",
        "        #\n",
        "        # Usage:\n",
        "        #  freqim =  freqest(im, orientim, windsze, minWaveLength, maxWaveLength)\n",
        "        #\n",
        "        # Arguments:\n",
        "        #         im       - Image block to be processed.\n",
        "        #         orientim - Ridge orientation image of image block.\n",
        "        #         windsze  - Window length used to identify peaks. This should be\n",
        "        #                    an odd integer, say 3 or 5.\n",
        "        #         minWaveLength,  maxWaveLength - Minimum and maximum ridge\n",
        "        #                     wavelengths, in pixels, considered acceptable.\n",
        "        #\n",
        "        # Output:\n",
        "        #         freqim    - An image block the same size as im with all values\n",
        "        #                     set to the estimated ridge spatial frequency.  If a\n",
        "        #                     ridge frequency cannot be found, or cannot be found\n",
        "        #                     within the limits set by min and max Wavlength\n",
        "        #                     freqim is set to zeros.\n",
        "        #\n",
        "        # Suggested parameters for a 500dpi fingerprint image\n",
        "        #   freqim = freqest(im,orientim, 5, 5, 15);\n",
        "        #\n",
        "        # See also:  RIDGEFREQ, RIDGEORIENT, RIDGESEGMENT\n",
        "\n",
        "        ### REFERENCES\n",
        "\n",
        "        # Peter Kovesi\n",
        "        # School of Computer Science & Software Engineering\n",
        "        # The University of Western Australia\n",
        "        # pk at csse uwa edu au\n",
        "        # http://www.csse.uwa.edu.au/~pk\n",
        "\n",
        "        rows, cols = np.shape(blkim)\n",
        "\n",
        "        # Find mean orientation within the block. This is done by averaging the\n",
        "        # sines and cosines of the doubled angles before reconstructing the\n",
        "        # angle again.  This avoids wraparound problems at the origin.\n",
        "\n",
        "        cosorient = np.mean(np.cos(2 * blkor))\n",
        "        sinorient = np.mean(np.sin(2 * blkor))\n",
        "        orient = math.atan2(sinorient, cosorient) / 2\n",
        "\n",
        "        # Rotate the image block so that the ridges are vertical\n",
        "\n",
        "        # ROT_mat = cv2.getRotationMatrix2D((cols/2,rows/2),orient/np.pi*180 + 90,1)\n",
        "        # rotim = cv2.warpAffine(im,ROT_mat,(cols,rows))\n",
        "        rotim = scipy.ndimage.rotate(blkim, orient / np.pi * 180 + 90, axes=(1, 0), reshape=False, order=3,\n",
        "                                     mode='nearest')\n",
        "\n",
        "        # Now crop the image so that the rotated image does not contain any\n",
        "        # invalid regions.  This prevents the projection down the columns\n",
        "        # from being mucked up.\n",
        "\n",
        "        cropsze = int(np.fix(rows / np.sqrt(2)))\n",
        "        offset = int(np.fix((rows - cropsze) / 2))\n",
        "        rotim = rotim[offset:offset + cropsze][:, offset:offset + cropsze]\n",
        "\n",
        "        # Sum down the columns to get a projection of the grey values down\n",
        "        # the ridges.\n",
        "\n",
        "        proj = np.sum(rotim, axis=0)\n",
        "        dilation = scipy.ndimage.grey_dilation(proj, self.ridge_freq_windsze, structure=np.ones(self.ridge_freq_windsze))\n",
        "\n",
        "        temp = np.abs(dilation - proj)\n",
        "\n",
        "        peak_thresh = 2\n",
        "\n",
        "        maxpts = (temp < peak_thresh) & (proj > np.mean(proj))\n",
        "        maxind = np.where(maxpts)\n",
        "\n",
        "        rows_maxind, cols_maxind = np.shape(maxind)\n",
        "\n",
        "        # Determine the spatial frequency of the ridges by divinding the\n",
        "        # distance between the 1st and last peaks by the (No of peaks-1). If no\n",
        "        # peaks are detected, or the wavelength is outside the allowed bounds,\n",
        "        # the frequency image is set to 0\n",
        "\n",
        "        if (cols_maxind < 2):\n",
        "            return(np.zeros(blkim.shape))\n",
        "        else:\n",
        "            NoOfPeaks = cols_maxind\n",
        "            waveLength = (maxind[0][cols_maxind - 1] - maxind[0][0]) / (NoOfPeaks - 1)\n",
        "            if waveLength >= self.min_wave_length and waveLength <= self.max_wave_length:\n",
        "                return(1 / np.double(waveLength) * np.ones(blkim.shape))\n",
        "            else:\n",
        "                return(np.zeros(blkim.shape))\n",
        "\n",
        "    def __ridge_filter(self):\n",
        "        # RIDGEFILTER - enhances fingerprint image via oriented filters\n",
        "        #\n",
        "        # Function to enhance fingerprint image via oriented filters\n",
        "        #\n",
        "        # Usage:\n",
        "        #  newim =  ridgefilter(im, orientim, freqim, kx, ky, showfilter)\n",
        "        #\n",
        "        # Arguments:\n",
        "        #         im       - Image to be processed.\n",
        "        #         orientim - Ridge orientation image, obtained from RIDGEORIENT.\n",
        "        #         freqim   - Ridge frequency image, obtained from RIDGEFREQ.\n",
        "        #         kx, ky   - Scale factors specifying the filter sigma relative\n",
        "        #                    to the wavelength of the filter.  This is done so\n",
        "        #                    that the shapes of the filters are invariant to the\n",
        "        #                    scale.  kx controls the sigma in the x direction\n",
        "        #                    which is along the filter, and hence controls the\n",
        "        #                    bandwidth of the filter.  ky controls the sigma\n",
        "        #                    across the filter and hence controls the\n",
        "        #                    orientational selectivity of the filter. A value of\n",
        "        #                    0.5 for both kx and ky is a good starting point.\n",
        "        #         showfilter - An optional flag 0/1.  When set an image of the\n",
        "        #                      largest scale filter is displayed for inspection.\n",
        "        #\n",
        "        # Output:\n",
        "        #         newim    - The enhanced image\n",
        "        #\n",
        "        # See also: RIDGEORIENT, RIDGEFREQ, RIDGESEGMENT\n",
        "\n",
        "        # Reference:\n",
        "        # Hong, L., Wan, Y., and Jain, A. K. Fingerprint image enhancement:\n",
        "        # Algorithm and performance evaluation. IEEE Transactions on Pattern\n",
        "        # Analysis and Machine Intelligence 20, 8 (1998), 777 789.\n",
        "\n",
        "        ### REFERENCES\n",
        "\n",
        "        # Peter Kovesi\n",
        "        # School of Computer Science & Software Engineering\n",
        "        # The University of Western Australia\n",
        "        # pk at csse uwa edu au\n",
        "        # http://www.csse.uwa.edu.au/~pk\n",
        "\n",
        "        im = np.double(self._normim)\n",
        "        rows, cols = im.shape\n",
        "        newim = np.zeros((rows, cols))\n",
        "        freq_1d = np.reshape(self._freq, (1, rows * cols))\n",
        "        ind = np.where(freq_1d > 0)\n",
        "        \n",
        "        ind = np.array(ind)\n",
        "        ind = ind[1, :]\n",
        "\n",
        "        # Round the array of frequencies to the nearest 0.01 to reduce the\n",
        "        # number of distinct frequencies we have to deal with.\n",
        "\n",
        "        non_zero_elems_in_freq = freq_1d[0][ind]\n",
        "        non_zero_elems_in_freq = np.double(np.round((non_zero_elems_in_freq * 100))) / 100\n",
        "        \n",
        "        unfreq = np.unique(non_zero_elems_in_freq)\n",
        "\n",
        "        # Generate filters corresponding to these distinct frequencies and\n",
        "        # orientations in 'angleInc' increments.\n",
        "\n",
        "        sigmax = 1 / unfreq[0] * self.kx\n",
        "        sigmay = 1 / unfreq[0] * self.ky\n",
        "\n",
        "        sze = np.int(np.round(3 * np.max([sigmax, sigmay])))\n",
        "\n",
        "        x, y = np.meshgrid(np.linspace(-sze, sze, (2 * sze + 1)), np.linspace(-sze, sze, (2 * sze + 1)))\n",
        "\n",
        "        reffilter = np.exp(-(((np.power(x, 2)) / (sigmax * sigmax) + (np.power(y, 2)) / (sigmay * sigmay)))) * np.cos(\n",
        "            2 * np.pi * unfreq[0] * x)        # this is the original gabor filter\n",
        "\n",
        "        filt_rows, filt_cols = reffilter.shape\n",
        "\n",
        "        angleRange = np.int(180 / self.angleInc)\n",
        "\n",
        "        gabor_filter = np.array(np.zeros((angleRange, filt_rows, filt_cols)))\n",
        "\n",
        "        for o in range(0, angleRange):\n",
        "            # Generate rotated versions of the filter.  Note orientation\n",
        "            # image provides orientation *along* the ridges, hence +90\n",
        "            # degrees, and imrotate requires angles +ve anticlockwise, hence\n",
        "            # the minus sign.\n",
        "\n",
        "            rot_filt = scipy.ndimage.rotate(reffilter, -(o * self.angleInc + 90), reshape=False)\n",
        "            gabor_filter[o] = rot_filt\n",
        "\n",
        "        # Find indices of matrix points greater than maxsze from the image\n",
        "        # boundary\n",
        "\n",
        "        maxsze = int(sze)\n",
        "\n",
        "        temp = self._freq > 0\n",
        "        validr, validc = np.where(temp)\n",
        "\n",
        "        temp1 = validr > maxsze\n",
        "        temp2 = validr < rows - maxsze\n",
        "        temp3 = validc > maxsze\n",
        "        temp4 = validc < cols - maxsze\n",
        "\n",
        "        final_temp = temp1 & temp2 & temp3 & temp4\n",
        "\n",
        "        finalind = np.where(final_temp)\n",
        "\n",
        "        # Convert orientation matrix values from radians to an index value\n",
        "        # that corresponds to round(degrees/angleInc)\n",
        "\n",
        "        maxorientindex = np.round(180 / self.angleInc)\n",
        "        orientindex = np.round(self._orientim / np.pi * 180 / self.angleInc)\n",
        "\n",
        "        # do the filtering\n",
        "        for i in range(0, rows):\n",
        "            for j in range(0, cols):\n",
        "                if (orientindex[i][j] < 1):\n",
        "                    orientindex[i][j] = orientindex[i][j] + maxorientindex\n",
        "                if (orientindex[i][j] > maxorientindex):\n",
        "                    orientindex[i][j] = orientindex[i][j] - maxorientindex\n",
        "        finalind_rows, finalind_cols = np.shape(finalind)\n",
        "        sze = int(sze)\n",
        "        for k in range(0, finalind_cols):\n",
        "            r = validr[finalind[0][k]]\n",
        "            c = validc[finalind[0][k]]\n",
        "\n",
        "            img_block = im[r - sze:r + sze + 1][:, c - sze:c + sze + 1]\n",
        "\n",
        "            newim[r][c] = np.sum(img_block * gabor_filter[int(orientindex[r][c]) - 1])\n",
        "\n",
        "        self._binim = newim < self.ridge_filter_thresh\n",
        "\n",
        "    def enhance(self, img, resize=True, size: Optional[int]=350):\n",
        "        # main function to enhance the image.\n",
        "        # calls all other subroutines\n",
        "\n",
        "        if (len(img.shape) > 2):  # convert image into gray if necessary\n",
        "            img = cv2.cvtColor(img, cv2.COLOR_BGR2GRAY)\n",
        "        if(resize):\n",
        "            rows, cols = np.shape(img)\n",
        "            aspect_ratio = np.double(rows) / np.double(cols)\n",
        "\n",
        "            new_rows = size                     # randomly selected number\n",
        "            new_cols = new_rows / aspect_ratio\n",
        "\n",
        "            img = cv2.resize(img, (np.int(new_cols), np.int(new_rows)),cv2.INTER_NEAREST)\n",
        "\n",
        "        self.__ridge_segment(img)   # normalise the image and find a ROI\n",
        "        self.__ridge_orient()       # compute orientation image\n",
        "        self.__ridge_freq()         # compute major frequency of ridges\n",
        "        if self._mean_freq!=0:\n",
        "          self.__ridge_filter()       # filter the image using oriented gabor filter\n",
        "          failed=False\n",
        "        else: failed=True\n",
        "        #self._binim = 255 * self._binim.astype('uint8')\n",
        "        return(np.array(self._binim).astype('int'),failed)"
      ],
      "execution_count": 113,
      "outputs": []
    },
    {
      "cell_type": "markdown",
      "metadata": {
        "id": "VALnI8jHIVU9"
      },
      "source": [
        "###my fun"
      ]
    },
    {
      "cell_type": "code",
      "metadata": {
        "id": "y-TbGo9bJa1q"
      },
      "source": [
        "#import torchvision\n",
        "#from torchvision import transforms\n",
        "\n",
        "def enhanc(img,mask,size_out : Optional[int]=0): \n",
        "  '''\n",
        "  img: ndarray 1x3xnxm\n",
        "  mask: ndarray nxm (same dim of size_out)\n",
        "  size_out: (int) effettua un resize dell'immagine prima dell'enhancement (se 0 dà in uscita l'img con le stesse dim dell'input)\n",
        "  return: img_en 1x3xnxm\n",
        "  '''\n",
        "  res=False\n",
        "  #res=True\n",
        "  r, g, b = img[0,0,:,:],img[0,1,:,:],img[0,2,:,:]\n",
        "  img_g = 0.2989 * r + 0.5870 * g + 0.1140 * b\n",
        "  size_init=img_g.shape\n",
        "  #img_g=img_g.astype('float32')\n",
        "  finger_en=FingerprintImageEnhancer()\n",
        "  #img=img[0].transpose(1,2,0)\n",
        "  if size_out==0: #se non voglio una dimensione specifica in uscita trasformo l'img finale con le dim iniziali\n",
        "    if size_init[0]<350: res=True\n",
        "    out,failed = finger_en.enhance(img=img_g,resize=res,size=350)\n",
        "    if res:\n",
        "      out = cv2.resize(np.array(out), (size_init[0],size_init[1]),interpolation=cv2.INTER_NEAREST)\n",
        "  else:\n",
        "    #inserire controllo se size_out<350\n",
        "    res=True\n",
        "    out,failed = finger_en.enhance(img=img_g,resize=res,size=size_out)\n",
        "\n",
        "  size_out=out.shape[0]\n",
        "  if failed==False:\n",
        "    out=1-out\n",
        "    img=np.zeros([1,3,size_out,size_out])#size_init[0],size_init[1]])\n",
        "    for i in range(3):\n",
        "      img[0,i,:,:]=out\n",
        "    img=np.where(mask == 0.0, 1, img)\n",
        "  else: \n",
        "    print(\"failed enhanc\")\n",
        "\n",
        "  return img"
      ],
      "execution_count": 114,
      "outputs": []
    },
    {
      "cell_type": "markdown",
      "metadata": {
        "id": "0OdO07YuUOFS"
      },
      "source": [
        "##calc size"
      ]
    },
    {
      "cell_type": "code",
      "metadata": {
        "id": "1EAve-4iUPk1"
      },
      "source": [
        "def calc_size(n):\n",
        "  '''\n",
        "  n: int \n",
        "  return: 80% of n\n",
        "  '''\n",
        "  return tuple(int(np.ceil(i * (80/100))) for i in n)"
      ],
      "execution_count": 115,
      "outputs": []
    },
    {
      "cell_type": "markdown",
      "metadata": {
        "id": "Q64Z8X5mzAZ1"
      },
      "source": [
        "##Perturbazione"
      ]
    },
    {
      "cell_type": "code",
      "metadata": {
        "id": "GegLlIcWzCSv"
      },
      "source": [
        "def compute_perturb(x,x_adv,transf_init):\n",
        "  '''\n",
        "    x: img originali\n",
        "    x_adv: img contraddittorie\n",
        "    return: pertubazioni\n",
        "  '''\n",
        "  #calcola la perturbazione con img 224x224\n",
        "  if x_adv.shape[2]==224:\n",
        "    x=np.array(transf_resize(torch.Tensor(x)))\n",
        "  perturb=x_adv-x\n",
        "  \n",
        "  perturb=np.array(transf_init(torch.Tensor(perturb)))\n",
        "  \n",
        "  return perturb"
      ],
      "execution_count": 116,
      "outputs": []
    },
    {
      "cell_type": "markdown",
      "metadata": {
        "id": "JmyIKi7XvvSf"
      },
      "source": [
        "##Print subplot"
      ]
    },
    {
      "cell_type": "code",
      "metadata": {
        "id": "uspz0KYNvwuS"
      },
      "source": [
        "def print_subplot(perturb,x_test,y_test,preds,x_test_adv,value_preds_adv):\n",
        "  '''\n",
        "    perturb: perturbazioni\n",
        "    x_test: img originali\n",
        "    y_test: classi originali\n",
        "    preds: classi predette per img originali\n",
        "    x_test_adv: img contraddittoria\n",
        "    value_preds_adv: probabilità predette img contraddittorie\n",
        "    normalize: se True normalizza le immagini\n",
        "  '''\n",
        "\n",
        "  #nel seguente ciclo for si crea un vettore delle classi predette ordinato per probabilità decrescente\n",
        "  for i in range(len(x_test)):#(x_test.shape[0]):\n",
        "    value=value_preds_adv[i]*100\n",
        "    value_sorted=sorted(value,reverse=True)\n",
        "    classes=[]\n",
        "    for j in range(value.size) :\n",
        "      ind=np.where(value==value_sorted[j]) #restituisce l'indice in value del valore uguale a value_sorted[i], quindi è la classe\n",
        "      classes.append(classes_name[ind[0][0]]) #classes è il vettore finale\n",
        "    \n",
        "    value_sorted=[ round(elem, 2) for elem in value_sorted ]\n",
        "\n",
        "    val_pert=np.mean(np.abs(perturb[i]))\n",
        "    pert_min,pert_max=np.min(perturb[i]),np.max(perturb[i])\n",
        "    #perturb,val_pert,perturb_norm=compute_perturb(x_test,x_test_adv)\n",
        "    perturb[i]=np.clip(perturb[i],0,1) #rimuovo i valori negativi poiché non posso visualizzarli\n",
        "    #in seguito per ogni immagine del test set si stampa un subplot\n",
        "    fig = plt.figure(figsize=[20,20])\n",
        "    #plt.subplots_adjust(wspace=0.9)\n",
        "    print('\\033[1m'+\"IMMAGINE \"+'\\033[1m',i) #valore END: '\\033[0m'\n",
        "    #originale\n",
        "    ax1 = fig.add_subplot(131) #subplot con 3 righe e due colonne\n",
        "    ax1.axis('off')\n",
        "    #ax1.imshow(cv2.rotate(x_test[i],cv2.cv2.ROTATE_90_CLOCKWISE))\n",
        "    ax1.imshow(x_test[i].transpose(1,2,0))\n",
        "    ax1.title.set_text(\"ORIGINALE\\nclasse reale: \"+classes_name[np.argmax(y_test[i])]+\"\\nclasse predetta: \"+str(preds[i]))\n",
        "    #perturbazione\n",
        "    ax2 = fig.add_subplot(132)\n",
        "    #ax2.imshow(cv2.rotate(perturb_norm[i],cv2.cv2.ROTATE_90_CLOCKWISE))\n",
        "    ax2.imshow(perturb[i].transpose(1,2,0),cmap='gray')\n",
        "    #ax2.imshow(perturb[i],cmap='gray')\n",
        "    ax2.axis('off')\n",
        "    ax2.title.set_text(\"PERTURBAZIONE\\nvalore medio: \"+str(round(val_pert,4))+\"\\nmin: \"+str(pert_min)+\"\\nmax: \"+str(pert_max))\n",
        "    #perturbata\n",
        "    ax3 = fig.add_subplot(133)\n",
        "    #ax3.imshow(cv2.rotate(x_test_adv[i],cv2.cv2.ROTATE_90_CLOCKWISE))#,aspect='auto')\n",
        "    ax3.imshow(x_test_adv[i].transpose(1,2,0))\n",
        "    ax3.axis('off')\n",
        "    ax3.title.set_text(\"PERTURBATA\\nclassi predette: \"+str(classes)+\"\\ncon valori: \"+str(value_sorted))\n",
        "    plt.show()"
      ],
      "execution_count": 117,
      "outputs": []
    },
    {
      "cell_type": "markdown",
      "metadata": {
        "id": "kJ6xDO5GGZY5"
      },
      "source": [
        "##Testing"
      ]
    },
    {
      "cell_type": "code",
      "metadata": {
        "id": "-VvGULk0ng1S"
      },
      "source": [
        "def test_average(classifier,input,transf_init):\n",
        "  '''\n",
        "  model: model trained\n",
        "  test_loader: dataloader \n",
        "  return: pred: classe predetta, probabilities, values\n",
        "  '''\n",
        "  preds=[]\n",
        "  #value=[]\n",
        "  prob=nn.Softmax(dim=0)\n",
        "  \n",
        "  if input.shape[2]==224:\n",
        "    input=transf_init(input)\n",
        "\n",
        "  n=input.shape\n",
        "  n_mod=calc_size(n[2:4])\n",
        "  crop_transform=transforms.TenCrop((n_mod[0],n_mod[1]))\n",
        "  crops=crop_transform(input)\n",
        "  live=0\n",
        "  spoof=0\n",
        "  for crop in crops:\n",
        "    crop=data_transform_test(crop) #resize 224\n",
        "    outputs = classifier.predict(crop)\n",
        "    live+=outputs[0][0]\n",
        "    spoof+=outputs[0][1]\n",
        "  live=live/10\n",
        "  spoof=spoof/10\n",
        "  values=[live,spoof]\n",
        "  predicted=np.argmax(values)\n",
        "  probabilities=prob(torch.Tensor(values)).numpy()\n",
        "\n",
        "  return predicted,probabilities,values"
      ],
      "execution_count": 118,
      "outputs": []
    },
    {
      "cell_type": "markdown",
      "metadata": {
        "id": "Sm63-OLUwGE-"
      },
      "source": [
        "##mask"
      ]
    },
    {
      "cell_type": "code",
      "metadata": {
        "id": "lnK0KawpwHeq"
      },
      "source": [
        "def compute_mask(img,n_contours=3):\n",
        "  '''\n",
        "  img: tensor 1x3xnxm\n",
        "  n_contours: numero di contorni da tracciare nel passo intermedio (consigliati: 3 per img 224x224, 6 per img 500x500)\n",
        "  '''\n",
        "  #img iniziale [0,1]\n",
        "  img=np.array(img[0])\n",
        "  img=img.transpose(1,2,0)\n",
        "\n",
        "  #trasforma in gray\n",
        "  r, g, b = img[:,:,0], img[:,:,1], img[:,:,2]\n",
        "  gray = 0.2989 * r + 0.5870 * g + 0.1140 * b\n",
        "  #scala in [0,255]\n",
        "  gray = (gray - np.min(gray)) / (np.max(gray) - np.min(gray))\n",
        "  gray=gray*255\n",
        "  gray=gray.astype('uint8')\n",
        "  #cv2_imshow(gray)\n",
        "  #calcola immagine binaria\n",
        "  ret, imgf = cv2.threshold(gray, 0,255, cv2.THRESH_BINARY_INV+cv2.THRESH_OTSU)\n",
        "\n",
        "  image_contours = np.zeros((imgf.shape[1],\n",
        "                            imgf.shape[0]),\n",
        "                            np.uint8)\n",
        "\n",
        "  image_binary = np.zeros((imgf.shape[1],\n",
        "                          imgf.shape[0]),\n",
        "                          np.uint8)\n",
        "\n",
        "  #cerca i contorni nell'immagine binaria\n",
        "  contours =cv2.findContours(imgf, cv2.RETR_TREE, cv2.CHAIN_APPROX_SIMPLE)[0]\n",
        "  cv2.drawContours(image_contours,\n",
        "                      contours, -1,\n",
        "                      (255,255), n_contours)\n",
        "  #cv2_imshow(image_contours)\n",
        "  contours = cv2.findContours(image_contours, cv2.RETR_LIST,\n",
        "                            cv2.CHAIN_APPROX_SIMPLE)[0]\n",
        "  #disegna solo il contorno più esterno\n",
        "  cv2.drawContours(image_binary, [max(contours, key = cv2.contourArea)],\n",
        "                  -1, (255, 255),-1)\n",
        "  #restituisce immagine [0,1]\n",
        "  return image_binary/255"
      ],
      "execution_count": 119,
      "outputs": []
    },
    {
      "cell_type": "markdown",
      "metadata": {
        "id": "w_qc1J0y4Ucu"
      },
      "source": [
        "##Save/read"
      ]
    },
    {
      "cell_type": "code",
      "metadata": {
        "id": "bFrqikuV4WIb"
      },
      "source": [
        "def save_read(x,classifier,transf_init):\n",
        "  print(\"valori img originale:\")\n",
        "  _,p,_=test_average(classifier,torch.Tensor(x).unsqueeze_(0),transf_init)\n",
        "  print(p)\n",
        "  x=x.transpose(1,2,0)*255\n",
        "  #plt.imsave('prova.bmp',x)\n",
        "  cv2.imwrite('prova.png',x)\n",
        "  #plt.imshow(x)\n",
        "  #cv2_imshow(x)\n",
        "\n",
        "  x=cv2.imread('prova.png')\n",
        "  x=x/255\n",
        "  #x=plt.imread('prova.png')/255\n",
        "  #plt.imshow(prova_arr*255)\n",
        "  #cv2_imshow(x*255)\n",
        "  print(\"valori dopo salvataggio/lettura:\")\n",
        "  _,p,_=test_average(classifier,torch.Tensor(x.transpose(2,0,1)).unsqueeze_(0),transf_init)\n",
        "  print(p)"
      ],
      "execution_count": 120,
      "outputs": []
    },
    {
      "cell_type": "markdown",
      "metadata": {
        "id": "DWxzZ1rGd5LY"
      },
      "source": [
        "##accuracy single class"
      ]
    },
    {
      "cell_type": "code",
      "metadata": {
        "id": "b5X2LDppd6bN"
      },
      "source": [
        "def accuracy_class(class_str,pd_class):\n",
        "  '''\n",
        "  class_str: string class\n",
        "  pd_class: dataframe\n",
        "  '''\n",
        "  n=np.sum(pd_class['real']==class_str)\n",
        "  print(\"# img\"+class_str+\": \"+str(n))\n",
        "\n",
        "  p=pd_class.loc[pd_class['real']==class_str]\n",
        "  p=p.loc[p['predicted']==p['real']]\n",
        "  n_class=p.count(0)[0]\n",
        "  print(\"Numero di predizioni \"+class_str+\" giuste: \"+str(n_class))\n",
        "  print(\"Accuracy : \"+str(round(n_class/n*100,2)))  "
      ],
      "execution_count": 121,
      "outputs": []
    },
    {
      "cell_type": "markdown",
      "metadata": {
        "id": "55yuMaawbgyt"
      },
      "source": [
        "##print accuracy"
      ]
    },
    {
      "cell_type": "code",
      "metadata": {
        "id": "Zit5EmQsbiHX"
      },
      "source": [
        "def print_acc(pd_preds):\n",
        "  '''\n",
        "  stampa accuracy usando il dataframe con le predizioni\n",
        "  pd_preds: dataframe\n",
        "  '''\n",
        "  true_label = pd_preds.real.values\n",
        "  predicted = pd_preds.predicted.values\n",
        "  accuracy=round((np.sum((true_label == predicted).astype(int)))/pd_preds.shape[0],4)*100\n",
        "  print(\"\\nAccuracy: {0}\".format(accuracy))\n",
        "  print(\"Shape dataframe: {0}\".format(pd_preds.shape)) "
      ],
      "execution_count": 122,
      "outputs": []
    },
    {
      "cell_type": "markdown",
      "metadata": {
        "id": "OfEnYI_UUEb6"
      },
      "source": [
        "##FGM mod"
      ]
    },
    {
      "cell_type": "code",
      "metadata": {
        "id": "b3oRorbFUCF-"
      },
      "source": [
        "from __future__ import absolute_import, division, print_function, unicode_literals\n",
        "\n",
        "import logging\n",
        "from typing import Optional, Union, TYPE_CHECKING\n",
        "\n",
        "import numpy as np\n",
        "\n",
        "from art.config import ART_NUMPY_DTYPE\n",
        "from art.attacks.attack import EvasionAttack\n",
        "from art.estimators.estimator import BaseEstimator, LossGradientsMixin\n",
        "from art.estimators.classification.classifier import ClassifierMixin\n",
        "from art.utils import (\n",
        "    compute_success,\n",
        "    get_labels_np_array,\n",
        "    random_sphere,\n",
        "    projection,\n",
        "    check_and_transform_label_format,\n",
        ")\n",
        "\n",
        "if TYPE_CHECKING:\n",
        "    from art.utils import CLASSIFIER_LOSS_GRADIENTS_TYPE\n",
        "\n",
        "logger = logging.getLogger(__name__)\n",
        "\n",
        "\n",
        "class IterativeFastGradientMethod(EvasionAttack):\n",
        "    \"\"\"\n",
        "    This attack was originally implemented by Goodfellow et al. (2015) with the infinity norm (and is known as the \"Fast\n",
        "    Gradient Sign Method\"). This implementation extends the attack to other norms, and is therefore called the Fast\n",
        "    Gradient Method.\n",
        "    | Paper link: https://arxiv.org/abs/1412.6572\n",
        "    \"\"\"\n",
        "\n",
        "    attack_params = EvasionAttack.attack_params + [\n",
        "        \"norm\",\n",
        "        \"eps\",\n",
        "        \"eps_step\",\n",
        "        \"class_target\",\n",
        "        \"max_iter\",\n",
        "        \"confidence\",\n",
        "        \"tensor_board\",\n",
        "    ]\n",
        "    _estimator_requirements = (BaseEstimator, LossGradientsMixin)\n",
        "\n",
        "    def __init__(\n",
        "        self,\n",
        "        estimator: \"CLASSIFIER_LOSS_GRADIENTS_TYPE\",\n",
        "        norm: Union[int, float, str] = np.inf,\n",
        "        eps: Union[int, float, np.ndarray] = 0.3,\n",
        "        eps_step: Union[int, float, np.ndarray] = 0.1,\n",
        "        class_target: int = 0,\n",
        "        max_iter: int = 10,\n",
        "        confidence: float = 0.6, \n",
        "        tensor_board: Union[str, bool] = False,\n",
        "    ) -> None:\n",
        "        \"\"\"\n",
        "        Create a :class:`.FastGradientMethod` instance.\n",
        "        :param estimator: A trained classifier.\n",
        "        :param norm: The norm of the adversarial perturbation. Possible values: \"inf\", np.inf, 1 or 2.\n",
        "        :param eps: Attack step size (input variation).\n",
        "        :param eps_step: Step size of input variation for minimal perturbation computation.\n",
        "        :param class_target: classe da far predire.\n",
        "        :param max_iter: numero massimo di iterazioni\n",
        "        :param confidence: probabilità minima con la quale predire class_target\n",
        "        :param tensor_board: Activate summary writer for TensorBoard: Default is `False` and deactivated summary writer.\n",
        "                             If `True` save runs/CURRENT_DATETIME_HOSTNAME in current directory. Provide `path` in type\n",
        "                             `str` to save in path/CURRENT_DATETIME_HOSTNAME.\n",
        "                             Use hierarchical folder structure to compare between runs easily. e.g. pass in ‘runs/exp1’,\n",
        "                             ‘runs/exp2’, etc. for each new experiment to compare across them.\n",
        "        \"\"\"\n",
        "        super().__init__(estimator=estimator, tensor_board=tensor_board)\n",
        "        self.norm = norm\n",
        "        self.eps = eps\n",
        "        self.eps_step = eps_step\n",
        "        self.class_target=class_target\n",
        "        self.max_iter=max_iter\n",
        "        self.confidence=confidence\n",
        "        self._project = True\n",
        "        IterativeFastGradientMethod._check_params(self)\n",
        "\n",
        "        self._i_max_iter = 0\n",
        "\n",
        "    def _check_compatibility_input_and_eps(self, x: np.ndarray):\n",
        "        \"\"\"\n",
        "        Check the compatibility of the input with `eps` and `eps_step` which are of the same shape.\n",
        "        :param x: An array with the original inputs.\n",
        "        \"\"\"\n",
        "        if isinstance(self.eps, np.ndarray):\n",
        "            # Ensure the eps array is broadcastable\n",
        "            if self.eps.ndim > x.ndim:\n",
        "                raise ValueError(\"The `eps` shape must be broadcastable to input shape.\")\n",
        "\n",
        "    def _minimal_perturbation(self, x: np.ndarray, y: np.ndarray, mask_mod, enh) -> np.ndarray:\n",
        "        \"\"\"\n",
        "        Iteratively compute the minimal perturbation necessary to make the class prediction change. Stop when the\n",
        "        first adversarial example was found.\n",
        "        :param x: An array with the original inputs.\n",
        "        :param y: Target values (class labels) one-hot-encoded of shape (nb_samples, nb_classes).\n",
        "        :param class_target: class da predire se target=True (nel nostro caso vogliamo far predire sempre live)\n",
        "        :return: An array holding the adversarial examples.\n",
        "        \"\"\"\n",
        "        adv_x = x.copy()\n",
        "\n",
        "        size_init=np.array(x.shape[2:4])\n",
        "        transf_orig=transforms.Resize(size=(size_init[0],size_init[1]),interpolation=InterpolationMode.NEAREST)\n",
        "\n",
        "        pred,values,_=test_average(self.estimator,torch.Tensor(adv_x),transf_orig)\n",
        "        if ((pred==np.argmax(y, axis=1)) and (pred!= self.class_target)):\n",
        "           active=True\n",
        "        elif ((pred!=np.argmax(y, axis=1)) and (pred== self.class_target) and (np.max(values)<self.confidence)): \n",
        "           active=True\n",
        "        else:  active=False\n",
        "\n",
        "        current_eps = self.eps_step\n",
        "        partial_stop_condition = current_eps <= self.eps\n",
        "            \n",
        "        iter=0\n",
        "        if active==True:\n",
        "          adv_x=transf_resize(torch.Tensor(adv_x))\n",
        "          #mask_mod=compute_mask(torch.Tensor(adv_x))\n",
        "          #cv2_imshow(mask_mod*255)\n",
        "          adv_x=np.array(adv_x)\n",
        "          #adv_x=enhanc(adv_x,[224,224],mask_mod)\n",
        "          #list_en=[i for i in range(0,self.max_iter,step_en)]\n",
        "          #x_1=adv_x.copy()\n",
        "          while active==True and partial_stop_condition and iter<self.max_iter:\n",
        "                iter+=1\n",
        "                #sys.stdout.write(\"\\rIter: {0}/{1}\".format(iter,self.max_iter))\n",
        "                #sys.stdout.flush()\n",
        "                #calcolo perturbazione\n",
        "                perturbation = self._compute_perturbation(adv_x, y, mask_mod) #[-1,1]\n",
        "                \n",
        "                #trasformazione in gray\n",
        "                r, g, b = perturbation[0,0,:,:],perturbation[0,1,:,:],perturbation[0,2,:,:]\n",
        "                perturbation = 0.2989 * r + 0.5870 * g + 0.1140 * b\n",
        "                \n",
        "                current_x = self._apply_perturbation(adv_x, perturbation, current_eps)\n",
        "                adv_x=current_x\n",
        "                '''\n",
        "                print(\"prima\")\n",
        "                cv2_imshow(current_x[0].transpose(1,2,0)*255)\n",
        "                adv_x=enhanc(current_x,[224,224],mask_mod)\n",
        "                print(\"dopo\")\n",
        "                cv2_imshow(adv_x[0].transpose(1,2,0)*255)\n",
        "                '''\n",
        "                #if iter in list_en: adv_x=enhanc(adv_x,mask_mod)\n",
        "                if enh:\n",
        "                  adv_x=enhanc(adv_x,mask_mod)\n",
        "                pred,values,_=test_average(self.estimator,torch.Tensor(adv_x),transf_orig)\n",
        "                \n",
        "                # If targeted active check to see whether we have hit the target, otherwise head to anything but\n",
        "                if ((pred==np.argmax(y, axis=1)) and (pred!= self.class_target)):\n",
        "                  active=True\n",
        "                elif ((pred!=np.argmax(y, axis=1)) and (pred== self.class_target) and (np.max(values)<self.confidence)): \n",
        "                  active=True\n",
        "                else:  active=False\n",
        "\n",
        "                # Update current eps and check the stop condition\n",
        "                current_eps = current_eps + self.eps_step\n",
        "                partial_stop_condition = current_eps <= self.eps\n",
        "\n",
        "          #adv_x=enhanc(adv_x,[500,500],mask_mod)\n",
        "\n",
        "        return adv_x\n",
        "\n",
        "    def generate(self, mask, x: np.ndarray, y: Optional[np.ndarray] = None, enh: Optional[bool]=False, **kwargs) -> np.ndarray:\n",
        "        \"\"\"Generate adversarial samples and return them in an array.\n",
        "        :param x: An array with the original inputs.\n",
        "        :param y: Target values (class labels) one-hot-encoded of shape (nb_samples, nb_classes) or indices of shape\n",
        "                  (nb_samples,). Only provide this parameter if you'd like to use true labels when crafting adversarial\n",
        "                  samples. Otherwise, model predictions are used as labels to avoid the \"label leaking\" effect\n",
        "                  (explained in this paper: https://arxiv.org/abs/1611.01236). Default is `None`.       \n",
        "        :return: An array holding the adversarial examples.\n",
        "        \"\"\"\n",
        "\n",
        "        # Ensure eps is broadcastable\n",
        "        self._check_compatibility_input_and_eps(x=x)\n",
        "\n",
        "        y = check_and_transform_label_format(y, self.estimator.nb_classes)\n",
        "\n",
        "        if y is None:\n",
        "           # Throw error if attack is targeted, but no targets are provided\n",
        "           # Use model predictions as correct outputs\n",
        "           logger.info(\"Using model predictions as correct labels for FGM.\")\n",
        "           y = get_labels_np_array(self.estimator.predict(x))  # type: ignore\n",
        "\n",
        "        # Return adversarial examples computed with minimal perturbation if option is active\n",
        "        adv_x_best = self._minimal_perturbation(x, y, mask, enh)\n",
        "        \n",
        "        return adv_x_best\n",
        "\n",
        "    def _check_params(self) -> None:\n",
        "\n",
        "        if self.norm not in [1, 2, np.inf, \"inf\"]:\n",
        "            raise ValueError('Norm order must be either 1, 2, `np.inf` or \"inf\".')\n",
        "\n",
        "        if not (\n",
        "            isinstance(self.eps, (int, float))\n",
        "            and isinstance(self.eps_step, (int, float))\n",
        "            or isinstance(self.eps, np.ndarray)\n",
        "            and isinstance(self.eps_step, np.ndarray)\n",
        "        ):\n",
        "            raise TypeError(\n",
        "                \"The perturbation size `eps` and the perturbation step-size `eps_step` must have the same type of `int`\"\n",
        "                \", `float`, or `np.ndarray`.\"\n",
        "            )\n",
        "\n",
        "        if isinstance(self.eps, (int, float)):\n",
        "            if self.eps < 0:\n",
        "                raise ValueError(\"The perturbation size `eps` has to be nonnegative.\")\n",
        "        else:\n",
        "            if (self.eps < 0).any():\n",
        "                raise ValueError(\"The perturbation size `eps` has to be nonnegative.\")\n",
        "\n",
        "        if isinstance(self.eps_step, (int, float)):\n",
        "            if self.eps_step <= 0:\n",
        "                raise ValueError(\"The perturbation step-size `eps_step` has to be positive.\")\n",
        "        else:\n",
        "            if (self.eps_step <= 0).any():\n",
        "                raise ValueError(\"The perturbation step-size `eps_step` has to be positive.\")\n",
        "\n",
        "        if isinstance(self.eps, np.ndarray) and isinstance(self.eps_step, np.ndarray):\n",
        "            if self.eps.shape != self.eps_step.shape:\n",
        "                raise ValueError(\n",
        "                    \"The perturbation size `eps` and the perturbation step-size `eps_step` must have the same shape.\"\n",
        "                )\n",
        "        if isinstance(self.class_target,int):\n",
        "            if self.class_target!=0 and self.class_target!=1:\n",
        "              raise ValueError(\"Attacco destinato alle impronte (0,1)\")\n",
        "        else: \n",
        "          raise ValueError(\"Class_target deve essere intero\")   \n",
        "\n",
        "        if isinstance(self.max_iter,int):\n",
        "            if self.max_iter <=0:\n",
        "              raise ValueError(\"max_iter Deve essere positivo\")\n",
        "        else: \n",
        "          raise ValueError(\"max_iter deve essere intero\")         \n",
        "\n",
        "        if isinstance(self.confidence,float):\n",
        "            if self.confidence <=0 or self.confidence >1:\n",
        "              raise ValueError(\"confidence deve essere compreso tra 0 e 1\")\n",
        "        else: \n",
        "          raise ValueError(\"confidence deve essere float\")         \n",
        "          \n",
        "\n",
        "    def _compute_perturbation(\n",
        "        self, batch: np.ndarray, batch_labels: np.ndarray, mask: Optional[np.ndarray]\n",
        "    ) -> np.ndarray:\n",
        "        # Pick a small scalar to avoid division by 0\n",
        "        tol = 10e-8\n",
        "        batch=np.array(trans_norm(torch.Tensor(batch)))\n",
        "        # Get gradient wrt loss; invert it if attack is targeted\n",
        "        grad = self.estimator.loss_gradient(batch, batch_labels)\n",
        "\n",
        "        # Check for NaN before normalisation an replace with 0\n",
        "        if grad.dtype != np.object and np.isnan(grad).any():\n",
        "            logger.warning(\"Elements of the loss gradient are NaN and have been replaced with 0.0.\")\n",
        "            grad = np.where(np.isnan(grad), 0.0, grad)\n",
        "        else:\n",
        "            for i, _ in enumerate(grad):\n",
        "                grad_i_array = grad[i].astype(np.float32)\n",
        "                if np.isnan(grad_i_array).any():\n",
        "                    grad[i] = np.where(np.isnan(grad_i_array), 0.0, grad_i_array).astype(np.object)\n",
        "\n",
        "        # Apply mask\n",
        "        if mask is not None:\n",
        "            grad = np.where(mask == 0.0, 0.0, grad)\n",
        "            #grad = np.where(mask2 == 1,0, grad)\n",
        "\n",
        "        # Apply norm bound\n",
        "        def _apply_norm(grad, object_type=False):\n",
        "            if (grad.dtype != np.object and np.isinf(grad).any()) or np.isnan(grad.astype(np.float32)).any():\n",
        "                logger.info(\"The loss gradient array contains at least one positive or negative infinity.\")\n",
        "\n",
        "            if self.norm in [np.inf, \"inf\"]:\n",
        "                grad = np.sign(grad)\n",
        "            elif self.norm == 1:\n",
        "                if not object_type:\n",
        "                    ind = tuple(range(1, len(batch.shape)))\n",
        "                else:\n",
        "                    ind = None\n",
        "                grad = grad / (np.sum(np.abs(grad), axis=ind, keepdims=True) + tol)\n",
        "            elif self.norm == 2:\n",
        "                if not object_type:\n",
        "                    ind = tuple(range(1, len(batch.shape)))\n",
        "                else:\n",
        "                    ind = None\n",
        "                grad = grad / (np.sqrt(np.sum(np.square(grad), axis=ind, keepdims=True)) + tol)\n",
        "            return grad\n",
        "\n",
        "        if batch.dtype == np.object:\n",
        "            for i_sample in range(batch.shape[0]):\n",
        "                grad[i_sample] = _apply_norm(grad[i_sample], object_type=True)\n",
        "                assert batch[i_sample].shape == grad[i_sample].shape\n",
        "        else:\n",
        "            grad = _apply_norm(grad)\n",
        "\n",
        "        assert batch.shape == grad.shape\n",
        "\n",
        "        return grad\n",
        "\n",
        "    def _apply_perturbation(\n",
        "        self, batch: np.ndarray, perturbation: np.ndarray, eps_step: Union[int, float, np.ndarray]\n",
        "    ) -> np.ndarray:\n",
        "\n",
        "        perturbation_step = eps_step * perturbation\n",
        "        if perturbation_step.dtype != np.object:\n",
        "            perturbation_step[np.isnan(perturbation_step)] = 0\n",
        "        else:\n",
        "            for i, _ in enumerate(perturbation_step):\n",
        "                perturbation_step_i_array = perturbation_step[i].astype(np.float32)\n",
        "                if np.isnan(perturbation_step_i_array).any():\n",
        "                    perturbation_step[i] = np.where(\n",
        "                        np.isnan(perturbation_step_i_array), 0.0, perturbation_step_i_array\n",
        "                    ).astype(np.object)\n",
        "\n",
        "        for i in range(3):\n",
        "          batch[0,i,:,:] = batch[0,i,:,:] + perturbation_step #applica la perturbazione grayscale ad ogni canale delle immagini originali\n",
        "        if self.estimator.clip_values is not None:\n",
        "            clip_min, clip_max = self.estimator.clip_values\n",
        "            batch = np.clip(batch, clip_min, clip_max)\n",
        "\n",
        "        return batch"
      ],
      "execution_count": 125,
      "outputs": []
    },
    {
      "cell_type": "markdown",
      "metadata": {
        "id": "O2z5CDqCOjhi"
      },
      "source": [
        "# **Esecuzione**"
      ]
    },
    {
      "cell_type": "markdown",
      "metadata": {
        "id": "OzZkC7HimlHT"
      },
      "source": [
        "##Creazione classificatore ART Pytorch\n",
        "\n"
      ]
    },
    {
      "cell_type": "code",
      "metadata": {
        "id": "AZL7c94zmlHU"
      },
      "source": [
        "from art.estimators.classification import PyTorchClassifier\n",
        "\n",
        "classifier = PyTorchClassifier(\n",
        "    model=model,\n",
        "    clip_values=(_min,_max),\n",
        "    loss=nn.CrossEntropyLoss(),\n",
        "    optimizer=optim.Adam(model.classifier.parameters(),lr=1e-5),\n",
        "    input_shape=(224, 224, 3),\n",
        "    nb_classes=class_number\n",
        ")"
      ],
      "execution_count": 27,
      "outputs": []
    },
    {
      "cell_type": "markdown",
      "metadata": {
        "id": "m10EkCq5GeEu"
      },
      "source": [
        "##Attacco"
      ]
    },
    {
      "cell_type": "code",
      "metadata": {
        "colab": {
          "base_uri": "https://localhost:8080/"
        },
        "id": "2yk7RwELGfM4",
        "outputId": "202ac8c4-4e96-4b10-ce28-a48c072df975"
      },
      "source": [
        "from art.utils import to_categorical\n",
        "from PIL import Image, ImageFile\n",
        "ImageFile.LOAD_TRUNCATED_IMAGES = True\n",
        "import random\n",
        "import time\n",
        "\n",
        "# FGM\n",
        "attack = IterativeFastGradientMethod(estimator=classifier, eps=10000,eps_step=0.05,class_target=classes_name.index('Live'),max_iter=20,confidence=0.7)\n",
        "#usa solo en dentro attacco e questi parametri\n",
        "\n",
        "x_print=[]\n",
        "y_print=[]\n",
        "x_print_adv=[] \n",
        "y_print_adv=[] \n",
        "perturb_print=[]\n",
        "Test_p = pd.DataFrame()\n",
        "model.eval()\n",
        "model.cuda()\n",
        "# starting time\n",
        "start = time.time()\n",
        "i=0\n",
        "for input,label in testgen:\n",
        "  i+=1\n",
        "\n",
        "  sys.stdout.write(\"\\rElem: {0}/{1}\".format(i,len(testgen)))\n",
        "  sys.stdout.flush()\n",
        "\n",
        "  y_test=np.array((to_categorical(label.numpy(),2)))\n",
        "  x_test=np.array(input.numpy())\n",
        "  pred,probabilities,_=test_average(classifier,torch.Tensor(x_test),transf_init)\n",
        "  if label==1 and pred==1: #solo se la predice spoof\n",
        "    filename=test_dataset.samples[i-1][0].split('Spoof/')[1]\n",
        "    m=compute_mask(torch.Tensor(x_test),n_contours=6)\n",
        "    x_test_p=x_test.copy()\n",
        "    j=0\n",
        "    m_at = cv2.resize(m, (224,224),interpolation=cv2.INTER_NEAREST)\n",
        "    while (j<5 and pred==1) or (j<5 and pred==0 and probabilities[0]<0.7):\n",
        "      j+=1\n",
        "      x_test_adv=attack.generate(mask=m_at,x=x_test_p,y=y_test,ehn=False)\n",
        "      x_test_adv=enhanc(x_test_adv,m,size_init[0])\n",
        "      x_test_p=x_test_adv.copy()\n",
        "      x_test_adv=torch.Tensor(x_test_adv)\n",
        "      #x_test_adv=transf_init(x_test_adv)\n",
        "      pred,probabilities,_=test_average(classifier,x_test_adv,transf_init)\n",
        "\n",
        "    if pred==0:\n",
        "      perturb=compute_perturb(x_test[0],x_test_adv[0],transf_init)\n",
        "      x_test_adv=torch.Tensor(x_test_adv)\n",
        "      #cv2.imwrite('/content/gdrive/MyDrive/GreenBit_attacks/IFGSM_adv_enhanc/'+filename,x_test_adv[0].numpy().transpose(1,2,0)*255)\n",
        "      \n",
        "      Test_p = Test_p.append({'name': filename,\n",
        "                              'predicted': classes_name[pred], #qui metti pred\n",
        "                              'real': classes_name[int(label)] ,\n",
        "                              'prob_live': round(probabilities[0]*100,4),\n",
        "                              'prob_spoof': round(probabilities[1]*100,4),},ignore_index = True)\n",
        "\n",
        "      x_print.append(x_test[0])\n",
        "      x_print_adv.append(x_test_adv[0].numpy())\n",
        "      y_print.append(y_test)\n",
        "      y_print_adv.append(probabilities)\n",
        "      perturb_print.append(perturb)\n",
        "\n",
        "# end time\n",
        "end = time.time()\n",
        "\n",
        "x_print=np.array(x_print)\n",
        "y_print=np.array(y_print)\n",
        "x_print_adv=np.array(x_print_adv)\n",
        "y_print_adv=np.array(y_print_adv)\n",
        "perturb_print=np.array(perturb_print)\n",
        "\n",
        "# total time taken\n",
        "import datetime\n",
        "time_exe=int(end - start)\n",
        "time_exe=datetime.timedelta(seconds=time_exe)\n",
        "\n",
        "print(f\"\\nRuntime of the program is {time_exe}\")\n",
        "#31 minuti con 100 img, 30 img perturbate con successo (e=0.05, 10 iter)"
      ],
      "execution_count": 128,
      "outputs": [
        {
          "output_type": "stream",
          "name": "stdout",
          "text": [
            "\rElem: 1/1\n",
            "Runtime of the program is 0:00:17\n"
          ]
        }
      ]
    },
    {
      "cell_type": "code",
      "metadata": {
        "colab": {
          "base_uri": "https://localhost:8080/"
        },
        "id": "VBxk_cn3uHGZ",
        "outputId": "b87db234-3ce2-483e-add4-38d8f12981c1"
      },
      "source": [
        "print(Test_p)"
      ],
      "execution_count": 129,
      "outputs": [
        {
          "output_type": "stream",
          "name": "stdout",
          "text": [
            "                         name predicted  prob_live  prob_spoof   real\n",
            "0  GreenBit_Latex_004_0_0.png      Live    85.6783     14.3217  Spoof\n"
          ]
        }
      ]
    },
    {
      "cell_type": "code",
      "metadata": {
        "id": "QfoCwGQZvxng"
      },
      "source": [
        "#Test_p.to_excel(\"list_ifgsm_enhanc.xlsx\",index=False)"
      ],
      "execution_count": 95,
      "outputs": []
    },
    {
      "cell_type": "markdown",
      "metadata": {
        "id": "ZFKEoI-enb8L"
      },
      "source": [
        "##Testing\n",
        "\n",
        "> Trasforma i due testing in una funzione e richiamala due volte\n",
        "\n"
      ]
    },
    {
      "cell_type": "markdown",
      "metadata": {
        "id": "1MmzfXhFt40W"
      },
      "source": [
        "###Print accuracy test orig from file & load pd"
      ]
    },
    {
      "cell_type": "code",
      "metadata": {
        "id": "DSOr1z85vhl7",
        "colab": {
          "base_uri": "https://localhost:8080/"
        },
        "outputId": "bde07eb4-f221-487e-996b-9bb86ec09503"
      },
      "source": [
        "Test_orig=pd.read_excel(pd_preds)\n",
        "print_acc(Test_orig) "
      ],
      "execution_count": 69,
      "outputs": [
        {
          "output_type": "stream",
          "name": "stdout",
          "text": [
            "\n",
            "Accuracy: 95.56\n",
            "Shape dataframe: (2500, 4)\n"
          ]
        }
      ]
    },
    {
      "cell_type": "markdown",
      "metadata": {
        "id": "xRmjrhHYsVsN"
      },
      "source": [
        "###Testing immagini spoof predette live prima e dopo"
      ]
    },
    {
      "cell_type": "markdown",
      "metadata": {
        "id": "zGuElPEOW3dZ"
      },
      "source": [
        "####Accuracy adv"
      ]
    },
    {
      "cell_type": "code",
      "metadata": {
        "colab": {
          "base_uri": "https://localhost:8080/"
        },
        "id": "Gp0jAIC-W5zC",
        "outputId": "faa2f47e-58a5-45db-f656-29b76d668d09"
      },
      "source": [
        "print_acc(Test_p)"
      ],
      "execution_count": 73,
      "outputs": [
        {
          "output_type": "stream",
          "name": "stdout",
          "text": [
            "\n",
            "Accuracy: 0.0\n",
            "Shape dataframe: (4, 4)\n"
          ]
        }
      ]
    },
    {
      "cell_type": "markdown",
      "metadata": {
        "id": "uyLoc2K6V_ar"
      },
      "source": [
        "####Spoof"
      ]
    },
    {
      "cell_type": "markdown",
      "metadata": {
        "id": "J0SfSelFK2dl"
      },
      "source": [
        "prima"
      ]
    },
    {
      "cell_type": "code",
      "metadata": {
        "id": "DsNqIDAxsZBA",
        "colab": {
          "base_uri": "https://localhost:8080/"
        },
        "outputId": "1584be7b-be58-4b44-cc31-1991dff04b5c"
      },
      "source": [
        "accuracy_class('Spoof',Test_orig)"
      ],
      "execution_count": null,
      "outputs": [
        {
          "output_type": "stream",
          "name": "stdout",
          "text": [
            "# imgSpoof: 1500\n",
            "Numero di predizioni Spoof giuste: 1390\n",
            "Accuracy : 92.67\n"
          ]
        }
      ]
    },
    {
      "cell_type": "markdown",
      "metadata": {
        "id": "AciVwgFyK3Xc"
      },
      "source": [
        "dopo"
      ]
    },
    {
      "cell_type": "code",
      "metadata": {
        "id": "E2xU5gUQuy7y",
        "colab": {
          "base_uri": "https://localhost:8080/"
        },
        "outputId": "f932ac36-b17a-4909-a8d0-33b45fa9d1d6"
      },
      "source": [
        "accuracy_class('Spoof',Test_p)"
      ],
      "execution_count": null,
      "outputs": [
        {
          "output_type": "stream",
          "name": "stdout",
          "text": [
            "# imgSpoof: 4\n",
            "Numero di predizioni Spoof giuste: 4\n",
            "Accuracy : 100.0\n"
          ]
        }
      ]
    },
    {
      "cell_type": "markdown",
      "metadata": {
        "id": "a4Q78IIqWCTI"
      },
      "source": [
        "####Live"
      ]
    },
    {
      "cell_type": "markdown",
      "metadata": {
        "id": "rtPKGqzEWCTI"
      },
      "source": [
        "prima"
      ]
    },
    {
      "cell_type": "code",
      "metadata": {
        "colab": {
          "base_uri": "https://localhost:8080/"
        },
        "id": "AtB5Te35WCTJ",
        "outputId": "d445ae85-eba8-41b9-d12c-b192a69dc17c"
      },
      "source": [
        "accuracy_class('Live',Test_orig)"
      ],
      "execution_count": null,
      "outputs": [
        {
          "output_type": "stream",
          "name": "stdout",
          "text": [
            "# imgLive: 1000\n",
            "Numero di predizioni Live giuste: 842\n",
            "Accuracy : 84.2\n"
          ]
        }
      ]
    },
    {
      "cell_type": "markdown",
      "metadata": {
        "id": "e3VNm1BCWCTJ"
      },
      "source": [
        "dopo"
      ]
    },
    {
      "cell_type": "code",
      "metadata": {
        "colab": {
          "base_uri": "https://localhost:8080/"
        },
        "id": "ssG-LK1zWCTJ",
        "outputId": "4d77bf2f-7083-47f2-b4c5-b5a0ed6b3305"
      },
      "source": [
        "accuracy_class('Live',Test_p)"
      ],
      "execution_count": null,
      "outputs": [
        {
          "output_type": "stream",
          "name": "stdout",
          "text": [
            "# imgLive: 0\n",
            "Numero di predizioni Live giuste: 0\n",
            "Accuracy : nan\n"
          ]
        },
        {
          "output_type": "stream",
          "name": "stderr",
          "text": [
            "/usr/local/lib/python3.7/dist-packages/ipykernel_launcher.py:13: RuntimeWarning: invalid value encountered in long_scalars\n",
            "  del sys.path[0]\n"
          ]
        }
      ]
    },
    {
      "cell_type": "markdown",
      "metadata": {
        "id": "MMl35zPf3mlm"
      },
      "source": [
        "####numero img spoof predette live con prob >70%"
      ]
    },
    {
      "cell_type": "code",
      "metadata": {
        "id": "JSN-zFU23r6J",
        "colab": {
          "base_uri": "https://localhost:8080/"
        },
        "outputId": "b74e42d5-f0a2-42d9-f5e6-7cc3dd70cb86"
      },
      "source": [
        "p=Test_p.loc[Test_p['real']=='Spoof']\n",
        "p=p.loc[p['predicted']=='Live']\n",
        "print(\"img spoof-live: \"+str(p.count(0)[0]))\n",
        "p=p.loc[p['prob_live']>=0.7]\n",
        "print(\"img con prob_live>70%: \"+str(p.count(0)[0]))"
      ],
      "execution_count": 38,
      "outputs": [
        {
          "output_type": "stream",
          "name": "stdout",
          "text": [
            "img spoof-live: 48\n",
            "img con prob_live>70%: 39\n"
          ]
        }
      ]
    },
    {
      "cell_type": "markdown",
      "metadata": {
        "id": "ppH0s3Ov618F"
      },
      "source": [
        "##subplot"
      ]
    },
    {
      "cell_type": "markdown",
      "metadata": {
        "id": "Jr0m-v0meeS2"
      },
      "source": [
        "###test finale"
      ]
    },
    {
      "cell_type": "code",
      "metadata": {
        "id": "qSs9SSpU7xgV"
      },
      "source": [
        "#da usare nel test finale\n",
        "preds_orig=Test_orig[1000:].predicted.values[list_print]\n",
        "print(preds_orig)\n",
        "print_subplot(perturb_print,x_print,y_print,preds_orig,x_print_adv,y_print_adv"
      ],
      "execution_count": null,
      "outputs": []
    },
    {
      "cell_type": "markdown",
      "metadata": {
        "id": "LGRODgf-egr4"
      },
      "source": [
        "###dataset ridotto"
      ]
    },
    {
      "cell_type": "code",
      "metadata": {
        "id": "YFV6X6RZ6ZA7",
        "colab": {
          "base_uri": "https://localhost:8080/",
          "height": 438
        },
        "outputId": "e350c9ec-1973-46a5-901a-319584d50460"
      },
      "source": [
        "#da usare solo con dataset ridotto\n",
        "preds_orig=[]\n",
        "for input,_ in testgen:\n",
        "  preds_orig_i,_,_=test_average(classifier,input,transf_init)\n",
        "  preds_orig.append(preds_orig_i)\n",
        "preds_orig=np.array(preds_orig)\n",
        "#preds_orig=preds_orig[list_print]\n",
        "preds_orig=np.array([classes_name[i] for i in preds_orig])\n",
        "print_subplot(perturb_print,x_print,y_print,preds_orig,x_print_adv,y_print_adv)"
      ],
      "execution_count": 130,
      "outputs": [
        {
          "output_type": "stream",
          "name": "stdout",
          "text": [
            "\u001b[1mIMMAGINE \u001b[1m 0\n"
          ]
        },
        {
          "output_type": "display_data",
          "data": {
            "image/png": "[encoded data removed]",
            "text/plain": [
              "<Figure size 1440x1440 with 3 Axes>"
            ]
          },
          "metadata": {
            "needs_background": "light"
          }
        }
      ]
    },
    {
      "cell_type": "markdown",
      "metadata": {
        "id": "S-bsx7fXWquY"
      },
      "source": [
        "#salvataggio e lettura immagine"
      ]
    },
    {
      "cell_type": "code",
      "metadata": {
        "colab": {
          "base_uri": "https://localhost:8080/"
        },
        "id": "fnV-dDcP3euu",
        "outputId": "386e71a1-2b92-4881-bd2c-7624d03f1947"
      },
      "source": [
        "#for i in range(len(list_print)):  \n",
        "save_read(np.array(x_print_adv[9]),classifier,transf_init)"
      ],
      "execution_count": 40,
      "outputs": [
        {
          "output_type": "stream",
          "name": "stdout",
          "text": [
            "valori img originale:\n",
            "(0, array([0.94680095, 0.0531991 ], dtype=float32), [1.7757570896297694, -1.1032904624938964])\n",
            "valori dopo salvataggio/lettura:\n",
            "(0, array([0.94680095, 0.0531991 ], dtype=float32), [1.7757570896297694, -1.1032904624938964])\n"
          ]
        }
      ]
    },
    {
      "cell_type": "markdown",
      "metadata": {
        "id": "amasebQU62zK"
      },
      "source": [
        "#altro"
      ]
    },
    {
      "cell_type": "code",
      "metadata": {
        "colab": {
          "base_uri": "https://localhost:8080/"
        },
        "id": "fimc3_LklhIf",
        "outputId": "83b34f1a-fc9d-4d7d-d83e-abd210739365"
      },
      "source": [
        "cv2.imwrite('img_test2.png',x_print_adv[2].transpose(1,2,0)*255)"
      ],
      "execution_count": 48,
      "outputs": [
        {
          "output_type": "execute_result",
          "data": {
            "text/plain": [
              "True"
            ]
          },
          "metadata": {},
          "execution_count": 48
        }
      ]
    }
  ]
}