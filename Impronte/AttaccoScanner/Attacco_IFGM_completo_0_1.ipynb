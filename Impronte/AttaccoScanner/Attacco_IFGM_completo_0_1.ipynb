{
  "nbformat": 4,
  "nbformat_minor": 0,
  "metadata": {
    "colab": {
      "name": "Attacco_IFGM_completo_0_1.ipynb",
      "provenance": [],
      "collapsed_sections": [
        "lcoLiAGAtqBh",
        "OHENSlCXxzcr",
        "nGmEBN4oxqUO",
        "pIqUXUmoA541",
        "-ycpjmyb4Cxe",
        "dherpFOH0Uau",
        "5X10jetEyAax",
        "fETy1V2abbWo",
        "VeQuyOYGbbWp",
        "_miDmRukbbWq",
        "I5sK56TG2eT9",
        "9XepXK-ny3XN",
        "PBSyijWDqY4-",
        "O_c2L3v0r2xG",
        "VRhT4XM1sVm-",
        "MAU1QYvhrGVs",
        "aVwvG_5SKo7x",
        "xRRSYT01GRfB",
        "P3kr1yAn2UBl",
        "-56wdwb5TLHl",
        "QCO-pkW9GXc0",
        "kJ6xDO5GGZY5",
        "y71Fo3alJY0s",
        "nkdhgkab0e-B",
        "O2z5CDqCOjhi",
        "iTIkMx6Evczx",
        "liAmXvKByROm",
        "OzZkC7HimlHT",
        "Suibji7V0I7j",
        "Fq6B6unj2HcX",
        "cYPmQSaL2Oxa",
        "8w98YNCQGJGq",
        "ZFKEoI-enb8L",
        "g_sQeKbZfK74",
        "nLcnge6A0Npi",
        "lqk0NmxqjXkm",
        "Rn8n_-yejatQ"
      ],
      "machine_shape": "hm",
      "include_colab_link": true
    },
    "kernelspec": {
      "name": "python3",
      "display_name": "Python 3"
    },
    "language_info": {
      "name": "python"
    },
    "accelerator": "GPU",
    "widgets": {
      "application/vnd.jupyter.widget-state+json": {
        "138d61f44018409e8dc80eeeaecc83a8": {
          "model_module": "@jupyter-widgets/controls",
          "model_name": "HBoxModel",
          "model_module_version": "1.5.0",
          "state": {
            "_view_name": "HBoxView",
            "_dom_classes": [],
            "_model_name": "HBoxModel",
            "_view_module": "@jupyter-widgets/controls",
            "_model_module_version": "1.5.0",
            "_view_count": null,
            "_view_module_version": "1.5.0",
            "box_style": "",
            "layout": "IPY_MODEL_202cf0e2e3f5438da07465740cc37c21",
            "_model_module": "@jupyter-widgets/controls",
            "children": [
              "IPY_MODEL_db9d7a46d8b84cc0a90d88301b7f37ac",
              "IPY_MODEL_2e43a86d354c4ef982aa416e082e4887",
              "IPY_MODEL_f6a0ad59756c43e798729189fbce0566"
            ]
          }
        },
        "202cf0e2e3f5438da07465740cc37c21": {
          "model_module": "@jupyter-widgets/base",
          "model_name": "LayoutModel",
          "model_module_version": "1.2.0",
          "state": {
            "_view_name": "LayoutView",
            "grid_template_rows": null,
            "right": null,
            "justify_content": null,
            "_view_module": "@jupyter-widgets/base",
            "overflow": null,
            "_model_module_version": "1.2.0",
            "_view_count": null,
            "flex_flow": null,
            "width": null,
            "min_width": null,
            "border": null,
            "align_items": null,
            "bottom": null,
            "_model_module": "@jupyter-widgets/base",
            "top": null,
            "grid_column": null,
            "overflow_y": null,
            "overflow_x": null,
            "grid_auto_flow": null,
            "grid_area": null,
            "grid_template_columns": null,
            "flex": null,
            "_model_name": "LayoutModel",
            "justify_items": null,
            "grid_row": null,
            "max_height": null,
            "align_content": null,
            "visibility": null,
            "align_self": null,
            "height": null,
            "min_height": null,
            "padding": null,
            "grid_auto_rows": null,
            "grid_gap": null,
            "max_width": null,
            "order": null,
            "_view_module_version": "1.2.0",
            "grid_template_areas": null,
            "object_position": null,
            "object_fit": null,
            "grid_auto_columns": null,
            "margin": null,
            "display": null,
            "left": null
          }
        },
        "db9d7a46d8b84cc0a90d88301b7f37ac": {
          "model_module": "@jupyter-widgets/controls",
          "model_name": "HTMLModel",
          "model_module_version": "1.5.0",
          "state": {
            "_view_name": "HTMLView",
            "style": "IPY_MODEL_568c8c6e9cb3431b91f92a9b629610f6",
            "_dom_classes": [],
            "description": "",
            "_model_name": "HTMLModel",
            "placeholder": "​",
            "_view_module": "@jupyter-widgets/controls",
            "_model_module_version": "1.5.0",
            "value": "100%",
            "_view_count": null,
            "_view_module_version": "1.5.0",
            "description_tooltip": null,
            "_model_module": "@jupyter-widgets/controls",
            "layout": "IPY_MODEL_448f0c6d60df4590a6dcfb383608ad4b"
          }
        },
        "2e43a86d354c4ef982aa416e082e4887": {
          "model_module": "@jupyter-widgets/controls",
          "model_name": "FloatProgressModel",
          "model_module_version": "1.5.0",
          "state": {
            "_view_name": "ProgressView",
            "style": "IPY_MODEL_9f8d51c8bf8a4242b1f3519ce4b11cf7",
            "_dom_classes": [],
            "description": "",
            "_model_name": "FloatProgressModel",
            "bar_style": "success",
            "max": 574673361,
            "_view_module": "@jupyter-widgets/controls",
            "_model_module_version": "1.5.0",
            "value": 574673361,
            "_view_count": null,
            "_view_module_version": "1.5.0",
            "orientation": "horizontal",
            "min": 0,
            "description_tooltip": null,
            "_model_module": "@jupyter-widgets/controls",
            "layout": "IPY_MODEL_f52a76738def4a65a2d7499ed4e18fa1"
          }
        },
        "f6a0ad59756c43e798729189fbce0566": {
          "model_module": "@jupyter-widgets/controls",
          "model_name": "HTMLModel",
          "model_module_version": "1.5.0",
          "state": {
            "_view_name": "HTMLView",
            "style": "IPY_MODEL_d581b32c630f4f24af0a0740f98cefa6",
            "_dom_classes": [],
            "description": "",
            "_model_name": "HTMLModel",
            "placeholder": "​",
            "_view_module": "@jupyter-widgets/controls",
            "_model_module_version": "1.5.0",
            "value": " 548M/548M [00:02&lt;00:00, 220MB/s]",
            "_view_count": null,
            "_view_module_version": "1.5.0",
            "description_tooltip": null,
            "_model_module": "@jupyter-widgets/controls",
            "layout": "IPY_MODEL_d4ba072e72114260995d8f50f8b2c7ab"
          }
        },
        "568c8c6e9cb3431b91f92a9b629610f6": {
          "model_module": "@jupyter-widgets/controls",
          "model_name": "DescriptionStyleModel",
          "model_module_version": "1.5.0",
          "state": {
            "_view_name": "StyleView",
            "_model_name": "DescriptionStyleModel",
            "description_width": "",
            "_view_module": "@jupyter-widgets/base",
            "_model_module_version": "1.5.0",
            "_view_count": null,
            "_view_module_version": "1.2.0",
            "_model_module": "@jupyter-widgets/controls"
          }
        },
        "448f0c6d60df4590a6dcfb383608ad4b": {
          "model_module": "@jupyter-widgets/base",
          "model_name": "LayoutModel",
          "model_module_version": "1.2.0",
          "state": {
            "_view_name": "LayoutView",
            "grid_template_rows": null,
            "right": null,
            "justify_content": null,
            "_view_module": "@jupyter-widgets/base",
            "overflow": null,
            "_model_module_version": "1.2.0",
            "_view_count": null,
            "flex_flow": null,
            "width": null,
            "min_width": null,
            "border": null,
            "align_items": null,
            "bottom": null,
            "_model_module": "@jupyter-widgets/base",
            "top": null,
            "grid_column": null,
            "overflow_y": null,
            "overflow_x": null,
            "grid_auto_flow": null,
            "grid_area": null,
            "grid_template_columns": null,
            "flex": null,
            "_model_name": "LayoutModel",
            "justify_items": null,
            "grid_row": null,
            "max_height": null,
            "align_content": null,
            "visibility": null,
            "align_self": null,
            "height": null,
            "min_height": null,
            "padding": null,
            "grid_auto_rows": null,
            "grid_gap": null,
            "max_width": null,
            "order": null,
            "_view_module_version": "1.2.0",
            "grid_template_areas": null,
            "object_position": null,
            "object_fit": null,
            "grid_auto_columns": null,
            "margin": null,
            "display": null,
            "left": null
          }
        },
        "9f8d51c8bf8a4242b1f3519ce4b11cf7": {
          "model_module": "@jupyter-widgets/controls",
          "model_name": "ProgressStyleModel",
          "model_module_version": "1.5.0",
          "state": {
            "_view_name": "StyleView",
            "_model_name": "ProgressStyleModel",
            "description_width": "",
            "_view_module": "@jupyter-widgets/base",
            "_model_module_version": "1.5.0",
            "_view_count": null,
            "_view_module_version": "1.2.0",
            "bar_color": null,
            "_model_module": "@jupyter-widgets/controls"
          }
        },
        "f52a76738def4a65a2d7499ed4e18fa1": {
          "model_module": "@jupyter-widgets/base",
          "model_name": "LayoutModel",
          "model_module_version": "1.2.0",
          "state": {
            "_view_name": "LayoutView",
            "grid_template_rows": null,
            "right": null,
            "justify_content": null,
            "_view_module": "@jupyter-widgets/base",
            "overflow": null,
            "_model_module_version": "1.2.0",
            "_view_count": null,
            "flex_flow": null,
            "width": null,
            "min_width": null,
            "border": null,
            "align_items": null,
            "bottom": null,
            "_model_module": "@jupyter-widgets/base",
            "top": null,
            "grid_column": null,
            "overflow_y": null,
            "overflow_x": null,
            "grid_auto_flow": null,
            "grid_area": null,
            "grid_template_columns": null,
            "flex": null,
            "_model_name": "LayoutModel",
            "justify_items": null,
            "grid_row": null,
            "max_height": null,
            "align_content": null,
            "visibility": null,
            "align_self": null,
            "height": null,
            "min_height": null,
            "padding": null,
            "grid_auto_rows": null,
            "grid_gap": null,
            "max_width": null,
            "order": null,
            "_view_module_version": "1.2.0",
            "grid_template_areas": null,
            "object_position": null,
            "object_fit": null,
            "grid_auto_columns": null,
            "margin": null,
            "display": null,
            "left": null
          }
        },
        "d581b32c630f4f24af0a0740f98cefa6": {
          "model_module": "@jupyter-widgets/controls",
          "model_name": "DescriptionStyleModel",
          "model_module_version": "1.5.0",
          "state": {
            "_view_name": "StyleView",
            "_model_name": "DescriptionStyleModel",
            "description_width": "",
            "_view_module": "@jupyter-widgets/base",
            "_model_module_version": "1.5.0",
            "_view_count": null,
            "_view_module_version": "1.2.0",
            "_model_module": "@jupyter-widgets/controls"
          }
        },
        "d4ba072e72114260995d8f50f8b2c7ab": {
          "model_module": "@jupyter-widgets/base",
          "model_name": "LayoutModel",
          "model_module_version": "1.2.0",
          "state": {
            "_view_name": "LayoutView",
            "grid_template_rows": null,
            "right": null,
            "justify_content": null,
            "_view_module": "@jupyter-widgets/base",
            "overflow": null,
            "_model_module_version": "1.2.0",
            "_view_count": null,
            "flex_flow": null,
            "width": null,
            "min_width": null,
            "border": null,
            "align_items": null,
            "bottom": null,
            "_model_module": "@jupyter-widgets/base",
            "top": null,
            "grid_column": null,
            "overflow_y": null,
            "overflow_x": null,
            "grid_auto_flow": null,
            "grid_area": null,
            "grid_template_columns": null,
            "flex": null,
            "_model_name": "LayoutModel",
            "justify_items": null,
            "grid_row": null,
            "max_height": null,
            "align_content": null,
            "visibility": null,
            "align_self": null,
            "height": null,
            "min_height": null,
            "padding": null,
            "grid_auto_rows": null,
            "grid_gap": null,
            "max_width": null,
            "order": null,
            "_view_module_version": "1.2.0",
            "grid_template_areas": null,
            "object_position": null,
            "object_fit": null,
            "grid_auto_columns": null,
            "margin": null,
            "display": null,
            "left": null
          }
        }
      }
    }
  },
  "cells": [
    {
      "cell_type": "markdown",
      "metadata": {
        "id": "view-in-github",
        "colab_type": "text"
      },
      "source": [
        "<a href=\"https://colab.research.google.com/github/umbertogagl97/Tesi/blob/main/Impronte/AttaccoScanner/Attacco_IFGM_completo_0_1.ipynb\" target=\"_parent\"><img src=\"https://colab.research.google.com/assets/colab-badge.svg\" alt=\"Open In Colab\"/></a>"
      ]
    },
    {
      "cell_type": "markdown",
      "metadata": {
        "id": "lcoLiAGAtqBh"
      },
      "source": [
        "# **Init**"
      ]
    },
    {
      "cell_type": "markdown",
      "metadata": {
        "id": "OHENSlCXxzcr"
      },
      "source": [
        "##Import ART"
      ]
    },
    {
      "cell_type": "code",
      "metadata": {
        "id": "hIKN5Oqa-i6u",
        "colab": {
          "base_uri": "https://localhost:8080/"
        },
        "outputId": "bbac6e42-7df3-4da6-a06d-b587f0f45296"
      },
      "source": [
        "#importa ART\n",
        "!pip install adversarial-robustness-toolbox"
      ],
      "execution_count": 1,
      "outputs": [
        {
          "output_type": "stream",
          "name": "stdout",
          "text": [
            "Collecting adversarial-robustness-toolbox\n",
            "  Downloading adversarial_robustness_toolbox-1.8.1-py3-none-any.whl (1.1 MB)\n",
            "\u001b[?25l\r\u001b[K     |▎                               | 10 kB 34.0 MB/s eta 0:00:01\r\u001b[K     |▋                               | 20 kB 40.3 MB/s eta 0:00:01\r\u001b[K     |█                               | 30 kB 21.3 MB/s eta 0:00:01\r\u001b[K     |█▏                              | 40 kB 17.4 MB/s eta 0:00:01\r\u001b[K     |█▌                              | 51 kB 8.1 MB/s eta 0:00:01\r\u001b[K     |█▉                              | 61 kB 7.9 MB/s eta 0:00:01\r\u001b[K     |██                              | 71 kB 8.2 MB/s eta 0:00:01\r\u001b[K     |██▍                             | 81 kB 9.1 MB/s eta 0:00:01\r\u001b[K     |██▊                             | 92 kB 9.5 MB/s eta 0:00:01\r\u001b[K     |███                             | 102 kB 7.5 MB/s eta 0:00:01\r\u001b[K     |███▎                            | 112 kB 7.5 MB/s eta 0:00:01\r\u001b[K     |███▋                            | 122 kB 7.5 MB/s eta 0:00:01\r\u001b[K     |███▉                            | 133 kB 7.5 MB/s eta 0:00:01\r\u001b[K     |████▏                           | 143 kB 7.5 MB/s eta 0:00:01\r\u001b[K     |████▌                           | 153 kB 7.5 MB/s eta 0:00:01\r\u001b[K     |████▊                           | 163 kB 7.5 MB/s eta 0:00:01\r\u001b[K     |█████                           | 174 kB 7.5 MB/s eta 0:00:01\r\u001b[K     |█████▍                          | 184 kB 7.5 MB/s eta 0:00:01\r\u001b[K     |█████▋                          | 194 kB 7.5 MB/s eta 0:00:01\r\u001b[K     |██████                          | 204 kB 7.5 MB/s eta 0:00:01\r\u001b[K     |██████▎                         | 215 kB 7.5 MB/s eta 0:00:01\r\u001b[K     |██████▌                         | 225 kB 7.5 MB/s eta 0:00:01\r\u001b[K     |██████▉                         | 235 kB 7.5 MB/s eta 0:00:01\r\u001b[K     |███████▏                        | 245 kB 7.5 MB/s eta 0:00:01\r\u001b[K     |███████▍                        | 256 kB 7.5 MB/s eta 0:00:01\r\u001b[K     |███████▊                        | 266 kB 7.5 MB/s eta 0:00:01\r\u001b[K     |████████                        | 276 kB 7.5 MB/s eta 0:00:01\r\u001b[K     |████████▎                       | 286 kB 7.5 MB/s eta 0:00:01\r\u001b[K     |████████▋                       | 296 kB 7.5 MB/s eta 0:00:01\r\u001b[K     |█████████                       | 307 kB 7.5 MB/s eta 0:00:01\r\u001b[K     |█████████▏                      | 317 kB 7.5 MB/s eta 0:00:01\r\u001b[K     |█████████▌                      | 327 kB 7.5 MB/s eta 0:00:01\r\u001b[K     |█████████▉                      | 337 kB 7.5 MB/s eta 0:00:01\r\u001b[K     |██████████                      | 348 kB 7.5 MB/s eta 0:00:01\r\u001b[K     |██████████▍                     | 358 kB 7.5 MB/s eta 0:00:01\r\u001b[K     |██████████▊                     | 368 kB 7.5 MB/s eta 0:00:01\r\u001b[K     |███████████                     | 378 kB 7.5 MB/s eta 0:00:01\r\u001b[K     |███████████▎                    | 389 kB 7.5 MB/s eta 0:00:01\r\u001b[K     |███████████▋                    | 399 kB 7.5 MB/s eta 0:00:01\r\u001b[K     |███████████▉                    | 409 kB 7.5 MB/s eta 0:00:01\r\u001b[K     |████████████▏                   | 419 kB 7.5 MB/s eta 0:00:01\r\u001b[K     |████████████▌                   | 430 kB 7.5 MB/s eta 0:00:01\r\u001b[K     |████████████▊                   | 440 kB 7.5 MB/s eta 0:00:01\r\u001b[K     |█████████████                   | 450 kB 7.5 MB/s eta 0:00:01\r\u001b[K     |█████████████▍                  | 460 kB 7.5 MB/s eta 0:00:01\r\u001b[K     |█████████████▋                  | 471 kB 7.5 MB/s eta 0:00:01\r\u001b[K     |██████████████                  | 481 kB 7.5 MB/s eta 0:00:01\r\u001b[K     |██████████████▎                 | 491 kB 7.5 MB/s eta 0:00:01\r\u001b[K     |██████████████▌                 | 501 kB 7.5 MB/s eta 0:00:01\r\u001b[K     |██████████████▉                 | 512 kB 7.5 MB/s eta 0:00:01\r\u001b[K     |███████████████▏                | 522 kB 7.5 MB/s eta 0:00:01\r\u001b[K     |███████████████▍                | 532 kB 7.5 MB/s eta 0:00:01\r\u001b[K     |███████████████▊                | 542 kB 7.5 MB/s eta 0:00:01\r\u001b[K     |████████████████                | 552 kB 7.5 MB/s eta 0:00:01\r\u001b[K     |████████████████▎               | 563 kB 7.5 MB/s eta 0:00:01\r\u001b[K     |████████████████▋               | 573 kB 7.5 MB/s eta 0:00:01\r\u001b[K     |█████████████████               | 583 kB 7.5 MB/s eta 0:00:01\r\u001b[K     |█████████████████▏              | 593 kB 7.5 MB/s eta 0:00:01\r\u001b[K     |█████████████████▌              | 604 kB 7.5 MB/s eta 0:00:01\r\u001b[K     |█████████████████▉              | 614 kB 7.5 MB/s eta 0:00:01\r\u001b[K     |██████████████████              | 624 kB 7.5 MB/s eta 0:00:01\r\u001b[K     |██████████████████▍             | 634 kB 7.5 MB/s eta 0:00:01\r\u001b[K     |██████████████████▊             | 645 kB 7.5 MB/s eta 0:00:01\r\u001b[K     |███████████████████             | 655 kB 7.5 MB/s eta 0:00:01\r\u001b[K     |███████████████████▎            | 665 kB 7.5 MB/s eta 0:00:01\r\u001b[K     |███████████████████▋            | 675 kB 7.5 MB/s eta 0:00:01\r\u001b[K     |███████████████████▉            | 686 kB 7.5 MB/s eta 0:00:01\r\u001b[K     |████████████████████▏           | 696 kB 7.5 MB/s eta 0:00:01\r\u001b[K     |████████████████████▌           | 706 kB 7.5 MB/s eta 0:00:01\r\u001b[K     |████████████████████▊           | 716 kB 7.5 MB/s eta 0:00:01\r\u001b[K     |█████████████████████           | 727 kB 7.5 MB/s eta 0:00:01\r\u001b[K     |█████████████████████▍          | 737 kB 7.5 MB/s eta 0:00:01\r\u001b[K     |█████████████████████▋          | 747 kB 7.5 MB/s eta 0:00:01\r\u001b[K     |██████████████████████          | 757 kB 7.5 MB/s eta 0:00:01\r\u001b[K     |██████████████████████▎         | 768 kB 7.5 MB/s eta 0:00:01\r\u001b[K     |██████████████████████▌         | 778 kB 7.5 MB/s eta 0:00:01\r\u001b[K     |██████████████████████▉         | 788 kB 7.5 MB/s eta 0:00:01\r\u001b[K     |███████████████████████▏        | 798 kB 7.5 MB/s eta 0:00:01\r\u001b[K     |███████████████████████▍        | 808 kB 7.5 MB/s eta 0:00:01\r\u001b[K     |███████████████████████▊        | 819 kB 7.5 MB/s eta 0:00:01\r\u001b[K     |████████████████████████        | 829 kB 7.5 MB/s eta 0:00:01\r\u001b[K     |████████████████████████▎       | 839 kB 7.5 MB/s eta 0:00:01\r\u001b[K     |████████████████████████▋       | 849 kB 7.5 MB/s eta 0:00:01\r\u001b[K     |█████████████████████████       | 860 kB 7.5 MB/s eta 0:00:01\r\u001b[K     |█████████████████████████▏      | 870 kB 7.5 MB/s eta 0:00:01\r\u001b[K     |█████████████████████████▌      | 880 kB 7.5 MB/s eta 0:00:01\r\u001b[K     |█████████████████████████▉      | 890 kB 7.5 MB/s eta 0:00:01\r\u001b[K     |██████████████████████████      | 901 kB 7.5 MB/s eta 0:00:01\r\u001b[K     |██████████████████████████▍     | 911 kB 7.5 MB/s eta 0:00:01\r\u001b[K     |██████████████████████████▊     | 921 kB 7.5 MB/s eta 0:00:01\r\u001b[K     |███████████████████████████     | 931 kB 7.5 MB/s eta 0:00:01\r\u001b[K     |███████████████████████████▎    | 942 kB 7.5 MB/s eta 0:00:01\r\u001b[K     |███████████████████████████▋    | 952 kB 7.5 MB/s eta 0:00:01\r\u001b[K     |████████████████████████████    | 962 kB 7.5 MB/s eta 0:00:01\r\u001b[K     |████████████████████████████▏   | 972 kB 7.5 MB/s eta 0:00:01\r\u001b[K     |████████████████████████████▌   | 983 kB 7.5 MB/s eta 0:00:01\r\u001b[K     |████████████████████████████▉   | 993 kB 7.5 MB/s eta 0:00:01\r\u001b[K     |█████████████████████████████   | 1.0 MB 7.5 MB/s eta 0:00:01\r\u001b[K     |█████████████████████████████▍  | 1.0 MB 7.5 MB/s eta 0:00:01\r\u001b[K     |█████████████████████████████▊  | 1.0 MB 7.5 MB/s eta 0:00:01\r\u001b[K     |██████████████████████████████  | 1.0 MB 7.5 MB/s eta 0:00:01\r\u001b[K     |██████████████████████████████▎ | 1.0 MB 7.5 MB/s eta 0:00:01\r\u001b[K     |██████████████████████████████▋ | 1.1 MB 7.5 MB/s eta 0:00:01\r\u001b[K     |██████████████████████████████▉ | 1.1 MB 7.5 MB/s eta 0:00:01\r\u001b[K     |███████████████████████████████▏| 1.1 MB 7.5 MB/s eta 0:00:01\r\u001b[K     |███████████████████████████████▌| 1.1 MB 7.5 MB/s eta 0:00:01\r\u001b[K     |███████████████████████████████▊| 1.1 MB 7.5 MB/s eta 0:00:01\r\u001b[K     |████████████████████████████████| 1.1 MB 7.5 MB/s \n",
            "\u001b[?25hRequirement already satisfied: tqdm in /usr/local/lib/python3.7/dist-packages (from adversarial-robustness-toolbox) (4.62.3)\n",
            "Requirement already satisfied: scikit-learn<1.1.0,>=0.22.2 in /usr/local/lib/python3.7/dist-packages (from adversarial-robustness-toolbox) (0.22.2.post1)\n",
            "Collecting numba>=0.53.1\n",
            "  Downloading numba-0.54.1-cp37-cp37m-manylinux2014_x86_64.manylinux_2_17_x86_64.whl (3.3 MB)\n",
            "\u001b[K     |████████████████████████████████| 3.3 MB 41.7 MB/s \n",
            "\u001b[?25hRequirement already satisfied: six in /usr/local/lib/python3.7/dist-packages (from adversarial-robustness-toolbox) (1.15.0)\n",
            "Requirement already satisfied: numpy>=1.18.0 in /usr/local/lib/python3.7/dist-packages (from adversarial-robustness-toolbox) (1.19.5)\n",
            "Requirement already satisfied: setuptools in /usr/local/lib/python3.7/dist-packages (from adversarial-robustness-toolbox) (57.4.0)\n",
            "Requirement already satisfied: scipy>=1.4.1 in /usr/local/lib/python3.7/dist-packages (from adversarial-robustness-toolbox) (1.4.1)\n",
            "Collecting llvmlite<0.38,>=0.37.0rc1\n",
            "  Downloading llvmlite-0.37.0-cp37-cp37m-manylinux2014_x86_64.whl (26.3 MB)\n",
            "\u001b[K     |████████████████████████████████| 26.3 MB 1.2 MB/s \n",
            "\u001b[?25hRequirement already satisfied: joblib>=0.11 in /usr/local/lib/python3.7/dist-packages (from scikit-learn<1.1.0,>=0.22.2->adversarial-robustness-toolbox) (1.0.1)\n",
            "Installing collected packages: llvmlite, numba, adversarial-robustness-toolbox\n",
            "  Attempting uninstall: llvmlite\n",
            "    Found existing installation: llvmlite 0.34.0\n",
            "    Uninstalling llvmlite-0.34.0:\n",
            "      Successfully uninstalled llvmlite-0.34.0\n",
            "  Attempting uninstall: numba\n",
            "    Found existing installation: numba 0.51.2\n",
            "    Uninstalling numba-0.51.2:\n",
            "      Successfully uninstalled numba-0.51.2\n",
            "Successfully installed adversarial-robustness-toolbox-1.8.1 llvmlite-0.37.0 numba-0.54.1\n"
          ]
        }
      ]
    },
    {
      "cell_type": "markdown",
      "metadata": {
        "id": "nGmEBN4oxqUO"
      },
      "source": [
        "## Import librerie"
      ]
    },
    {
      "cell_type": "code",
      "metadata": {
        "id": "01RXI-DDIb3C"
      },
      "source": [
        "#Librerie\n",
        "\n",
        "import torch\n",
        "import torch.nn as nn\n",
        "import torch.optim as optim\n",
        "import numpy as np\n",
        "import torchvision\n",
        "from torchvision import datasets, models, transforms\n",
        "#import time\n",
        "#import os\n",
        "#import shutil\n",
        "#import copy\n",
        "\n",
        "import pandas as pd\n",
        "import matplotlib.pyplot as plt\n",
        "import sys\n",
        "\n",
        "from torchvision.transforms.functional import InterpolationMode\n",
        "\n",
        "from torch.utils.data import TensorDataset, DataLoader\n",
        "\n",
        "import cv2\n",
        "from google.colab.patches import cv2_imshow"
      ],
      "execution_count": 2,
      "outputs": []
    },
    {
      "cell_type": "markdown",
      "metadata": {
        "id": "pIqUXUmoA541"
      },
      "source": [
        "##Check device\n"
      ]
    },
    {
      "cell_type": "code",
      "metadata": {
        "id": "P2pe5Zh2A4Ui",
        "colab": {
          "base_uri": "https://localhost:8080/"
        },
        "outputId": "68ef09e4-f1d0-401f-b6dc-b5226acc5bdf"
      },
      "source": [
        "print(torch.__version__)\n",
        "print(torch.cuda.is_available())\n",
        "print(torch.cuda.get_device_name(0))\n",
        "device = torch.device(\"cuda:0\" if torch.cuda.is_available() else \"cpu\")\n",
        "print(device)"
      ],
      "execution_count": 3,
      "outputs": [
        {
          "output_type": "stream",
          "name": "stdout",
          "text": [
            "1.9.0+cu111\n",
            "True\n",
            "Tesla P100-PCIE-16GB\n",
            "cuda:0\n"
          ]
        }
      ]
    },
    {
      "cell_type": "markdown",
      "metadata": {
        "id": "WApYIVcnU9sq"
      },
      "source": [
        "##Transforms"
      ]
    },
    {
      "cell_type": "code",
      "metadata": {
        "id": "Hi_cyTbXU-8s"
      },
      "source": [
        "transf_init=transforms.Resize(size=(1000,1000),interpolation=InterpolationMode.NEAREST)\n",
        "\n",
        "data_transform_test= transforms.Compose([transforms.Resize([224,224],interpolation=InterpolationMode.NEAREST),\n",
        "          transforms.Normalize([0.485, 0.456, 0.406], [0.229, 0.224, 0.225])\n",
        "          ])\n",
        "transf_resize=transforms.Resize([224,224],interpolation=InterpolationMode.NEAREST)\n",
        "\n",
        "transf_load= transforms.Compose([transforms.ToTensor(),\n",
        "                                 #transforms.Normalize([0.485, 0.456, 0.406], [0.229, 0.224, 0.225])\n",
        "          ])\n",
        "trans_norm=transforms.Normalize([0.485, 0.456, 0.406], [0.229, 0.224, 0.225])"
      ],
      "execution_count": 4,
      "outputs": []
    },
    {
      "cell_type": "markdown",
      "metadata": {
        "id": "-ycpjmyb4Cxe"
      },
      "source": [
        "##Def path"
      ]
    },
    {
      "cell_type": "code",
      "metadata": {
        "id": "4hMuySVI4GgY"
      },
      "source": [
        "#scanner\n",
        "scanner_name = 'HiScan'\n",
        "\n",
        "#salvataggio modello\n",
        "model_name = 'VGG19_10epoc_lr5_bs200_adam'\n",
        "path_model = F\"/content/gdrive/My Drive/ModelliCNN/Scanner/{scanner_name}/{model_name}\" \n",
        "\n",
        "#dataset\n",
        "pathTestset=F'/content/gdrive/MyDrive/Dataset_impronte/test/{scanner_name}'\n",
        "\n",
        "pd_preds_value=F'/content/gdrive/MyDrive/Dataset_impronte/test/Preds_value/{scanner_name}_con_normalize.xlsx'"
      ],
      "execution_count": 5,
      "outputs": []
    },
    {
      "cell_type": "markdown",
      "metadata": {
        "id": "dherpFOH0Uau"
      },
      "source": [
        "##Collegamento google drive"
      ]
    },
    {
      "cell_type": "code",
      "metadata": {
        "id": "vyvTOQw-aHRP",
        "colab": {
          "base_uri": "https://localhost:8080/"
        },
        "outputId": "4c04fa88-ea5e-426f-a53f-c63c6ec79920"
      },
      "source": [
        "#collegamento google drive\n",
        "from google.colab import drive\n",
        "drive.mount('/content/gdrive')"
      ],
      "execution_count": 6,
      "outputs": [
        {
          "output_type": "stream",
          "name": "stdout",
          "text": [
            "Mounted at /content/gdrive\n"
          ]
        }
      ]
    },
    {
      "cell_type": "markdown",
      "metadata": {
        "id": "5X10jetEyAax"
      },
      "source": [
        "#**Dataset**"
      ]
    },
    {
      "cell_type": "markdown",
      "metadata": {
        "id": "fETy1V2abbWo"
      },
      "source": [
        "##Caricamento dataset"
      ]
    },
    {
      "cell_type": "code",
      "metadata": {
        "id": "AMW6yAMPbbWp",
        "colab": {
          "base_uri": "https://localhost:8080/"
        },
        "outputId": "b96ec498-4a62-43c4-c9de-804d586517f0"
      },
      "source": [
        "test_dataset = datasets.ImageFolder(pathTestset,transform=transf_load)\n",
        "dim_set=len(test_dataset)\n",
        "print(dim_set)"
      ],
      "execution_count": 7,
      "outputs": [
        {
          "output_type": "stream",
          "name": "stdout",
          "text": [
            "2500\n"
          ]
        }
      ]
    },
    {
      "cell_type": "markdown",
      "metadata": {
        "id": "_miDmRukbbWq"
      },
      "source": [
        "##Dataloader"
      ]
    },
    {
      "cell_type": "code",
      "metadata": {
        "id": "o3JB4rWJbbWq",
        "colab": {
          "base_uri": "https://localhost:8080/"
        },
        "outputId": "57d2f76e-1b88-4228-fb97-b0a7ae9ee05d"
      },
      "source": [
        "testgen=torch.utils.data.DataLoader(test_dataset, pin_memory=True, batch_size=1,num_workers=2)\n",
        "print(len(testgen))"
      ],
      "execution_count": 8,
      "outputs": [
        {
          "output_type": "stream",
          "name": "stdout",
          "text": [
            "2500\n"
          ]
        }
      ]
    },
    {
      "cell_type": "markdown",
      "metadata": {
        "id": "ZazQQE8ypKP9"
      },
      "source": [
        "##Nomi classi"
      ]
    },
    {
      "cell_type": "code",
      "metadata": {
        "colab": {
          "base_uri": "https://localhost:8080/"
        },
        "id": "DYk4cr4eo9Ir",
        "outputId": "8d1850c4-a8fa-4a0d-aec9-7a10963a3e97"
      },
      "source": [
        "classes_name=test_dataset.classes\n",
        "class_number=len(classes_name)\n",
        "print(classes_name)\n",
        "print(class_number)\n",
        "#del test_dataset"
      ],
      "execution_count": 9,
      "outputs": [
        {
          "output_type": "stream",
          "name": "stdout",
          "text": [
            "['Live', 'Spoof']\n",
            "2\n"
          ]
        }
      ]
    },
    {
      "cell_type": "markdown",
      "metadata": {
        "id": "AJ_O-UAECNMk"
      },
      "source": [
        "#**Riduzione dataset**"
      ]
    },
    {
      "cell_type": "code",
      "metadata": {
        "id": "RnOEmgNRbbWp",
        "colab": {
          "base_uri": "https://localhost:8080/"
        },
        "outputId": "0d62f1ff-4d39-462c-8f4b-81421faf8a42"
      },
      "source": [
        "test_dataset.samples=test_dataset.samples[1004:1005]\n",
        "\n",
        "dim_set=len(test_dataset)\n",
        "print(dim_set)"
      ],
      "execution_count": 10,
      "outputs": [
        {
          "output_type": "stream",
          "name": "stdout",
          "text": [
            "1\n"
          ]
        }
      ]
    },
    {
      "cell_type": "code",
      "metadata": {
        "colab": {
          "base_uri": "https://localhost:8080/"
        },
        "id": "x9FPsg0aE6xI",
        "outputId": "42fd0292-94ff-4f81-c3a7-d98ad1b21001"
      },
      "source": [
        "a,b=next(iter(testgen))\n",
        "_min,_max=torch.min(a),torch.max(a)\n",
        "print(_min,_max)"
      ],
      "execution_count": 11,
      "outputs": [
        {
          "output_type": "stream",
          "name": "stdout",
          "text": [
            "tensor(0.) tensor(1.)\n"
          ]
        }
      ]
    },
    {
      "cell_type": "markdown",
      "metadata": {
        "id": "9XepXK-ny3XN"
      },
      "source": [
        "# **Creazione modello**\n",
        "\n",
        "> non ho bloccato i parametri inferiori e sbloccato quelli del classificatore, vedi se funziona\n",
        "\n"
      ]
    },
    {
      "cell_type": "markdown",
      "metadata": {
        "id": "PBSyijWDqY4-"
      },
      "source": [
        "##Load model pre-trained"
      ]
    },
    {
      "cell_type": "code",
      "metadata": {
        "id": "GymaBXhaPMvL",
        "colab": {
          "base_uri": "https://localhost:8080/",
          "height": 0,
          "referenced_widgets": [
            "138d61f44018409e8dc80eeeaecc83a8",
            "202cf0e2e3f5438da07465740cc37c21",
            "db9d7a46d8b84cc0a90d88301b7f37ac",
            "2e43a86d354c4ef982aa416e082e4887",
            "f6a0ad59756c43e798729189fbce0566",
            "568c8c6e9cb3431b91f92a9b629610f6",
            "448f0c6d60df4590a6dcfb383608ad4b",
            "9f8d51c8bf8a4242b1f3519ce4b11cf7",
            "f52a76738def4a65a2d7499ed4e18fa1",
            "d581b32c630f4f24af0a0740f98cefa6",
            "d4ba072e72114260995d8f50f8b2c7ab"
          ]
        },
        "outputId": "32bccb37-7ff0-448c-98c3-f3d324ed9d22"
      },
      "source": [
        "model = models.vgg19(pretrained=True,progress=True)\n",
        "#model = models.densenet201(pretrained=True,progress=True)\n",
        "#print(model)"
      ],
      "execution_count": 12,
      "outputs": [
        {
          "output_type": "stream",
          "name": "stderr",
          "text": [
            "Downloading: \"https://download.pytorch.org/models/vgg19-dcbb9e9d.pth\" to /root/.cache/torch/hub/checkpoints/vgg19-dcbb9e9d.pth\n"
          ]
        },
        {
          "output_type": "display_data",
          "data": {
            "application/vnd.jupyter.widget-view+json": {
              "model_id": "138d61f44018409e8dc80eeeaecc83a8",
              "version_minor": 0,
              "version_major": 2
            },
            "text/plain": [
              "  0%|          | 0.00/548M [00:00<?, ?B/s]"
            ]
          },
          "metadata": {}
        }
      ]
    },
    {
      "cell_type": "markdown",
      "metadata": {
        "id": "O_c2L3v0r2xG"
      },
      "source": [
        "##Aggiunta classificatore"
      ]
    },
    {
      "cell_type": "code",
      "metadata": {
        "id": "d1qeI3_3qKJJ"
      },
      "source": [
        "model.classifier[6]=nn.Linear(4096,2) #per vgg19\n",
        "#model.classifier=nn.Linear(1920,2) #per densenet201\n",
        "\n",
        "#print(model) "
      ],
      "execution_count": 13,
      "outputs": []
    },
    {
      "cell_type": "markdown",
      "metadata": {
        "id": "HOHqOuTVAMaz"
      },
      "source": [
        "##Load pesi"
      ]
    },
    {
      "cell_type": "code",
      "metadata": {
        "id": "CEXv4tQ3AOi0",
        "colab": {
          "base_uri": "https://localhost:8080/"
        },
        "outputId": "253d2c51-c5a4-40f8-97b2-5834a4359b7b"
      },
      "source": [
        "model.load_state_dict(torch.load(path_model))#,map_location=torch.device('cpu')))\n"
      ],
      "execution_count": 14,
      "outputs": [
        {
          "output_type": "execute_result",
          "data": {
            "text/plain": [
              "<All keys matched successfully>"
            ]
          },
          "metadata": {},
          "execution_count": 14
        }
      ]
    },
    {
      "cell_type": "markdown",
      "metadata": {
        "id": "P3kr1yAn2UBl"
      },
      "source": [
        "# **Def funzioni**"
      ]
    },
    {
      "cell_type": "markdown",
      "metadata": {
        "id": "0OdO07YuUOFS"
      },
      "source": [
        "##calc size"
      ]
    },
    {
      "cell_type": "code",
      "metadata": {
        "id": "1EAve-4iUPk1"
      },
      "source": [
        "def calc_size(n):\n",
        "  '''\n",
        "  n: int \n",
        "  return: 80% of n\n",
        "  '''\n",
        "  return tuple(int(np.ceil(i * (80/100))) for i in n)"
      ],
      "execution_count": 27,
      "outputs": []
    },
    {
      "cell_type": "markdown",
      "metadata": {
        "id": "Q64Z8X5mzAZ1"
      },
      "source": [
        "##Perturbazione"
      ]
    },
    {
      "cell_type": "code",
      "metadata": {
        "id": "GegLlIcWzCSv"
      },
      "source": [
        "def compute_perturb(x,x_adv):\n",
        "  '''\n",
        "    x: img originali\n",
        "    x_adv: img contraddittorie\n",
        "    return: pertubazioni, media, perturbazioni normalizzate in [0,1] \n",
        "  '''\n",
        "  if x_adv.shape[2]!=1000:\n",
        "    x=np.array(transf_resize(torch.Tensor(x)))\n",
        "  perturb=x_adv-x\n",
        "  \n",
        "  if perturb.shape[2]!=1000:\n",
        "    perturb=np.array(transf_init(torch.Tensor(perturb)))\n",
        "  #perturb_gray = np.clip(0.2989 * perturb[:,0,:,:] + 0.5870 * perturb[:,1,:,:] + 0.1140 * perturb[:,2,:,:],0,1)\n",
        "  #print('Average perturbation: {:4.2f}'.format(m))\n",
        "  \n",
        "  return perturb"
      ],
      "execution_count": 28,
      "outputs": []
    },
    {
      "cell_type": "markdown",
      "metadata": {
        "id": "JmyIKi7XvvSf"
      },
      "source": [
        "##Print subplot"
      ]
    },
    {
      "cell_type": "code",
      "metadata": {
        "id": "uspz0KYNvwuS"
      },
      "source": [
        "def print_subplot(perturb,x_test,y_test,preds,x_test_adv,value_preds_adv,normalize=False):\n",
        "  '''\n",
        "    x_test: img originali\n",
        "    y_test: classi originali\n",
        "    preds: classi predette per img originali\n",
        "    x_test_adv: img contraddittoria\n",
        "    value_preds_adv: probabilità predette img contraddittorie\n",
        "    normalize: se True normalizza le immagini\n",
        "  '''\n",
        "  \n",
        "  if normalize:\n",
        "    min,max=np.min(x_test),np.max(x_test)\n",
        "    x_test = (x_test - min) / (max - min)\n",
        "    min,max=np.min(x_test_adv),np.max(x_test_adv)\n",
        "    x_test_adv = (x_test_adv - min) / (max - min)\n",
        "\n",
        "\n",
        "  #perturb,val_pert,perturb_norm=compute_perturb(x_test,x_test_adv)\n",
        "\n",
        "  #nel seguente ciclo for si crea un vettore delle classi predette ordinato per probabilità decrescente\n",
        "  for i in range(len(x_test)):#(x_test.shape[0]):\n",
        "    value=value_preds_adv[i]*100\n",
        "    value_sorted=sorted(value,reverse=True)\n",
        "    classes=[]\n",
        "    for j in range(value.size) :\n",
        "      ind=np.where(value==value_sorted[j]) #restituisce l'indice in value del valore uguale a value_sorted[i], quindi è la classe\n",
        "      classes.append(classes_name[ind[0][0]]) #classes è il vettore finale\n",
        "    \n",
        "    value_sorted=[ round(elem, 2) for elem in value_sorted ]\n",
        "\n",
        "    val_pert=np.mean(np.abs(perturb[i]))\n",
        "    pert_min,pert_max=np.min(perturb[i]),np.max(perturb[i])\n",
        "    #perturb,val_pert,perturb_norm=compute_perturb(x_test,x_test_adv)\n",
        "    perturb[i]=np.clip(perturb[i],0,1) #rimuovo i valori negativi poiché non posso visualizzarli\n",
        "    #in seguito per ogni immagine del test set si stampa un subplot\n",
        "    fig = plt.figure(figsize=[20,20])\n",
        "    #plt.subplots_adjust(wspace=0.9)\n",
        "    print('\\033[1m'+\"IMMAGINE \"+'\\033[1m',i) #valore END: '\\033[0m'\n",
        "    #originale\n",
        "    ax1 = fig.add_subplot(131) #subplot con 3 righe e due colonne\n",
        "    ax1.axis('off')\n",
        "    #ax1.imshow(cv2.rotate(x_test[i],cv2.cv2.ROTATE_90_CLOCKWISE))\n",
        "    ax1.imshow(x_test[i].transpose(1,2,0))\n",
        "    ax1.title.set_text(\"ORIGINALE\\nclasse reale: \"+classes_name[np.argmax(y_test[i])]+\"\\nclasse predetta: \"+str(classes_name[preds[i]]))\n",
        "    #perturbazione\n",
        "    ax2 = fig.add_subplot(132)\n",
        "    #ax2.imshow(cv2.rotate(perturb_norm[i],cv2.cv2.ROTATE_90_CLOCKWISE))\n",
        "    ax2.imshow(perturb[i].transpose(1,2,0),cmap='gray')\n",
        "    #ax2.imshow(perturb[i],cmap='gray')\n",
        "    ax2.axis('off')\n",
        "    ax2.title.set_text(\"PERTURBAZIONE\\nvalore medio: \"+str(round(val_pert,4))+\"\\nmin: \"+str(pert_min)+\"\\nmax: \"+str(pert_max))\n",
        "    #perturbata\n",
        "    ax3 = fig.add_subplot(133)\n",
        "    #ax3.imshow(cv2.rotate(x_test_adv[i],cv2.cv2.ROTATE_90_CLOCKWISE))#,aspect='auto')\n",
        "    ax3.imshow(x_test_adv[i].transpose(1,2,0))\n",
        "    ax3.axis('off')\n",
        "    ax3.title.set_text(\"PERTURBATA\\nclassi predette: \"+str(classes)+\"\\ncon valori: \"+str(value_sorted))\n",
        "    plt.show()"
      ],
      "execution_count": 36,
      "outputs": []
    },
    {
      "cell_type": "markdown",
      "metadata": {
        "id": "kJ6xDO5GGZY5"
      },
      "source": [
        "##Testing"
      ]
    },
    {
      "cell_type": "markdown",
      "metadata": {
        "id": "Xth1SmbAne7T"
      },
      "source": [
        "con media senza datframe"
      ]
    },
    {
      "cell_type": "code",
      "metadata": {
        "id": "-VvGULk0ng1S"
      },
      "source": [
        "def test_average_preds(classifier,input):\n",
        "  '''\n",
        "  model: model trained\n",
        "  test_loader: dataloader \n",
        "  return: pred: classe predetta, probabilities: probabilità per entrambe le classi\n",
        "  '''\n",
        "  preds=[]\n",
        "  #value=[]\n",
        "  prob=nn.Softmax()\n",
        "  \n",
        "  if input.shape[2]!=1000:\n",
        "    input=transf_init(input)\n",
        "\n",
        "  n=input.shape\n",
        "  n_mod=calc_size(n[2:4])\n",
        "  crop_transform=transforms.TenCrop((n_mod[0],n_mod[1]))\n",
        "  crops=crop_transform(input)\n",
        "  live=0\n",
        "  spoof=0\n",
        "  for crop in crops:\n",
        "    crop=data_transform_test(crop) #resize 224\n",
        "    outputs = classifier.predict(crop)\n",
        "    live+=outputs[0][0]\n",
        "    spoof+=outputs[0][1]\n",
        "  live=live/10\n",
        "  spoof=spoof/10\n",
        "  predicted=np.argmax([live,spoof])\n",
        "  probabilities=prob(torch.Tensor([live,spoof])).numpy()\n",
        "\n",
        "  return predicted,probabilities"
      ],
      "execution_count": 30,
      "outputs": []
    },
    {
      "cell_type": "code",
      "metadata": {
        "id": "YTE8QmarHCg3"
      },
      "source": [
        "def test_average_values(classifier,input):\n",
        "  '''\n",
        "  model: model trained\n",
        "  test_loader: dataloader \n",
        "  return: pred: classe predetta, probabilities: probabilità per entrambe le classi\n",
        "  '''\n",
        "  preds=[]\n",
        "  #value=[]\n",
        "  \n",
        "  if input.shape[2]!=1000:\n",
        "    input=transf_init(input)\n",
        "\n",
        "  n=input.shape\n",
        "  n_mod=calc_size(n[2:4])\n",
        "  crop_transform=transforms.TenCrop((n_mod[0],n_mod[1]))\n",
        "  crops=crop_transform(input)\n",
        "  live=0\n",
        "  spoof=0\n",
        "  for crop in crops:\n",
        "    crop=data_transform_test(crop) #resize 224\n",
        "    outputs = classifier.predict(crop)\n",
        "    live+=outputs[0][0]\n",
        "    spoof+=outputs[0][1]\n",
        "  live=live/10\n",
        "  spoof=spoof/10\n",
        "  predicted=np.argmax([live,spoof])\n",
        "  values=[live,spoof]\n",
        "\n",
        "  return predicted,values"
      ],
      "execution_count": 31,
      "outputs": []
    },
    {
      "cell_type": "markdown",
      "metadata": {
        "id": "OVSi44LIk0TX"
      },
      "source": [
        "##Array to dataloader"
      ]
    },
    {
      "cell_type": "code",
      "metadata": {
        "id": "YarvS4XUk2Ka"
      },
      "source": [
        "def array2dataloader(x,y):\n",
        "  '''\n",
        "  :param x: ndarray x_test;\n",
        "  :param y: labels\n",
        "  '''\n",
        "  tensor_x = torch.Tensor(x) # transform to torch tensor\n",
        "  tensor_y = torch.Tensor(np.argmax(y,axis=1))\n",
        "\n",
        "  my_dataset = TensorDataset(tensor_x,tensor_y) # create your datset\n",
        "  return DataLoader(my_dataset) "
      ],
      "execution_count": 32,
      "outputs": []
    },
    {
      "cell_type": "markdown",
      "metadata": {
        "id": "Sm63-OLUwGE-"
      },
      "source": [
        "##mask"
      ]
    },
    {
      "cell_type": "code",
      "metadata": {
        "id": "lnK0KawpwHeq"
      },
      "source": [
        "def compute_mask(img):\n",
        "  #img iniziale [0,1]\n",
        "  img=np.array(img[0])\n",
        "  img=img.transpose(1,2,0)\n",
        "\n",
        "  #trasforma in gray\n",
        "  r, g, b = img[:,:,0], img[:,:,1], img[:,:,2]\n",
        "  gray = 0.2989 * r + 0.5870 * g + 0.1140 * b\n",
        "  #scala in [0,255]\n",
        "  gray = (gray - np.min(gray)) / (np.max(gray) - np.min(gray))\n",
        "  gray=gray*255\n",
        "  gray=gray.astype('uint8')\n",
        "  #calcola immagine binaria\n",
        "  ret, imgf = cv2.threshold(gray, 0,255, cv2.THRESH_BINARY_INV+cv2.THRESH_OTSU)\n",
        "\n",
        "  image_contours = np.zeros((imgf.shape[1],\n",
        "                            imgf.shape[0]),\n",
        "                            np.uint8)\n",
        "\n",
        "  image_binary = np.zeros((imgf.shape[1],\n",
        "                          imgf.shape[0]),\n",
        "                          np.uint8)\n",
        "\n",
        "  #cerca i contorni nell'immagine binaria\n",
        "  contours =cv2.findContours(imgf, cv2.RETR_TREE, cv2.CHAIN_APPROX_SIMPLE)[0]\n",
        "  cv2.drawContours(image_contours,\n",
        "                      contours, -1,\n",
        "                      (255,255), 3)\n",
        "\n",
        "  contours = cv2.findContours(image_contours, cv2.RETR_LIST,\n",
        "                            cv2.CHAIN_APPROX_SIMPLE)[0]\n",
        "  #disegna solo il contorno più esterno\n",
        "  cv2.drawContours(image_binary, [max(contours, key = cv2.contourArea)],\n",
        "                  -1, (255, 255),-1)\n",
        "  #restituisce immagine [0,1]\n",
        "  return ((image_binary-np.min(image_binary))/(np.max(image_binary)-np.min(image_binary)))"
      ],
      "execution_count": 33,
      "outputs": []
    },
    {
      "cell_type": "markdown",
      "metadata": {
        "id": "OfEnYI_UUEb6"
      },
      "source": [
        "##FGM mod"
      ]
    },
    {
      "cell_type": "code",
      "metadata": {
        "id": "b3oRorbFUCF-"
      },
      "source": [
        "from __future__ import absolute_import, division, print_function, unicode_literals\n",
        "\n",
        "import logging\n",
        "from typing import Optional, Union, TYPE_CHECKING\n",
        "\n",
        "import numpy as np\n",
        "\n",
        "from art.config import ART_NUMPY_DTYPE\n",
        "from art.attacks.attack import EvasionAttack\n",
        "from art.estimators.estimator import BaseEstimator, LossGradientsMixin\n",
        "from art.estimators.classification.classifier import ClassifierMixin\n",
        "from art.utils import (\n",
        "    compute_success,\n",
        "    get_labels_np_array,\n",
        "    random_sphere,\n",
        "    projection,\n",
        "    check_and_transform_label_format,\n",
        ")\n",
        "\n",
        "if TYPE_CHECKING:\n",
        "    from art.utils import CLASSIFIER_LOSS_GRADIENTS_TYPE\n",
        "\n",
        "logger = logging.getLogger(__name__)\n",
        "\n",
        "\n",
        "class IterativeFastGradientMethod(EvasionAttack):\n",
        "    \"\"\"\n",
        "    This attack was originally implemented by Goodfellow et al. (2015) with the infinity norm (and is known as the \"Fast\n",
        "    Gradient Sign Method\"). This implementation extends the attack to other norms, and is therefore called the Fast\n",
        "    Gradient Method.\n",
        "    | Paper link: https://arxiv.org/abs/1412.6572\n",
        "    \"\"\"\n",
        "\n",
        "    attack_params = EvasionAttack.attack_params + [\n",
        "        \"norm\",\n",
        "        \"eps\",\n",
        "        \"eps_step\",\n",
        "        \"tensor_board\",\n",
        "    ]\n",
        "    _estimator_requirements = (BaseEstimator, LossGradientsMixin)\n",
        "\n",
        "    def __init__(\n",
        "        self,\n",
        "        estimator: \"CLASSIFIER_LOSS_GRADIENTS_TYPE\",\n",
        "        norm: Union[int, float, str] = np.inf,\n",
        "        eps: Union[int, float, np.ndarray] = 0.3,\n",
        "        eps_step: Union[int, float, np.ndarray] = 0.1,\n",
        "        tensor_board: Union[str, bool] = False,\n",
        "    ) -> None:\n",
        "        \"\"\"\n",
        "        Create a :class:`.FastGradientMethod` instance.\n",
        "        :param estimator: A trained classifier.\n",
        "        :param norm: The norm of the adversarial perturbation. Possible values: \"inf\", np.inf, 1 or 2.\n",
        "        :param eps: Attack step size (input variation).\n",
        "        :param eps_step: Step size of input variation for minimal perturbation computation.\n",
        "        :param tensor_board: Activate summary writer for TensorBoard: Default is `False` and deactivated summary writer.\n",
        "                             If `True` save runs/CURRENT_DATETIME_HOSTNAME in current directory. Provide `path` in type\n",
        "                             `str` to save in path/CURRENT_DATETIME_HOSTNAME.\n",
        "                             Use hierarchical folder structure to compare between runs easily. e.g. pass in ‘runs/exp1’,\n",
        "                             ‘runs/exp2’, etc. for each new experiment to compare across them.\n",
        "        \"\"\"\n",
        "        super().__init__(estimator=estimator, tensor_board=tensor_board)\n",
        "        self.norm = norm\n",
        "        self.eps = eps\n",
        "        self.eps_step = eps_step\n",
        "        self._project = True\n",
        "        IterativeFastGradientMethod._check_params(self)\n",
        "\n",
        "        self._i_max_iter = 0\n",
        "\n",
        "    def _check_compatibility_input_and_eps(self, x: np.ndarray):\n",
        "        \"\"\"\n",
        "        Check the compatibility of the input with `eps` and `eps_step` which are of the same shape.\n",
        "        :param x: An array with the original inputs.\n",
        "        \"\"\"\n",
        "        if isinstance(self.eps, np.ndarray):\n",
        "            # Ensure the eps array is broadcastable\n",
        "            if self.eps.ndim > x.ndim:\n",
        "                raise ValueError(\"The `eps` shape must be broadcastable to input shape.\")\n",
        "\n",
        "    def _minimal_perturbation(self, x: np.ndarray, y: np.ndarray, class_target, max_iter, confidence) -> np.ndarray:\n",
        "        \"\"\"\n",
        "        Iteratively compute the minimal perturbation necessary to make the class prediction change. Stop when the\n",
        "        first adversarial example was found.\n",
        "        :param x: An array with the original inputs.\n",
        "        :param y: Target values (class labels) one-hot-encoded of shape (nb_samples, nb_classes).\n",
        "        :param class_target: class da predire se target=True (nel nostro caso vogliamo far predire sempre live)\n",
        "        :return: An array holding the adversarial examples.\n",
        "        \"\"\"\n",
        "        adv_x = x.copy()\n",
        "        \n",
        "        pred,values=test_average_preds(self.estimator,torch.Tensor(adv_x))\n",
        "        if ((pred==np.argmax(y, axis=1)) and (pred!= class_target)):\n",
        "           active=True\n",
        "        elif ((pred!=np.argmax(y, axis=1)) and (pred== class_target) and (np.max(values)<confidence)): \n",
        "           active=True\n",
        "        else:  active=False\n",
        "\n",
        "        current_eps = self.eps_step\n",
        "        partial_stop_condition = current_eps <= self.eps\n",
        "            \n",
        "        iter=0\n",
        "        #ridimensionamento per le img spoof spoof\n",
        "        if active==True:\n",
        "          adv_x=transf_resize(torch.Tensor(adv_x))\n",
        "          #inserisci qui calcolo mask\n",
        "          mask_mod=compute_mask(torch.Tensor(adv_x)) #è un'immagine 224x224 in scala di grigi\n",
        "          \n",
        "          adv_x=np.array(adv_x) #[0,1]\n",
        "          \n",
        "          #print(\"x init\")\n",
        "          #print(np.max(adv_x),np.min(adv_x))\n",
        "          while active==True and partial_stop_condition and iter<max_iter:\n",
        "                iter+=1\n",
        "                #calcolo perturbazione\n",
        "                perturbation = self._compute_perturbation(adv_x, y, mask_mod) #[-1,1]\n",
        "                #trasformo in gray\n",
        "                r, g, b = perturbation[0,0,:,:],perturbation[0,1,:,:],perturbation[0,2,:,:]\n",
        "                perturbation = 0.2989 * r + 0.5870 * g + 0.1140 * b\n",
        "                #normalizzo pert gray in 0,1\n",
        "                #perturbation=(perturbation-np.min(perturbation))/(np.max(perturbation)-np.min(perturbation))\n",
        "                #perturbation=(perturbation*255).astype('uint8')\n",
        "                \n",
        "                #applico la maschera alla perturb\n",
        "                #pert_mask=perturbation*mask_mod\n",
        "                \n",
        "                #applico la perturb al batch\n",
        "                current_x = self._apply_perturbation(adv_x, perturbation, current_eps)\n",
        "                #print(\"x_final\")\n",
        "                #print(np.max(current_x),np.min(current_x))\n",
        "                # Update\n",
        "                #batch[active_indices] = current_x[active_indices]\n",
        "                \n",
        "                adv_x = current_x\n",
        "                pred,values=test_average_preds(self.estimator,torch.Tensor(adv_x))\n",
        "                #print(preds,value)\n",
        "                #print(batch_labels)\n",
        "                # If targeted active check to see whether we have hit the target, otherwise head to anything but\n",
        "                if ((pred==np.argmax(y, axis=1)) and (pred!= class_target)):\n",
        "                  active=True\n",
        "                elif ((pred!=np.argmax(y, axis=1)) and (pred== class_target) and (np.max(values)<confidence)): \n",
        "                  active=True\n",
        "                else:  active=False\n",
        "\n",
        "                # Update current eps and check the stop condition\n",
        "                current_eps = current_eps + self.eps_step\n",
        "                partial_stop_condition = current_eps <= self.eps\n",
        "\n",
        "        return adv_x\n",
        "\n",
        "    def generate(self, x: np.ndarray, y: Optional[np.ndarray] = None, class_target=0, max_iter=10, confidence=0.6, **kwargs) -> np.ndarray:\n",
        "        \"\"\"Generate adversarial samples and return them in an array.\n",
        "        :param x: An array with the original inputs.\n",
        "        :param y: Target values (class labels) one-hot-encoded of shape (nb_samples, nb_classes) or indices of shape\n",
        "                  (nb_samples,). Only provide this parameter if you'd like to use true labels when crafting adversarial\n",
        "                  samples. Otherwise, model predictions are used as labels to avoid the \"label leaking\" effect\n",
        "                  (explained in this paper: https://arxiv.org/abs/1611.01236). Default is `None`.\n",
        "        :param class_target: se target=True specifica quale classe far predire.\n",
        "        :param max_iter: numero massimo di iterazioni da effettuare su ogni singolo batch nel caso minimal.\n",
        "        :param confidence: indica la probabilità minima con la quale il classificatore deve predire una classe affinché l'attacco si arresti.          \n",
        "        :return: An array holding the adversarial examples.\n",
        "        \"\"\"\n",
        "\n",
        "        # Ensure eps is broadcastable\n",
        "        self._check_compatibility_input_and_eps(x=x)\n",
        "\n",
        "        y = check_and_transform_label_format(y, self.estimator.nb_classes)\n",
        "\n",
        "        if y is None:\n",
        "           # Throw error if attack is targeted, but no targets are provided\n",
        "           # Use model predictions as correct outputs\n",
        "           logger.info(\"Using model predictions as correct labels for FGM.\")\n",
        "           y = get_labels_np_array(self.estimator.predict(x))  # type: ignore\n",
        "\n",
        "        # Return adversarial examples computed with minimal perturbation if option is active\n",
        "        adv_x_best = self._minimal_perturbation(x, y, class_target, max_iter, confidence)\n",
        "        \n",
        "        return adv_x_best\n",
        "\n",
        "    def _check_params(self) -> None:\n",
        "\n",
        "        if self.norm not in [1, 2, np.inf, \"inf\"]:\n",
        "            raise ValueError('Norm order must be either 1, 2, `np.inf` or \"inf\".')\n",
        "\n",
        "        if not (\n",
        "            isinstance(self.eps, (int, float))\n",
        "            and isinstance(self.eps_step, (int, float))\n",
        "            or isinstance(self.eps, np.ndarray)\n",
        "            and isinstance(self.eps_step, np.ndarray)\n",
        "        ):\n",
        "            raise TypeError(\n",
        "                \"The perturbation size `eps` and the perturbation step-size `eps_step` must have the same type of `int`\"\n",
        "                \", `float`, or `np.ndarray`.\"\n",
        "            )\n",
        "\n",
        "        if isinstance(self.eps, (int, float)):\n",
        "            if self.eps < 0:\n",
        "                raise ValueError(\"The perturbation size `eps` has to be nonnegative.\")\n",
        "        else:\n",
        "            if (self.eps < 0).any():\n",
        "                raise ValueError(\"The perturbation size `eps` has to be nonnegative.\")\n",
        "\n",
        "        if isinstance(self.eps_step, (int, float)):\n",
        "            if self.eps_step <= 0:\n",
        "                raise ValueError(\"The perturbation step-size `eps_step` has to be positive.\")\n",
        "        else:\n",
        "            if (self.eps_step <= 0).any():\n",
        "                raise ValueError(\"The perturbation step-size `eps_step` has to be positive.\")\n",
        "\n",
        "        if isinstance(self.eps, np.ndarray) and isinstance(self.eps_step, np.ndarray):\n",
        "            if self.eps.shape != self.eps_step.shape:\n",
        "                raise ValueError(\n",
        "                    \"The perturbation size `eps` and the perturbation step-size `eps_step` must have the same shape.\"\n",
        "                )\n",
        "\n",
        "    def _compute_perturbation(\n",
        "        self, batch: np.ndarray, batch_labels: np.ndarray, mask: Optional[np.ndarray]\n",
        "    ) -> np.ndarray:\n",
        "        # Pick a small scalar to avoid division by 0\n",
        "        tol = 10e-8\n",
        "        batch=np.array(trans_norm(torch.Tensor(batch)))\n",
        "        # Get gradient wrt loss; invert it if attack is targeted\n",
        "        grad = self.estimator.loss_gradient(batch, batch_labels)\n",
        "\n",
        "        # Check for NaN before normalisation an replace with 0\n",
        "        if grad.dtype != np.object and np.isnan(grad).any():\n",
        "            logger.warning(\"Elements of the loss gradient are NaN and have been replaced with 0.0.\")\n",
        "            grad = np.where(np.isnan(grad), 0.0, grad)\n",
        "        else:\n",
        "            for i, _ in enumerate(grad):\n",
        "                grad_i_array = grad[i].astype(np.float32)\n",
        "                if np.isnan(grad_i_array).any():\n",
        "                    grad[i] = np.where(np.isnan(grad_i_array), 0.0, grad_i_array).astype(np.object)\n",
        "\n",
        "        # Apply mask\n",
        "        if mask is not None:\n",
        "            grad = np.where(mask == 0.0, 0.0, grad)\n",
        "\n",
        "        # Apply norm bound\n",
        "        def _apply_norm(grad, object_type=False):\n",
        "            if (grad.dtype != np.object and np.isinf(grad).any()) or np.isnan(grad.astype(np.float32)).any():\n",
        "                logger.info(\"The loss gradient array contains at least one positive or negative infinity.\")\n",
        "\n",
        "            if self.norm in [np.inf, \"inf\"]:\n",
        "                grad = np.sign(grad)\n",
        "            elif self.norm == 1:\n",
        "                if not object_type:\n",
        "                    ind = tuple(range(1, len(batch.shape)))\n",
        "                else:\n",
        "                    ind = None\n",
        "                grad = grad / (np.sum(np.abs(grad), axis=ind, keepdims=True) + tol)\n",
        "            elif self.norm == 2:\n",
        "                if not object_type:\n",
        "                    ind = tuple(range(1, len(batch.shape)))\n",
        "                else:\n",
        "                    ind = None\n",
        "                grad = grad / (np.sqrt(np.sum(np.square(grad), axis=ind, keepdims=True)) + tol)\n",
        "            return grad\n",
        "\n",
        "        if batch.dtype == np.object:\n",
        "            for i_sample in range(batch.shape[0]):\n",
        "                grad[i_sample] = _apply_norm(grad[i_sample], object_type=True)\n",
        "                assert batch[i_sample].shape == grad[i_sample].shape\n",
        "        else:\n",
        "            grad = _apply_norm(grad)\n",
        "\n",
        "        assert batch.shape == grad.shape\n",
        "\n",
        "        return grad\n",
        "\n",
        "    def _apply_perturbation(\n",
        "        self, batch: np.ndarray, perturbation: np.ndarray, eps_step: Union[int, float, np.ndarray]\n",
        "    ) -> np.ndarray:\n",
        "\n",
        "        perturbation_step = eps_step * perturbation\n",
        "        if perturbation_step.dtype != np.object:\n",
        "            perturbation_step[np.isnan(perturbation_step)] = 0\n",
        "        else:\n",
        "            for i, _ in enumerate(perturbation_step):\n",
        "                perturbation_step_i_array = perturbation_step[i].astype(np.float32)\n",
        "                if np.isnan(perturbation_step_i_array).any():\n",
        "                    perturbation_step[i] = np.where(\n",
        "                        np.isnan(perturbation_step_i_array), 0.0, perturbation_step_i_array\n",
        "                    ).astype(np.object)\n",
        "                    \n",
        "        #batch = batch + perturbation_step\n",
        "        for i in range(3):\n",
        "          batch[0,i,:,:] = batch[0,i,:,:] + perturbation_step #applica la perturbazione grayscale ad ogni canale delle immagini originali\n",
        "        if self.estimator.clip_values is not None:\n",
        "            clip_min, clip_max = self.estimator.clip_values\n",
        "            batch = np.clip(batch, clip_min, clip_max)\n",
        "\n",
        "        return batch"
      ],
      "execution_count": 34,
      "outputs": []
    },
    {
      "cell_type": "markdown",
      "metadata": {
        "id": "O2z5CDqCOjhi"
      },
      "source": [
        "# **Esecuzione**"
      ]
    },
    {
      "cell_type": "markdown",
      "metadata": {
        "id": "OzZkC7HimlHT"
      },
      "source": [
        "##Creazione classificatore ART Pytorch\n",
        "\n"
      ]
    },
    {
      "cell_type": "code",
      "metadata": {
        "id": "AZL7c94zmlHU"
      },
      "source": [
        "from art.estimators.classification import PyTorchClassifier\n",
        "\n",
        "classifier = PyTorchClassifier(\n",
        "    model=model,\n",
        "    clip_values=(_min,_max),\n",
        "    loss=nn.CrossEntropyLoss(),\n",
        "    optimizer=optim.Adam(model.classifier.parameters(),lr=1e-5),\n",
        "    input_shape=(224, 224, 3),\n",
        "    nb_classes=class_number\n",
        ")"
      ],
      "execution_count": 23,
      "outputs": []
    },
    {
      "cell_type": "markdown",
      "metadata": {
        "id": "m10EkCq5GeEu"
      },
      "source": [
        "##Attacco"
      ]
    },
    {
      "cell_type": "code",
      "metadata": {
        "colab": {
          "base_uri": "https://localhost:8080/"
        },
        "id": "2yk7RwELGfM4",
        "outputId": "9ea4171a-6134-4cd9-8021-89b9596aaa20"
      },
      "source": [
        "from art.utils import to_categorical\n",
        "from PIL import Image, ImageFile\n",
        "ImageFile.LOAD_TRUNCATED_IMAGES = True\n",
        "import random\n",
        "# FGM\n",
        "attack = IterativeFastGradientMethod(estimator=classifier, eps=1000,eps_step=0.001)\n",
        "\n",
        "list_print=sorted(random.sample(range(dim_set),1))\n",
        "\n",
        "x_print=[]\n",
        "y_print=[]\n",
        "x_print_adv=[] \n",
        "y_print_adv=[] \n",
        "perturb_print=[]\n",
        "Test_p = pd.DataFrame()\n",
        "model.eval()\n",
        "model.cuda()\n",
        "\n",
        "i=0\n",
        "for input,label in testgen:\n",
        "  i+=1\n",
        "\n",
        "  sys.stdout.write(\"\\rElem: {0}/{1}\".format(i,len(testgen)))\n",
        "  sys.stdout.flush()\n",
        "\n",
        "  y_test=np.array((to_categorical(label.numpy(),2)))\n",
        "  x_test=np.array(input.numpy())\n",
        "  #cv2.imwrite(\"img_orig.png\",x_test[0].transpose(1,2,0)*255)\n",
        "  x_test_adv=attack.generate(x=x_test,y=y_test,class_target=classes_name.index('Live'),max_iter=100,confidence=0.7)\n",
        "  perturb=compute_perturb(x_test[0],x_test_adv[0])\n",
        "\n",
        "  #x_test_adv=x_test_adv[0,:,:,:]\n",
        "  #x_test_adv=(x_test_adv-np.min(x_test_adv))/(np.max(x_test_adv)-np.min(x_test_adv))\n",
        "  \n",
        "  x_test_adv=torch.Tensor(x_test_adv)\n",
        "  #x_test_adv=x_test_adv.unsqueeze_(0)\n",
        "  \n",
        "  if x_test_adv.shape[2]!=1000:\n",
        "    x_test_adv=transf_init(x_test_adv)\n",
        "\n",
        "  pred,probabilities=test_average_preds(classifier,x_test_adv)\n",
        "  Test_p = Test_p.append({'real': classes_name[int(label)] ,\n",
        "                          'predicted': classes_name[pred], #qui metti pred\n",
        "                          'prob_live': round(probabilities[0],4),\n",
        "                          'prob_spoof': round(probabilities[1],4)},ignore_index = True)\n",
        "\n",
        "  #print\n",
        "  if i-1 in list_print:\n",
        "    x_print.append(x_test[0])\n",
        "    x_print_adv.append(x_test_adv[0].numpy())\n",
        "    y_print.append(y_test)\n",
        "    y_print_adv.append(probabilities)\n",
        "    perturb_print.append(perturb)\n",
        "#ora inizio: 20:57-> fine: 22:24"
      ],
      "execution_count": 24,
      "outputs": [
        {
          "output_type": "stream",
          "name": "stdout",
          "text": [
            "\rElem: 1/1"
          ]
        },
        {
          "output_type": "stream",
          "name": "stderr",
          "text": [
            "/usr/local/lib/python3.7/dist-packages/torch/nn/functional.py:718: UserWarning: Named tensors and all their associated APIs are an experimental feature and subject to change. Please do not use them for anything important until they are released as stable. (Triggered internally at  /pytorch/c10/core/TensorImpl.h:1156.)\n",
            "  return torch.max_pool2d(input, kernel_size, stride, padding, dilation, ceil_mode)\n",
            "/usr/local/lib/python3.7/dist-packages/ipykernel_launcher.py:28: UserWarning: Implicit dimension choice for softmax has been deprecated. Change the call to include dim=X as an argument.\n"
          ]
        }
      ]
    },
    {
      "cell_type": "markdown",
      "metadata": {
        "id": "ZFKEoI-enb8L"
      },
      "source": [
        "##Testing\n",
        "\n",
        "> Trasforma i due testing in una funzione e richiamala due volte\n",
        "\n"
      ]
    },
    {
      "cell_type": "markdown",
      "metadata": {
        "id": "1MmzfXhFt40W"
      },
      "source": [
        "###Print accuracy test orig from file & load pd"
      ]
    },
    {
      "cell_type": "code",
      "metadata": {
        "id": "DSOr1z85vhl7",
        "colab": {
          "base_uri": "https://localhost:8080/"
        },
        "outputId": "173a740f-42dd-4784-a99a-2bafdd7e61de"
      },
      "source": [
        "Test_orig=pd.read_excel(pd_preds_value)\n",
        "true_label = Test_orig.real.values\n",
        "predicted = Test_orig.predicted.values\n",
        "accuracy=round((np.sum((true_label == predicted).astype(int)))/Test_orig.shape[0],4)*100\n",
        "print(\"\\nAccuracy: {0}\".format(accuracy))\n",
        "print(\"Shape dataframe: {0}\".format(Test_orig.shape))  "
      ],
      "execution_count": null,
      "outputs": [
        {
          "output_type": "stream",
          "name": "stdout",
          "text": [
            "\n",
            "Accuracy: 93.76\n",
            "Shape dataframe: (2500, 4)\n"
          ]
        }
      ]
    },
    {
      "cell_type": "markdown",
      "metadata": {
        "id": "xRmjrhHYsVsN"
      },
      "source": [
        "###Testing immagini spoof predette live prima e dopo"
      ]
    },
    {
      "cell_type": "markdown",
      "metadata": {
        "id": "zGuElPEOW3dZ"
      },
      "source": [
        "####Accuracy adv"
      ]
    },
    {
      "cell_type": "code",
      "metadata": {
        "colab": {
          "base_uri": "https://localhost:8080/"
        },
        "id": "Gp0jAIC-W5zC",
        "outputId": "bb7d0df0-b54a-47f3-b749-fac1ac3d82db"
      },
      "source": [
        "true_label = Test_p.real.values\n",
        "predicted = Test_p.predicted.values\n",
        "accuracy=round((np.sum((true_label == predicted).astype(int)))/Test_p.shape[0],4)*100\n",
        "print(\"\\nAccuracy: {0}\".format(accuracy))\n",
        "print(\"Shape dataframe: {0}\".format(Test_p.shape)) "
      ],
      "execution_count": null,
      "outputs": [
        {
          "output_type": "stream",
          "name": "stdout",
          "text": [
            "\n",
            "Accuracy: 0.27\n",
            "Shape dataframe: (1500, 4)\n"
          ]
        }
      ]
    },
    {
      "cell_type": "markdown",
      "metadata": {
        "id": "uyLoc2K6V_ar"
      },
      "source": [
        "####Spoof"
      ]
    },
    {
      "cell_type": "code",
      "metadata": {
        "id": "wxZwQC-osvGM",
        "colab": {
          "base_uri": "https://localhost:8080/"
        },
        "outputId": "66947fde-47da-44b8-8532-ada40b2c8132"
      },
      "source": [
        "print(Test_orig)\n",
        "n_spoof=np.sum(Test_orig['real']=='Spoof')\n",
        "print(\"# img spoof: \"+str(n_spoof))"
      ],
      "execution_count": null,
      "outputs": [
        {
          "output_type": "stream",
          "name": "stdout",
          "text": [
            "     predicted   real  value_pred_live  value_pred_spoof\n",
            "0         Live   Live         6.631882         -5.174079\n",
            "1         Live   Live         7.300115         -6.452907\n",
            "2         Live   Live         9.761596         -9.069071\n",
            "3         Live   Live        10.803438         -9.714268\n",
            "4         Live   Live         7.850704         -7.007375\n",
            "...        ...    ...              ...               ...\n",
            "2495     Spoof  Spoof        -6.569155          8.471490\n",
            "2496     Spoof  Spoof        -7.230628          8.972368\n",
            "2497     Spoof  Spoof        -4.387788          5.860938\n",
            "2498     Spoof  Spoof        -6.238798          8.079524\n",
            "2499     Spoof  Spoof        -6.456174          8.300977\n",
            "\n",
            "[2500 rows x 4 columns]\n",
            "# img spoof: 1500\n"
          ]
        }
      ]
    },
    {
      "cell_type": "markdown",
      "metadata": {
        "id": "J0SfSelFK2dl"
      },
      "source": [
        "prima"
      ]
    },
    {
      "cell_type": "code",
      "metadata": {
        "id": "DsNqIDAxsZBA",
        "colab": {
          "base_uri": "https://localhost:8080/"
        },
        "outputId": "cbd80694-21be-4536-e3a8-9baaf251ef52"
      },
      "source": [
        "p=Test_orig.loc[Test_orig['real']=='Spoof']\n",
        "p1=p.loc[p['predicted']==p['real']]\n",
        "print(\"Img realmente spoof e predette spoof\")\n",
        "print(p1)\n",
        "n_spoof_pred=p1.count(0)[0]\n",
        "print(\"Numero di predizioni spoof giuste: \"+str(n_spoof_pred))\n",
        "print(\"Accuracy su img spoof: \"+str(round(n_spoof_pred/n_spoof*100,2)))"
      ],
      "execution_count": null,
      "outputs": [
        {
          "output_type": "stream",
          "name": "stdout",
          "text": [
            "Img realmente spoof e predette spoof\n",
            "     predicted   real  value_pred_live  value_pred_spoof\n",
            "1000     Spoof  Spoof        -6.478349          7.893529\n",
            "1001     Spoof  Spoof        -5.261711          7.206484\n",
            "1002     Spoof  Spoof        -5.208933          6.696104\n",
            "1003     Spoof  Spoof        -2.940028          4.300073\n",
            "1004     Spoof  Spoof        -5.451423          6.697002\n",
            "...        ...    ...              ...               ...\n",
            "2495     Spoof  Spoof        -6.569155          8.471490\n",
            "2496     Spoof  Spoof        -7.230628          8.972368\n",
            "2497     Spoof  Spoof        -4.387788          5.860938\n",
            "2498     Spoof  Spoof        -6.238798          8.079524\n",
            "2499     Spoof  Spoof        -6.456174          8.300977\n",
            "\n",
            "[1460 rows x 4 columns]\n",
            "Numero di predizioni spoof giuste: 1460\n",
            "Accuracy su img spoof: 97.33\n"
          ]
        }
      ]
    },
    {
      "cell_type": "markdown",
      "metadata": {
        "id": "AciVwgFyK3Xc"
      },
      "source": [
        "dopo"
      ]
    },
    {
      "cell_type": "code",
      "metadata": {
        "id": "E2xU5gUQuy7y",
        "colab": {
          "base_uri": "https://localhost:8080/"
        },
        "outputId": "f097eef4-45e6-4043-dcdd-225670813888"
      },
      "source": [
        "d=Test_p.loc[Test_p['real']=='Spoof']\n",
        "d1=d.loc[d['predicted']==d['real']]\n",
        "print(\"Img realmente spoof e predette spoof\")\n",
        "print(d1)\n",
        "n_spoof_pred2=d1.count(0)[0]\n",
        "print(\"Numero di predizioni spoof giuste: \"+str(n_spoof_pred2))\n",
        "print(\"Accuracy su img spoof: \"+str(round(n_spoof_pred2/n_spoof*100,2)))"
      ],
      "execution_count": null,
      "outputs": [
        {
          "output_type": "stream",
          "name": "stdout",
          "text": [
            "Img realmente spoof e predette spoof\n",
            "     predicted  prob_live  prob_spoof   real\n",
            "368      Spoof     0.0032      0.9968  Spoof\n",
            "975      Spoof     0.0020      0.9980  Spoof\n",
            "1385     Spoof     0.0004      0.9996  Spoof\n",
            "1395     Spoof     0.0000      1.0000  Spoof\n",
            "Numero di predizioni spoof giuste: 4\n",
            "Accuracy su img spoof: 0.27\n"
          ]
        }
      ]
    },
    {
      "cell_type": "markdown",
      "metadata": {
        "id": "a4Q78IIqWCTI"
      },
      "source": [
        "####Live"
      ]
    },
    {
      "cell_type": "code",
      "metadata": {
        "colab": {
          "base_uri": "https://localhost:8080/"
        },
        "id": "2GuxOWBYWTLk",
        "outputId": "bc2d034c-d851-4de5-e6e6-260ca5c33d73"
      },
      "source": [
        "print(Test_orig)\n",
        "n_live=np.sum(Test_orig['real']=='Live')\n",
        "print(\"# img live: \"+str(n_live))"
      ],
      "execution_count": null,
      "outputs": [
        {
          "output_type": "stream",
          "name": "stdout",
          "text": [
            "     predicted   real  value_pred_live  value_pred_spoof\n",
            "0         Live   Live         6.631882         -5.174079\n",
            "1         Live   Live         7.300115         -6.452907\n",
            "2         Live   Live         9.761596         -9.069071\n",
            "3         Live   Live        10.803438         -9.714268\n",
            "4         Live   Live         7.850704         -7.007375\n",
            "...        ...    ...              ...               ...\n",
            "2495     Spoof  Spoof        -6.569155          8.471490\n",
            "2496     Spoof  Spoof        -7.230628          8.972368\n",
            "2497     Spoof  Spoof        -4.387788          5.860938\n",
            "2498     Spoof  Spoof        -6.238798          8.079524\n",
            "2499     Spoof  Spoof        -6.456174          8.300977\n",
            "\n",
            "[2500 rows x 4 columns]\n",
            "# img live: 1000\n"
          ]
        }
      ]
    },
    {
      "cell_type": "markdown",
      "metadata": {
        "id": "rtPKGqzEWCTI"
      },
      "source": [
        "prima"
      ]
    },
    {
      "cell_type": "code",
      "metadata": {
        "colab": {
          "base_uri": "https://localhost:8080/"
        },
        "id": "AtB5Te35WCTJ",
        "outputId": "02eacb5f-d5fa-4cf1-e73c-64f03aec6786"
      },
      "source": [
        "p=Test_orig.loc[Test_orig['real']=='Live']\n",
        "p1=p.loc[p['predicted']==p['real']]\n",
        "print(\"Img realmente live e predette live\")\n",
        "print(p1)\n",
        "n_live_pred=p1.count(0)[0]\n",
        "print(\"Numero di predizioni live giuste: \"+str(n_live_pred))\n",
        "print(\"Accuracy su img live: \"+str(round(n_live_pred/n_live*100,2)))"
      ],
      "execution_count": null,
      "outputs": [
        {
          "output_type": "stream",
          "name": "stdout",
          "text": [
            "Img realmente live e predette live\n",
            "    predicted  real  value_pred_live  value_pred_spoof\n",
            "0        Live  Live         6.631882         -5.174079\n",
            "1        Live  Live         7.300115         -6.452907\n",
            "2        Live  Live         9.761596         -9.069071\n",
            "3        Live  Live        10.803438         -9.714268\n",
            "4        Live  Live         7.850704         -7.007375\n",
            "..        ...   ...              ...               ...\n",
            "987      Live  Live         2.273366         -1.226741\n",
            "988      Live  Live         4.164461         -3.482738\n",
            "989      Live  Live         3.149037         -2.271925\n",
            "996      Live  Live         0.576958          0.442663\n",
            "999      Live  Live         0.761373          0.349137\n",
            "\n",
            "[884 rows x 4 columns]\n",
            "Numero di predizioni live giuste: 884\n",
            "Accuracy su img live: 88.4\n"
          ]
        }
      ]
    },
    {
      "cell_type": "markdown",
      "metadata": {
        "id": "e3VNm1BCWCTJ"
      },
      "source": [
        "dopo"
      ]
    },
    {
      "cell_type": "code",
      "metadata": {
        "colab": {
          "base_uri": "https://localhost:8080/"
        },
        "id": "ssG-LK1zWCTJ",
        "outputId": "135dfc20-97de-43b2-89c8-5fa49705df57"
      },
      "source": [
        "d=Test_p.loc[Test_p['real']=='Live']\n",
        "d1=d.loc[d['predicted']==d['real']]\n",
        "print(\"Img realmente live e predette live\")\n",
        "print(d1)\n",
        "n_live_pred2=d1.count(0)[0]\n",
        "print(\"Numero di predizioni live giuste: \"+str(n_live_pred2))\n",
        "print(\"Accuracy su img live: \"+str(round(n_live_pred2/n_live*100,2)))"
      ],
      "execution_count": null,
      "outputs": [
        {
          "output_type": "stream",
          "name": "stdout",
          "text": [
            "Img realmente live e predette live\n",
            "Empty DataFrame\n",
            "Columns: [predicted, prob_live, prob_spoof, real]\n",
            "Index: []\n",
            "Numero di predizioni live giuste: 0\n",
            "Accuracy su img live: 0.0\n"
          ]
        }
      ]
    },
    {
      "cell_type": "markdown",
      "metadata": {
        "id": "MMl35zPf3mlm"
      },
      "source": [
        "####numero img spoof predette live con prob >70%"
      ]
    },
    {
      "cell_type": "code",
      "metadata": {
        "id": "JSN-zFU23r6J",
        "colab": {
          "base_uri": "https://localhost:8080/"
        },
        "outputId": "3b4cba86-09dd-41d6-d1f4-00f54974dff9"
      },
      "source": [
        "p=Test_p.loc[Test_p['real']=='Spoof']\n",
        "p=p.loc[p['predicted']=='Live']\n",
        "print(\"img spoof-live: \"+str(p.count(0)[0]))\n",
        "p=p.loc[p['prob_live']>=0.7]\n",
        "print(\"img con prob_live>70%: \"+str(p.count(0)[0]))"
      ],
      "execution_count": null,
      "outputs": [
        {
          "output_type": "stream",
          "name": "stdout",
          "text": [
            "img spoof-live: 1496\n",
            "img con prob_live>70%: 1495\n"
          ]
        }
      ]
    },
    {
      "cell_type": "markdown",
      "metadata": {
        "id": "ppH0s3Ov618F"
      },
      "source": [
        "##subplot"
      ]
    },
    {
      "cell_type": "code",
      "metadata": {
        "id": "bFxABzvs8VGd",
        "colab": {
          "base_uri": "https://localhost:8080/"
        },
        "outputId": "0aa1f958-7035-4843-b244-22f5a4b3d1ec"
      },
      "source": [
        "print(list_print)"
      ],
      "execution_count": null,
      "outputs": [
        {
          "output_type": "stream",
          "name": "stdout",
          "text": [
            "[33, 502, 632, 983, 1134, 1283, 1364, 1383, 1421, 1481]\n"
          ]
        }
      ]
    },
    {
      "cell_type": "code",
      "metadata": {
        "id": "S67o_Ele5Ob2"
      },
      "source": [
        "x_print=np.array(x_print)\n",
        "y_print=np.array(y_print)\n",
        "x_print_adv=np.array(x_print_adv)\n",
        "y_print_adv=np.array(y_print_adv)\n",
        "perturb_print=np.array(perturb_print)"
      ],
      "execution_count": 25,
      "outputs": []
    },
    {
      "cell_type": "code",
      "metadata": {
        "id": "sK7H3u-j_6BG",
        "colab": {
          "base_uri": "https://localhost:8080/"
        },
        "outputId": "7ba5895e-7fbf-46d7-f12d-2796699f276b"
      },
      "source": [
        "print(x_print_adv.shape)"
      ],
      "execution_count": null,
      "outputs": [
        {
          "output_type": "stream",
          "name": "stdout",
          "text": [
            "(10, 3, 1000, 1000)\n"
          ]
        }
      ]
    },
    {
      "cell_type": "code",
      "metadata": {
        "id": "qSs9SSpU7xgV"
      },
      "source": [
        "#da usare nel test finale\n",
        "preds_orig=Test_orig[1000:].predicted.values[list_print]\n",
        "print(preds_orig)\n",
        "print_subplot(perturb_print,x_print,y_print,preds_orig,x_print_adv,y_print_adv,normalize=False)"
      ],
      "execution_count": null,
      "outputs": []
    },
    {
      "cell_type": "code",
      "metadata": {
        "id": "YFV6X6RZ6ZA7",
        "colab": {
          "base_uri": "https://localhost:8080/",
          "height": 474
        },
        "outputId": "9f72bc99-7d95-4257-889a-4630acf325a9"
      },
      "source": [
        "#da usare solo con dataset ridotto\n",
        "preds_orig=[]\n",
        "for input,_ in testgen:\n",
        "  preds_orig_i,_=test_average_preds(classifier,input)\n",
        "  preds_orig.append(preds_orig_i)\n",
        "preds_orig=np.array(preds_orig)\n",
        "preds_orig=preds_orig[list_print]\n",
        "print_subplot(perturb_print,x_print,y_print,preds_orig,x_print_adv,y_print_adv,normalize=False)"
      ],
      "execution_count": 37,
      "outputs": [
        {
          "output_type": "stream",
          "name": "stderr",
          "text": [
            "/usr/local/lib/python3.7/dist-packages/ipykernel_launcher.py:28: UserWarning: Implicit dimension choice for softmax has been deprecated. Change the call to include dim=X as an argument.\n"
          ]
        },
        {
          "output_type": "stream",
          "name": "stdout",
          "text": [
            "\u001b[1mIMMAGINE \u001b[1m 0\n"
          ]
        },
        {
          "output_type": "display_data",
          "data": {
            "image/png": "[encoded data removed]",
            "text/plain": [
              "<Figure size 1440x1440 with 3 Axes>"
            ]
          },
          "metadata": {
            "needs_background": "light"
          }
        }
      ]
    },
    {
      "cell_type": "markdown",
      "metadata": {
        "id": "S-bsx7fXWquY"
      },
      "source": [
        "#prova salvataggio e lettura immagine"
      ]
    },
    {
      "cell_type": "code",
      "metadata": {
        "id": "D9-4BBmeRcH8",
        "colab": {
          "base_uri": "https://localhost:8080/"
        },
        "outputId": "a92a90e1-3eff-486a-9e41-ccdada594312"
      },
      "source": [
        "from PIL import Image\n",
        "i=0\n",
        "arr_init=x_print_adv[i].transpose(1,2,0)\n",
        "#arr_init=(arr_init-np.min(arr_init))/(np.max(arr_init)-np.min(arr_init))\n",
        "arr_init=(arr_init*255)\n",
        "print(np.min(arr_init),np.max(arr_init))\n",
        "#plt.imsave('prova.bmp',arr_init)\n",
        "cv2.imwrite('prova.png',arr_init)\n",
        "#plt.imshow(arr_init)\n",
        "cv2_imshow(arr_init)\n",
        "test_average_values(classifier,torch.Tensor(x_print_adv[i]).unsqueeze_(0))"
      ],
      "execution_count": null,
      "outputs": [
        {
          "output_type": "stream",
          "name": "stdout",
          "text": [
            "0.0 255.0\n"
          ]
        },
        {
          "output_type": "display_data",
          "data": {
            "image/png": "[encoded data removed]",
            "text/plain": [
              "<PIL.Image.Image image mode=RGB size=1000x1000 at 0x7F6A81F044D0>"
            ]
          },
          "metadata": {}
        },
        {
          "output_type": "execute_result",
          "data": {
            "text/plain": [
              "(0, [0.9400165408849717, -0.045182883739471436])"
            ]
          },
          "metadata": {},
          "execution_count": 260
        }
      ]
    },
    {
      "cell_type": "code",
      "metadata": {
        "id": "pfkYe0h3W1Dk",
        "colab": {
          "base_uri": "https://localhost:8080/"
        },
        "outputId": "e4d1bfe3-bd61-47e9-af26-851d9d7e2ef0"
      },
      "source": [
        "prova_arr=cv2.imread('prova.png')\n",
        "prova_arr=prova_arr/255\n",
        "#prova_arr=plt.imread('prova.bmp')\n",
        "#prova_arr=(prova_arr-np.min(prova_arr))/(np.max(prova_arr)-np.min(prova_arr))\n",
        "print(np.min(prova_arr),np.max(prova_arr))\n",
        "#plt.imshow(prova_arr*255)\n",
        "cv2_imshow(prova_arr*255)\n",
        "test_average_values(classifier,torch.Tensor(prova_arr.transpose(2,0,1)).unsqueeze_(0))"
      ],
      "execution_count": null,
      "outputs": [
        {
          "output_type": "stream",
          "name": "stdout",
          "text": [
            "0.0 1.0\n"
          ]
        },
        {
          "output_type": "display_data",
          "data": {
            "image/png": "[encoded data removed]",
            "text/plain": [
              "<PIL.Image.Image image mode=RGB size=1000x1000 at 0x7F6A7FD72710>"
            ]
          },
          "metadata": {}
        },
        {
          "output_type": "execute_result",
          "data": {
            "text/plain": [
              "(0, [0.9463125064969062, -0.050324706733226775])"
            ]
          },
          "metadata": {},
          "execution_count": 261
        }
      ]
    }
  ]
}