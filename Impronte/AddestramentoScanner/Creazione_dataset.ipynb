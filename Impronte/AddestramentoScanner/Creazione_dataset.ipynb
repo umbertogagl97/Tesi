{
  "nbformat": 4,
  "nbformat_minor": 0,
  "metadata": {
    "colab": {
      "name": "Creazione_dataset.ipynb",
      "provenance": [],
      "collapsed_sections": [
        "lcoLiAGAtqBh",
        "nGmEBN4oxqUO",
        "pIqUXUmoA541",
        "-ycpjmyb4Cxe",
        "dherpFOH0Uau",
        "5X10jetEyAax"
      ],
      "authorship_tag": "ABX9TyNPDTcClyLw5zv5gN7PrOgW",
      "include_colab_link": true
    },
    "kernelspec": {
      "name": "python3",
      "display_name": "Python 3"
    },
    "language_info": {
      "name": "python"
    },
    "accelerator": "GPU"
  },
  "cells": [
    {
      "cell_type": "markdown",
      "metadata": {
        "id": "view-in-github",
        "colab_type": "text"
      },
      "source": [
        "<a href=\"https://colab.research.google.com/github/umbertogagl97/Tesi/blob/main/Impronte/AddestramentoScanner/Creazione_dataset.ipynb\" target=\"_parent\"><img src=\"https://colab.research.google.com/assets/colab-badge.svg\" alt=\"Open In Colab\"/></a>"
      ]
    },
    {
      "cell_type": "markdown",
      "metadata": {
        "id": "lcoLiAGAtqBh"
      },
      "source": [
        "# **Init**"
      ]
    },
    {
      "cell_type": "markdown",
      "metadata": {
        "id": "nGmEBN4oxqUO"
      },
      "source": [
        "## Import librerie"
      ]
    },
    {
      "cell_type": "code",
      "metadata": {
        "id": "01RXI-DDIb3C"
      },
      "source": [
        "#Librerie\n",
        "import sys\n",
        "import torch\n",
        "import torch.nn as nn\n",
        "import torch.optim as optim\n",
        "from torch.optim import lr_scheduler\n",
        "import numpy as np\n",
        "import torchvision\n",
        "from torchvision import datasets, models, transforms\n",
        "from torch.utils.data import DataLoader, TensorDataset\n",
        "import time\n",
        "import os\n",
        "import shutil\n",
        "import copy\n",
        "from PIL import Image"
      ],
      "execution_count": 1,
      "outputs": []
    },
    {
      "cell_type": "markdown",
      "metadata": {
        "id": "pIqUXUmoA541"
      },
      "source": [
        "##Check device\n"
      ]
    },
    {
      "cell_type": "code",
      "metadata": {
        "id": "P2pe5Zh2A4Ui",
        "colab": {
          "base_uri": "https://localhost:8080/"
        },
        "outputId": "94a32f59-2c96-4168-ee6f-9a057c161b19"
      },
      "source": [
        "print(torch.__version__)\n",
        "print(torch.cuda.is_available())\n",
        "print(torch.cuda.get_device_name(0))\n",
        "device = torch.device(\"cuda:0\" if torch.cuda.is_available() else \"cpu\")\n",
        "print(device)"
      ],
      "execution_count": 2,
      "outputs": [
        {
          "output_type": "stream",
          "name": "stdout",
          "text": [
            "1.9.0+cu102\n",
            "True\n",
            "Tesla K80\n",
            "cuda:0\n"
          ]
        }
      ]
    },
    {
      "cell_type": "markdown",
      "metadata": {
        "id": "-ycpjmyb4Cxe"
      },
      "source": [
        "##Def variabili"
      ]
    },
    {
      "cell_type": "code",
      "metadata": {
        "id": "4hMuySVI4GgY"
      },
      "source": [
        "#scanner\n",
        "scanner_name = 'DigitalPersona'\n",
        "\n",
        "#dataset\n",
        "pathDataset=F'/content/gdrive/MyDrive/Dataset_impronte/training/{scanner_name}'\n",
        "\n",
        "pathCrop=F'/content/gdrive/MyDrive/Dataset_impronte/training/{scanner_name}_patch/'"
      ],
      "execution_count": 3,
      "outputs": []
    },
    {
      "cell_type": "markdown",
      "metadata": {
        "id": "dherpFOH0Uau"
      },
      "source": [
        "##Collegamento google drive"
      ]
    },
    {
      "cell_type": "code",
      "metadata": {
        "id": "vyvTOQw-aHRP",
        "colab": {
          "base_uri": "https://localhost:8080/"
        },
        "outputId": "588c63c4-e430-476e-f705-f58ee52df6d6"
      },
      "source": [
        "#collegamento google drive\n",
        "from google.colab import drive\n",
        "drive.mount('/content/gdrive')"
      ],
      "execution_count": 4,
      "outputs": [
        {
          "output_type": "stream",
          "name": "stdout",
          "text": [
            "Mounted at /content/gdrive\n"
          ]
        }
      ]
    },
    {
      "cell_type": "markdown",
      "metadata": {
        "id": "5X10jetEyAax"
      },
      "source": [
        "#**Dataset**"
      ]
    },
    {
      "cell_type": "markdown",
      "metadata": {
        "id": "G4b2eLxnouZ8"
      },
      "source": [
        "##Creazione patch"
      ]
    },
    {
      "cell_type": "code",
      "metadata": {
        "colab": {
          "base_uri": "https://localhost:8080/"
        },
        "id": "8M4MH5kFKjO6",
        "outputId": "9d570455-49ed-4973-b111-3ad91a8b8bd6"
      },
      "source": [
        "import cv2\n",
        "\n",
        "flag=False\n",
        "Directory = os.listdir(pathDataset)\n",
        "for classe in Directory:\n",
        "  classes_path = os.listdir(pathDataset+\"/\" + classe)  \n",
        "  pathSave=pathCrop+classe\n",
        "  print(\"working on: \"+classe)\n",
        "  for input in classes_path:\n",
        "    #print('Working on '+ input)\n",
        "    if input.endswith('.png'):  \n",
        "      img = Image.open(pathDataset+\"/\"+classe+'/' + input)\n",
        "      n=img.size\n",
        "      n_mod=calc_size(n)\n",
        "      crop_transforms=transforms.TenCrop((n_mod[1],n_mod[0])).to(device)\n",
        "      \n",
        "      crops=crop_transforms(img) #contiene le 10 patch\n",
        "      i=0\n",
        "      for crop in crops:\n",
        "        i+=1\n",
        "        name=input.split('.')[0]+\"_patch\"+str(i)+\".png\"\n",
        "        if(!cv2.imwrite(pathCrop+classe+\"/\"+name, crop)): \n",
        "          print(\"error saving\")\n",
        "          flag=True\n",
        "          break\n",
        "        #crop.save(pathCrop+classe+\"/\"+name)\n",
        "      if flag:break  \n",
        "  if flag: break        \n",
        "  print(\"Finish: \"+classe+\". Salvate \"+len(os.listdir(pathCrop+\"/\" + classe))+\" immagini\")     \n",
        "  "
      ],
      "execution_count": 9,
      "outputs": [
        {
          "output_type": "stream",
          "name": "stdout",
          "text": [
            "working on: Live\n",
            "Finish classe: Live\n"
          ]
        }
      ]
    },
    {
      "cell_type": "code",
      "metadata": {
        "id": "cv3zhypDF3Hh"
      },
      "source": [
        "def calc_size(n):\n",
        "  return tuple(int(np.ceil(i * (80/100))) for i in n)"
      ],
      "execution_count": 8,
      "outputs": []
    },
    {
      "cell_type": "markdown",
      "metadata": {
        "id": "qjKsL8KQXw9a"
      },
      "source": [
        "check"
      ]
    },
    {
      "cell_type": "code",
      "metadata": {
        "colab": {
          "base_uri": "https://localhost:8080/"
        },
        "id": "0lxLkre3U-ML",
        "outputId": "e1fc9cff-8a01-40cd-b9cb-680633c89076"
      },
      "source": [
        "dim_before=0\n",
        "dim_after=0\n",
        "for classe in [\"Live\",\"Spoof\"]:\n",
        "  dim_before+=(len(os.listdir(pathDataset+\"/\" + classe)))\n",
        "  dim_after+=(len(os.listdir(pathCrop+\"/\" + classe)))\n",
        "print(dim_before,dim_after)  \n",
        "if dim_after==dim_before*10: print(\"OK\")\n",
        "else: print(\"BAD\")"
      ],
      "execution_count": 11,
      "outputs": [
        {
          "output_type": "stream",
          "name": "stdout",
          "text": [
            "2000 20000\n",
            "OK\n"
          ]
        }
      ]
    }
  ]
}