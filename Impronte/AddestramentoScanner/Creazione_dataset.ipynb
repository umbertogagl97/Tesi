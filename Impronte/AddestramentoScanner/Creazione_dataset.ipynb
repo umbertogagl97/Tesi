{
  "nbformat": 4,
  "nbformat_minor": 0,
  "metadata": {
    "colab": {
      "name": "Creazione_dataset.ipynb",
      "provenance": [],
      "collapsed_sections": [
        "lcoLiAGAtqBh",
        "nGmEBN4oxqUO",
        "pIqUXUmoA541",
        "-ycpjmyb4Cxe",
        "dherpFOH0Uau",
        "5X10jetEyAax"
      ],
      "authorship_tag": "ABX9TyMzQCTSduuApwIYt3ujZDOk",
      "include_colab_link": true
    },
    "kernelspec": {
      "name": "python3",
      "display_name": "Python 3"
    },
    "language_info": {
      "name": "python"
    },
    "accelerator": "GPU"
  },
  "cells": [
    {
      "cell_type": "markdown",
      "metadata": {
        "id": "view-in-github",
        "colab_type": "text"
      },
      "source": [
        "<a href=\"https://colab.research.google.com/github/umbertogagl97/Tesi/blob/main/Impronte/AddestramentoScanner/Creazione_dataset.ipynb\" target=\"_parent\"><img src=\"https://colab.research.google.com/assets/colab-badge.svg\" alt=\"Open In Colab\"/></a>"
      ]
    },
    {
      "cell_type": "markdown",
      "metadata": {
        "id": "lcoLiAGAtqBh"
      },
      "source": [
        "# **Init**"
      ]
    },
    {
      "cell_type": "markdown",
      "metadata": {
        "id": "nGmEBN4oxqUO"
      },
      "source": [
        "## Import librerie"
      ]
    },
    {
      "cell_type": "code",
      "metadata": {
        "id": "01RXI-DDIb3C"
      },
      "source": [
        "#Librerie\n",
        "import sys\n",
        "import torch\n",
        "import torch.nn as nn\n",
        "import torch.optim as optim\n",
        "from torch.optim import lr_scheduler\n",
        "import numpy as np\n",
        "import torchvision\n",
        "from torchvision import datasets, models, transforms\n",
        "from torch.utils.data import DataLoader, TensorDataset\n",
        "import time\n",
        "import os\n",
        "import shutil\n",
        "import copy\n",
        "from PIL import Image"
      ],
      "execution_count": 1,
      "outputs": []
    },
    {
      "cell_type": "markdown",
      "metadata": {
        "id": "pIqUXUmoA541"
      },
      "source": [
        "##Check device\n"
      ]
    },
    {
      "cell_type": "code",
      "metadata": {
        "id": "P2pe5Zh2A4Ui"
      },
      "source": [
        "print(torch.__version__)\n",
        "print(torch.cuda.is_available())\n",
        "print(torch.cuda.get_device_name(0))\n",
        "device = torch.device(\"cuda:0\" if torch.cuda.is_available() else \"cpu\")\n",
        "print(device)"
      ],
      "execution_count": null,
      "outputs": []
    },
    {
      "cell_type": "markdown",
      "metadata": {
        "id": "-ycpjmyb4Cxe"
      },
      "source": [
        "##Def variabili"
      ]
    },
    {
      "cell_type": "code",
      "metadata": {
        "id": "4hMuySVI4GgY"
      },
      "source": [
        "#scanner\n",
        "scanner_name = 'GreenBit'\n",
        "\n",
        "#dataset\n",
        "pathDataset=F'/content/gdrive/MyDrive/Dataset_impronte/training/{scanner_name}'\n",
        "\n",
        "pathCrop=F'/content/gdrive/MyDrive/Dataset_impronte/training/{scanner_name}_patch/'"
      ],
      "execution_count": 2,
      "outputs": []
    },
    {
      "cell_type": "markdown",
      "metadata": {
        "id": "dherpFOH0Uau"
      },
      "source": [
        "##Collegamento google drive"
      ]
    },
    {
      "cell_type": "code",
      "metadata": {
        "id": "vyvTOQw-aHRP",
        "colab": {
          "base_uri": "https://localhost:8080/"
        },
        "outputId": "b815fee5-ba60-4fed-b95e-a033608724f4"
      },
      "source": [
        "#collegamento google drive\n",
        "from google.colab import drive\n",
        "drive.mount('/content/gdrive')"
      ],
      "execution_count": 57,
      "outputs": [
        {
          "output_type": "stream",
          "name": "stdout",
          "text": [
            "Drive already mounted at /content/gdrive; to attempt to forcibly remount, call drive.mount(\"/content/gdrive\", force_remount=True).\n"
          ]
        }
      ]
    },
    {
      "cell_type": "markdown",
      "metadata": {
        "id": "5X10jetEyAax"
      },
      "source": [
        "#**Dataset**"
      ]
    },
    {
      "cell_type": "markdown",
      "metadata": {
        "id": "G4b2eLxnouZ8"
      },
      "source": [
        "##Creazione patch"
      ]
    },
    {
      "cell_type": "code",
      "metadata": {
        "id": "cv3zhypDF3Hh"
      },
      "source": [
        "def calc_size(n):\n",
        "  return tuple(int(np.ceil(i * (80/100))) for i in n)"
      ],
      "execution_count": 58,
      "outputs": []
    },
    {
      "cell_type": "code",
      "metadata": {
        "colab": {
          "base_uri": "https://localhost:8080/"
        },
        "id": "8M4MH5kFKjO6",
        "outputId": "15ceaa22-f8a8-4b6c-b1e2-52051934c865"
      },
      "source": [
        "from PIL import ImageFile\n",
        "\n",
        "Directory = os.listdir(pathDataset)\n",
        "ImageFile.LOAD_TRUNCATED_IMAGES = True\n",
        "for classe in Directory:\n",
        "  classes_path = os.listdir(pathDataset+\"/\" + classe)  \n",
        "  pathSave=pathCrop+classe\n",
        "  print(\"working on: \"+classe)\n",
        "  for input in classes_path:\n",
        "    #print('Working on '+ input)\n",
        "    if (input.endswith('.png') or input.endswith('.bmp')):  \n",
        "      img = Image.open(pathDataset+\"/\"+classe+'/' + input)\n",
        "      n=img.size\n",
        "      n_mod=calc_size(n)\n",
        "      crop_transforms=transforms.TenCrop((n_mod[1],n_mod[0]))#.to(device)\n",
        "      try: \n",
        "        crops=crop_transforms(img) #contiene le 10 patch\n",
        "        i=0\n",
        "        for crop in crops:\n",
        "          i+=1\n",
        "          split=input.split('.')\n",
        "          name=split[0]+\"_patch\"+str(i)+\".\"+split[1]\n",
        "          crop.save(pathCrop+classe+\"/\"+name)\n",
        "      except: print(input,n,n_mod)    \n",
        "  print(\"Finish: \"+classe+\". Salvate \"+str(len(os.listdir(pathCrop + classe)))+\" immagini\")     \n",
        "  "
      ],
      "execution_count": 59,
      "outputs": [
        {
          "output_type": "stream",
          "name": "stdout",
          "text": [
            "working on: Spoof\n",
            "Finish: Spoof. Salvate 10000 immagini\n",
            "working on: Live\n",
            "Finish: Live. Salvate 10000 immagini\n"
          ]
        }
      ]
    },
    {
      "cell_type": "markdown",
      "metadata": {
        "id": "TeJ0T4Jb7Xud"
      },
      "source": [
        "##Codice in caso di errore con il try catch, inserire singolarmente le immagini che danno errore"
      ]
    },
    {
      "cell_type": "code",
      "metadata": {
        "id": "rTamXdRD6TiE",
        "outputId": "4aa1fbb7-dcfd-48f5-9751-5332555dd199",
        "colab": {
          "base_uri": "https://localhost:8080/"
        }
      },
      "source": [
        "from PIL import ImageFile\n",
        "ImageFile.LOAD_TRUNCATED_IMAGES = True\n",
        "input=\"GreenBit_Live_021_2_4.png\"\n",
        "img = Image.open(pathDataset+\"/Live/\"+input)\n",
        "n=img.size\n",
        "n_mod=calc_size(n)\n",
        "print(input,n,n_mod)\n",
        "crop_transforms=transforms.TenCrop((n_mod[1],n_mod[0]))#.to(device)\n",
        "try: \n",
        "  crops=crop_transforms(img) #contiene le 10 patch\n",
        "  i=0\n",
        "  for crop in crops:\n",
        "    i+=1\n",
        "    split=input.split('.')\n",
        "    name=split[0]+\"_patch\"+str(i)+\".\"+split[1]\n",
        "    print(save)\n",
        "    crop.save(pathCrop+classe+\"/\"+name)\n",
        "except: \n",
        "  print(\"except\")\n",
        "  print(input,n,n_mod)"
      ],
      "execution_count": 19,
      "outputs": [
        {
          "output_type": "stream",
          "name": "stdout",
          "text": [
            "GreenBit_Live_021_2_4.png (500, 500) (400, 400)\n"
          ]
        }
      ]
    },
    {
      "cell_type": "markdown",
      "metadata": {
        "id": "qjKsL8KQXw9a"
      },
      "source": [
        "##check"
      ]
    },
    {
      "cell_type": "code",
      "metadata": {
        "colab": {
          "base_uri": "https://localhost:8080/"
        },
        "id": "0lxLkre3U-ML",
        "outputId": "595662d1-af87-4f97-c02c-403d7b5156b6"
      },
      "source": [
        "dim_before=0\n",
        "dim_after=0\n",
        "for classe in [\"Live\",\"Spoof\"]:\n",
        "  dim_before+=(len(os.listdir(pathDataset+\"/\" + classe)))\n",
        "  dim_after+=(len(os.listdir(pathCrop + classe)))\n",
        "print(dim_before,dim_after)  \n",
        "if dim_after==dim_before*10: print(\"OK\")\n",
        "else: print(\"BAD\")"
      ],
      "execution_count": 60,
      "outputs": [
        {
          "output_type": "stream",
          "name": "stdout",
          "text": [
            "2000 20000\n",
            "OK\n"
          ]
        }
      ]
    },
    {
      "cell_type": "markdown",
      "metadata": {
        "id": "V1zBxYTsanEp"
      },
      "source": [
        "controlla tutte le dimensioni di tutti i dataset"
      ]
    },
    {
      "cell_type": "code",
      "metadata": {
        "id": "JOIBMuTKApdo",
        "outputId": "5ed6a23f-9262-4e22-b524-6ff146257730",
        "colab": {
          "base_uri": "https://localhost:8080/"
        }
      },
      "source": [
        "p=\"/content/gdrive/MyDrive/Dataset_impronte/training/\"\n",
        "print(len(os.listdir(p+\"HiScan_patch\"+\"/Live\")))\n",
        "print(len(os.listdir(p+\"HiScan_patch\"+\"/Spoof\")))\n",
        "\n",
        "print(len(os.listdir(p+\"GreenBit_patch\"+\"/Live\")))\n",
        "print(len(os.listdir(p+\"GreenBit_patch\"+\"/Spoof\")))\n",
        "\n",
        "print(len(os.listdir(p+\"DigitalPersona_patch\"+\"/Live\")))\n",
        "print(len(os.listdir(p+\"DigitalPersona_patch\"+\"/Spoof\")))\n",
        "\n",
        "print(len(os.listdir(p+\"CrossMatch_patch\"+\"/Live\")))\n",
        "print(len(os.listdir(p+\"CrossMatch_patch\"+\"/Spoof\")))"
      ],
      "execution_count": 65,
      "outputs": [
        {
          "output_type": "stream",
          "name": "stdout",
          "text": [
            "6179\n"
          ]
        }
      ]
    }
  ]
}